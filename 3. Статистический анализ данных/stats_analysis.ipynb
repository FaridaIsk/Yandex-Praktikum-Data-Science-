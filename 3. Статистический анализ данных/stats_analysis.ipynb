{
 "cells": [
  {
   "cell_type": "markdown",
   "metadata": {},
   "source": [
    "## Описание проекта\n",
    "\n",
    "Цель представленного проекта заключается определении наилучшего тарифа, используемого клиентами компании \"Мегалайн\".\n",
    "\n",
    "Для решения данной задачи в нашем распоряжении имеются данные 500 пользователей «Мегалайна»: кто они, откуда, каким тарифом пользуются, сколько звонков и сообщений каждый отправил за 2018 год.\n",
    "\n",
    "Клиентам предлагают два тарифных плана: «Смарт» и «Ультра»\n",
    "\n",
    "Для достижения данной цели в проекте будут осуществлены: \n",
    "1. Предобработка данных: приведение данных к нужным типам, исправление ошибок.\n",
    "2. Предварительные расчеты: \n",
    "   - кол-ва звонков, сообщений, интернет-трафика для каждого пользователя по месяцам; \n",
    "   - помесячной выручки с каждого пользователя. \n",
    "3. Анализ данных: выявление поведения клиентов двух тарифов на основании харакетристик распределения минут разговора, кол-ва сообщений и объема интернет-трафика. \n",
    "4. Проверка гипотез: \n",
    "   - о равенстве средней выручки пользователей тарифов \"Ультра\" и \"Смарт\"\n",
    "   - о равенстве средней выручки пользователей из Москвы и регионов.\n",
    "5. Формулирование выводов\n",
    "\n",
    "\n",
    "Описание тарифов\n",
    "\n",
    "Тариф «Смарт»\n",
    "1.\tЕжемесячная плата: 550 рублей\n",
    "2.\tВключено 500 минут разговора, 50 сообщений и 15 Гб интернет-трафика\n",
    "3.\tСтоимость услуг сверх тарифного пакета:\n",
    " - минута разговора: 3 рубля\n",
    " - сообщение: 3 рубля\n",
    " - 1 Гб интернет-трафика: 200 рублей\n",
    "\n",
    "Тариф «Ультра»\n",
    "1.\tЕжемесячная плата: 1950 рублей\n",
    "2.\tВключено 3000 минут разговора, 1000 сообщений и 30 Гб интернет-трафика\n",
    "3.\tСтоимость услуг сверх тарифного пакета:\n",
    "  - минута разговора: 1 рубль\n",
    "  - сообщение: 1 рубль\n",
    "  - 1 Гб интернет-трафика: 150 рублей\n",
    "\n",
    "Таблица users (информация о пользователях):\n",
    "- user_id — уникальный идентификатор пользователя\n",
    "- first_name — имя пользователя\n",
    "- last_name — фамилия пользователя\n",
    "- age — возраст пользователя (годы)\n",
    "- reg_date — дата подключения тарифа (день, месяц, год)\n",
    "- churn_date — дата прекращения пользования тарифом (если значение пропущено, то тариф ещё действовал на момент выгрузки данных)\n",
    "- city — город проживания пользователя\n",
    "- tariff — название тарифного плана\n",
    "\n",
    "Таблица calls (информация о звонках):\n",
    "- id — уникальный номер звонка\n",
    "- call_date — дата звонка\n",
    "- duration — длительность звонка в минутах\n",
    "- user_id — идентификатор пользователя, сделавшего звонок\n",
    "\n",
    "Таблица messages (информация о сообщениях):\n",
    "- id — уникальный номер сообщения\n",
    "- message_date — дата сообщения\n",
    "- user_id — идентификатор пользователя, отправившего сообщение\n",
    "\n",
    "Таблица internet (информация об интернет-сессиях):\n",
    "- id — уникальный номер сессии\n",
    "- mb_used — объём потраченного за сессию интернет-трафика (в мегабайтах)\n",
    "- session_date — дата интернет-сессии\n",
    "- user_id — идентификатор пользователя\n",
    "\n",
    "Таблица tariffs (информация о тарифах):\n",
    "- tariff_name — название тарифа\n",
    "- rub_monthly_fee — ежемесячная абонентская плата в рублях\n",
    "- minutes_included — количество минут разговора в месяц, включённых в абонентскую плату\n",
    "- messages_included — количество сообщений в месяц, включённых в абонентскую плату\n",
    "- mb_per_month_included — объём интернет-трафика, включённого в абонентскую плату (в мегабайтах)\n",
    "- rub_per_minute — стоимость минуты разговора сверх тарифного пакета (например, если в тарифе 100 минут разговора в месяц, то со 101 минуты будет взиматься плата)\n",
    "- rub_per_message — стоимость отправки сообщения сверх тарифного пакета\n",
    "- rub_per_gb — стоимость дополнительного гигабайта интернет-трафика сверх тарифного пакета (1 гигабайт = 1024 мегабайта)"
   ]
  },
  {
   "cell_type": "markdown",
   "metadata": {},
   "source": [
    "# Содержание \n",
    "\n",
    "1. [Изучение общей информации о данных](#introduction) <br>\n",
    "2. [Подготовка данных](#paragraph1)<br>\n",
    "    2.1 [Изменение типы данных](#subparagraph1)<br>\n",
    "    2.2 [Исправление ошибок в данных](#subparagraph2)<br>\n",
    "    2.3 [Предварительные расчеты](#subparagraph3)<br>\n",
    "3. [Анализ поведения клиентов оператора](#paragraph3)<br>\n",
    "    3.1 [Фильтрация выбросов в данных](#subparagraph4)<br> \n",
    "4. [Проверка гипотез](#paragraph4)<br>\n",
    "    4.1 [Проверка первой гипотезы](#subparagraph5)<br>\n",
    "    4.2 [Проверка второй гипотезы](#subparagraph6)<br>\n",
    "5. [Общий вывод](#paragraph5)<br>"
   ]
  },
  {
   "cell_type": "markdown",
   "metadata": {},
   "source": [
    "## 1. Изучение общей информации <a name=\"introduction\"></a>\n"
   ]
  },
  {
   "cell_type": "code",
   "execution_count": 1,
   "metadata": {},
   "outputs": [
    {
     "name": "stdout",
     "output_type": "stream",
     "text": [
      "<class 'pandas.core.frame.DataFrame'>\n",
      "RangeIndex: 500 entries, 0 to 499\n",
      "Data columns (total 8 columns):\n",
      "user_id       500 non-null int64\n",
      "age           500 non-null int64\n",
      "churn_date    38 non-null object\n",
      "city          500 non-null object\n",
      "first_name    500 non-null object\n",
      "last_name     500 non-null object\n",
      "reg_date      500 non-null object\n",
      "tariff        500 non-null object\n",
      "dtypes: int64(2), object(6)\n",
      "memory usage: 229.6 KB\n"
     ]
    }
   ],
   "source": [
    "import pandas as pd\n",
    "import numpy as np\n",
    "import math\n",
    "import matplotlib.pyplot as plt\n",
    "import plotly.express as px\n",
    "from scipy import stats as st\n",
    "#Изучим информацию о пользователях\n",
    "users = pd.read_csv('/datasets/users.csv')\n",
    "users.info(memory_usage = 'deep')"
   ]
  },
  {
   "cell_type": "code",
   "execution_count": 2,
   "metadata": {},
   "outputs": [
    {
     "data": {
      "text/html": [
       "<div>\n",
       "<style scoped>\n",
       "    .dataframe tbody tr th:only-of-type {\n",
       "        vertical-align: middle;\n",
       "    }\n",
       "\n",
       "    .dataframe tbody tr th {\n",
       "        vertical-align: top;\n",
       "    }\n",
       "\n",
       "    .dataframe thead th {\n",
       "        text-align: right;\n",
       "    }\n",
       "</style>\n",
       "<table border=\"1\" class=\"dataframe\">\n",
       "  <thead>\n",
       "    <tr style=\"text-align: right;\">\n",
       "      <th></th>\n",
       "      <th>user_id</th>\n",
       "      <th>age</th>\n",
       "      <th>churn_date</th>\n",
       "      <th>city</th>\n",
       "      <th>first_name</th>\n",
       "      <th>last_name</th>\n",
       "      <th>reg_date</th>\n",
       "      <th>tariff</th>\n",
       "    </tr>\n",
       "  </thead>\n",
       "  <tbody>\n",
       "    <tr>\n",
       "      <td>0</td>\n",
       "      <td>1000</td>\n",
       "      <td>52</td>\n",
       "      <td>NaN</td>\n",
       "      <td>Краснодар</td>\n",
       "      <td>Рафаил</td>\n",
       "      <td>Верещагин</td>\n",
       "      <td>2018-05-25</td>\n",
       "      <td>ultra</td>\n",
       "    </tr>\n",
       "    <tr>\n",
       "      <td>1</td>\n",
       "      <td>1001</td>\n",
       "      <td>41</td>\n",
       "      <td>NaN</td>\n",
       "      <td>Москва</td>\n",
       "      <td>Иван</td>\n",
       "      <td>Ежов</td>\n",
       "      <td>2018-11-01</td>\n",
       "      <td>smart</td>\n",
       "    </tr>\n",
       "    <tr>\n",
       "      <td>2</td>\n",
       "      <td>1002</td>\n",
       "      <td>59</td>\n",
       "      <td>NaN</td>\n",
       "      <td>Стерлитамак</td>\n",
       "      <td>Евгений</td>\n",
       "      <td>Абрамович</td>\n",
       "      <td>2018-06-17</td>\n",
       "      <td>smart</td>\n",
       "    </tr>\n",
       "    <tr>\n",
       "      <td>3</td>\n",
       "      <td>1003</td>\n",
       "      <td>23</td>\n",
       "      <td>NaN</td>\n",
       "      <td>Москва</td>\n",
       "      <td>Белла</td>\n",
       "      <td>Белякова</td>\n",
       "      <td>2018-08-17</td>\n",
       "      <td>ultra</td>\n",
       "    </tr>\n",
       "    <tr>\n",
       "      <td>4</td>\n",
       "      <td>1004</td>\n",
       "      <td>68</td>\n",
       "      <td>NaN</td>\n",
       "      <td>Новокузнецк</td>\n",
       "      <td>Татьяна</td>\n",
       "      <td>Авдеенко</td>\n",
       "      <td>2018-05-14</td>\n",
       "      <td>ultra</td>\n",
       "    </tr>\n",
       "  </tbody>\n",
       "</table>\n",
       "</div>"
      ],
      "text/plain": [
       "   user_id  age churn_date         city first_name  last_name    reg_date  \\\n",
       "0     1000   52        NaN    Краснодар     Рафаил  Верещагин  2018-05-25   \n",
       "1     1001   41        NaN       Москва       Иван       Ежов  2018-11-01   \n",
       "2     1002   59        NaN  Стерлитамак    Евгений  Абрамович  2018-06-17   \n",
       "3     1003   23        NaN       Москва      Белла   Белякова  2018-08-17   \n",
       "4     1004   68        NaN  Новокузнецк    Татьяна   Авдеенко  2018-05-14   \n",
       "\n",
       "  tariff  \n",
       "0  ultra  \n",
       "1  smart  \n",
       "2  smart  \n",
       "3  ultra  \n",
       "4  ultra  "
      ]
     },
     "execution_count": 2,
     "metadata": {},
     "output_type": "execute_result"
    }
   ],
   "source": [
    "users.head(5)"
   ]
  },
  {
   "cell_type": "markdown",
   "metadata": {},
   "source": [
    "В таблице с информацией о пользователях 7 столбцов (2 столбца с числовыми данными (id и возраст пользователя) и 6 столбцов с объектами (имя, фамилия пользователя, дата подключения и прекращения пользования тарифом, город проживания, название тарифного плана)."
   ]
  },
  {
   "cell_type": "code",
   "execution_count": 3,
   "metadata": {},
   "outputs": [
    {
     "name": "stdout",
     "output_type": "stream",
     "text": [
      "<class 'pandas.core.frame.DataFrame'>\n",
      "RangeIndex: 149396 entries, 0 to 149395\n",
      "Data columns (total 5 columns):\n",
      "Unnamed: 0      149396 non-null int64\n",
      "id              149396 non-null object\n",
      "mb_used         149396 non-null float64\n",
      "session_date    149396 non-null object\n",
      "user_id         149396 non-null int64\n",
      "dtypes: float64(1), int64(2), object(2)\n",
      "memory usage: 22.2 MB\n"
     ]
    }
   ],
   "source": [
    "#изучим информцию об интернет-трафике \n",
    "internet = pd.read_csv('/datasets/internet.csv')\n",
    "internet.info(memory_usage = 'deep')"
   ]
  },
  {
   "cell_type": "code",
   "execution_count": 4,
   "metadata": {},
   "outputs": [
    {
     "data": {
      "text/html": [
       "<div>\n",
       "<style scoped>\n",
       "    .dataframe tbody tr th:only-of-type {\n",
       "        vertical-align: middle;\n",
       "    }\n",
       "\n",
       "    .dataframe tbody tr th {\n",
       "        vertical-align: top;\n",
       "    }\n",
       "\n",
       "    .dataframe thead th {\n",
       "        text-align: right;\n",
       "    }\n",
       "</style>\n",
       "<table border=\"1\" class=\"dataframe\">\n",
       "  <thead>\n",
       "    <tr style=\"text-align: right;\">\n",
       "      <th></th>\n",
       "      <th>Unnamed: 0</th>\n",
       "      <th>id</th>\n",
       "      <th>mb_used</th>\n",
       "      <th>session_date</th>\n",
       "      <th>user_id</th>\n",
       "    </tr>\n",
       "  </thead>\n",
       "  <tbody>\n",
       "    <tr>\n",
       "      <td>0</td>\n",
       "      <td>0</td>\n",
       "      <td>1000_0</td>\n",
       "      <td>112.95</td>\n",
       "      <td>2018-11-25</td>\n",
       "      <td>1000</td>\n",
       "    </tr>\n",
       "    <tr>\n",
       "      <td>1</td>\n",
       "      <td>1</td>\n",
       "      <td>1000_1</td>\n",
       "      <td>1052.81</td>\n",
       "      <td>2018-09-07</td>\n",
       "      <td>1000</td>\n",
       "    </tr>\n",
       "    <tr>\n",
       "      <td>2</td>\n",
       "      <td>2</td>\n",
       "      <td>1000_2</td>\n",
       "      <td>1197.26</td>\n",
       "      <td>2018-06-25</td>\n",
       "      <td>1000</td>\n",
       "    </tr>\n",
       "    <tr>\n",
       "      <td>3</td>\n",
       "      <td>3</td>\n",
       "      <td>1000_3</td>\n",
       "      <td>550.27</td>\n",
       "      <td>2018-08-22</td>\n",
       "      <td>1000</td>\n",
       "    </tr>\n",
       "    <tr>\n",
       "      <td>4</td>\n",
       "      <td>4</td>\n",
       "      <td>1000_4</td>\n",
       "      <td>302.56</td>\n",
       "      <td>2018-09-24</td>\n",
       "      <td>1000</td>\n",
       "    </tr>\n",
       "  </tbody>\n",
       "</table>\n",
       "</div>"
      ],
      "text/plain": [
       "   Unnamed: 0      id  mb_used session_date  user_id\n",
       "0           0  1000_0   112.95   2018-11-25     1000\n",
       "1           1  1000_1  1052.81   2018-09-07     1000\n",
       "2           2  1000_2  1197.26   2018-06-25     1000\n",
       "3           3  1000_3   550.27   2018-08-22     1000\n",
       "4           4  1000_4   302.56   2018-09-24     1000"
      ]
     },
     "execution_count": 4,
     "metadata": {},
     "output_type": "execute_result"
    }
   ],
   "source": [
    "internet.head(5)"
   ]
  },
  {
   "cell_type": "markdown",
   "metadata": {},
   "source": [
    "В таблице с информацией об интернет-сессиях 4 столбца (2 столбца с числовыми данными (объем потраченного за сессию интернет-трафика, идентификатор пользователя) и 2 столбца с объектами (id пользователя, дата интернет-сессии). "
   ]
  },
  {
   "cell_type": "code",
   "execution_count": 5,
   "metadata": {},
   "outputs": [
    {
     "data": {
      "text/html": [
       "<div>\n",
       "<style scoped>\n",
       "    .dataframe tbody tr th:only-of-type {\n",
       "        vertical-align: middle;\n",
       "    }\n",
       "\n",
       "    .dataframe tbody tr th {\n",
       "        vertical-align: top;\n",
       "    }\n",
       "\n",
       "    .dataframe thead th {\n",
       "        text-align: right;\n",
       "    }\n",
       "</style>\n",
       "<table border=\"1\" class=\"dataframe\">\n",
       "  <thead>\n",
       "    <tr style=\"text-align: right;\">\n",
       "      <th></th>\n",
       "      <th>Unnamed: 0</th>\n",
       "      <th>mb_used</th>\n",
       "      <th>user_id</th>\n",
       "    </tr>\n",
       "  </thead>\n",
       "  <tbody>\n",
       "    <tr>\n",
       "      <td>count</td>\n",
       "      <td>149396.000000</td>\n",
       "      <td>149396.000000</td>\n",
       "      <td>149396.000000</td>\n",
       "    </tr>\n",
       "    <tr>\n",
       "      <td>mean</td>\n",
       "      <td>74697.500000</td>\n",
       "      <td>370.192426</td>\n",
       "      <td>1252.099842</td>\n",
       "    </tr>\n",
       "    <tr>\n",
       "      <td>std</td>\n",
       "      <td>43127.054745</td>\n",
       "      <td>278.300951</td>\n",
       "      <td>144.050823</td>\n",
       "    </tr>\n",
       "    <tr>\n",
       "      <td>min</td>\n",
       "      <td>0.000000</td>\n",
       "      <td>0.000000</td>\n",
       "      <td>1000.000000</td>\n",
       "    </tr>\n",
       "    <tr>\n",
       "      <td>25%</td>\n",
       "      <td>37348.750000</td>\n",
       "      <td>138.187500</td>\n",
       "      <td>1130.000000</td>\n",
       "    </tr>\n",
       "    <tr>\n",
       "      <td>50%</td>\n",
       "      <td>74697.500000</td>\n",
       "      <td>348.015000</td>\n",
       "      <td>1251.000000</td>\n",
       "    </tr>\n",
       "    <tr>\n",
       "      <td>75%</td>\n",
       "      <td>112046.250000</td>\n",
       "      <td>559.552500</td>\n",
       "      <td>1380.000000</td>\n",
       "    </tr>\n",
       "    <tr>\n",
       "      <td>max</td>\n",
       "      <td>149395.000000</td>\n",
       "      <td>1724.830000</td>\n",
       "      <td>1499.000000</td>\n",
       "    </tr>\n",
       "  </tbody>\n",
       "</table>\n",
       "</div>"
      ],
      "text/plain": [
       "          Unnamed: 0        mb_used        user_id\n",
       "count  149396.000000  149396.000000  149396.000000\n",
       "mean    74697.500000     370.192426    1252.099842\n",
       "std     43127.054745     278.300951     144.050823\n",
       "min         0.000000       0.000000    1000.000000\n",
       "25%     37348.750000     138.187500    1130.000000\n",
       "50%     74697.500000     348.015000    1251.000000\n",
       "75%    112046.250000     559.552500    1380.000000\n",
       "max    149395.000000    1724.830000    1499.000000"
      ]
     },
     "execution_count": 5,
     "metadata": {},
     "output_type": "execute_result"
    }
   ],
   "source": [
    "internet.describe()"
   ]
  },
  {
   "cell_type": "code",
   "execution_count": 6,
   "metadata": {},
   "outputs": [
    {
     "name": "stdout",
     "output_type": "stream",
     "text": [
      "<class 'pandas.core.frame.DataFrame'>\n",
      "RangeIndex: 202607 entries, 0 to 202606\n",
      "Data columns (total 4 columns):\n",
      "id           202607 non-null object\n",
      "call_date    202607 non-null object\n",
      "duration     202607 non-null float64\n",
      "user_id      202607 non-null int64\n",
      "dtypes: float64(1), int64(1), object(2)\n",
      "memory usage: 28.6 MB\n"
     ]
    }
   ],
   "source": [
    "#изучим информацию о звонках\n",
    "calls = pd.read_csv('/datasets/calls.csv')\n",
    "calls.info(memory_usage = 'deep')"
   ]
  },
  {
   "cell_type": "code",
   "execution_count": 7,
   "metadata": {},
   "outputs": [
    {
     "data": {
      "text/html": [
       "<div>\n",
       "<style scoped>\n",
       "    .dataframe tbody tr th:only-of-type {\n",
       "        vertical-align: middle;\n",
       "    }\n",
       "\n",
       "    .dataframe tbody tr th {\n",
       "        vertical-align: top;\n",
       "    }\n",
       "\n",
       "    .dataframe thead th {\n",
       "        text-align: right;\n",
       "    }\n",
       "</style>\n",
       "<table border=\"1\" class=\"dataframe\">\n",
       "  <thead>\n",
       "    <tr style=\"text-align: right;\">\n",
       "      <th></th>\n",
       "      <th>id</th>\n",
       "      <th>call_date</th>\n",
       "      <th>duration</th>\n",
       "      <th>user_id</th>\n",
       "    </tr>\n",
       "  </thead>\n",
       "  <tbody>\n",
       "    <tr>\n",
       "      <td>0</td>\n",
       "      <td>1000_0</td>\n",
       "      <td>2018-07-25</td>\n",
       "      <td>0.00</td>\n",
       "      <td>1000</td>\n",
       "    </tr>\n",
       "    <tr>\n",
       "      <td>1</td>\n",
       "      <td>1000_1</td>\n",
       "      <td>2018-08-17</td>\n",
       "      <td>0.00</td>\n",
       "      <td>1000</td>\n",
       "    </tr>\n",
       "    <tr>\n",
       "      <td>2</td>\n",
       "      <td>1000_2</td>\n",
       "      <td>2018-06-11</td>\n",
       "      <td>2.85</td>\n",
       "      <td>1000</td>\n",
       "    </tr>\n",
       "    <tr>\n",
       "      <td>3</td>\n",
       "      <td>1000_3</td>\n",
       "      <td>2018-09-21</td>\n",
       "      <td>13.80</td>\n",
       "      <td>1000</td>\n",
       "    </tr>\n",
       "    <tr>\n",
       "      <td>4</td>\n",
       "      <td>1000_4</td>\n",
       "      <td>2018-12-15</td>\n",
       "      <td>5.18</td>\n",
       "      <td>1000</td>\n",
       "    </tr>\n",
       "  </tbody>\n",
       "</table>\n",
       "</div>"
      ],
      "text/plain": [
       "       id   call_date  duration  user_id\n",
       "0  1000_0  2018-07-25      0.00     1000\n",
       "1  1000_1  2018-08-17      0.00     1000\n",
       "2  1000_2  2018-06-11      2.85     1000\n",
       "3  1000_3  2018-09-21     13.80     1000\n",
       "4  1000_4  2018-12-15      5.18     1000"
      ]
     },
     "execution_count": 7,
     "metadata": {},
     "output_type": "execute_result"
    }
   ],
   "source": [
    "calls.head(5)"
   ]
  },
  {
   "cell_type": "code",
   "execution_count": 8,
   "metadata": {},
   "outputs": [
    {
     "name": "stdout",
     "output_type": "stream",
     "text": [
      "<class 'pandas.core.frame.DataFrame'>\n",
      "RangeIndex: 123036 entries, 0 to 123035\n",
      "Data columns (total 3 columns):\n",
      "id              123036 non-null object\n",
      "message_date    123036 non-null object\n",
      "user_id         123036 non-null int64\n",
      "dtypes: int64(1), object(2)\n",
      "memory usage: 16.4 MB\n"
     ]
    }
   ],
   "source": [
    "#изучим информацию о сообщениях\n",
    "messages = pd.read_csv('/datasets/messages.csv')\n",
    "messages.info(memory_usage = 'deep')"
   ]
  },
  {
   "cell_type": "code",
   "execution_count": 9,
   "metadata": {},
   "outputs": [
    {
     "data": {
      "text/html": [
       "<div>\n",
       "<style scoped>\n",
       "    .dataframe tbody tr th:only-of-type {\n",
       "        vertical-align: middle;\n",
       "    }\n",
       "\n",
       "    .dataframe tbody tr th {\n",
       "        vertical-align: top;\n",
       "    }\n",
       "\n",
       "    .dataframe thead th {\n",
       "        text-align: right;\n",
       "    }\n",
       "</style>\n",
       "<table border=\"1\" class=\"dataframe\">\n",
       "  <thead>\n",
       "    <tr style=\"text-align: right;\">\n",
       "      <th></th>\n",
       "      <th>id</th>\n",
       "      <th>message_date</th>\n",
       "      <th>user_id</th>\n",
       "    </tr>\n",
       "  </thead>\n",
       "  <tbody>\n",
       "    <tr>\n",
       "      <td>0</td>\n",
       "      <td>1000_0</td>\n",
       "      <td>2018-06-27</td>\n",
       "      <td>1000</td>\n",
       "    </tr>\n",
       "    <tr>\n",
       "      <td>1</td>\n",
       "      <td>1000_1</td>\n",
       "      <td>2018-10-08</td>\n",
       "      <td>1000</td>\n",
       "    </tr>\n",
       "    <tr>\n",
       "      <td>2</td>\n",
       "      <td>1000_2</td>\n",
       "      <td>2018-08-04</td>\n",
       "      <td>1000</td>\n",
       "    </tr>\n",
       "    <tr>\n",
       "      <td>3</td>\n",
       "      <td>1000_3</td>\n",
       "      <td>2018-06-16</td>\n",
       "      <td>1000</td>\n",
       "    </tr>\n",
       "    <tr>\n",
       "      <td>4</td>\n",
       "      <td>1000_4</td>\n",
       "      <td>2018-12-05</td>\n",
       "      <td>1000</td>\n",
       "    </tr>\n",
       "  </tbody>\n",
       "</table>\n",
       "</div>"
      ],
      "text/plain": [
       "       id message_date  user_id\n",
       "0  1000_0   2018-06-27     1000\n",
       "1  1000_1   2018-10-08     1000\n",
       "2  1000_2   2018-08-04     1000\n",
       "3  1000_3   2018-06-16     1000\n",
       "4  1000_4   2018-12-05     1000"
      ]
     },
     "execution_count": 9,
     "metadata": {},
     "output_type": "execute_result"
    }
   ],
   "source": [
    "messages.head(5)"
   ]
  },
  {
   "cell_type": "markdown",
   "metadata": {},
   "source": [
    "В таблице с информацией о сообщениях 3 столбца (1 столбец с числовыми данными (идентификатор пользователя, отправившего сообщение) и 2 столбца с объектами (уникальный номер сообщения, дата сообщения))."
   ]
  },
  {
   "cell_type": "code",
   "execution_count": 10,
   "metadata": {},
   "outputs": [
    {
     "name": "stdout",
     "output_type": "stream",
     "text": [
      "<class 'pandas.core.frame.DataFrame'>\n",
      "RangeIndex: 2 entries, 0 to 1\n",
      "Data columns (total 8 columns):\n",
      "messages_included        2 non-null int64\n",
      "mb_per_month_included    2 non-null int64\n",
      "minutes_included         2 non-null int64\n",
      "rub_monthly_fee          2 non-null int64\n",
      "rub_per_gb               2 non-null int64\n",
      "rub_per_message          2 non-null int64\n",
      "rub_per_minute           2 non-null int64\n",
      "tariff_name              2 non-null object\n",
      "dtypes: int64(7), object(1)\n",
      "memory usage: 364.0 bytes\n"
     ]
    }
   ],
   "source": [
    "#изучим информацию о тарифах \n",
    "tariffs = pd.read_csv('/datasets/tariffs.csv')\n",
    "tariffs.info(memory_usage = 'deep')"
   ]
  },
  {
   "cell_type": "code",
   "execution_count": 11,
   "metadata": {},
   "outputs": [
    {
     "data": {
      "text/html": [
       "<div>\n",
       "<style scoped>\n",
       "    .dataframe tbody tr th:only-of-type {\n",
       "        vertical-align: middle;\n",
       "    }\n",
       "\n",
       "    .dataframe tbody tr th {\n",
       "        vertical-align: top;\n",
       "    }\n",
       "\n",
       "    .dataframe thead th {\n",
       "        text-align: right;\n",
       "    }\n",
       "</style>\n",
       "<table border=\"1\" class=\"dataframe\">\n",
       "  <thead>\n",
       "    <tr style=\"text-align: right;\">\n",
       "      <th></th>\n",
       "      <th>messages_included</th>\n",
       "      <th>mb_per_month_included</th>\n",
       "      <th>minutes_included</th>\n",
       "      <th>rub_monthly_fee</th>\n",
       "      <th>rub_per_gb</th>\n",
       "      <th>rub_per_message</th>\n",
       "      <th>rub_per_minute</th>\n",
       "      <th>tariff_name</th>\n",
       "    </tr>\n",
       "  </thead>\n",
       "  <tbody>\n",
       "    <tr>\n",
       "      <td>0</td>\n",
       "      <td>50</td>\n",
       "      <td>15360</td>\n",
       "      <td>500</td>\n",
       "      <td>550</td>\n",
       "      <td>200</td>\n",
       "      <td>3</td>\n",
       "      <td>3</td>\n",
       "      <td>smart</td>\n",
       "    </tr>\n",
       "    <tr>\n",
       "      <td>1</td>\n",
       "      <td>1000</td>\n",
       "      <td>30720</td>\n",
       "      <td>3000</td>\n",
       "      <td>1950</td>\n",
       "      <td>150</td>\n",
       "      <td>1</td>\n",
       "      <td>1</td>\n",
       "      <td>ultra</td>\n",
       "    </tr>\n",
       "  </tbody>\n",
       "</table>\n",
       "</div>"
      ],
      "text/plain": [
       "   messages_included  mb_per_month_included  minutes_included  \\\n",
       "0                 50                  15360               500   \n",
       "1               1000                  30720              3000   \n",
       "\n",
       "   rub_monthly_fee  rub_per_gb  rub_per_message  rub_per_minute tariff_name  \n",
       "0              550         200                3               3       smart  \n",
       "1             1950         150                1               1       ultra  "
      ]
     },
     "metadata": {},
     "output_type": "display_data"
    }
   ],
   "source": [
    "display(tariffs)"
   ]
  },
  {
   "cell_type": "markdown",
   "metadata": {},
   "source": [
    "## 2. Подготовка данных <a name=\"paragraph1\"></a>\n"
   ]
  },
  {
   "cell_type": "markdown",
   "metadata": {},
   "source": [
    "### 2.1 Изменение типа данных  <a name=\"subparagraph1\"></a>"
   ]
  },
  {
   "cell_type": "markdown",
   "metadata": {},
   "source": [
    "*В таблицах сalls,users, messages, internet есть столбцы с датами, значения которых нужно привести к формату datetime*"
   ]
  },
  {
   "cell_type": "code",
   "execution_count": 12,
   "metadata": {},
   "outputs": [],
   "source": [
    "#напишем функцию для приведения столбцов к формату datetime и добавления столбца со значением месяца\n",
    "def date_format(dataframes):\n",
    "    for data in dataframes:\n",
    "        for column in data.columns:\n",
    "            if 'date' in column:\n",
    "                data[column] = pd.to_datetime(data[column], format='%Y-%m-%d')\n",
    "                data['month'] = data[column].apply(lambda x: x.month)"
   ]
  },
  {
   "cell_type": "code",
   "execution_count": 13,
   "metadata": {},
   "outputs": [],
   "source": [
    "#приведем значенияв столбцах 'reg_date', 'churn_date' в таблице users\n",
    "#в столбце 'call_date' в таблице calls\n",
    "#в столбце 'message_date' в таблице messages\n",
    "#в столбце 'session_date' в таблице internet к формату datetime\n",
    "date_format([users, calls, messages, internet])"
   ]
  },
  {
   "cell_type": "markdown",
   "metadata": {},
   "source": [
    "### 2.2 Исправление ошибок в данных <a name=\"subparagraph2\"></a>"
   ]
  },
  {
   "cell_type": "markdown",
   "metadata": {},
   "source": [
    "*2.2.1 Изучим дубликаты, пропуски и возможные аномалии в таблице с пользователями*"
   ]
  },
  {
   "cell_type": "code",
   "execution_count": 14,
   "metadata": {},
   "outputs": [
    {
     "data": {
      "text/plain": [
       "user_id         0\n",
       "age             0\n",
       "churn_date    462\n",
       "city            0\n",
       "first_name      0\n",
       "last_name       0\n",
       "reg_date        0\n",
       "tariff          0\n",
       "month           0\n",
       "dtype: int64"
      ]
     },
     "execution_count": 14,
     "metadata": {},
     "output_type": "execute_result"
    }
   ],
   "source": [
    "#Посмотрим на пропуски в таблице с информацией о пользователях\n",
    "users.isna().sum()"
   ]
  },
  {
   "cell_type": "markdown",
   "metadata": {},
   "source": [
    "В таблице \"users\" обнаружены пропуски в столбце дата прекращения пользования тарифом (462 пропуска). Однако пропуски не случайные. Отсутствие данных указывает на то, что тариф действовал на момент выгрузки данных."
   ]
  },
  {
   "cell_type": "code",
   "execution_count": 15,
   "metadata": {},
   "outputs": [
    {
     "data": {
      "text/plain": [
       "0"
      ]
     },
     "execution_count": 15,
     "metadata": {},
     "output_type": "execute_result"
    }
   ],
   "source": [
    "#Проверим таблицу с информацией о пользователях на наличие дубликатов\n",
    "users.duplicated().sum()"
   ]
  },
  {
   "cell_type": "markdown",
   "metadata": {},
   "source": [
    "Полные дубликаты не обнаружены."
   ]
  },
  {
   "cell_type": "markdown",
   "metadata": {},
   "source": [
    "*2.2.2 Изучим пропуски и возможные аномалии в таблице со звонками*"
   ]
  },
  {
   "cell_type": "code",
   "execution_count": 16,
   "metadata": {},
   "outputs": [
    {
     "data": {
      "text/plain": [
       "id           0\n",
       "call_date    0\n",
       "duration     0\n",
       "user_id      0\n",
       "month        0\n",
       "dtype: int64"
      ]
     },
     "execution_count": 16,
     "metadata": {},
     "output_type": "execute_result"
    }
   ],
   "source": [
    "calls.isna().sum()"
   ]
  },
  {
   "cell_type": "markdown",
   "metadata": {},
   "source": [
    "Посмотрим на условие: «Мегалайн» всегда округляет вверх значения минут и мегабайтов. Если пользователь проговорил всего 1 секунду, в тарифе засчитывается целая минута."
   ]
  },
  {
   "cell_type": "code",
   "execution_count": 17,
   "metadata": {},
   "outputs": [],
   "source": [
    "#округлим длительность звонков в большую сторону\n",
    "calls['duration'] = calls['duration'].apply(lambda x: math.ceil(x))"
   ]
  },
  {
   "cell_type": "code",
   "execution_count": 93,
   "metadata": {},
   "outputs": [
    {
     "data": {
      "text/plain": [
       "Text(0, 0.5, 'Частота')"
      ]
     },
     "execution_count": 93,
     "metadata": {},
     "output_type": "execute_result"
    },
    {
     "data": {
      "image/png": "[encoded data removed]",
      "text/plain": [
       "<Figure size 432x288 with 1 Axes>"
      ]
     },
     "metadata": {
      "needs_background": "light"
     },
     "output_type": "display_data"
    }
   ],
   "source": [
    "#построим гистограмму распределения длительности звонков\n",
    "calls['duration'].plot(kind='hist', bins=50)\n",
    "plt.title('Гистограмма длительности звонков')\n",
    "plt.xlabel(\"Длительность звонков, мин.\")  \n",
    "plt.ylabel(\"Частота\")"
   ]
  },
  {
   "cell_type": "markdown",
   "metadata": {},
   "source": [
    "Наблюдаем пик в районе 0 - т.е. значительное количество звонков длительностью до минуты"
   ]
  },
  {
   "cell_type": "code",
   "execution_count": 19,
   "metadata": {},
   "outputs": [
    {
     "data": {
      "text/plain": [
       "39613"
      ]
     },
     "execution_count": 19,
     "metadata": {},
     "output_type": "execute_result"
    }
   ],
   "source": [
    "#посчитаем количество звонков, имеющих нулевую длительность\n",
    "calls.loc[calls['duration'] == 0.00, 'duration'].count()"
   ]
  },
  {
   "cell_type": "markdown",
   "metadata": {},
   "source": [
    "20% всех звонков в датасете с длительностью 0 минут. Поскольку звонки с нулевой длительностью не приносят выручку телеком компании, след-но не помогут в формировании выводов, удалим данные строки."
   ]
  },
  {
   "cell_type": "code",
   "execution_count": 20,
   "metadata": {},
   "outputs": [],
   "source": [
    "calls['duration'] = calls['duration'].replace(0, np.NaN)\n",
    "calls = calls.dropna()"
   ]
  },
  {
   "cell_type": "code",
   "execution_count": 21,
   "metadata": {},
   "outputs": [
    {
     "data": {
      "text/plain": [
       "Text(0, 0.5, 'Частота')"
      ]
     },
     "execution_count": 21,
     "metadata": {},
     "output_type": "execute_result"
    },
    {
     "data": {
      "image/png": "[encoded data removed]",
      "text/plain": [
       "<Figure size 432x288 with 1 Axes>"
      ]
     },
     "metadata": {
      "needs_background": "light"
     },
     "output_type": "display_data"
    }
   ],
   "source": [
    "#посмотрим вновь на гистограмму с распределением длительности звонков\n",
    "calls['duration'].plot(kind='hist', bins=50)\n",
    "plt.title('Гистограмма длительности звонков')\n",
    "plt.xlabel(\"Длительность звонков, мин.\")  \n",
    "plt.ylabel(\"Частота\")"
   ]
  },
  {
   "cell_type": "markdown",
   "metadata": {},
   "source": [
    "*2.2.3 Изучим пропуски и возможные аномалии в таблице с сообщениями*"
   ]
  },
  {
   "cell_type": "code",
   "execution_count": 22,
   "metadata": {},
   "outputs": [
    {
     "data": {
      "text/plain": [
       "id              0\n",
       "message_date    0\n",
       "user_id         0\n",
       "month           0\n",
       "dtype: int64"
      ]
     },
     "execution_count": 22,
     "metadata": {},
     "output_type": "execute_result"
    }
   ],
   "source": [
    "messages.isna().sum()"
   ]
  },
  {
   "cell_type": "markdown",
   "metadata": {},
   "source": [
    "Данные полные, пропуски отсутствуют."
   ]
  },
  {
   "cell_type": "markdown",
   "metadata": {},
   "source": [
    "2.2.4 Изучим пропуски и возможные аномалии в таблице с интернет-трафиком"
   ]
  },
  {
   "cell_type": "code",
   "execution_count": 23,
   "metadata": {},
   "outputs": [],
   "source": [
    "internet['mb_used'] = internet['mb_used'].astype(int)"
   ]
  },
  {
   "cell_type": "code",
   "execution_count": 24,
   "metadata": {},
   "outputs": [
    {
     "data": {
      "text/plain": [
       "Unnamed: 0      0\n",
       "id              0\n",
       "mb_used         0\n",
       "session_date    0\n",
       "user_id         0\n",
       "month           0\n",
       "dtype: int64"
      ]
     },
     "execution_count": 24,
     "metadata": {},
     "output_type": "execute_result"
    }
   ],
   "source": [
    "internet.isna().sum()"
   ]
  },
  {
   "cell_type": "markdown",
   "metadata": {},
   "source": [
    "Данные полные, пропуски отсутствуют."
   ]
  },
  {
   "cell_type": "code",
   "execution_count": 25,
   "metadata": {},
   "outputs": [
    {
     "data": {
      "text/html": [
       "<div>\n",
       "<style scoped>\n",
       "    .dataframe tbody tr th:only-of-type {\n",
       "        vertical-align: middle;\n",
       "    }\n",
       "\n",
       "    .dataframe tbody tr th {\n",
       "        vertical-align: top;\n",
       "    }\n",
       "\n",
       "    .dataframe thead th {\n",
       "        text-align: right;\n",
       "    }\n",
       "</style>\n",
       "<table border=\"1\" class=\"dataframe\">\n",
       "  <thead>\n",
       "    <tr style=\"text-align: right;\">\n",
       "      <th></th>\n",
       "      <th>Unnamed: 0</th>\n",
       "      <th>id</th>\n",
       "      <th>mb_used</th>\n",
       "      <th>session_date</th>\n",
       "      <th>user_id</th>\n",
       "      <th>month</th>\n",
       "    </tr>\n",
       "  </thead>\n",
       "  <tbody>\n",
       "    <tr>\n",
       "      <td>0</td>\n",
       "      <td>0</td>\n",
       "      <td>1000_0</td>\n",
       "      <td>112.0</td>\n",
       "      <td>2018-11-25</td>\n",
       "      <td>1000</td>\n",
       "      <td>11</td>\n",
       "    </tr>\n",
       "    <tr>\n",
       "      <td>1</td>\n",
       "      <td>1</td>\n",
       "      <td>1000_1</td>\n",
       "      <td>1052.0</td>\n",
       "      <td>2018-09-07</td>\n",
       "      <td>1000</td>\n",
       "      <td>9</td>\n",
       "    </tr>\n",
       "    <tr>\n",
       "      <td>2</td>\n",
       "      <td>2</td>\n",
       "      <td>1000_2</td>\n",
       "      <td>1197.0</td>\n",
       "      <td>2018-06-25</td>\n",
       "      <td>1000</td>\n",
       "      <td>6</td>\n",
       "    </tr>\n",
       "    <tr>\n",
       "      <td>3</td>\n",
       "      <td>3</td>\n",
       "      <td>1000_3</td>\n",
       "      <td>550.0</td>\n",
       "      <td>2018-08-22</td>\n",
       "      <td>1000</td>\n",
       "      <td>8</td>\n",
       "    </tr>\n",
       "    <tr>\n",
       "      <td>4</td>\n",
       "      <td>4</td>\n",
       "      <td>1000_4</td>\n",
       "      <td>302.0</td>\n",
       "      <td>2018-09-24</td>\n",
       "      <td>1000</td>\n",
       "      <td>9</td>\n",
       "    </tr>\n",
       "  </tbody>\n",
       "</table>\n",
       "</div>"
      ],
      "text/plain": [
       "   Unnamed: 0      id  mb_used session_date  user_id  month\n",
       "0           0  1000_0    112.0   2018-11-25     1000     11\n",
       "1           1  1000_1   1052.0   2018-09-07     1000      9\n",
       "2           2  1000_2   1197.0   2018-06-25     1000      6\n",
       "3           3  1000_3    550.0   2018-08-22     1000      8\n",
       "4           4  1000_4    302.0   2018-09-24     1000      9"
      ]
     },
     "execution_count": 25,
     "metadata": {},
     "output_type": "execute_result"
    }
   ],
   "source": [
    "#Округлим значения мегабайтов в большую сторону\n",
    "internet['mb_used'] = internet['mb_used'].apply(np.ceil)\n",
    "internet.head()"
   ]
  },
  {
   "cell_type": "code",
   "execution_count": 26,
   "metadata": {},
   "outputs": [
    {
     "data": {
      "text/plain": [
       "Text(0, 0.5, 'Частота')"
      ]
     },
     "execution_count": 26,
     "metadata": {},
     "output_type": "execute_result"
    },
    {
     "data": {
      "image/png": "[encoded data removed]",
      "text/plain": [
       "<Figure size 432x288 with 1 Axes>"
      ]
     },
     "metadata": {
      "needs_background": "light"
     },
     "output_type": "display_data"
    }
   ],
   "source": [
    "#посмотрим на распределение интернет-трафика\n",
    "internet['mb_used'].plot(kind='hist', bins=50)\n",
    "plt.title('Гистограмма количества использованного интернет-трафика, Мб')\n",
    "plt.xlabel(\"Мб интернета\")  \n",
    "plt.ylabel(\"Частота\")"
   ]
  },
  {
   "cell_type": "markdown",
   "metadata": {},
   "source": [
    "Наблюдаем пик в районе интернет-сессий с нулевой длительностью."
   ]
  },
  {
   "cell_type": "code",
   "execution_count": 27,
   "metadata": {},
   "outputs": [
    {
     "data": {
      "text/plain": [
       "19699"
      ]
     },
     "execution_count": 27,
     "metadata": {},
     "output_type": "execute_result"
    }
   ],
   "source": [
    "#рассчитаем количество интернет-сессий с длительностью 0 минут\n",
    "internet.loc[internet['mb_used'] == 0.00, 'mb_used'].count()"
   ]
  },
  {
   "cell_type": "markdown",
   "metadata": {},
   "source": [
    "Всего 19598 строк с нулевой длительностью интернет-сессий. Например, они могут быть пердставлены неудавшимися подключениями к интернету. Т.к. они не формируют выручку для мобильного оператора, удалим их. "
   ]
  },
  {
   "cell_type": "code",
   "execution_count": 28,
   "metadata": {},
   "outputs": [
    {
     "data": {
      "text/html": [
       "<div>\n",
       "<style scoped>\n",
       "    .dataframe tbody tr th:only-of-type {\n",
       "        vertical-align: middle;\n",
       "    }\n",
       "\n",
       "    .dataframe tbody tr th {\n",
       "        vertical-align: top;\n",
       "    }\n",
       "\n",
       "    .dataframe thead th {\n",
       "        text-align: right;\n",
       "    }\n",
       "</style>\n",
       "<table border=\"1\" class=\"dataframe\">\n",
       "  <thead>\n",
       "    <tr style=\"text-align: right;\">\n",
       "      <th></th>\n",
       "      <th>Unnamed: 0</th>\n",
       "      <th>id</th>\n",
       "      <th>mb_used</th>\n",
       "      <th>session_date</th>\n",
       "      <th>user_id</th>\n",
       "      <th>month</th>\n",
       "    </tr>\n",
       "  </thead>\n",
       "  <tbody>\n",
       "    <tr>\n",
       "      <td>0</td>\n",
       "      <td>0</td>\n",
       "      <td>1000_0</td>\n",
       "      <td>112.0</td>\n",
       "      <td>2018-11-25</td>\n",
       "      <td>1000</td>\n",
       "      <td>11</td>\n",
       "    </tr>\n",
       "    <tr>\n",
       "      <td>1</td>\n",
       "      <td>1</td>\n",
       "      <td>1000_1</td>\n",
       "      <td>1052.0</td>\n",
       "      <td>2018-09-07</td>\n",
       "      <td>1000</td>\n",
       "      <td>9</td>\n",
       "    </tr>\n",
       "    <tr>\n",
       "      <td>2</td>\n",
       "      <td>2</td>\n",
       "      <td>1000_2</td>\n",
       "      <td>1197.0</td>\n",
       "      <td>2018-06-25</td>\n",
       "      <td>1000</td>\n",
       "      <td>6</td>\n",
       "    </tr>\n",
       "    <tr>\n",
       "      <td>3</td>\n",
       "      <td>3</td>\n",
       "      <td>1000_3</td>\n",
       "      <td>550.0</td>\n",
       "      <td>2018-08-22</td>\n",
       "      <td>1000</td>\n",
       "      <td>8</td>\n",
       "    </tr>\n",
       "    <tr>\n",
       "      <td>4</td>\n",
       "      <td>4</td>\n",
       "      <td>1000_4</td>\n",
       "      <td>302.0</td>\n",
       "      <td>2018-09-24</td>\n",
       "      <td>1000</td>\n",
       "      <td>9</td>\n",
       "    </tr>\n",
       "  </tbody>\n",
       "</table>\n",
       "</div>"
      ],
      "text/plain": [
       "   Unnamed: 0      id  mb_used session_date  user_id  month\n",
       "0           0  1000_0    112.0   2018-11-25     1000     11\n",
       "1           1  1000_1   1052.0   2018-09-07     1000      9\n",
       "2           2  1000_2   1197.0   2018-06-25     1000      6\n",
       "3           3  1000_3    550.0   2018-08-22     1000      8\n",
       "4           4  1000_4    302.0   2018-09-24     1000      9"
      ]
     },
     "execution_count": 28,
     "metadata": {},
     "output_type": "execute_result"
    }
   ],
   "source": [
    "#удалим строки с нулевым интернет-сессиями\n",
    "internet['mb_used'] = internet['mb_used'].replace(0.00, np.NaN)\n",
    "internet = internet.dropna()\n",
    "internet.head()"
   ]
  },
  {
   "cell_type": "markdown",
   "metadata": {},
   "source": [
    "### 2.3 Предварительные расчеты <a name=\"subparagraph 3\"></a>\n",
    "\n",
    "*Рассчитаем:*\n",
    "- количество сделанных звонков и израсходованных минут разговора по месяцам; \n",
    "- количество отправленных сообщений по месяцам; \n",
    "- объем израсходованного интернет-трафика по месяцам;\n",
    "- помесячную выручку с каждого пользователя. "
   ]
  },
  {
   "cell_type": "code",
   "execution_count": 29,
   "metadata": {},
   "outputs": [
    {
     "data": {
      "text/html": [
       "<div>\n",
       "<style scoped>\n",
       "    .dataframe tbody tr th:only-of-type {\n",
       "        vertical-align: middle;\n",
       "    }\n",
       "\n",
       "    .dataframe tbody tr th {\n",
       "        vertical-align: top;\n",
       "    }\n",
       "\n",
       "    .dataframe thead th {\n",
       "        text-align: right;\n",
       "    }\n",
       "</style>\n",
       "<table border=\"1\" class=\"dataframe\">\n",
       "  <thead>\n",
       "    <tr style=\"text-align: right;\">\n",
       "      <th></th>\n",
       "      <th></th>\n",
       "      <th>calls_count</th>\n",
       "    </tr>\n",
       "    <tr>\n",
       "      <th>user_id</th>\n",
       "      <th>month</th>\n",
       "      <th></th>\n",
       "    </tr>\n",
       "  </thead>\n",
       "  <tbody>\n",
       "    <tr>\n",
       "      <td rowspan=\"5\" valign=\"top\">1000</td>\n",
       "      <td>5</td>\n",
       "      <td>17</td>\n",
       "    </tr>\n",
       "    <tr>\n",
       "      <td>6</td>\n",
       "      <td>28</td>\n",
       "    </tr>\n",
       "    <tr>\n",
       "      <td>7</td>\n",
       "      <td>41</td>\n",
       "    </tr>\n",
       "    <tr>\n",
       "      <td>8</td>\n",
       "      <td>42</td>\n",
       "    </tr>\n",
       "    <tr>\n",
       "      <td>9</td>\n",
       "      <td>46</td>\n",
       "    </tr>\n",
       "    <tr>\n",
       "      <td>...</td>\n",
       "      <td>...</td>\n",
       "      <td>...</td>\n",
       "    </tr>\n",
       "    <tr>\n",
       "      <td>1498</td>\n",
       "      <td>10</td>\n",
       "      <td>30</td>\n",
       "    </tr>\n",
       "    <tr>\n",
       "      <td rowspan=\"4\" valign=\"top\">1499</td>\n",
       "      <td>9</td>\n",
       "      <td>8</td>\n",
       "    </tr>\n",
       "    <tr>\n",
       "      <td>10</td>\n",
       "      <td>44</td>\n",
       "    </tr>\n",
       "    <tr>\n",
       "      <td>11</td>\n",
       "      <td>62</td>\n",
       "    </tr>\n",
       "    <tr>\n",
       "      <td>12</td>\n",
       "      <td>56</td>\n",
       "    </tr>\n",
       "  </tbody>\n",
       "</table>\n",
       "<p>3168 rows × 1 columns</p>\n",
       "</div>"
      ],
      "text/plain": [
       "               calls_count\n",
       "user_id month             \n",
       "1000    5               17\n",
       "        6               28\n",
       "        7               41\n",
       "        8               42\n",
       "        9               46\n",
       "...                    ...\n",
       "1498    10              30\n",
       "1499    9                8\n",
       "        10              44\n",
       "        11              62\n",
       "        12              56\n",
       "\n",
       "[3168 rows x 1 columns]"
      ]
     },
     "metadata": {},
     "output_type": "display_data"
    }
   ],
   "source": [
    "#создадим сводную таблицу с количеством звонков\n",
    "calls_pivot_id = calls.pivot_table(index = ['user_id', 'month'], values = 'id', aggfunc = 'count')\n",
    "calls_pivot_id.columns = ['calls_count']\n",
    "display(calls_pivot_id)"
   ]
  },
  {
   "cell_type": "code",
   "execution_count": 30,
   "metadata": {},
   "outputs": [
    {
     "data": {
      "text/html": [
       "<div>\n",
       "<style scoped>\n",
       "    .dataframe tbody tr th:only-of-type {\n",
       "        vertical-align: middle;\n",
       "    }\n",
       "\n",
       "    .dataframe tbody tr th {\n",
       "        vertical-align: top;\n",
       "    }\n",
       "\n",
       "    .dataframe thead th {\n",
       "        text-align: right;\n",
       "    }\n",
       "</style>\n",
       "<table border=\"1\" class=\"dataframe\">\n",
       "  <thead>\n",
       "    <tr style=\"text-align: right;\">\n",
       "      <th></th>\n",
       "      <th></th>\n",
       "      <th>calls_duration</th>\n",
       "    </tr>\n",
       "    <tr>\n",
       "      <th>user_id</th>\n",
       "      <th>month</th>\n",
       "      <th></th>\n",
       "    </tr>\n",
       "  </thead>\n",
       "  <tbody>\n",
       "    <tr>\n",
       "      <td rowspan=\"5\" valign=\"top\">1000</td>\n",
       "      <td>5</td>\n",
       "      <td>159.0</td>\n",
       "    </tr>\n",
       "    <tr>\n",
       "      <td>6</td>\n",
       "      <td>172.0</td>\n",
       "    </tr>\n",
       "    <tr>\n",
       "      <td>7</td>\n",
       "      <td>340.0</td>\n",
       "    </tr>\n",
       "    <tr>\n",
       "      <td>8</td>\n",
       "      <td>408.0</td>\n",
       "    </tr>\n",
       "    <tr>\n",
       "      <td>9</td>\n",
       "      <td>466.0</td>\n",
       "    </tr>\n",
       "    <tr>\n",
       "      <td>...</td>\n",
       "      <td>...</td>\n",
       "      <td>...</td>\n",
       "    </tr>\n",
       "    <tr>\n",
       "      <td>1498</td>\n",
       "      <td>10</td>\n",
       "      <td>247.0</td>\n",
       "    </tr>\n",
       "    <tr>\n",
       "      <td rowspan=\"4\" valign=\"top\">1499</td>\n",
       "      <td>9</td>\n",
       "      <td>70.0</td>\n",
       "    </tr>\n",
       "    <tr>\n",
       "      <td>10</td>\n",
       "      <td>449.0</td>\n",
       "    </tr>\n",
       "    <tr>\n",
       "      <td>11</td>\n",
       "      <td>612.0</td>\n",
       "    </tr>\n",
       "    <tr>\n",
       "      <td>12</td>\n",
       "      <td>492.0</td>\n",
       "    </tr>\n",
       "  </tbody>\n",
       "</table>\n",
       "<p>3168 rows × 1 columns</p>\n",
       "</div>"
      ],
      "text/plain": [
       "               calls_duration\n",
       "user_id month                \n",
       "1000    5               159.0\n",
       "        6               172.0\n",
       "        7               340.0\n",
       "        8               408.0\n",
       "        9               466.0\n",
       "...                       ...\n",
       "1498    10              247.0\n",
       "1499    9                70.0\n",
       "        10              449.0\n",
       "        11              612.0\n",
       "        12              492.0\n",
       "\n",
       "[3168 rows x 1 columns]"
      ]
     },
     "metadata": {},
     "output_type": "display_data"
    }
   ],
   "source": [
    "#создадим сводную таблицу с длительностью звонков\n",
    "calls_pivot_dur = calls.pivot_table(index = ['user_id', 'month'], values = 'duration', aggfunc = 'sum')\n",
    "calls_pivot_dur.columns = ['calls_duration']\n",
    "display(calls_pivot_dur)"
   ]
  },
  {
   "cell_type": "code",
   "execution_count": 31,
   "metadata": {},
   "outputs": [
    {
     "data": {
      "text/html": [
       "<div>\n",
       "<style scoped>\n",
       "    .dataframe tbody tr th:only-of-type {\n",
       "        vertical-align: middle;\n",
       "    }\n",
       "\n",
       "    .dataframe tbody tr th {\n",
       "        vertical-align: top;\n",
       "    }\n",
       "\n",
       "    .dataframe thead th {\n",
       "        text-align: right;\n",
       "    }\n",
       "</style>\n",
       "<table border=\"1\" class=\"dataframe\">\n",
       "  <thead>\n",
       "    <tr style=\"text-align: right;\">\n",
       "      <th></th>\n",
       "      <th></th>\n",
       "      <th>messages_count</th>\n",
       "    </tr>\n",
       "    <tr>\n",
       "      <th>user_id</th>\n",
       "      <th>month</th>\n",
       "      <th></th>\n",
       "    </tr>\n",
       "  </thead>\n",
       "  <tbody>\n",
       "    <tr>\n",
       "      <td rowspan=\"5\" valign=\"top\">1000</td>\n",
       "      <td>5</td>\n",
       "      <td>22</td>\n",
       "    </tr>\n",
       "    <tr>\n",
       "      <td>6</td>\n",
       "      <td>60</td>\n",
       "    </tr>\n",
       "    <tr>\n",
       "      <td>7</td>\n",
       "      <td>75</td>\n",
       "    </tr>\n",
       "    <tr>\n",
       "      <td>8</td>\n",
       "      <td>81</td>\n",
       "    </tr>\n",
       "    <tr>\n",
       "      <td>9</td>\n",
       "      <td>57</td>\n",
       "    </tr>\n",
       "    <tr>\n",
       "      <td>...</td>\n",
       "      <td>...</td>\n",
       "      <td>...</td>\n",
       "    </tr>\n",
       "    <tr>\n",
       "      <td>1498</td>\n",
       "      <td>10</td>\n",
       "      <td>42</td>\n",
       "    </tr>\n",
       "    <tr>\n",
       "      <td rowspan=\"4\" valign=\"top\">1499</td>\n",
       "      <td>9</td>\n",
       "      <td>11</td>\n",
       "    </tr>\n",
       "    <tr>\n",
       "      <td>10</td>\n",
       "      <td>48</td>\n",
       "    </tr>\n",
       "    <tr>\n",
       "      <td>11</td>\n",
       "      <td>59</td>\n",
       "    </tr>\n",
       "    <tr>\n",
       "      <td>12</td>\n",
       "      <td>66</td>\n",
       "    </tr>\n",
       "  </tbody>\n",
       "</table>\n",
       "<p>2717 rows × 1 columns</p>\n",
       "</div>"
      ],
      "text/plain": [
       "               messages_count\n",
       "user_id month                \n",
       "1000    5                  22\n",
       "        6                  60\n",
       "        7                  75\n",
       "        8                  81\n",
       "        9                  57\n",
       "...                       ...\n",
       "1498    10                 42\n",
       "1499    9                  11\n",
       "        10                 48\n",
       "        11                 59\n",
       "        12                 66\n",
       "\n",
       "[2717 rows x 1 columns]"
      ]
     },
     "metadata": {},
     "output_type": "display_data"
    }
   ],
   "source": [
    "#создадим сводную таблицу с количеством отправленных сообщений\n",
    "messages_pivot = messages.pivot_table(index = ['user_id', 'month'], values = 'id', aggfunc = 'count')\n",
    "messages_pivot.columns = ['messages_count']\n",
    "display(messages_pivot)"
   ]
  },
  {
   "cell_type": "code",
   "execution_count": 32,
   "metadata": {},
   "outputs": [
    {
     "data": {
      "text/html": [
       "<div>\n",
       "<style scoped>\n",
       "    .dataframe tbody tr th:only-of-type {\n",
       "        vertical-align: middle;\n",
       "    }\n",
       "\n",
       "    .dataframe tbody tr th {\n",
       "        vertical-align: top;\n",
       "    }\n",
       "\n",
       "    .dataframe thead th {\n",
       "        text-align: right;\n",
       "    }\n",
       "</style>\n",
       "<table border=\"1\" class=\"dataframe\">\n",
       "  <thead>\n",
       "    <tr style=\"text-align: right;\">\n",
       "      <th></th>\n",
       "      <th></th>\n",
       "      <th>mb_used_sum</th>\n",
       "    </tr>\n",
       "    <tr>\n",
       "      <th>user_id</th>\n",
       "      <th>month</th>\n",
       "      <th></th>\n",
       "    </tr>\n",
       "  </thead>\n",
       "  <tbody>\n",
       "    <tr>\n",
       "      <td rowspan=\"5\" valign=\"top\">1000</td>\n",
       "      <td>5</td>\n",
       "      <td>2252.0</td>\n",
       "    </tr>\n",
       "    <tr>\n",
       "      <td>6</td>\n",
       "      <td>23213.0</td>\n",
       "    </tr>\n",
       "    <tr>\n",
       "      <td>7</td>\n",
       "      <td>13988.0</td>\n",
       "    </tr>\n",
       "    <tr>\n",
       "      <td>8</td>\n",
       "      <td>14043.0</td>\n",
       "    </tr>\n",
       "    <tr>\n",
       "      <td>9</td>\n",
       "      <td>14556.0</td>\n",
       "    </tr>\n",
       "    <tr>\n",
       "      <td>...</td>\n",
       "      <td>...</td>\n",
       "      <td>...</td>\n",
       "    </tr>\n",
       "    <tr>\n",
       "      <td>1498</td>\n",
       "      <td>10</td>\n",
       "      <td>20555.0</td>\n",
       "    </tr>\n",
       "    <tr>\n",
       "      <td rowspan=\"4\" valign=\"top\">1499</td>\n",
       "      <td>9</td>\n",
       "      <td>1844.0</td>\n",
       "    </tr>\n",
       "    <tr>\n",
       "      <td>10</td>\n",
       "      <td>17766.0</td>\n",
       "    </tr>\n",
       "    <tr>\n",
       "      <td>11</td>\n",
       "      <td>17945.0</td>\n",
       "    </tr>\n",
       "    <tr>\n",
       "      <td>12</td>\n",
       "      <td>13037.0</td>\n",
       "    </tr>\n",
       "  </tbody>\n",
       "</table>\n",
       "<p>3201 rows × 1 columns</p>\n",
       "</div>"
      ],
      "text/plain": [
       "               mb_used_sum\n",
       "user_id month             \n",
       "1000    5           2252.0\n",
       "        6          23213.0\n",
       "        7          13988.0\n",
       "        8          14043.0\n",
       "        9          14556.0\n",
       "...                    ...\n",
       "1498    10         20555.0\n",
       "1499    9           1844.0\n",
       "        10         17766.0\n",
       "        11         17945.0\n",
       "        12         13037.0\n",
       "\n",
       "[3201 rows x 1 columns]"
      ]
     },
     "metadata": {},
     "output_type": "display_data"
    }
   ],
   "source": [
    "#создадим сводную таблицу с объемом израсходованного интернет-трафика\n",
    "internet_pivot = internet.pivot_table(index = ['user_id', 'month'], values = 'mb_used', aggfunc = 'sum')\n",
    "internet_pivot.columns = ['mb_used_sum']\n",
    "display(internet_pivot)"
   ]
  },
  {
   "cell_type": "code",
   "execution_count": 33,
   "metadata": {},
   "outputs": [
    {
     "data": {
      "text/html": [
       "<div>\n",
       "<style scoped>\n",
       "    .dataframe tbody tr th:only-of-type {\n",
       "        vertical-align: middle;\n",
       "    }\n",
       "\n",
       "    .dataframe tbody tr th {\n",
       "        vertical-align: top;\n",
       "    }\n",
       "\n",
       "    .dataframe thead th {\n",
       "        text-align: right;\n",
       "    }\n",
       "</style>\n",
       "<table border=\"1\" class=\"dataframe\">\n",
       "  <thead>\n",
       "    <tr style=\"text-align: right;\">\n",
       "      <th></th>\n",
       "      <th></th>\n",
       "      <th>mb_used_sum</th>\n",
       "      <th>messages_count</th>\n",
       "      <th>calls_count</th>\n",
       "      <th>calls_duration</th>\n",
       "    </tr>\n",
       "    <tr>\n",
       "      <th>user_id</th>\n",
       "      <th>month</th>\n",
       "      <th></th>\n",
       "      <th></th>\n",
       "      <th></th>\n",
       "      <th></th>\n",
       "    </tr>\n",
       "  </thead>\n",
       "  <tbody>\n",
       "    <tr>\n",
       "      <td rowspan=\"5\" valign=\"top\">1000</td>\n",
       "      <td>5</td>\n",
       "      <td>2252.0</td>\n",
       "      <td>22.0</td>\n",
       "      <td>17.0</td>\n",
       "      <td>159.0</td>\n",
       "    </tr>\n",
       "    <tr>\n",
       "      <td>6</td>\n",
       "      <td>23213.0</td>\n",
       "      <td>60.0</td>\n",
       "      <td>28.0</td>\n",
       "      <td>172.0</td>\n",
       "    </tr>\n",
       "    <tr>\n",
       "      <td>7</td>\n",
       "      <td>13988.0</td>\n",
       "      <td>75.0</td>\n",
       "      <td>41.0</td>\n",
       "      <td>340.0</td>\n",
       "    </tr>\n",
       "    <tr>\n",
       "      <td>8</td>\n",
       "      <td>14043.0</td>\n",
       "      <td>81.0</td>\n",
       "      <td>42.0</td>\n",
       "      <td>408.0</td>\n",
       "    </tr>\n",
       "    <tr>\n",
       "      <td>9</td>\n",
       "      <td>14556.0</td>\n",
       "      <td>57.0</td>\n",
       "      <td>46.0</td>\n",
       "      <td>466.0</td>\n",
       "    </tr>\n",
       "    <tr>\n",
       "      <td>...</td>\n",
       "      <td>...</td>\n",
       "      <td>...</td>\n",
       "      <td>...</td>\n",
       "      <td>...</td>\n",
       "      <td>...</td>\n",
       "    </tr>\n",
       "    <tr>\n",
       "      <td>1273</td>\n",
       "      <td>12</td>\n",
       "      <td>NaN</td>\n",
       "      <td>39.0</td>\n",
       "      <td>38.0</td>\n",
       "      <td>260.0</td>\n",
       "    </tr>\n",
       "    <tr>\n",
       "      <td>1365</td>\n",
       "      <td>10</td>\n",
       "      <td>NaN</td>\n",
       "      <td>1.0</td>\n",
       "      <td>5.0</td>\n",
       "      <td>43.0</td>\n",
       "    </tr>\n",
       "    <tr>\n",
       "      <td>1377</td>\n",
       "      <td>2</td>\n",
       "      <td>NaN</td>\n",
       "      <td>2.0</td>\n",
       "      <td>20.0</td>\n",
       "      <td>179.0</td>\n",
       "    </tr>\n",
       "    <tr>\n",
       "      <td>1392</td>\n",
       "      <td>2</td>\n",
       "      <td>NaN</td>\n",
       "      <td>3.0</td>\n",
       "      <td>2.0</td>\n",
       "      <td>13.0</td>\n",
       "    </tr>\n",
       "    <tr>\n",
       "      <td>1446</td>\n",
       "      <td>8</td>\n",
       "      <td>NaN</td>\n",
       "      <td>1.0</td>\n",
       "      <td>4.0</td>\n",
       "      <td>50.0</td>\n",
       "    </tr>\n",
       "  </tbody>\n",
       "</table>\n",
       "<p>3214 rows × 4 columns</p>\n",
       "</div>"
      ],
      "text/plain": [
       "               mb_used_sum  messages_count  calls_count  calls_duration\n",
       "user_id month                                                          \n",
       "1000    5           2252.0            22.0         17.0           159.0\n",
       "        6          23213.0            60.0         28.0           172.0\n",
       "        7          13988.0            75.0         41.0           340.0\n",
       "        8          14043.0            81.0         42.0           408.0\n",
       "        9          14556.0            57.0         46.0           466.0\n",
       "...                    ...             ...          ...             ...\n",
       "1273    12             NaN            39.0         38.0           260.0\n",
       "1365    10             NaN             1.0          5.0            43.0\n",
       "1377    2              NaN             2.0         20.0           179.0\n",
       "1392    2              NaN             3.0          2.0            13.0\n",
       "1446    8              NaN             1.0          4.0            50.0\n",
       "\n",
       "[3214 rows x 4 columns]"
      ]
     },
     "metadata": {},
     "output_type": "display_data"
    }
   ],
   "source": [
    "#объединим все сводные таблицы для дальнейшего расчета выручки\n",
    "df = internet_pivot.merge(messages_pivot.merge(calls_pivot_id.merge(calls_pivot_dur, on=['user_id', 'month'], how='outer'), on=['user_id', 'month'], how='outer'),on=['user_id', 'month'], how='outer')\n",
    "display(df)"
   ]
  },
  {
   "cell_type": "code",
   "execution_count": 34,
   "metadata": {},
   "outputs": [],
   "source": [
    "#посмотрим на зависимость количества звонков, сообщений, интернет-трафика от месяца\n",
    "#напишем функцию для отображения столбчатой диаграммы \n",
    "def month_barplot(df_categories):\n",
    "    list_of_dfs = dfs\n",
    "    plt.figure(figsize=(15,5))\n",
    "    ax = plt.gca()\n",
    "    \n",
    "    list_of_colors = ['blue', 'orange', 'green']\n",
    "    \n",
    "    dfs_names_for_legend = ['Кол-во интернет-сессий', 'Кол-во отправленных сообщений', 'Кол-во совершенных звонков']\n",
    "    list_of_legend = []\n",
    "    \n",
    "    for i in range(len(list_of_dfs)):\n",
    "        one_of_dfs = list_of_dfs[i]\n",
    "        one_of_dfs_prep = one_of_dfs.plot(x='месяц', y = i, kind = 'bar', ec = 'black', color = list_of_colors[i], \n",
    "                                          ax=ax, width=0.1, position=i)\n",
    "        legend_list.append(dfs_names_for_legend[i])"
   ]
  },
  {
   "cell_type": "code",
   "execution_count": 35,
   "metadata": {},
   "outputs": [
    {
     "data": {
      "text/html": [
       "<div>\n",
       "<style scoped>\n",
       "    .dataframe tbody tr th:only-of-type {\n",
       "        vertical-align: middle;\n",
       "    }\n",
       "\n",
       "    .dataframe tbody tr th {\n",
       "        vertical-align: top;\n",
       "    }\n",
       "\n",
       "    .dataframe thead th {\n",
       "        text-align: right;\n",
       "    }\n",
       "</style>\n",
       "<table border=\"1\" class=\"dataframe\">\n",
       "  <thead>\n",
       "    <tr style=\"text-align: right;\">\n",
       "      <th></th>\n",
       "      <th>mb_used_sum</th>\n",
       "      <th>messages_count</th>\n",
       "      <th>calls_count</th>\n",
       "    </tr>\n",
       "    <tr>\n",
       "      <th>month</th>\n",
       "      <th></th>\n",
       "      <th></th>\n",
       "      <th></th>\n",
       "    </tr>\n",
       "  </thead>\n",
       "  <tbody>\n",
       "    <tr>\n",
       "      <td>1</td>\n",
       "      <td>43</td>\n",
       "      <td>38</td>\n",
       "      <td>42</td>\n",
       "    </tr>\n",
       "    <tr>\n",
       "      <td>2</td>\n",
       "      <td>80</td>\n",
       "      <td>66</td>\n",
       "      <td>81</td>\n",
       "    </tr>\n",
       "    <tr>\n",
       "      <td>3</td>\n",
       "      <td>114</td>\n",
       "      <td>94</td>\n",
       "      <td>114</td>\n",
       "    </tr>\n",
       "    <tr>\n",
       "      <td>4</td>\n",
       "      <td>167</td>\n",
       "      <td>135</td>\n",
       "      <td>164</td>\n",
       "    </tr>\n",
       "    <tr>\n",
       "      <td>5</td>\n",
       "      <td>206</td>\n",
       "      <td>174</td>\n",
       "      <td>205</td>\n",
       "    </tr>\n",
       "    <tr>\n",
       "      <td>6</td>\n",
       "      <td>247</td>\n",
       "      <td>209</td>\n",
       "      <td>244</td>\n",
       "    </tr>\n",
       "    <tr>\n",
       "      <td>7</td>\n",
       "      <td>291</td>\n",
       "      <td>247</td>\n",
       "      <td>288</td>\n",
       "    </tr>\n",
       "    <tr>\n",
       "      <td>8</td>\n",
       "      <td>340</td>\n",
       "      <td>292</td>\n",
       "      <td>336</td>\n",
       "    </tr>\n",
       "    <tr>\n",
       "      <td>9</td>\n",
       "      <td>374</td>\n",
       "      <td>318</td>\n",
       "      <td>369</td>\n",
       "    </tr>\n",
       "    <tr>\n",
       "      <td>10</td>\n",
       "      <td>415</td>\n",
       "      <td>357</td>\n",
       "      <td>411</td>\n",
       "    </tr>\n",
       "    <tr>\n",
       "      <td>11</td>\n",
       "      <td>449</td>\n",
       "      <td>383</td>\n",
       "      <td>444</td>\n",
       "    </tr>\n",
       "    <tr>\n",
       "      <td>12</td>\n",
       "      <td>475</td>\n",
       "      <td>404</td>\n",
       "      <td>470</td>\n",
       "    </tr>\n",
       "  </tbody>\n",
       "</table>\n",
       "</div>"
      ],
      "text/plain": [
       "       mb_used_sum  messages_count  calls_count\n",
       "month                                          \n",
       "1               43              38           42\n",
       "2               80              66           81\n",
       "3              114              94          114\n",
       "4              167             135          164\n",
       "5              206             174          205\n",
       "6              247             209          244\n",
       "7              291             247          288\n",
       "8              340             292          336\n",
       "9              374             318          369\n",
       "10             415             357          411\n",
       "11             449             383          444\n",
       "12             475             404          470"
      ]
     },
     "metadata": {},
     "output_type": "display_data"
    }
   ],
   "source": [
    "df_1 = df.groupby('month').count().drop(columns = 'calls_duration', axis = 1)\n",
    "display(df_1)"
   ]
  },
  {
   "cell_type": "code",
   "execution_count": 36,
   "metadata": {},
   "outputs": [
    {
     "data": {
      "image/png": "[encoded data removed]",
      "text/plain": [
       "<Figure size 432x288 with 1 Axes>"
      ]
     },
     "metadata": {
      "needs_background": "light"
     },
     "output_type": "display_data"
    }
   ],
   "source": [
    "ax = df_1.plot.bar(rot=0)"
   ]
  },
  {
   "cell_type": "markdown",
   "metadata": {},
   "source": [
    "Наблюдается тренд на постоянный рост количества звонков, сообщений и длительности интернет-сессий в течение года. Скорее всего это связано с тем, что мобильный оператор в начале года был новичком на рынке и в течение года он набирал обороты, привлекая новых пользователей."
   ]
  },
  {
   "cell_type": "code",
   "execution_count": 37,
   "metadata": {},
   "outputs": [
    {
     "data": {
      "text/html": [
       "<div>\n",
       "<style scoped>\n",
       "    .dataframe tbody tr th:only-of-type {\n",
       "        vertical-align: middle;\n",
       "    }\n",
       "\n",
       "    .dataframe tbody tr th {\n",
       "        vertical-align: top;\n",
       "    }\n",
       "\n",
       "    .dataframe thead th {\n",
       "        text-align: right;\n",
       "    }\n",
       "</style>\n",
       "<table border=\"1\" class=\"dataframe\">\n",
       "  <thead>\n",
       "    <tr style=\"text-align: right;\">\n",
       "      <th></th>\n",
       "      <th></th>\n",
       "      <th>mb_used_sum</th>\n",
       "      <th>messages_count</th>\n",
       "      <th>calls_count</th>\n",
       "      <th>calls_duration</th>\n",
       "      <th>age</th>\n",
       "      <th>churn_date</th>\n",
       "      <th>reg_date</th>\n",
       "      <th>city</th>\n",
       "      <th>tariff</th>\n",
       "    </tr>\n",
       "    <tr>\n",
       "      <th>user_id</th>\n",
       "      <th>month</th>\n",
       "      <th></th>\n",
       "      <th></th>\n",
       "      <th></th>\n",
       "      <th></th>\n",
       "      <th></th>\n",
       "      <th></th>\n",
       "      <th></th>\n",
       "      <th></th>\n",
       "      <th></th>\n",
       "    </tr>\n",
       "  </thead>\n",
       "  <tbody>\n",
       "    <tr>\n",
       "      <td rowspan=\"5\" valign=\"top\">1000</td>\n",
       "      <td>5</td>\n",
       "      <td>2252.0</td>\n",
       "      <td>22.0</td>\n",
       "      <td>17.0</td>\n",
       "      <td>159.0</td>\n",
       "      <td>52</td>\n",
       "      <td>NaT</td>\n",
       "      <td>2018-05-25</td>\n",
       "      <td>Краснодар</td>\n",
       "      <td>ultra</td>\n",
       "    </tr>\n",
       "    <tr>\n",
       "      <td>6</td>\n",
       "      <td>23213.0</td>\n",
       "      <td>60.0</td>\n",
       "      <td>28.0</td>\n",
       "      <td>172.0</td>\n",
       "      <td>52</td>\n",
       "      <td>NaT</td>\n",
       "      <td>2018-05-25</td>\n",
       "      <td>Краснодар</td>\n",
       "      <td>ultra</td>\n",
       "    </tr>\n",
       "    <tr>\n",
       "      <td>7</td>\n",
       "      <td>13988.0</td>\n",
       "      <td>75.0</td>\n",
       "      <td>41.0</td>\n",
       "      <td>340.0</td>\n",
       "      <td>52</td>\n",
       "      <td>NaT</td>\n",
       "      <td>2018-05-25</td>\n",
       "      <td>Краснодар</td>\n",
       "      <td>ultra</td>\n",
       "    </tr>\n",
       "    <tr>\n",
       "      <td>8</td>\n",
       "      <td>14043.0</td>\n",
       "      <td>81.0</td>\n",
       "      <td>42.0</td>\n",
       "      <td>408.0</td>\n",
       "      <td>52</td>\n",
       "      <td>NaT</td>\n",
       "      <td>2018-05-25</td>\n",
       "      <td>Краснодар</td>\n",
       "      <td>ultra</td>\n",
       "    </tr>\n",
       "    <tr>\n",
       "      <td>9</td>\n",
       "      <td>14556.0</td>\n",
       "      <td>57.0</td>\n",
       "      <td>46.0</td>\n",
       "      <td>466.0</td>\n",
       "      <td>52</td>\n",
       "      <td>NaT</td>\n",
       "      <td>2018-05-25</td>\n",
       "      <td>Краснодар</td>\n",
       "      <td>ultra</td>\n",
       "    </tr>\n",
       "    <tr>\n",
       "      <td>...</td>\n",
       "      <td>...</td>\n",
       "      <td>...</td>\n",
       "      <td>...</td>\n",
       "      <td>...</td>\n",
       "      <td>...</td>\n",
       "      <td>...</td>\n",
       "      <td>...</td>\n",
       "      <td>...</td>\n",
       "      <td>...</td>\n",
       "      <td>...</td>\n",
       "    </tr>\n",
       "    <tr>\n",
       "      <td>1273</td>\n",
       "      <td>12</td>\n",
       "      <td>NaN</td>\n",
       "      <td>39.0</td>\n",
       "      <td>38.0</td>\n",
       "      <td>260.0</td>\n",
       "      <td>46</td>\n",
       "      <td>NaT</td>\n",
       "      <td>2018-05-15</td>\n",
       "      <td>Курган</td>\n",
       "      <td>ultra</td>\n",
       "    </tr>\n",
       "    <tr>\n",
       "      <td>1365</td>\n",
       "      <td>10</td>\n",
       "      <td>NaN</td>\n",
       "      <td>1.0</td>\n",
       "      <td>5.0</td>\n",
       "      <td>43.0</td>\n",
       "      <td>38</td>\n",
       "      <td>NaT</td>\n",
       "      <td>2018-10-31</td>\n",
       "      <td>Ростов-на-Дону</td>\n",
       "      <td>smart</td>\n",
       "    </tr>\n",
       "    <tr>\n",
       "      <td>1377</td>\n",
       "      <td>2</td>\n",
       "      <td>NaN</td>\n",
       "      <td>2.0</td>\n",
       "      <td>20.0</td>\n",
       "      <td>179.0</td>\n",
       "      <td>59</td>\n",
       "      <td>NaT</td>\n",
       "      <td>2018-02-25</td>\n",
       "      <td>Брянск</td>\n",
       "      <td>ultra</td>\n",
       "    </tr>\n",
       "    <tr>\n",
       "      <td>1392</td>\n",
       "      <td>2</td>\n",
       "      <td>NaN</td>\n",
       "      <td>3.0</td>\n",
       "      <td>2.0</td>\n",
       "      <td>13.0</td>\n",
       "      <td>54</td>\n",
       "      <td>2018-09-27</td>\n",
       "      <td>2018-02-27</td>\n",
       "      <td>Челябинск</td>\n",
       "      <td>ultra</td>\n",
       "    </tr>\n",
       "    <tr>\n",
       "      <td>1446</td>\n",
       "      <td>8</td>\n",
       "      <td>NaN</td>\n",
       "      <td>1.0</td>\n",
       "      <td>4.0</td>\n",
       "      <td>50.0</td>\n",
       "      <td>64</td>\n",
       "      <td>NaT</td>\n",
       "      <td>2018-08-31</td>\n",
       "      <td>Липецк</td>\n",
       "      <td>smart</td>\n",
       "    </tr>\n",
       "  </tbody>\n",
       "</table>\n",
       "<p>3214 rows × 9 columns</p>\n",
       "</div>"
      ],
      "text/plain": [
       "               mb_used_sum  messages_count  calls_count  calls_duration  age  \\\n",
       "user_id month                                                                  \n",
       "1000    5           2252.0            22.0         17.0           159.0   52   \n",
       "        6          23213.0            60.0         28.0           172.0   52   \n",
       "        7          13988.0            75.0         41.0           340.0   52   \n",
       "        8          14043.0            81.0         42.0           408.0   52   \n",
       "        9          14556.0            57.0         46.0           466.0   52   \n",
       "...                    ...             ...          ...             ...  ...   \n",
       "1273    12             NaN            39.0         38.0           260.0   46   \n",
       "1365    10             NaN             1.0          5.0            43.0   38   \n",
       "1377    2              NaN             2.0         20.0           179.0   59   \n",
       "1392    2              NaN             3.0          2.0            13.0   54   \n",
       "1446    8              NaN             1.0          4.0            50.0   64   \n",
       "\n",
       "              churn_date   reg_date            city tariff  \n",
       "user_id month                                               \n",
       "1000    5            NaT 2018-05-25       Краснодар  ultra  \n",
       "        6            NaT 2018-05-25       Краснодар  ultra  \n",
       "        7            NaT 2018-05-25       Краснодар  ultra  \n",
       "        8            NaT 2018-05-25       Краснодар  ultra  \n",
       "        9            NaT 2018-05-25       Краснодар  ultra  \n",
       "...                  ...        ...             ...    ...  \n",
       "1273    12           NaT 2018-05-15          Курган  ultra  \n",
       "1365    10           NaT 2018-10-31  Ростов-на-Дону  smart  \n",
       "1377    2            NaT 2018-02-25          Брянск  ultra  \n",
       "1392    2     2018-09-27 2018-02-27       Челябинск  ultra  \n",
       "1446    8            NaT 2018-08-31          Липецк  smart  \n",
       "\n",
       "[3214 rows x 9 columns]"
      ]
     },
     "metadata": {},
     "output_type": "display_data"
    }
   ],
   "source": [
    "#присоединим к сводной таблице информацию о тарифах \n",
    "users = users.set_index('user_id')\n",
    "final_df = df.join(users[['age', 'churn_date', 'reg_date', 'city', 'tariff']], on = 'user_id', how = 'left')\n",
    "display(final_df)"
   ]
  },
  {
   "cell_type": "code",
   "execution_count": 38,
   "metadata": {},
   "outputs": [
    {
     "name": "stdout",
     "output_type": "stream",
     "text": [
      "<class 'pandas.core.frame.DataFrame'>\n",
      "MultiIndex: 3214 entries, (1000, 5) to (1446, 8)\n",
      "Data columns (total 9 columns):\n",
      "mb_used_sum       3201 non-null float64\n",
      "messages_count    2717 non-null float64\n",
      "calls_count       3168 non-null float64\n",
      "calls_duration    3168 non-null float64\n",
      "age               3214 non-null int64\n",
      "churn_date        187 non-null datetime64[ns]\n",
      "reg_date          3214 non-null datetime64[ns]\n",
      "city              3214 non-null object\n",
      "tariff            3214 non-null object\n",
      "dtypes: datetime64[ns](2), float64(4), int64(1), object(2)\n",
      "memory usage: 239.5+ KB\n"
     ]
    }
   ],
   "source": [
    "#посмотрим на информацию о таблице\n",
    "final_df.info()"
   ]
  },
  {
   "cell_type": "code",
   "execution_count": 39,
   "metadata": {},
   "outputs": [
    {
     "data": {
      "text/plain": [
       "0"
      ]
     },
     "execution_count": 39,
     "metadata": {},
     "output_type": "execute_result"
    }
   ],
   "source": [
    "#проверим наличие дубликатов\n",
    "final_df.duplicated().sum()"
   ]
  },
  {
   "cell_type": "code",
   "execution_count": 40,
   "metadata": {},
   "outputs": [
    {
     "data": {
      "text/plain": [
       "mb_used_sum         13\n",
       "messages_count     497\n",
       "calls_count         46\n",
       "calls_duration      46\n",
       "age                  0\n",
       "churn_date        3027\n",
       "reg_date             0\n",
       "city                 0\n",
       "tariff               0\n",
       "dtype: int64"
      ]
     },
     "execution_count": 40,
     "metadata": {},
     "output_type": "execute_result"
    }
   ],
   "source": [
    "final_df.isna().sum()"
   ]
  },
  {
   "cell_type": "markdown",
   "metadata": {},
   "source": [
    "У нас есть пользователи, которые не пользуются сообщениями, не звонят и не пользуются интернетом. Присвоим им нулевые значения в соответствующих столбцах."
   ]
  },
  {
   "cell_type": "code",
   "execution_count": 41,
   "metadata": {},
   "outputs": [],
   "source": [
    "for i in ['mb_used_sum', 'messages_count', 'calls_count', 'calls_duration']:\n",
    "    final_df[i].fillna(value=0, inplace = True)"
   ]
  },
  {
   "cell_type": "code",
   "execution_count": 42,
   "metadata": {},
   "outputs": [],
   "source": [
    "#создадим функцию для расчета прибыли от звонков сверх тарифа \n",
    "def calls_profit(row):\n",
    "    smart_min = tariffs['minutes_included'][0]\n",
    "    ultra_min = tariffs['minutes_included'][1]\n",
    "    smart_rub_per_min = tariffs['rub_per_minute'][0]\n",
    "    ultra_rub_per_min = tariffs['rub_per_minute'][1]\n",
    "    if row['tariff'] == 'smart':\n",
    "        if row['calls_duration'] > smart_min:\n",
    "            add_min_profit_s = (row['calls_duration'] - smart_min)*smart_rub_per_min\n",
    "            return add_min_profit_s\n",
    "        else:\n",
    "            return 0\n",
    "    if row['tariff'] == 'ultra':\n",
    "        if row['calls_duration'] > ultra_min:\n",
    "            add_min_profit_u = (row['calls_duration'] - ultra_min)*ultra_rub_per_min\n",
    "            return add_min_profit_u\n",
    "        else:\n",
    "            return 0"
   ]
  },
  {
   "cell_type": "code",
   "execution_count": 43,
   "metadata": {},
   "outputs": [],
   "source": [
    "#создадим столбец со значением прибыли для звонков сверх тарифа\n",
    "final_df['extra_minutes_profit'] = final_df.apply(calls_profit, axis = 1)"
   ]
  },
  {
   "cell_type": "code",
   "execution_count": 44,
   "metadata": {},
   "outputs": [],
   "source": [
    "#создадим функцию для расчета прибыли за сообщения сверх тарифа \n",
    "def sms_profit(row):\n",
    "    smart_sms = tariffs['messages_included'][0]\n",
    "    ultra_sms = tariffs['messages_included'][1]\n",
    "    smart_rub_per_sms = tariffs['rub_per_message'][0]\n",
    "    ultra_rub_per_sms = tariffs['rub_per_message'][1]\n",
    "    if row['tariff'] == 'smart':\n",
    "        if row['messages_count'] > smart_sms:\n",
    "            add_sms_profit_s = (row['messages_count'] - smart_sms)*smart_rub_per_sms\n",
    "            return add_sms_profit_s\n",
    "        else:\n",
    "            return 0\n",
    "    if row['tariff'] == 'ultra':\n",
    "        if row['messages_count'] > smart_sms:\n",
    "            add_sms_profit_u = (row['messages_count'] - smart_sms)*smart_rub_per_sms\n",
    "            return add_sms_profit_u\n",
    "        else:\n",
    "            return 0"
   ]
  },
  {
   "cell_type": "code",
   "execution_count": 45,
   "metadata": {},
   "outputs": [],
   "source": [
    "#создадим столбец со значением прибыли за сообщения сверх тарифа\n",
    "final_df['extra_sms_profit'] = final_df.apply(sms_profit, axis = 1)"
   ]
  },
  {
   "cell_type": "code",
   "execution_count": 46,
   "metadata": {},
   "outputs": [],
   "source": [
    "#создадим функцию для расчета интернет-трафика сверх тарифа\n",
    "def internet_profit(row):\n",
    "    smart_mb = tariffs['mb_per_month_included'][0]\n",
    "    ultra_mb = tariffs['mb_per_month_included'][1]\n",
    "    smart_rub_per_mb = tariffs['rub_per_gb'][0]/1000\n",
    "    ultra_rub_per_mb = tariffs['rub_per_gb'][1]/1000\n",
    "    smart_monthly_fee = tariffs['rub_monthly_fee'][0]\n",
    "    ultra_monthly_fee = tariffs['rub_monthly_fee'][1]\n",
    "    if row['tariff'] == 'smart':\n",
    "        if row['mb_used_sum'] > smart_mb:\n",
    "            add_int_profit_s = (row['mb_used_sum'] - smart_mb)*smart_rub_per_mb\n",
    "            return add_int_profit_s\n",
    "        else:\n",
    "            return 0\n",
    "    if row['tariff'] == 'ultra':\n",
    "        if row['mb_used_sum'] > smart_mb:\n",
    "            add_int_profit_u = (row['mb_used_sum'] - smart_mb)*smart_rub_per_mb\n",
    "            return add_int_profit_u\n",
    "        else:\n",
    "            return 0"
   ]
  },
  {
   "cell_type": "code",
   "execution_count": 47,
   "metadata": {},
   "outputs": [],
   "source": [
    "#создадим столбец со значением прибыли за интернет-трафик сверх тарифа\n",
    "final_df['extra_internet_profit'] = final_df.apply(internet_profit, axis = 1)"
   ]
  },
  {
   "cell_type": "code",
   "execution_count": 48,
   "metadata": {},
   "outputs": [],
   "source": [
    "#создадим функцию для присвоения значения абонентской платы\n",
    "def monthly_fee(row):\n",
    "    if row['tariff'] == 'smart':\n",
    "        return tariffs['rub_monthly_fee'][0]\n",
    "    elif row['tariff'] == 'ultra':\n",
    "        return tariffs['rub_monthly_fee'][1]"
   ]
  },
  {
   "cell_type": "code",
   "execution_count": 49,
   "metadata": {},
   "outputs": [],
   "source": [
    "#создадим столбец со значением стоимости абонентской платы за месяц\n",
    "final_df['fee_per_month'] = final_df.apply(monthly_fee, axis = 1)"
   ]
  },
  {
   "cell_type": "code",
   "execution_count": 50,
   "metadata": {
    "scrolled": false
   },
   "outputs": [
    {
     "data": {
      "text/html": [
       "<div>\n",
       "<style scoped>\n",
       "    .dataframe tbody tr th:only-of-type {\n",
       "        vertical-align: middle;\n",
       "    }\n",
       "\n",
       "    .dataframe tbody tr th {\n",
       "        vertical-align: top;\n",
       "    }\n",
       "\n",
       "    .dataframe thead th {\n",
       "        text-align: right;\n",
       "    }\n",
       "</style>\n",
       "<table border=\"1\" class=\"dataframe\">\n",
       "  <thead>\n",
       "    <tr style=\"text-align: right;\">\n",
       "      <th></th>\n",
       "      <th></th>\n",
       "      <th>mb_used_sum</th>\n",
       "      <th>messages_count</th>\n",
       "      <th>calls_count</th>\n",
       "      <th>calls_duration</th>\n",
       "      <th>age</th>\n",
       "      <th>churn_date</th>\n",
       "      <th>reg_date</th>\n",
       "      <th>city</th>\n",
       "      <th>tariff</th>\n",
       "      <th>extra_minutes_profit</th>\n",
       "      <th>extra_sms_profit</th>\n",
       "      <th>extra_internet_profit</th>\n",
       "      <th>fee_per_month</th>\n",
       "    </tr>\n",
       "    <tr>\n",
       "      <th>user_id</th>\n",
       "      <th>month</th>\n",
       "      <th></th>\n",
       "      <th></th>\n",
       "      <th></th>\n",
       "      <th></th>\n",
       "      <th></th>\n",
       "      <th></th>\n",
       "      <th></th>\n",
       "      <th></th>\n",
       "      <th></th>\n",
       "      <th></th>\n",
       "      <th></th>\n",
       "      <th></th>\n",
       "      <th></th>\n",
       "    </tr>\n",
       "  </thead>\n",
       "  <tbody>\n",
       "    <tr>\n",
       "      <td rowspan=\"8\" valign=\"top\">1000</td>\n",
       "      <td>5</td>\n",
       "      <td>2252.0</td>\n",
       "      <td>22.0</td>\n",
       "      <td>17.0</td>\n",
       "      <td>159.0</td>\n",
       "      <td>52</td>\n",
       "      <td>NaT</td>\n",
       "      <td>2018-05-25</td>\n",
       "      <td>Краснодар</td>\n",
       "      <td>ultra</td>\n",
       "      <td>0.0</td>\n",
       "      <td>0.0</td>\n",
       "      <td>0.0</td>\n",
       "      <td>1950</td>\n",
       "    </tr>\n",
       "    <tr>\n",
       "      <td>6</td>\n",
       "      <td>23213.0</td>\n",
       "      <td>60.0</td>\n",
       "      <td>28.0</td>\n",
       "      <td>172.0</td>\n",
       "      <td>52</td>\n",
       "      <td>NaT</td>\n",
       "      <td>2018-05-25</td>\n",
       "      <td>Краснодар</td>\n",
       "      <td>ultra</td>\n",
       "      <td>0.0</td>\n",
       "      <td>30.0</td>\n",
       "      <td>1570.6</td>\n",
       "      <td>1950</td>\n",
       "    </tr>\n",
       "    <tr>\n",
       "      <td>7</td>\n",
       "      <td>13988.0</td>\n",
       "      <td>75.0</td>\n",
       "      <td>41.0</td>\n",
       "      <td>340.0</td>\n",
       "      <td>52</td>\n",
       "      <td>NaT</td>\n",
       "      <td>2018-05-25</td>\n",
       "      <td>Краснодар</td>\n",
       "      <td>ultra</td>\n",
       "      <td>0.0</td>\n",
       "      <td>75.0</td>\n",
       "      <td>0.0</td>\n",
       "      <td>1950</td>\n",
       "    </tr>\n",
       "    <tr>\n",
       "      <td>8</td>\n",
       "      <td>14043.0</td>\n",
       "      <td>81.0</td>\n",
       "      <td>42.0</td>\n",
       "      <td>408.0</td>\n",
       "      <td>52</td>\n",
       "      <td>NaT</td>\n",
       "      <td>2018-05-25</td>\n",
       "      <td>Краснодар</td>\n",
       "      <td>ultra</td>\n",
       "      <td>0.0</td>\n",
       "      <td>93.0</td>\n",
       "      <td>0.0</td>\n",
       "      <td>1950</td>\n",
       "    </tr>\n",
       "    <tr>\n",
       "      <td>9</td>\n",
       "      <td>14556.0</td>\n",
       "      <td>57.0</td>\n",
       "      <td>46.0</td>\n",
       "      <td>466.0</td>\n",
       "      <td>52</td>\n",
       "      <td>NaT</td>\n",
       "      <td>2018-05-25</td>\n",
       "      <td>Краснодар</td>\n",
       "      <td>ultra</td>\n",
       "      <td>0.0</td>\n",
       "      <td>21.0</td>\n",
       "      <td>0.0</td>\n",
       "      <td>1950</td>\n",
       "    </tr>\n",
       "    <tr>\n",
       "      <td>10</td>\n",
       "      <td>14690.0</td>\n",
       "      <td>73.0</td>\n",
       "      <td>44.0</td>\n",
       "      <td>350.0</td>\n",
       "      <td>52</td>\n",
       "      <td>NaT</td>\n",
       "      <td>2018-05-25</td>\n",
       "      <td>Краснодар</td>\n",
       "      <td>ultra</td>\n",
       "      <td>0.0</td>\n",
       "      <td>69.0</td>\n",
       "      <td>0.0</td>\n",
       "      <td>1950</td>\n",
       "    </tr>\n",
       "    <tr>\n",
       "      <td>11</td>\n",
       "      <td>14745.0</td>\n",
       "      <td>58.0</td>\n",
       "      <td>37.0</td>\n",
       "      <td>338.0</td>\n",
       "      <td>52</td>\n",
       "      <td>NaT</td>\n",
       "      <td>2018-05-25</td>\n",
       "      <td>Краснодар</td>\n",
       "      <td>ultra</td>\n",
       "      <td>0.0</td>\n",
       "      <td>24.0</td>\n",
       "      <td>0.0</td>\n",
       "      <td>1950</td>\n",
       "    </tr>\n",
       "    <tr>\n",
       "      <td>12</td>\n",
       "      <td>9808.0</td>\n",
       "      <td>70.0</td>\n",
       "      <td>38.0</td>\n",
       "      <td>333.0</td>\n",
       "      <td>52</td>\n",
       "      <td>NaT</td>\n",
       "      <td>2018-05-25</td>\n",
       "      <td>Краснодар</td>\n",
       "      <td>ultra</td>\n",
       "      <td>0.0</td>\n",
       "      <td>60.0</td>\n",
       "      <td>0.0</td>\n",
       "      <td>1950</td>\n",
       "    </tr>\n",
       "    <tr>\n",
       "      <td rowspan=\"2\" valign=\"top\">1001</td>\n",
       "      <td>11</td>\n",
       "      <td>18405.0</td>\n",
       "      <td>0.0</td>\n",
       "      <td>45.0</td>\n",
       "      <td>430.0</td>\n",
       "      <td>41</td>\n",
       "      <td>NaT</td>\n",
       "      <td>2018-11-01</td>\n",
       "      <td>Москва</td>\n",
       "      <td>smart</td>\n",
       "      <td>0.0</td>\n",
       "      <td>0.0</td>\n",
       "      <td>609.0</td>\n",
       "      <td>550</td>\n",
       "    </tr>\n",
       "    <tr>\n",
       "      <td>12</td>\n",
       "      <td>14018.0</td>\n",
       "      <td>0.0</td>\n",
       "      <td>47.0</td>\n",
       "      <td>414.0</td>\n",
       "      <td>41</td>\n",
       "      <td>NaT</td>\n",
       "      <td>2018-11-01</td>\n",
       "      <td>Москва</td>\n",
       "      <td>smart</td>\n",
       "      <td>0.0</td>\n",
       "      <td>0.0</td>\n",
       "      <td>0.0</td>\n",
       "      <td>550</td>\n",
       "    </tr>\n",
       "    <tr>\n",
       "      <td rowspan=\"7\" valign=\"top\">1002</td>\n",
       "      <td>6</td>\n",
       "      <td>10844.0</td>\n",
       "      <td>4.0</td>\n",
       "      <td>14.0</td>\n",
       "      <td>117.0</td>\n",
       "      <td>59</td>\n",
       "      <td>NaT</td>\n",
       "      <td>2018-06-17</td>\n",
       "      <td>Стерлитамак</td>\n",
       "      <td>smart</td>\n",
       "      <td>0.0</td>\n",
       "      <td>0.0</td>\n",
       "      <td>0.0</td>\n",
       "      <td>550</td>\n",
       "    </tr>\n",
       "    <tr>\n",
       "      <td>7</td>\n",
       "      <td>17557.0</td>\n",
       "      <td>11.0</td>\n",
       "      <td>21.0</td>\n",
       "      <td>214.0</td>\n",
       "      <td>59</td>\n",
       "      <td>NaT</td>\n",
       "      <td>2018-06-17</td>\n",
       "      <td>Стерлитамак</td>\n",
       "      <td>smart</td>\n",
       "      <td>0.0</td>\n",
       "      <td>0.0</td>\n",
       "      <td>439.4</td>\n",
       "      <td>550</td>\n",
       "    </tr>\n",
       "    <tr>\n",
       "      <td>8</td>\n",
       "      <td>20298.0</td>\n",
       "      <td>13.0</td>\n",
       "      <td>37.0</td>\n",
       "      <td>289.0</td>\n",
       "      <td>59</td>\n",
       "      <td>NaT</td>\n",
       "      <td>2018-06-17</td>\n",
       "      <td>Стерлитамак</td>\n",
       "      <td>smart</td>\n",
       "      <td>0.0</td>\n",
       "      <td>0.0</td>\n",
       "      <td>987.6</td>\n",
       "      <td>550</td>\n",
       "    </tr>\n",
       "    <tr>\n",
       "      <td>9</td>\n",
       "      <td>16669.0</td>\n",
       "      <td>4.0</td>\n",
       "      <td>25.0</td>\n",
       "      <td>206.0</td>\n",
       "      <td>59</td>\n",
       "      <td>NaT</td>\n",
       "      <td>2018-06-17</td>\n",
       "      <td>Стерлитамак</td>\n",
       "      <td>smart</td>\n",
       "      <td>0.0</td>\n",
       "      <td>0.0</td>\n",
       "      <td>261.8</td>\n",
       "      <td>550</td>\n",
       "    </tr>\n",
       "    <tr>\n",
       "      <td>10</td>\n",
       "      <td>13869.0</td>\n",
       "      <td>10.0</td>\n",
       "      <td>24.0</td>\n",
       "      <td>212.0</td>\n",
       "      <td>59</td>\n",
       "      <td>NaT</td>\n",
       "      <td>2018-06-17</td>\n",
       "      <td>Стерлитамак</td>\n",
       "      <td>smart</td>\n",
       "      <td>0.0</td>\n",
       "      <td>0.0</td>\n",
       "      <td>0.0</td>\n",
       "      <td>550</td>\n",
       "    </tr>\n",
       "    <tr>\n",
       "      <td>11</td>\n",
       "      <td>18566.0</td>\n",
       "      <td>16.0</td>\n",
       "      <td>25.0</td>\n",
       "      <td>243.0</td>\n",
       "      <td>59</td>\n",
       "      <td>NaT</td>\n",
       "      <td>2018-06-17</td>\n",
       "      <td>Стерлитамак</td>\n",
       "      <td>smart</td>\n",
       "      <td>0.0</td>\n",
       "      <td>0.0</td>\n",
       "      <td>641.2</td>\n",
       "      <td>550</td>\n",
       "    </tr>\n",
       "    <tr>\n",
       "      <td>12</td>\n",
       "      <td>18087.0</td>\n",
       "      <td>12.0</td>\n",
       "      <td>27.0</td>\n",
       "      <td>236.0</td>\n",
       "      <td>59</td>\n",
       "      <td>NaT</td>\n",
       "      <td>2018-06-17</td>\n",
       "      <td>Стерлитамак</td>\n",
       "      <td>smart</td>\n",
       "      <td>0.0</td>\n",
       "      <td>0.0</td>\n",
       "      <td>545.4</td>\n",
       "      <td>550</td>\n",
       "    </tr>\n",
       "    <tr>\n",
       "      <td rowspan=\"5\" valign=\"top\">1003</td>\n",
       "      <td>8</td>\n",
       "      <td>8557.0</td>\n",
       "      <td>37.0</td>\n",
       "      <td>43.0</td>\n",
       "      <td>380.0</td>\n",
       "      <td>23</td>\n",
       "      <td>NaT</td>\n",
       "      <td>2018-08-17</td>\n",
       "      <td>Москва</td>\n",
       "      <td>ultra</td>\n",
       "      <td>0.0</td>\n",
       "      <td>0.0</td>\n",
       "      <td>0.0</td>\n",
       "      <td>1950</td>\n",
       "    </tr>\n",
       "    <tr>\n",
       "      <td>9</td>\n",
       "      <td>12457.0</td>\n",
       "      <td>91.0</td>\n",
       "      <td>105.0</td>\n",
       "      <td>961.0</td>\n",
       "      <td>23</td>\n",
       "      <td>NaT</td>\n",
       "      <td>2018-08-17</td>\n",
       "      <td>Москва</td>\n",
       "      <td>ultra</td>\n",
       "      <td>0.0</td>\n",
       "      <td>123.0</td>\n",
       "      <td>0.0</td>\n",
       "      <td>1950</td>\n",
       "    </tr>\n",
       "    <tr>\n",
       "      <td>10</td>\n",
       "      <td>14754.0</td>\n",
       "      <td>83.0</td>\n",
       "      <td>97.0</td>\n",
       "      <td>855.0</td>\n",
       "      <td>23</td>\n",
       "      <td>NaT</td>\n",
       "      <td>2018-08-17</td>\n",
       "      <td>Москва</td>\n",
       "      <td>ultra</td>\n",
       "      <td>0.0</td>\n",
       "      <td>99.0</td>\n",
       "      <td>0.0</td>\n",
       "      <td>1950</td>\n",
       "    </tr>\n",
       "    <tr>\n",
       "      <td>11</td>\n",
       "      <td>11348.0</td>\n",
       "      <td>94.0</td>\n",
       "      <td>95.0</td>\n",
       "      <td>824.0</td>\n",
       "      <td>23</td>\n",
       "      <td>NaT</td>\n",
       "      <td>2018-08-17</td>\n",
       "      <td>Москва</td>\n",
       "      <td>ultra</td>\n",
       "      <td>0.0</td>\n",
       "      <td>132.0</td>\n",
       "      <td>0.0</td>\n",
       "      <td>1950</td>\n",
       "    </tr>\n",
       "    <tr>\n",
       "      <td>12</td>\n",
       "      <td>10111.0</td>\n",
       "      <td>75.0</td>\n",
       "      <td>88.0</td>\n",
       "      <td>802.0</td>\n",
       "      <td>23</td>\n",
       "      <td>NaT</td>\n",
       "      <td>2018-08-17</td>\n",
       "      <td>Москва</td>\n",
       "      <td>ultra</td>\n",
       "      <td>0.0</td>\n",
       "      <td>75.0</td>\n",
       "      <td>0.0</td>\n",
       "      <td>1950</td>\n",
       "    </tr>\n",
       "    <tr>\n",
       "      <td rowspan=\"8\" valign=\"top\">1004</td>\n",
       "      <td>5</td>\n",
       "      <td>13392.0</td>\n",
       "      <td>95.0</td>\n",
       "      <td>7.0</td>\n",
       "      <td>35.0</td>\n",
       "      <td>68</td>\n",
       "      <td>NaT</td>\n",
       "      <td>2018-05-14</td>\n",
       "      <td>Новокузнецк</td>\n",
       "      <td>ultra</td>\n",
       "      <td>0.0</td>\n",
       "      <td>135.0</td>\n",
       "      <td>0.0</td>\n",
       "      <td>1950</td>\n",
       "    </tr>\n",
       "    <tr>\n",
       "      <td>6</td>\n",
       "      <td>17586.0</td>\n",
       "      <td>134.0</td>\n",
       "      <td>25.0</td>\n",
       "      <td>171.0</td>\n",
       "      <td>68</td>\n",
       "      <td>NaT</td>\n",
       "      <td>2018-05-14</td>\n",
       "      <td>Новокузнецк</td>\n",
       "      <td>ultra</td>\n",
       "      <td>0.0</td>\n",
       "      <td>252.0</td>\n",
       "      <td>445.2</td>\n",
       "      <td>1950</td>\n",
       "    </tr>\n",
       "    <tr>\n",
       "      <td>7</td>\n",
       "      <td>22211.0</td>\n",
       "      <td>181.0</td>\n",
       "      <td>20.0</td>\n",
       "      <td>135.0</td>\n",
       "      <td>68</td>\n",
       "      <td>NaT</td>\n",
       "      <td>2018-05-14</td>\n",
       "      <td>Новокузнецк</td>\n",
       "      <td>ultra</td>\n",
       "      <td>0.0</td>\n",
       "      <td>393.0</td>\n",
       "      <td>1370.2</td>\n",
       "      <td>1950</td>\n",
       "    </tr>\n",
       "    <tr>\n",
       "      <td>8</td>\n",
       "      <td>28558.0</td>\n",
       "      <td>151.0</td>\n",
       "      <td>18.0</td>\n",
       "      <td>137.0</td>\n",
       "      <td>68</td>\n",
       "      <td>NaT</td>\n",
       "      <td>2018-05-14</td>\n",
       "      <td>Новокузнецк</td>\n",
       "      <td>ultra</td>\n",
       "      <td>0.0</td>\n",
       "      <td>303.0</td>\n",
       "      <td>2639.6</td>\n",
       "      <td>1950</td>\n",
       "    </tr>\n",
       "    <tr>\n",
       "      <td>9</td>\n",
       "      <td>15093.0</td>\n",
       "      <td>146.0</td>\n",
       "      <td>18.0</td>\n",
       "      <td>117.0</td>\n",
       "      <td>68</td>\n",
       "      <td>NaT</td>\n",
       "      <td>2018-05-14</td>\n",
       "      <td>Новокузнецк</td>\n",
       "      <td>ultra</td>\n",
       "      <td>0.0</td>\n",
       "      <td>288.0</td>\n",
       "      <td>0.0</td>\n",
       "      <td>1950</td>\n",
       "    </tr>\n",
       "    <tr>\n",
       "      <td>10</td>\n",
       "      <td>18457.0</td>\n",
       "      <td>165.0</td>\n",
       "      <td>21.0</td>\n",
       "      <td>145.0</td>\n",
       "      <td>68</td>\n",
       "      <td>NaT</td>\n",
       "      <td>2018-05-14</td>\n",
       "      <td>Новокузнецк</td>\n",
       "      <td>ultra</td>\n",
       "      <td>0.0</td>\n",
       "      <td>345.0</td>\n",
       "      <td>619.4</td>\n",
       "      <td>1950</td>\n",
       "    </tr>\n",
       "    <tr>\n",
       "      <td>11</td>\n",
       "      <td>15598.0</td>\n",
       "      <td>158.0</td>\n",
       "      <td>15.0</td>\n",
       "      <td>117.0</td>\n",
       "      <td>68</td>\n",
       "      <td>NaT</td>\n",
       "      <td>2018-05-14</td>\n",
       "      <td>Новокузнецк</td>\n",
       "      <td>ultra</td>\n",
       "      <td>0.0</td>\n",
       "      <td>324.0</td>\n",
       "      <td>47.6</td>\n",
       "      <td>1950</td>\n",
       "    </tr>\n",
       "    <tr>\n",
       "      <td>12</td>\n",
       "      <td>18002.0</td>\n",
       "      <td>162.0</td>\n",
       "      <td>15.0</td>\n",
       "      <td>130.0</td>\n",
       "      <td>68</td>\n",
       "      <td>NaT</td>\n",
       "      <td>2018-05-14</td>\n",
       "      <td>Новокузнецк</td>\n",
       "      <td>ultra</td>\n",
       "      <td>0.0</td>\n",
       "      <td>336.0</td>\n",
       "      <td>528.4</td>\n",
       "      <td>1950</td>\n",
       "    </tr>\n",
       "    <tr>\n",
       "      <td rowspan=\"12\" valign=\"top\">1005</td>\n",
       "      <td>1</td>\n",
       "      <td>2724.0</td>\n",
       "      <td>7.0</td>\n",
       "      <td>11.0</td>\n",
       "      <td>95.0</td>\n",
       "      <td>67</td>\n",
       "      <td>NaT</td>\n",
       "      <td>2018-01-25</td>\n",
       "      <td>Набережные Челны</td>\n",
       "      <td>smart</td>\n",
       "      <td>0.0</td>\n",
       "      <td>0.0</td>\n",
       "      <td>0.0</td>\n",
       "      <td>550</td>\n",
       "    </tr>\n",
       "    <tr>\n",
       "      <td>2</td>\n",
       "      <td>7372.0</td>\n",
       "      <td>38.0</td>\n",
       "      <td>55.0</td>\n",
       "      <td>456.0</td>\n",
       "      <td>67</td>\n",
       "      <td>NaT</td>\n",
       "      <td>2018-01-25</td>\n",
       "      <td>Набережные Челны</td>\n",
       "      <td>smart</td>\n",
       "      <td>0.0</td>\n",
       "      <td>0.0</td>\n",
       "      <td>0.0</td>\n",
       "      <td>550</td>\n",
       "    </tr>\n",
       "    <tr>\n",
       "      <td>3</td>\n",
       "      <td>11092.0</td>\n",
       "      <td>56.0</td>\n",
       "      <td>63.0</td>\n",
       "      <td>606.0</td>\n",
       "      <td>67</td>\n",
       "      <td>NaT</td>\n",
       "      <td>2018-01-25</td>\n",
       "      <td>Набережные Челны</td>\n",
       "      <td>smart</td>\n",
       "      <td>318.0</td>\n",
       "      <td>18.0</td>\n",
       "      <td>0.0</td>\n",
       "      <td>550</td>\n",
       "    </tr>\n",
       "    <tr>\n",
       "      <td>4</td>\n",
       "      <td>9341.0</td>\n",
       "      <td>41.0</td>\n",
       "      <td>77.0</td>\n",
       "      <td>712.0</td>\n",
       "      <td>67</td>\n",
       "      <td>NaT</td>\n",
       "      <td>2018-01-25</td>\n",
       "      <td>Набережные Челны</td>\n",
       "      <td>smart</td>\n",
       "      <td>636.0</td>\n",
       "      <td>0.0</td>\n",
       "      <td>0.0</td>\n",
       "      <td>550</td>\n",
       "    </tr>\n",
       "    <tr>\n",
       "      <td>5</td>\n",
       "      <td>7857.0</td>\n",
       "      <td>42.0</td>\n",
       "      <td>62.0</td>\n",
       "      <td>595.0</td>\n",
       "      <td>67</td>\n",
       "      <td>NaT</td>\n",
       "      <td>2018-01-25</td>\n",
       "      <td>Набережные Челны</td>\n",
       "      <td>smart</td>\n",
       "      <td>285.0</td>\n",
       "      <td>0.0</td>\n",
       "      <td>0.0</td>\n",
       "      <td>550</td>\n",
       "    </tr>\n",
       "    <tr>\n",
       "      <td>6</td>\n",
       "      <td>9851.0</td>\n",
       "      <td>47.0</td>\n",
       "      <td>69.0</td>\n",
       "      <td>612.0</td>\n",
       "      <td>67</td>\n",
       "      <td>NaT</td>\n",
       "      <td>2018-01-25</td>\n",
       "      <td>Набережные Челны</td>\n",
       "      <td>smart</td>\n",
       "      <td>336.0</td>\n",
       "      <td>0.0</td>\n",
       "      <td>0.0</td>\n",
       "      <td>550</td>\n",
       "    </tr>\n",
       "    <tr>\n",
       "      <td>7</td>\n",
       "      <td>7684.0</td>\n",
       "      <td>56.0</td>\n",
       "      <td>62.0</td>\n",
       "      <td>569.0</td>\n",
       "      <td>67</td>\n",
       "      <td>NaT</td>\n",
       "      <td>2018-01-25</td>\n",
       "      <td>Набережные Челны</td>\n",
       "      <td>smart</td>\n",
       "      <td>207.0</td>\n",
       "      <td>18.0</td>\n",
       "      <td>0.0</td>\n",
       "      <td>550</td>\n",
       "    </tr>\n",
       "    <tr>\n",
       "      <td>8</td>\n",
       "      <td>7535.0</td>\n",
       "      <td>64.0</td>\n",
       "      <td>64.0</td>\n",
       "      <td>619.0</td>\n",
       "      <td>67</td>\n",
       "      <td>NaT</td>\n",
       "      <td>2018-01-25</td>\n",
       "      <td>Набережные Челны</td>\n",
       "      <td>smart</td>\n",
       "      <td>357.0</td>\n",
       "      <td>42.0</td>\n",
       "      <td>0.0</td>\n",
       "      <td>550</td>\n",
       "    </tr>\n",
       "    <tr>\n",
       "      <td>9</td>\n",
       "      <td>7006.0</td>\n",
       "      <td>52.0</td>\n",
       "      <td>57.0</td>\n",
       "      <td>479.0</td>\n",
       "      <td>67</td>\n",
       "      <td>NaT</td>\n",
       "      <td>2018-01-25</td>\n",
       "      <td>Набережные Челны</td>\n",
       "      <td>smart</td>\n",
       "      <td>0.0</td>\n",
       "      <td>6.0</td>\n",
       "      <td>0.0</td>\n",
       "      <td>550</td>\n",
       "    </tr>\n",
       "    <tr>\n",
       "      <td>10</td>\n",
       "      <td>7790.0</td>\n",
       "      <td>44.0</td>\n",
       "      <td>78.0</td>\n",
       "      <td>723.0</td>\n",
       "      <td>67</td>\n",
       "      <td>NaT</td>\n",
       "      <td>2018-01-25</td>\n",
       "      <td>Набережные Челны</td>\n",
       "      <td>smart</td>\n",
       "      <td>669.0</td>\n",
       "      <td>0.0</td>\n",
       "      <td>0.0</td>\n",
       "      <td>550</td>\n",
       "    </tr>\n",
       "    <tr>\n",
       "      <td>11</td>\n",
       "      <td>12654.0</td>\n",
       "      <td>51.0</td>\n",
       "      <td>60.0</td>\n",
       "      <td>547.0</td>\n",
       "      <td>67</td>\n",
       "      <td>NaT</td>\n",
       "      <td>2018-01-25</td>\n",
       "      <td>Набережные Челны</td>\n",
       "      <td>smart</td>\n",
       "      <td>141.0</td>\n",
       "      <td>3.0</td>\n",
       "      <td>0.0</td>\n",
       "      <td>550</td>\n",
       "    </tr>\n",
       "    <tr>\n",
       "      <td>12</td>\n",
       "      <td>8656.0</td>\n",
       "      <td>54.0</td>\n",
       "      <td>63.0</td>\n",
       "      <td>592.0</td>\n",
       "      <td>67</td>\n",
       "      <td>NaT</td>\n",
       "      <td>2018-01-25</td>\n",
       "      <td>Набережные Челны</td>\n",
       "      <td>smart</td>\n",
       "      <td>276.0</td>\n",
       "      <td>12.0</td>\n",
       "      <td>0.0</td>\n",
       "      <td>550</td>\n",
       "    </tr>\n",
       "    <tr>\n",
       "      <td rowspan=\"8\" valign=\"top\">1006</td>\n",
       "      <td>2</td>\n",
       "      <td>1391.0</td>\n",
       "      <td>0.0</td>\n",
       "      <td>3.0</td>\n",
       "      <td>42.0</td>\n",
       "      <td>21</td>\n",
       "      <td>NaT</td>\n",
       "      <td>2018-02-26</td>\n",
       "      <td>Ульяновск</td>\n",
       "      <td>smart</td>\n",
       "      <td>0.0</td>\n",
       "      <td>0.0</td>\n",
       "      <td>0.0</td>\n",
       "      <td>550</td>\n",
       "    </tr>\n",
       "    <tr>\n",
       "      <td>3</td>\n",
       "      <td>17266.0</td>\n",
       "      <td>0.0</td>\n",
       "      <td>36.0</td>\n",
       "      <td>286.0</td>\n",
       "      <td>21</td>\n",
       "      <td>NaT</td>\n",
       "      <td>2018-02-26</td>\n",
       "      <td>Ульяновск</td>\n",
       "      <td>smart</td>\n",
       "      <td>0.0</td>\n",
       "      <td>0.0</td>\n",
       "      <td>381.2</td>\n",
       "      <td>550</td>\n",
       "    </tr>\n",
       "    <tr>\n",
       "      <td>4</td>\n",
       "      <td>13922.0</td>\n",
       "      <td>0.0</td>\n",
       "      <td>38.0</td>\n",
       "      <td>356.0</td>\n",
       "      <td>21</td>\n",
       "      <td>NaT</td>\n",
       "      <td>2018-02-26</td>\n",
       "      <td>Ульяновск</td>\n",
       "      <td>smart</td>\n",
       "      <td>0.0</td>\n",
       "      <td>0.0</td>\n",
       "      <td>0.0</td>\n",
       "      <td>550</td>\n",
       "    </tr>\n",
       "    <tr>\n",
       "      <td>5</td>\n",
       "      <td>12946.0</td>\n",
       "      <td>0.0</td>\n",
       "      <td>45.0</td>\n",
       "      <td>370.0</td>\n",
       "      <td>21</td>\n",
       "      <td>NaT</td>\n",
       "      <td>2018-02-26</td>\n",
       "      <td>Ульяновск</td>\n",
       "      <td>smart</td>\n",
       "      <td>0.0</td>\n",
       "      <td>0.0</td>\n",
       "      <td>0.0</td>\n",
       "      <td>550</td>\n",
       "    </tr>\n",
       "    <tr>\n",
       "      <td>6</td>\n",
       "      <td>12354.0</td>\n",
       "      <td>0.0</td>\n",
       "      <td>48.0</td>\n",
       "      <td>478.0</td>\n",
       "      <td>21</td>\n",
       "      <td>NaT</td>\n",
       "      <td>2018-02-26</td>\n",
       "      <td>Ульяновск</td>\n",
       "      <td>smart</td>\n",
       "      <td>0.0</td>\n",
       "      <td>0.0</td>\n",
       "      <td>0.0</td>\n",
       "      <td>550</td>\n",
       "    </tr>\n",
       "    <tr>\n",
       "      <td>7</td>\n",
       "      <td>19950.0</td>\n",
       "      <td>0.0</td>\n",
       "      <td>38.0</td>\n",
       "      <td>316.0</td>\n",
       "      <td>21</td>\n",
       "      <td>NaT</td>\n",
       "      <td>2018-02-26</td>\n",
       "      <td>Ульяновск</td>\n",
       "      <td>smart</td>\n",
       "      <td>0.0</td>\n",
       "      <td>0.0</td>\n",
       "      <td>918.0</td>\n",
       "      <td>550</td>\n",
       "    </tr>\n",
       "    <tr>\n",
       "      <td>8</td>\n",
       "      <td>19282.0</td>\n",
       "      <td>0.0</td>\n",
       "      <td>32.0</td>\n",
       "      <td>275.0</td>\n",
       "      <td>21</td>\n",
       "      <td>NaT</td>\n",
       "      <td>2018-02-26</td>\n",
       "      <td>Ульяновск</td>\n",
       "      <td>smart</td>\n",
       "      <td>0.0</td>\n",
       "      <td>0.0</td>\n",
       "      <td>784.4</td>\n",
       "      <td>550</td>\n",
       "    </tr>\n",
       "    <tr>\n",
       "      <td>9</td>\n",
       "      <td>15505.0</td>\n",
       "      <td>0.0</td>\n",
       "      <td>47.0</td>\n",
       "      <td>360.0</td>\n",
       "      <td>21</td>\n",
       "      <td>NaT</td>\n",
       "      <td>2018-02-26</td>\n",
       "      <td>Ульяновск</td>\n",
       "      <td>smart</td>\n",
       "      <td>0.0</td>\n",
       "      <td>0.0</td>\n",
       "      <td>29.0</td>\n",
       "      <td>550</td>\n",
       "    </tr>\n",
       "  </tbody>\n",
       "</table>\n",
       "</div>"
      ],
      "text/plain": [
       "               mb_used_sum  messages_count  calls_count  calls_duration  age  \\\n",
       "user_id month                                                                  \n",
       "1000    5           2252.0            22.0         17.0           159.0   52   \n",
       "        6          23213.0            60.0         28.0           172.0   52   \n",
       "        7          13988.0            75.0         41.0           340.0   52   \n",
       "        8          14043.0            81.0         42.0           408.0   52   \n",
       "        9          14556.0            57.0         46.0           466.0   52   \n",
       "        10         14690.0            73.0         44.0           350.0   52   \n",
       "        11         14745.0            58.0         37.0           338.0   52   \n",
       "        12          9808.0            70.0         38.0           333.0   52   \n",
       "1001    11         18405.0             0.0         45.0           430.0   41   \n",
       "        12         14018.0             0.0         47.0           414.0   41   \n",
       "1002    6          10844.0             4.0         14.0           117.0   59   \n",
       "        7          17557.0            11.0         21.0           214.0   59   \n",
       "        8          20298.0            13.0         37.0           289.0   59   \n",
       "        9          16669.0             4.0         25.0           206.0   59   \n",
       "        10         13869.0            10.0         24.0           212.0   59   \n",
       "        11         18566.0            16.0         25.0           243.0   59   \n",
       "        12         18087.0            12.0         27.0           236.0   59   \n",
       "1003    8           8557.0            37.0         43.0           380.0   23   \n",
       "        9          12457.0            91.0        105.0           961.0   23   \n",
       "        10         14754.0            83.0         97.0           855.0   23   \n",
       "        11         11348.0            94.0         95.0           824.0   23   \n",
       "        12         10111.0            75.0         88.0           802.0   23   \n",
       "1004    5          13392.0            95.0          7.0            35.0   68   \n",
       "        6          17586.0           134.0         25.0           171.0   68   \n",
       "        7          22211.0           181.0         20.0           135.0   68   \n",
       "        8          28558.0           151.0         18.0           137.0   68   \n",
       "        9          15093.0           146.0         18.0           117.0   68   \n",
       "        10         18457.0           165.0         21.0           145.0   68   \n",
       "        11         15598.0           158.0         15.0           117.0   68   \n",
       "        12         18002.0           162.0         15.0           130.0   68   \n",
       "1005    1           2724.0             7.0         11.0            95.0   67   \n",
       "        2           7372.0            38.0         55.0           456.0   67   \n",
       "        3          11092.0            56.0         63.0           606.0   67   \n",
       "        4           9341.0            41.0         77.0           712.0   67   \n",
       "        5           7857.0            42.0         62.0           595.0   67   \n",
       "        6           9851.0            47.0         69.0           612.0   67   \n",
       "        7           7684.0            56.0         62.0           569.0   67   \n",
       "        8           7535.0            64.0         64.0           619.0   67   \n",
       "        9           7006.0            52.0         57.0           479.0   67   \n",
       "        10          7790.0            44.0         78.0           723.0   67   \n",
       "        11         12654.0            51.0         60.0           547.0   67   \n",
       "        12          8656.0            54.0         63.0           592.0   67   \n",
       "1006    2           1391.0             0.0          3.0            42.0   21   \n",
       "        3          17266.0             0.0         36.0           286.0   21   \n",
       "        4          13922.0             0.0         38.0           356.0   21   \n",
       "        5          12946.0             0.0         45.0           370.0   21   \n",
       "        6          12354.0             0.0         48.0           478.0   21   \n",
       "        7          19950.0             0.0         38.0           316.0   21   \n",
       "        8          19282.0             0.0         32.0           275.0   21   \n",
       "        9          15505.0             0.0         47.0           360.0   21   \n",
       "\n",
       "              churn_date   reg_date              city tariff  \\\n",
       "user_id month                                                  \n",
       "1000    5            NaT 2018-05-25         Краснодар  ultra   \n",
       "        6            NaT 2018-05-25         Краснодар  ultra   \n",
       "        7            NaT 2018-05-25         Краснодар  ultra   \n",
       "        8            NaT 2018-05-25         Краснодар  ultra   \n",
       "        9            NaT 2018-05-25         Краснодар  ultra   \n",
       "        10           NaT 2018-05-25         Краснодар  ultra   \n",
       "        11           NaT 2018-05-25         Краснодар  ultra   \n",
       "        12           NaT 2018-05-25         Краснодар  ultra   \n",
       "1001    11           NaT 2018-11-01            Москва  smart   \n",
       "        12           NaT 2018-11-01            Москва  smart   \n",
       "1002    6            NaT 2018-06-17       Стерлитамак  smart   \n",
       "        7            NaT 2018-06-17       Стерлитамак  smart   \n",
       "        8            NaT 2018-06-17       Стерлитамак  smart   \n",
       "        9            NaT 2018-06-17       Стерлитамак  smart   \n",
       "        10           NaT 2018-06-17       Стерлитамак  smart   \n",
       "        11           NaT 2018-06-17       Стерлитамак  smart   \n",
       "        12           NaT 2018-06-17       Стерлитамак  smart   \n",
       "1003    8            NaT 2018-08-17            Москва  ultra   \n",
       "        9            NaT 2018-08-17            Москва  ultra   \n",
       "        10           NaT 2018-08-17            Москва  ultra   \n",
       "        11           NaT 2018-08-17            Москва  ultra   \n",
       "        12           NaT 2018-08-17            Москва  ultra   \n",
       "1004    5            NaT 2018-05-14       Новокузнецк  ultra   \n",
       "        6            NaT 2018-05-14       Новокузнецк  ultra   \n",
       "        7            NaT 2018-05-14       Новокузнецк  ultra   \n",
       "        8            NaT 2018-05-14       Новокузнецк  ultra   \n",
       "        9            NaT 2018-05-14       Новокузнецк  ultra   \n",
       "        10           NaT 2018-05-14       Новокузнецк  ultra   \n",
       "        11           NaT 2018-05-14       Новокузнецк  ultra   \n",
       "        12           NaT 2018-05-14       Новокузнецк  ultra   \n",
       "1005    1            NaT 2018-01-25  Набережные Челны  smart   \n",
       "        2            NaT 2018-01-25  Набережные Челны  smart   \n",
       "        3            NaT 2018-01-25  Набережные Челны  smart   \n",
       "        4            NaT 2018-01-25  Набережные Челны  smart   \n",
       "        5            NaT 2018-01-25  Набережные Челны  smart   \n",
       "        6            NaT 2018-01-25  Набережные Челны  smart   \n",
       "        7            NaT 2018-01-25  Набережные Челны  smart   \n",
       "        8            NaT 2018-01-25  Набережные Челны  smart   \n",
       "        9            NaT 2018-01-25  Набережные Челны  smart   \n",
       "        10           NaT 2018-01-25  Набережные Челны  smart   \n",
       "        11           NaT 2018-01-25  Набережные Челны  smart   \n",
       "        12           NaT 2018-01-25  Набережные Челны  smart   \n",
       "1006    2            NaT 2018-02-26         Ульяновск  smart   \n",
       "        3            NaT 2018-02-26         Ульяновск  smart   \n",
       "        4            NaT 2018-02-26         Ульяновск  smart   \n",
       "        5            NaT 2018-02-26         Ульяновск  smart   \n",
       "        6            NaT 2018-02-26         Ульяновск  smart   \n",
       "        7            NaT 2018-02-26         Ульяновск  smart   \n",
       "        8            NaT 2018-02-26         Ульяновск  smart   \n",
       "        9            NaT 2018-02-26         Ульяновск  smart   \n",
       "\n",
       "               extra_minutes_profit  extra_sms_profit  extra_internet_profit  \\\n",
       "user_id month                                                                  \n",
       "1000    5                       0.0               0.0                    0.0   \n",
       "        6                       0.0              30.0                 1570.6   \n",
       "        7                       0.0              75.0                    0.0   \n",
       "        8                       0.0              93.0                    0.0   \n",
       "        9                       0.0              21.0                    0.0   \n",
       "        10                      0.0              69.0                    0.0   \n",
       "        11                      0.0              24.0                    0.0   \n",
       "        12                      0.0              60.0                    0.0   \n",
       "1001    11                      0.0               0.0                  609.0   \n",
       "        12                      0.0               0.0                    0.0   \n",
       "1002    6                       0.0               0.0                    0.0   \n",
       "        7                       0.0               0.0                  439.4   \n",
       "        8                       0.0               0.0                  987.6   \n",
       "        9                       0.0               0.0                  261.8   \n",
       "        10                      0.0               0.0                    0.0   \n",
       "        11                      0.0               0.0                  641.2   \n",
       "        12                      0.0               0.0                  545.4   \n",
       "1003    8                       0.0               0.0                    0.0   \n",
       "        9                       0.0             123.0                    0.0   \n",
       "        10                      0.0              99.0                    0.0   \n",
       "        11                      0.0             132.0                    0.0   \n",
       "        12                      0.0              75.0                    0.0   \n",
       "1004    5                       0.0             135.0                    0.0   \n",
       "        6                       0.0             252.0                  445.2   \n",
       "        7                       0.0             393.0                 1370.2   \n",
       "        8                       0.0             303.0                 2639.6   \n",
       "        9                       0.0             288.0                    0.0   \n",
       "        10                      0.0             345.0                  619.4   \n",
       "        11                      0.0             324.0                   47.6   \n",
       "        12                      0.0             336.0                  528.4   \n",
       "1005    1                       0.0               0.0                    0.0   \n",
       "        2                       0.0               0.0                    0.0   \n",
       "        3                     318.0              18.0                    0.0   \n",
       "        4                     636.0               0.0                    0.0   \n",
       "        5                     285.0               0.0                    0.0   \n",
       "        6                     336.0               0.0                    0.0   \n",
       "        7                     207.0              18.0                    0.0   \n",
       "        8                     357.0              42.0                    0.0   \n",
       "        9                       0.0               6.0                    0.0   \n",
       "        10                    669.0               0.0                    0.0   \n",
       "        11                    141.0               3.0                    0.0   \n",
       "        12                    276.0              12.0                    0.0   \n",
       "1006    2                       0.0               0.0                    0.0   \n",
       "        3                       0.0               0.0                  381.2   \n",
       "        4                       0.0               0.0                    0.0   \n",
       "        5                       0.0               0.0                    0.0   \n",
       "        6                       0.0               0.0                    0.0   \n",
       "        7                       0.0               0.0                  918.0   \n",
       "        8                       0.0               0.0                  784.4   \n",
       "        9                       0.0               0.0                   29.0   \n",
       "\n",
       "               fee_per_month  \n",
       "user_id month                 \n",
       "1000    5               1950  \n",
       "        6               1950  \n",
       "        7               1950  \n",
       "        8               1950  \n",
       "        9               1950  \n",
       "        10              1950  \n",
       "        11              1950  \n",
       "        12              1950  \n",
       "1001    11               550  \n",
       "        12               550  \n",
       "1002    6                550  \n",
       "        7                550  \n",
       "        8                550  \n",
       "        9                550  \n",
       "        10               550  \n",
       "        11               550  \n",
       "        12               550  \n",
       "1003    8               1950  \n",
       "        9               1950  \n",
       "        10              1950  \n",
       "        11              1950  \n",
       "        12              1950  \n",
       "1004    5               1950  \n",
       "        6               1950  \n",
       "        7               1950  \n",
       "        8               1950  \n",
       "        9               1950  \n",
       "        10              1950  \n",
       "        11              1950  \n",
       "        12              1950  \n",
       "1005    1                550  \n",
       "        2                550  \n",
       "        3                550  \n",
       "        4                550  \n",
       "        5                550  \n",
       "        6                550  \n",
       "        7                550  \n",
       "        8                550  \n",
       "        9                550  \n",
       "        10               550  \n",
       "        11               550  \n",
       "        12               550  \n",
       "1006    2                550  \n",
       "        3                550  \n",
       "        4                550  \n",
       "        5                550  \n",
       "        6                550  \n",
       "        7                550  \n",
       "        8                550  \n",
       "        9                550  "
      ]
     },
     "execution_count": 50,
     "metadata": {},
     "output_type": "execute_result"
    }
   ],
   "source": [
    "final_df.head(50)"
   ]
  },
  {
   "cell_type": "code",
   "execution_count": 51,
   "metadata": {},
   "outputs": [],
   "source": [
    "#рассчитаем совокупную помесячную выручку с каждого пользователя\n",
    "final_df['total_revenue'] = final_df['extra_minutes_profit'] + final_df['extra_sms_profit'] + final_df['extra_internet_profit'] + final_df['fee_per_month']"
   ]
  },
  {
   "cell_type": "markdown",
   "metadata": {},
   "source": [
    "## Шаг 3. Анализ поведения клиентов оператора <a name=\"paragraph3\"></a>\n",
    "Опишем поведение клиентов оператора, исходя из выборки. Сколько минут разговора, сколько сообщений и какой объем интернет-трафика требуется пользователям каждого тарифа в месяц? Посчитайте среднее количество, дисперсию и стандартное отклонение. Постройте гистрограммы. Опишите распределения."
   ]
  },
  {
   "cell_type": "markdown",
   "metadata": {},
   "source": [
    "### 3.1 Фильтрация выбросов в данных <a name=\"subparagraph4\"></a> \n",
    "*Отфильтруем выбросы в данных на основании диаграмм размаха*"
   ]
  },
  {
   "cell_type": "code",
   "execution_count": 94,
   "metadata": {},
   "outputs": [
    {
     "data": {
      "text/plain": [
       "Text(0, 0.5, 'Мб')"
      ]
     },
     "execution_count": 94,
     "metadata": {},
     "output_type": "execute_result"
    },
    {
     "data": {
      "image/png": "[encoded data removed]",
      "text/plain": [
       "<Figure size 432x288 with 1 Axes>"
      ]
     },
     "metadata": {
      "needs_background": "light"
     },
     "output_type": "display_data"
    }
   ],
   "source": [
    "#построим boxplot для объема интернет-трафика\n",
    "import seaborn as sns \n",
    "sns.boxplot(y = 'mb_used_sum', x = 'tariff', data = final_df)\n",
    "plt.title('Диаграмма размаха для использованного интернет-трафика, Мб')\n",
    "plt.xlabel(\"Тариф\") \n",
    "plt.ylabel(\"Мб\")"
   ]
  },
  {
   "cell_type": "code",
   "execution_count": 95,
   "metadata": {},
   "outputs": [
    {
     "data": {
      "text/plain": [
       "Text(0, 0.5, 'Количество сообщений')"
      ]
     },
     "execution_count": 95,
     "metadata": {},
     "output_type": "execute_result"
    },
    {
     "data": {
      "image/png": "[encoded data removed]",
      "text/plain": [
       "<Figure size 432x288 with 1 Axes>"
      ]
     },
     "metadata": {
      "needs_background": "light"
     },
     "output_type": "display_data"
    }
   ],
   "source": [
    "#построим boxplot для количества сообщений\n",
    "sns.boxplot(y='messages_count', x = 'tariff', data = final_df)\n",
    "plt.title('Диаграмма размаха для сообщений')\n",
    "plt.xlabel(\"Тариф\")  \n",
    "plt.ylabel(\"Количество сообщений\")"
   ]
  },
  {
   "cell_type": "code",
   "execution_count": 96,
   "metadata": {},
   "outputs": [
    {
     "data": {
      "text/plain": [
       "Text(0, 0.5, 'Длительность звонков')"
      ]
     },
     "execution_count": 96,
     "metadata": {},
     "output_type": "execute_result"
    },
    {
     "data": {
      "image/png": "[encoded data removed]",
      "text/plain": [
       "<Figure size 432x288 with 1 Axes>"
      ]
     },
     "metadata": {
      "needs_background": "light"
     },
     "output_type": "display_data"
    }
   ],
   "source": [
    "#построим boxplot для длительность разговоров\n",
    "sns.boxplot(y='calls_duration', x = 'tariff', data = final_df)\n",
    "plt.title('Диаграмма размаха для звонков')\n",
    "plt.xlabel(\"Тариф\")  \n",
    "plt.ylabel(\"Длительность звонков\")"
   ]
  },
  {
   "cell_type": "code",
   "execution_count": 55,
   "metadata": {},
   "outputs": [],
   "source": [
    "#Напишем функцию для определения интервала, значения выходящие за пределы которого являются выбросами \n",
    "def outliers(column, tariff_types):\n",
    "    tariff_types = 'tariff'\n",
    "    type_1 = 'smart'\n",
    "    type_2 = 'ultra'\n",
    "    q1_0 = final_df[final_df[tariff_types] == type_1][column].quantile(0.25)\n",
    "    q3_0 = final_df[final_df[tariff_types] == type_1][column].quantile(0.75)\n",
    "    diff_0 = q3_0 - q1_0\n",
    "    left_int_0 = np.where( (q1_0 - 1.5*diff_0) > 0, q1_0 - 1.5*diff_0, 0)\n",
    "    right_int_0 = np.where( (q3_0 + 1.5*diff_0) > 0, q3_0 + 1.5*diff_0, 0)\n",
    "    q1_1 = final_df[final_df[tariff_types] == type_2][column].quantile(0.25)\n",
    "    q3_1 = final_df[final_df[tariff_types] == type_2][column].quantile(0.75)\n",
    "    diff_1 = q3_1 - q1_1\n",
    "    left_int_1 = np.where( (q1_0 - 1.5*diff_1) > 0, q1_0 - 1.5*diff_1, 0)\n",
    "    right_int_1 = np.where( (q3_0 + 1.5*diff_1) > 0, q3_0 + 1.5*diff_1, 0)\n",
    "    return(left_int_0, right_int_0), (left_int_1, right_int_1)"
   ]
  },
  {
   "cell_type": "code",
   "execution_count": 56,
   "metadata": {},
   "outputs": [
    {
     "name": "stdout",
     "output_type": "stream",
     "text": [
      "(array(0.), array(939.5)) (array(0.), array(1247.))\n"
     ]
    }
   ],
   "source": [
    "#определим границы интервала для длительности звонков\n",
    "calls_dur_smart, calls_dur_ultra = outliers('calls_duration', 'tariff')\n",
    "print(calls_dur_smart, calls_dur_ultra)"
   ]
  },
  {
   "cell_type": "markdown",
   "metadata": {},
   "source": [
    "- Интервал для тарифа 'smart': от 0 до 939,5; \n",
    "- Интервал для тарифа 'ultra': от 0 до 1247."
   ]
  },
  {
   "cell_type": "code",
   "execution_count": 57,
   "metadata": {},
   "outputs": [
    {
     "name": "stdout",
     "output_type": "stream",
     "text": [
      "(array(1537.), array(31105.)) (array(0.), array(42589.))\n"
     ]
    }
   ],
   "source": [
    "#определим границы интервала для длительности интернет-сессий\n",
    "mb_used_smart, mb_used_ultra = outliers('mb_used_sum', 'tariff')\n",
    "print(mb_used_smart, mb_used_ultra)"
   ]
  },
  {
   "cell_type": "markdown",
   "metadata": {},
   "source": [
    "- Интервал для тарифа 'smart': от 1537 до 31105;\n",
    "- Интервад для тарифа 'ultra': от 0 до 42589. "
   ]
  },
  {
   "cell_type": "code",
   "execution_count": 58,
   "metadata": {},
   "outputs": [
    {
     "name": "stdout",
     "output_type": "stream",
     "text": [
      "(array(0.), array(112.5)) (array(0.), array(160.5))\n"
     ]
    }
   ],
   "source": [
    "#определим границы интервала для сообщений\n",
    "messages_smart, messages_ultra = outliers('messages_count', 'tariff')\n",
    "print(messages_smart, messages_ultra)"
   ]
  },
  {
   "cell_type": "markdown",
   "metadata": {},
   "source": [
    "- Интервал для тарифа 'smart': от 0 до 112,5;\n",
    "- Интервад для тарифа 'ultra': от 0 до 160,5."
   ]
  },
  {
   "cell_type": "code",
   "execution_count": 59,
   "metadata": {},
   "outputs": [],
   "source": [
    "#создадим новые датасеты с исключением значений, выходящих за границу выявленных интервалов для каждого из двух тарифов\n",
    "smart_data_filtered = final_df.query('tariff == \"smart\" & 0 < calls_duration < 940 & 1537 < mb_used_sum < 31105 & 0 < messages_count < 113')\n",
    "ultra_data_filtered = final_df.query('tariff == \"ultra\" & 0 < calls_duration < 1247 & 0 < mb_used_sum < 42589 & 0 < messages_count < 161')"
   ]
  },
  {
   "cell_type": "code",
   "execution_count": 60,
   "metadata": {},
   "outputs": [
    {
     "data": {
      "image/png": "[encoded data removed]",
      "text/plain": [
       "<Figure size 432x288 with 1 Axes>"
      ]
     },
     "metadata": {
      "needs_background": "light"
     },
     "output_type": "display_data"
    },
    {
     "name": "stdout",
     "output_type": "stream",
     "text": [
      "Для тарифа Smart cреднее значение длительности звонков составляет: 419\n",
      "стандартное отклонение: 179\n",
      "дисперсия: 31868\n",
      "\n",
      "Для тарифа Ultra cреднее значение длительности звонков составляет: 535\n",
      "стандартное отклонение: 283\n",
      "дисперсия: 80265\n",
      "\n",
      "Параметр скошенности распределения длительности звонков для тарифа Smart составляет -0.01\n",
      "Параметр скошенности распределения длительности звонков для тарифа Ultra составляет 0.20\n"
     ]
    }
   ],
   "source": [
    "#построим распределение длительности звонков для каждого из тарифов\n",
    "plt.hist(smart_data_filtered['calls_duration'], alpha=0.5, label = 'тариф Smart')\n",
    "plt.hist(ultra_data_filtered['calls_duration'], alpha=0.5, label = 'тариф Ultra')\n",
    "plt.legend(loc='upper right')\n",
    "plt.title('Гистограмма длительности звонков, мин.')\n",
    "plt.xlabel(\"Длительность звонков, мин.\")  \n",
    "plt.ylabel(\"Частота\")\n",
    "plt.show()\n",
    "#рассчитаем среднее значение, дисперсию и стандартное отклонение для длительности звонков\n",
    "smart_calls_mean = smart_data_filtered['calls_duration'].mean()\n",
    "smart_calls_std = smart_data_filtered['calls_duration'].std()\n",
    "smart_calls_var = smart_data_filtered['calls_duration'].var()\n",
    "ultra_calls_mean = ultra_data_filtered['calls_duration'].mean()\n",
    "ultra_calls_std = ultra_data_filtered['calls_duration'].std()\n",
    "ultra_calls_var = ultra_data_filtered['calls_duration'].var()\n",
    "print('Для тарифа Smart cреднее значение длительности звонков составляет: {:.0f}\\nстандартное отклонение: {:.0f}\\nдисперсия: {:.0f}\\n'.format(smart_calls_mean, smart_calls_std, smart_calls_var))\n",
    "print('Для тарифа Ultra cреднее значение длительности звонков составляет: {:.0f}\\nстандартное отклонение: {:.0f}\\nдисперсия: {:.0f}\\n'.format(ultra_calls_mean, ultra_calls_std, ultra_calls_var))\n",
    "#Посмотрим на параметр скошенности распределения\n",
    "smart_calls_skewness = smart_data_filtered['calls_duration'].skew()\n",
    "ultra_calls_skewness = ultra_data_filtered['calls_duration'].skew()\n",
    "print('Параметр скошенности распределения длительности звонков для тарифа Smart составляет {:.2f}'.format(smart_calls_skewness))\n",
    "print('Параметр скошенности распределения длительности звонков для тарифа Ultra составляет {:.2f}'.format(ultra_calls_skewness))"
   ]
  },
  {
   "cell_type": "markdown",
   "metadata": {},
   "source": [
    "**В среднем пользователь тарифа \"Смарт\" тратит в месяц 419 минут, что довольно близко к лимиту в 550 рублей. След-но, пользователь практически полностью тратит предложенный лимит. На тарифе \"Ультра\" пользователь, напротив, наговаривает за месяц в среднем 535 минут, что почти 6 раз меньше предлагаемого тарифом лимита в 3000 минут.**"
   ]
  },
  {
   "cell_type": "code",
   "execution_count": 61,
   "metadata": {},
   "outputs": [
    {
     "data": {
      "image/png": "[encoded data removed]",
      "text/plain": [
       "<Figure size 432x288 with 1 Axes>"
      ]
     },
     "metadata": {
      "needs_background": "light"
     },
     "output_type": "display_data"
    },
    {
     "name": "stdout",
     "output_type": "stream",
     "text": [
      "Для тарифа Smart cреднее значение количества отправленных сообщений составляет: 38\n",
      "стандартное отклонение: 26\n",
      "дисперсия: 659\n",
      "\n",
      "Для тарифа Ultra cреднее значение количества отправленных сообщений составляет: 58\n",
      "стандартное отклонение: 40\n",
      "дисперсия: 1608\n",
      "\n",
      "Параметр скошенности распределения количества отправленных сообщений для тарифа Smart составляет 0.68\n",
      "Параметр скошенности распределения количества отправленных сообщений для тарифа Ultra составляет 0.20\n"
     ]
    }
   ],
   "source": [
    "#построим гистограмму для количества сообщения пользователей двух тарифов\n",
    "#построим распределение длительности звонков для каждого из тарифов\n",
    "plt.hist(smart_data_filtered['messages_count'], alpha=0.5, label = 'тариф Smart')\n",
    "plt.hist(ultra_data_filtered['messages_count'], alpha=0.5, label = 'тариф Ultra')\n",
    "plt.legend(loc='upper right')\n",
    "plt.title('Гистограмма количества смс-сообщений')\n",
    "plt.xlabel(\"Отправленные смс-сообщения\")  \n",
    "plt.ylabel(\"Частота\")\n",
    "plt.show()\n",
    "#рассчитаем среднее значение, дисперсию и стандартное отклонение \n",
    "smart_sms_mean = smart_data_filtered['messages_count'].mean()\n",
    "smart_sms_std = smart_data_filtered['messages_count'].std()\n",
    "smart_sms_var = smart_data_filtered['messages_count'].var()\n",
    "ultra_sms_mean = ultra_data_filtered['messages_count'].mean()\n",
    "ultra_sms_std = ultra_data_filtered['messages_count'].std()\n",
    "ultra_sms_var = ultra_data_filtered['messages_count'].var()\n",
    "print('Для тарифа Smart cреднее значение количества отправленных сообщений составляет: {:.0f}\\nстандартное отклонение: {:.0f}\\nдисперсия: {:.0f}\\n'.format(smart_sms_mean, smart_sms_std, smart_sms_var))\n",
    "print('Для тарифа Ultra cреднее значение количества отправленных сообщений составляет: {:.0f}\\nстандартное отклонение: {:.0f}\\nдисперсия: {:.0f}\\n'.format(ultra_sms_mean, ultra_sms_std, ultra_sms_var))\n",
    "#Посмотрим на параметр скошенности распределения\n",
    "smart_sms_skewness = smart_data_filtered['messages_count'].skew()\n",
    "ultra_sms_skewness = ultra_data_filtered['messages_count'].skew()\n",
    "print('Параметр скошенности распределения количества отправленных сообщений для тарифа Smart составляет {:.2f}'.format(smart_sms_skewness))\n",
    "print('Параметр скошенности распределения количества отправленных сообщений для тарифа Ultra составляет {:.2f}'.format(ultra_calls_skewness))"
   ]
  },
  {
   "cell_type": "markdown",
   "metadata": {},
   "source": [
    "**В целом, как пользователи тарифа \"Смарт\", так и пользователи тарифа \"Ультра\" пользуются сообщениями неактивно. Абоненты тарифа \"Смарт\" в среднем только наполовину используют предлагаемый лимит сообщений, пользователи тарифа \"Ультра\" в среднем отправляют 58 сообщений, что аж в 20 раз меньше предложенного лимита в 1000 сообщений.**"
   ]
  },
  {
   "cell_type": "code",
   "execution_count": 62,
   "metadata": {},
   "outputs": [
    {
     "data": {
      "image/png": "[encoded data removed]",
      "text/plain": [
       "<Figure size 432x288 with 1 Axes>"
      ]
     },
     "metadata": {
      "needs_background": "light"
     },
     "output_type": "display_data"
    },
    {
     "name": "stdout",
     "output_type": "stream",
     "text": [
      "Для тарифа Smart cреднее значение используемого интернет-трафика составляет: 16202\n",
      "стандартное отклонение: 5440\n",
      "дисперсия: 29592819\n",
      "\n",
      "Для тарифа Ultra cреднее значение используемого интернет-трафика составляет: 19277\n",
      "стандартное отклонение: 9224\n",
      "дисперсия: 85074089\n",
      "\n",
      "Параметр скошенности распределения используемого интернет-трафика для тарифа Smart составляет -0.16\n",
      "Параметр скошенности распределения используемого интернет-трафика для тарифа Ultra составляет 0.20\n"
     ]
    }
   ],
   "source": [
    "#построим гистограмму для объема используемого интернет-трафика \n",
    "plt.hist(smart_data_filtered['mb_used_sum'], alpha=0.5, label = 'тариф Smart')\n",
    "plt.hist(ultra_data_filtered['mb_used_sum'], alpha=0.5, label = 'тариф Ultra')\n",
    "plt.legend(loc='upper right')\n",
    "plt.title('Гистограмма объема используемого интернет-трафика, мб.')\n",
    "plt.xlabel(\"Интернет-трафик, Мб\")  \n",
    "plt.ylabel(\"Частота\")\n",
    "plt.show()\n",
    "#рассчитаем среднее значение, дисперсию и стандартное отклонение\n",
    "smart_sms_mean = smart_data_filtered['mb_used_sum'].mean()\n",
    "smart_sms_std = smart_data_filtered['mb_used_sum'].std()\n",
    "smart_sms_var = smart_data_filtered['mb_used_sum'].var()\n",
    "ultra_sms_mean = ultra_data_filtered['mb_used_sum'].mean()\n",
    "ultra_sms_std = ultra_data_filtered['mb_used_sum'].std()\n",
    "ultra_sms_var = ultra_data_filtered['mb_used_sum'].var()\n",
    "print('Для тарифа Smart cреднее значение используемого интернет-трафика составляет: {:.0f}\\nстандартное отклонение: {:.0f}\\nдисперсия: {:.0f}\\n'.format(smart_sms_mean, smart_sms_std, smart_sms_var))\n",
    "print('Для тарифа Ultra cреднее значение используемого интернет-трафика составляет: {:.0f}\\nстандартное отклонение: {:.0f}\\nдисперсия: {:.0f}\\n'.format(ultra_sms_mean, ultra_sms_std, ultra_sms_var))\n",
    "#Посмотрим на параметр скошенности распределения\n",
    "smart_sms_skewness = smart_data_filtered['mb_used_sum'].skew()\n",
    "ultra_sms_skewness = ultra_data_filtered['mb_used_sum'].skew()\n",
    "print('Параметр скошенности распределения используемого интернет-трафика для тарифа Smart составляет {:.2f}'.format(smart_sms_skewness))\n",
    "print('Параметр скошенности распределения используемого интернет-трафика для тарифа Ultra составляет {:.2f}'.format(ultra_calls_skewness))"
   ]
  },
  {
   "cell_type": "markdown",
   "metadata": {},
   "source": [
    "**В среднем пользователи тарифа \"Смарт\" выходят за лимит в 15 Гб, предлагаемый тарифом, и расходуют 16,2 Гб интернет-трафика. Пользователи тарифа \"Ультра\" в среднем, напротив,расходуют интернет-трафик значительно меньше лимита: 19,3 ГБ против вместо лимита в 30 Гб.**"
   ]
  },
  {
   "cell_type": "markdown",
   "metadata": {},
   "source": [
    "## 4. Проверка гипотез <a name=\"paragraph4\"></a> "
   ]
  },
  {
   "cell_type": "markdown",
   "metadata": {},
   "source": [
    "### 4.1 Проверка первой гипотезы <a name=\"subparagraph5\"></a> \n",
    "H0: средняя выручка пользователей тарифа \"Ультра\" равна средней выручке пользователей тарифа \"Смарт\";\n",
    "\n",
    "H1: средняя выручка пользователей тарифов \"Ультра\" и \"Смарт\" различается."
   ]
  },
  {
   "cell_type": "code",
   "execution_count": 97,
   "metadata": {},
   "outputs": [
    {
     "data": {
      "text/plain": [
       "Text(0, 0.5, 'Выручка')"
      ]
     },
     "execution_count": 97,
     "metadata": {},
     "output_type": "execute_result"
    },
    {
     "data": {
      "image/png": "[encoded data removed]",
      "text/plain": [
       "<Figure size 432x288 with 1 Axes>"
      ]
     },
     "metadata": {
      "needs_background": "light"
     },
     "output_type": "display_data"
    }
   ],
   "source": [
    "#создадим новый датасет с исключением аномальных значений выручки\n",
    "#построим диаграмму размаха \n",
    "sns.boxplot(y='total_revenue', x = 'tariff', data = final_df)\n",
    "plt.title('Диаграмма размаха для выручки')\n",
    "plt.xlabel(\"Тариф\")  \n",
    "plt.ylabel(\"Выручка\")"
   ]
  },
  {
   "cell_type": "code",
   "execution_count": 64,
   "metadata": {},
   "outputs": [
    {
     "name": "stdout",
     "output_type": "stream",
     "text": [
      "(array(0.), array(3363.5)) (array(0.), array(5186.9))\n"
     ]
    }
   ],
   "source": [
    "#Определим верхнюю и нижнюю границу допустимого интервала значений выручки, не выходящих за пределы расстояния, равного 1,5 межквартильного размаха\n",
    "revenue_smart, revenue_ultra = outliers('total_revenue', 'tariff')\n",
    "print(revenue_smart, revenue_ultra)"
   ]
  },
  {
   "cell_type": "markdown",
   "metadata": {},
   "source": [
    "- Интервал для тарифа 'smart': от 0 до 3364;\n",
    "- Интервал для тарифа 'ultra': от 0 до 5187."
   ]
  },
  {
   "cell_type": "code",
   "execution_count": 65,
   "metadata": {},
   "outputs": [],
   "source": [
    "#создадим датасет с исключением аномальных значений выручка для тарифов 'smart' и 'ultra'\n",
    "revenue_smart_filtered = final_df.query('tariff == \"smart\" & 0 < total_revenue < 3364').loc[:, 'total_revenue']\n",
    "revenue_ultra_filtered = final_df.query('tariff == \"ultra\" & 0 < total_revenue < 5187').loc[:, 'total_revenue']"
   ]
  },
  {
   "cell_type": "code",
   "execution_count": 79,
   "metadata": {},
   "outputs": [
    {
     "name": "stdout",
     "output_type": "stream",
     "text": [
      "1.0223963473600517\n",
      "0.7820314105529439\n"
     ]
    }
   ],
   "source": [
    "#посмотрим на скошенность распределения выручки для двух тарифов \n",
    "revenue_smart_skewness = revenue_smart_filtered.skew()\n",
    "revenue_ultra_skewness = revenue_ultra_filtered.skew()\n",
    "print(revenue_smart_skewness)\n",
    "print(revenue_ultra_skewness)"
   ]
  },
  {
   "cell_type": "markdown",
   "metadata": {},
   "source": [
    "Произведем проверку равенства дисперсии выборок. Поскольку мы избавились от выбросов, будем полагать, что не наблюдается значительных отклонений от нормального распределения в двух выборках. Следовательно, будем использовать критерий Бартлетта.\n",
    "\n",
    "H0: две выборки имеют равную дисперсию."
   ]
  },
  {
   "cell_type": "code",
   "execution_count": 99,
   "metadata": {},
   "outputs": [
    {
     "name": "stdout",
     "output_type": "stream",
     "text": [
      "Отвергаем нулевую гипотезу\n"
     ]
    }
   ],
   "source": [
    "from scipy import stats as st\n",
    "from scipy.stats import bartlett\n",
    "stat, p = bartlett(revenue_smart_filtered, revenue_ultra_filtered)\n",
    "if (p < alpha):\n",
    "    print(\"Отвергаем нулевую гипотезу\")\n",
    "else:\n",
    "    print(\"Не получилось отвергнуть нулевую гипотезу\")"
   ]
  },
  {
   "cell_type": "markdown",
   "metadata": {},
   "source": [
    "На основании теста Бартлетта мы отвергаем гипотезу о равенстве дисперсий в выборках с данными о выручке для тарифов Смарт и Ультра."
   ]
  },
  {
   "cell_type": "markdown",
   "metadata": {},
   "source": [
    "*Поскольку мы имеем две независимые генеральные совокупности, произведем проверку гипотезы о равенстве средних значений методом scipy.stats.ttest_ind (array1, array2, equal_var). Пороговое значение alpha зададим на уровне 0.05. Поскольку мы установили, что мера разброса данных в двух выборках различается, установим параметр equal_var равным False.*"
   ]
  },
  {
   "cell_type": "code",
   "execution_count": 86,
   "metadata": {},
   "outputs": [
    {
     "name": "stdout",
     "output_type": "stream",
     "text": [
      "p-значение: 7.873809975989362e-259\n",
      "Отвергаем нулевую гипотезу\n"
     ]
    }
   ],
   "source": [
    "from scipy import stats as st\n",
    "alpha = 0.05\n",
    "results = st.ttest_ind(revenue_smart_filtered, revenue_ultra_filtered, equal_var=False)\n",
    "print('p-значение:', results.pvalue)\n",
    "\n",
    "if (results.pvalue < alpha):\n",
    "    print(\"Отвергаем нулевую гипотезу\")\n",
    "else:\n",
    "    print(\"Не получилось отвергнуть нулевую гипотезу\")"
   ]
  },
  {
   "cell_type": "markdown",
   "metadata": {},
   "source": [
    "*Вывод по первой гипотезе*\n",
    "\n",
    "Нулевую гипотезу отвергаем. Следовательно, средняя выручка пользователей двух тарифов различается. Проверим, для какого тарифа средняя выручка выше. \n"
   ]
  },
  {
   "cell_type": "code",
   "execution_count": 68,
   "metadata": {},
   "outputs": [
    {
     "name": "stdout",
     "output_type": "stream",
     "text": [
      "Средняя выручка от пользователей тарифа \"Smart\" - 1186.26\n",
      "Средняя выручка от пользователей тарифа \"Ultra\" - 2853.41\n"
     ]
    }
   ],
   "source": [
    "print('Средняя выручка от пользователей тарифа \"Smart\" - {:.2f}'.format(revenue_smart_filtered.mean()))\n",
    "print('Средняя выручка от пользователей тарифа \"Ultra\" - {:.2f}'.format(revenue_ultra_filtered.mean()))"
   ]
  },
  {
   "cell_type": "markdown",
   "metadata": {},
   "source": [
    "*Средняя выручка от пользователей тарифа \"Ultra\" выше, чем от пользователей тарифа \"Smart\".*"
   ]
  },
  {
   "cell_type": "markdown",
   "metadata": {},
   "source": [
    "### 4.2 Проверка второй гипотезы <a name=\"subparagraph6\"></a>\n",
    "H0: средняя выручка пользователей из Москвы равна выручке пользователей из других регионов\n",
    "\n",
    "H1: средняя выручка пользователей из Москвы отличается от выручки пользователей из других регионов"
   ]
  },
  {
   "cell_type": "code",
   "execution_count": 87,
   "metadata": {},
   "outputs": [
    {
     "data": {
      "text/plain": [
       "Text(0, 0.5, 'Выручка')"
      ]
     },
     "execution_count": 87,
     "metadata": {},
     "output_type": "execute_result"
    },
    {
     "data": {
      "image/png": "[encoded data removed]",
      "text/plain": [
       "<Figure size 432x288 with 1 Axes>"
      ]
     },
     "metadata": {
      "needs_background": "light"
     },
     "output_type": "display_data"
    }
   ],
   "source": [
    "#создадим дамми-переменную, принимающую значение, равное единице - если Москва, и нулю - если регионы\n",
    "final_df['Moscow_city'] = np.where(final_df['city'] == 'Москва', 1, 0)\n",
    "#построим диаграмму размаха\n",
    "sns.boxplot(y='total_revenue', x = 'Moscow_city', data = final_df)\n",
    "plt.title('Диаграмма размаха для выручки')\n",
    "plt.xlabel(\"Расположение абонента (1 - Москва, 0 - Регион)\")  \n",
    "plt.ylabel(\"Выручка\")"
   ]
  },
  {
   "cell_type": "code",
   "execution_count": 70,
   "metadata": {},
   "outputs": [],
   "source": [
    "#Напишем функцию для определения интервала, значения выходящие за пределы которого являются выбросами \n",
    "def outliers_location(column, location):\n",
    "    tariff_types = 'Moscow_city'\n",
    "    moscow = 1\n",
    "    region = 0\n",
    "    q1_0 = final_df[final_df[tariff_types] == moscow][column].quantile(0.25)\n",
    "    q3_0 = final_df[final_df[tariff_types] == moscow][column].quantile(0.75)\n",
    "    diff_0 = q3_0 - q1_0\n",
    "    \n",
    "    left_int_0 = np.where( (q1_0 - 1.5*diff_0) > 0, q1_0 - 1.5*diff_0, 0)\n",
    "    right_int_0 = np.where( (q3_0 + 1.5*diff_0) > 0, q3_0 + 1.5*diff_0, 0)\n",
    "    q1_1 = final_df[final_df[tariff_types] == region][column].quantile(0.25)\n",
    "    q3_1 = final_df[final_df[tariff_types] == region][column].quantile(0.75)\n",
    "    diff_1 = q3_1 - q1_1\n",
    "    left_int_1 = np.where( (q1_0 - 1.5*diff_1) > 0, q1_0 - 1.5*diff_1, 0)\n",
    "    right_int_1 = np.where( (q3_0 + 1.5*diff_1) > 0, q3_0 + 1.5*diff_1, 0)\n",
    "    return(left_int_0, right_int_0), (left_int_1, right_int_1)"
   ]
  },
  {
   "cell_type": "code",
   "execution_count": 71,
   "metadata": {},
   "outputs": [
    {
     "name": "stdout",
     "output_type": "stream",
     "text": [
      "(array(0.), array(5961.15)) (array(0.), array(5194.5))\n"
     ]
    }
   ],
   "source": [
    "#Определим верхнюю и нижнюю границу допустимого интервала значений выручки, не выходящих за пределы расстояния, равного 1,5 межквартильного размаха\n",
    "revenue_moscow, revenue_region = outliers_location('total_revenue', 'Moscow_city')\n",
    "print(revenue_moscow, revenue_region)\n",
    "#Интервал для Москвы: от 0 до 5961;\n",
    "#Интервал для регионов: от 0 до 5195."
   ]
  },
  {
   "cell_type": "code",
   "execution_count": 72,
   "metadata": {},
   "outputs": [],
   "source": [
    "#создадим датасет с исключением аномальных значений выручка для тарифов 'smart' и 'ultra'\n",
    "revenue_moscow_filtered = final_df.query('city == \"Москва\" & 0 < total_revenue < 5961').loc[:, 'total_revenue']\n",
    "revenue_region_filtered = final_df.query('city != \"Москва\" & 0 < total_revenue < 5195').loc[:, 'total_revenue']"
   ]
  },
  {
   "cell_type": "markdown",
   "metadata": {},
   "source": [
    "Произведем проверку равенства дисперсии выборок. Поскольку мы избавились от выбросов, будем полагать, что не наблюдается значительных отклонений от нормального распределения в двух выборках. Следовательно, будем использовать критерий Бартлетта.\n",
    "\n",
    "H0: две выборки имеют равную дисперсию. "
   ]
  },
  {
   "cell_type": "code",
   "execution_count": 100,
   "metadata": {},
   "outputs": [
    {
     "name": "stdout",
     "output_type": "stream",
     "text": [
      "Отвергаем нулевую гипотезу\n"
     ]
    }
   ],
   "source": [
    "stat, p = bartlett(revenue_moscow_filtered, revenue_region_filtered)\n",
    "if (p < alpha):\n",
    "    print(\"Отвергаем нулевую гипотезу\")\n",
    "else:\n",
    "    print(\"Не получилось отвергнуть нулевую гипотезу\")"
   ]
  },
  {
   "cell_type": "markdown",
   "metadata": {},
   "source": [
    "На основании теста Бартлетта мы отвергаем гипотезу о равенстве дисперсий в выборках с данными о выручке, формируемой за счет абонентов в регионе и в Москве."
   ]
  },
  {
   "cell_type": "code",
   "execution_count": 101,
   "metadata": {},
   "outputs": [
    {
     "name": "stdout",
     "output_type": "stream",
     "text": [
      "p-значение: 6.071201461450415e-06\n",
      "Отвергаем нулевую гипотезу\n"
     ]
    }
   ],
   "source": [
    "#поскольку мы имеем две независимые генеральные совокупности, произведем проверку гипотезы о равенстве средних значений методом scipy.stats.ttest_ind (array1, array2, equal_var)\n",
    "#Поскольку мы установили, что мера разброса данных в двух выборках различается, установим параметр equal_var равным False.\n",
    "#пороговое значение alpha зададим на уровне 0.05\n",
    "from scipy import stats as st\n",
    "alpha = 0.05\n",
    "results = st.ttest_ind(revenue_moscow_filtered, revenue_region_filtered, equal_var = False)\n",
    "print('p-значение:', results.pvalue)\n",
    "\n",
    "if (results.pvalue < alpha):\n",
    "    print(\"Отвергаем нулевую гипотезу\")\n",
    "else:\n",
    "    print(\"Не получилось отвергнуть нулевую гипотезу\")"
   ]
  },
  {
   "cell_type": "markdown",
   "metadata": {},
   "source": [
    "Нулевую гипотезу отвергаем. Следовательно, средняя выручка пользователей из Москвы и регионов различается. Проверим, в какому случае выручка выше. "
   ]
  },
  {
   "cell_type": "code",
   "execution_count": 102,
   "metadata": {},
   "outputs": [
    {
     "name": "stdout",
     "output_type": "stream",
     "text": [
      "Средняя выручка по пользователю в месяц в Москве: 1929.30\n",
      "Средняя выручка по пользователю в месяц в регионах: 1652.77\n"
     ]
    }
   ],
   "source": [
    "print('Средняя выручка по пользователю в месяц в Москве: {:.2f}'.format(revenue_moscow_filtered.mean()))\n",
    "print('Средняя выручка по пользователю в месяц в регионах: {:.2f}'.format(revenue_region_filtered.mean()))"
   ]
  },
  {
   "cell_type": "markdown",
   "metadata": {},
   "source": [
    "*Средняя выручка, формируемая за счет московских абонентов, на 276 руб. превосходит выручку от региональных абонентов.*"
   ]
  },
  {
   "cell_type": "markdown",
   "metadata": {},
   "source": [
    "# 5. Общий вывод <a name=\"paragraph5\"></a>"
   ]
  },
  {
   "cell_type": "markdown",
   "metadata": {},
   "source": [
    "Из проведенного анализа можно сделать следующие выводы:\n",
    "- средняя выручка, генерируемая тарифом «Ультра» выше, чем выручка от тарифа «Смарт»;\n",
    "- средний пользователь тарифа «Смарт» близок к лимиту по звонкам, в то время как пользователи тарифа «Ультра» недоиспользуют лимит по минутам разговора;\n",
    "- среднему пользователю тарифа «Смарт» не хватает предложенного лимита интернет-трафика, ему приходится дополнительно приобретать 1,2 Гб интернет-трафика;\n",
    "- пользователи тарифа «Смарт» и тарифа «Ультра» неактивно используют смс-сообщения. \n",
    "\n",
    "Из этого следует, что оператору можно рассмотреть возможность разработки промежуточного варианта между тарифом «Смарт» и «Ультра», который предлагает больший объем интернет-трафика и минут разговора по стоимости выше тарифа «Смарт» и ниже цены «Ультра». Данный тариф позволит пользователю комфортно пользоваться пакетом интернета, не дозаказывая дополнительные ГБ трафика. \n"
   ]
  }
 ],
 "metadata": {
  "kernelspec": {
   "display_name": "Python 3",
   "language": "python",
   "name": "python3"
  },
  "language_info": {
   "codemirror_mode": {
    "name": "ipython",
    "version": 3
   },
   "file_extension": ".py",
   "mimetype": "text/x-python",
   "name": "python",
   "nbconvert_exporter": "python",
   "pygments_lexer": "ipython3",
   "version": "3.8.8"
  },
  "toc": {
   "base_numbering": 1,
   "nav_menu": {},
   "number_sections": true,
   "sideBar": true,
   "skip_h1_title": false,
   "title_cell": "Table of Contents",
   "title_sidebar": "Contents",
   "toc_cell": false,
   "toc_position": {},
   "toc_section_display": true,
   "toc_window_display": false
  }
 },
 "nbformat": 4,
 "nbformat_minor": 2
}

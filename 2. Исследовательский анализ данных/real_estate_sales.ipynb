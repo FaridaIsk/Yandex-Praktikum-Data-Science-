{
 "cells": [
  {
   "cell_type": "markdown",
   "metadata": {},
   "source": [
    "# Проект 2. Исследование объявлений о продаже квартир\n",
    "\n",
    "В распоряжении данные сервиса Яндекс.Недвижимость — архив объявлений о продаже квартир в Санкт-Петербурге и соседних населённых пунктов за несколько лет. Цель - научиться определять рыночную стоимость объектов недвижимости. Основная задача - установить параметры для построения автоматизированной системы, отслеживающей аномалии и мошенническую деятельность."
   ]
  },
  {
   "cell_type": "markdown",
   "metadata": {},
   "source": [
    "##  План проекта"
   ]
  },
  {
   "cell_type": "markdown",
   "metadata": {},
   "source": [
    "1. [Изучение общей информации](#introduction) <br>\n",
    "2. [Предобработка данных](#paragraph2) <br>\n",
    "   2.1 [Заполнение пропусков](#subparagraph1) <br>\n",
    "   2.2 [Преобразование типа данных](#subparagraph2) <br>\n",
    "3. [Расчет и добавление в таблицу новых параметров и категорий](#paragraph3) <br> \n",
    "4. [Исследовательский анализ данных](#paragraph4) <br> \n",
    "   4.1 [Изучение распределения параметров площади, цены, числа комнат, высоты потолков](#subparagraph3) <br>\n",
    "   4.2 [Изучение зависимости цены от площади, числа комнат, удаленности от центра и этажа, на котором находится квартира](#subparagraph4) <br>\n",
    "   4.3 [Срез по населенным пунктам](#subparagraph5) <br>\n",
    "   4.4 [Изучение квартир в СПб](#subparagraph6) <br>\n",
    "5. [Общий вывод](#paragraph5) <br>"
   ]
  },
  {
   "cell_type": "markdown",
   "metadata": {},
   "source": [
    "## Описание данных "
   ]
  },
  {
   "cell_type": "markdown",
   "metadata": {},
   "source": [
    "- airports_nearest — расстояние до ближайшего аэропорта в метрах (м)\n",
    "- balcony — число балконов\n",
    "- ceiling_height — высота потолков (м)\n",
    "- cityCenters_nearest — расстояние до центра города (м)\n",
    "- days_exposition — сколько дней было размещено объявление (от публикации до снятия)\n",
    "- first_day_exposition — дата публикации\n",
    "- floor — этаж\n",
    "- floors_total — всего этажей в доме\n",
    "- is_apartment — апартаменты (булев тип)\n",
    "- kitchen_area — площадь кухни в квадратных метрах (м²)\n",
    "- last_price — цена на момент снятия с публикации\n",
    "- living_area — жилая площадь в квадратных метрах(м²)\n",
    "- locality_name — название населённого пункта\n",
    "- open_plan — свободная планировка (булев тип)\n",
    "- parks_around3000 — число парков в радиусе 3 км\n",
    "- parks_nearest — расстояние до ближайшего парка (м)\n",
    "- ponds_around3000 — число водоёмов в радиусе 3 км\n",
    "- ponds_nearest — расстояние до ближайшего водоёма (м)\n",
    "- rooms — число комнат\n",
    "- studio — квартира-студия (булев тип)\n",
    "- total_area — площадь квартиры в квадратных метрах (м²)\n",
    "- total_images — число фотографий квартиры в объявлении"
   ]
  },
  {
   "cell_type": "markdown",
   "metadata": {},
   "source": [
    "### Шаг 1. Изучение общей информации\n",
    "<a name=\"introduction\"></a>"
   ]
  },
  {
   "cell_type": "code",
   "execution_count": 1,
   "metadata": {},
   "outputs": [],
   "source": [
    "import pandas as pd\n",
    "import numpy as np\n",
    "import seaborn as sns\n",
    "import matplotlib.pyplot as plt"
   ]
  },
  {
   "cell_type": "code",
   "execution_count": 2,
   "metadata": {},
   "outputs": [],
   "source": [
    "data = pd.read_csv('/datasets/real_estate_data.csv', sep='\\t')"
   ]
  },
  {
   "cell_type": "code",
   "execution_count": 3,
   "metadata": {},
   "outputs": [
    {
     "data": {
      "text/html": [
       "<div>\n",
       "<style scoped>\n",
       "    .dataframe tbody tr th:only-of-type {\n",
       "        vertical-align: middle;\n",
       "    }\n",
       "\n",
       "    .dataframe tbody tr th {\n",
       "        vertical-align: top;\n",
       "    }\n",
       "\n",
       "    .dataframe thead th {\n",
       "        text-align: right;\n",
       "    }\n",
       "</style>\n",
       "<table border=\"1\" class=\"dataframe\">\n",
       "  <thead>\n",
       "    <tr style=\"text-align: right;\">\n",
       "      <th></th>\n",
       "      <th>total_images</th>\n",
       "      <th>last_price</th>\n",
       "      <th>total_area</th>\n",
       "      <th>first_day_exposition</th>\n",
       "      <th>rooms</th>\n",
       "      <th>ceiling_height</th>\n",
       "      <th>floors_total</th>\n",
       "      <th>living_area</th>\n",
       "      <th>floor</th>\n",
       "      <th>is_apartment</th>\n",
       "      <th>...</th>\n",
       "      <th>kitchen_area</th>\n",
       "      <th>balcony</th>\n",
       "      <th>locality_name</th>\n",
       "      <th>airports_nearest</th>\n",
       "      <th>cityCenters_nearest</th>\n",
       "      <th>parks_around3000</th>\n",
       "      <th>parks_nearest</th>\n",
       "      <th>ponds_around3000</th>\n",
       "      <th>ponds_nearest</th>\n",
       "      <th>days_exposition</th>\n",
       "    </tr>\n",
       "  </thead>\n",
       "  <tbody>\n",
       "    <tr>\n",
       "      <th>0</th>\n",
       "      <td>20</td>\n",
       "      <td>13000000.0</td>\n",
       "      <td>108.00</td>\n",
       "      <td>2019-03-07T00:00:00</td>\n",
       "      <td>3</td>\n",
       "      <td>2.70</td>\n",
       "      <td>16.0</td>\n",
       "      <td>51.00</td>\n",
       "      <td>8</td>\n",
       "      <td>NaN</td>\n",
       "      <td>...</td>\n",
       "      <td>25.00</td>\n",
       "      <td>NaN</td>\n",
       "      <td>Санкт-Петербург</td>\n",
       "      <td>18863.0</td>\n",
       "      <td>16028.0</td>\n",
       "      <td>1.0</td>\n",
       "      <td>482.0</td>\n",
       "      <td>2.0</td>\n",
       "      <td>755.0</td>\n",
       "      <td>NaN</td>\n",
       "    </tr>\n",
       "    <tr>\n",
       "      <th>1</th>\n",
       "      <td>7</td>\n",
       "      <td>3350000.0</td>\n",
       "      <td>40.40</td>\n",
       "      <td>2018-12-04T00:00:00</td>\n",
       "      <td>1</td>\n",
       "      <td>NaN</td>\n",
       "      <td>11.0</td>\n",
       "      <td>18.60</td>\n",
       "      <td>1</td>\n",
       "      <td>NaN</td>\n",
       "      <td>...</td>\n",
       "      <td>11.00</td>\n",
       "      <td>2.0</td>\n",
       "      <td>посёлок Шушары</td>\n",
       "      <td>12817.0</td>\n",
       "      <td>18603.0</td>\n",
       "      <td>0.0</td>\n",
       "      <td>NaN</td>\n",
       "      <td>0.0</td>\n",
       "      <td>NaN</td>\n",
       "      <td>81.0</td>\n",
       "    </tr>\n",
       "    <tr>\n",
       "      <th>2</th>\n",
       "      <td>10</td>\n",
       "      <td>5196000.0</td>\n",
       "      <td>56.00</td>\n",
       "      <td>2015-08-20T00:00:00</td>\n",
       "      <td>2</td>\n",
       "      <td>NaN</td>\n",
       "      <td>5.0</td>\n",
       "      <td>34.30</td>\n",
       "      <td>4</td>\n",
       "      <td>NaN</td>\n",
       "      <td>...</td>\n",
       "      <td>8.30</td>\n",
       "      <td>0.0</td>\n",
       "      <td>Санкт-Петербург</td>\n",
       "      <td>21741.0</td>\n",
       "      <td>13933.0</td>\n",
       "      <td>1.0</td>\n",
       "      <td>90.0</td>\n",
       "      <td>2.0</td>\n",
       "      <td>574.0</td>\n",
       "      <td>558.0</td>\n",
       "    </tr>\n",
       "    <tr>\n",
       "      <th>3</th>\n",
       "      <td>0</td>\n",
       "      <td>64900000.0</td>\n",
       "      <td>159.00</td>\n",
       "      <td>2015-07-24T00:00:00</td>\n",
       "      <td>3</td>\n",
       "      <td>NaN</td>\n",
       "      <td>14.0</td>\n",
       "      <td>NaN</td>\n",
       "      <td>9</td>\n",
       "      <td>NaN</td>\n",
       "      <td>...</td>\n",
       "      <td>NaN</td>\n",
       "      <td>0.0</td>\n",
       "      <td>Санкт-Петербург</td>\n",
       "      <td>28098.0</td>\n",
       "      <td>6800.0</td>\n",
       "      <td>2.0</td>\n",
       "      <td>84.0</td>\n",
       "      <td>3.0</td>\n",
       "      <td>234.0</td>\n",
       "      <td>424.0</td>\n",
       "    </tr>\n",
       "    <tr>\n",
       "      <th>4</th>\n",
       "      <td>2</td>\n",
       "      <td>10000000.0</td>\n",
       "      <td>100.00</td>\n",
       "      <td>2018-06-19T00:00:00</td>\n",
       "      <td>2</td>\n",
       "      <td>3.03</td>\n",
       "      <td>14.0</td>\n",
       "      <td>32.00</td>\n",
       "      <td>13</td>\n",
       "      <td>NaN</td>\n",
       "      <td>...</td>\n",
       "      <td>41.00</td>\n",
       "      <td>NaN</td>\n",
       "      <td>Санкт-Петербург</td>\n",
       "      <td>31856.0</td>\n",
       "      <td>8098.0</td>\n",
       "      <td>2.0</td>\n",
       "      <td>112.0</td>\n",
       "      <td>1.0</td>\n",
       "      <td>48.0</td>\n",
       "      <td>121.0</td>\n",
       "    </tr>\n",
       "    <tr>\n",
       "      <th>5</th>\n",
       "      <td>10</td>\n",
       "      <td>2890000.0</td>\n",
       "      <td>30.40</td>\n",
       "      <td>2018-09-10T00:00:00</td>\n",
       "      <td>1</td>\n",
       "      <td>NaN</td>\n",
       "      <td>12.0</td>\n",
       "      <td>14.40</td>\n",
       "      <td>5</td>\n",
       "      <td>NaN</td>\n",
       "      <td>...</td>\n",
       "      <td>9.10</td>\n",
       "      <td>NaN</td>\n",
       "      <td>городской посёлок Янино-1</td>\n",
       "      <td>NaN</td>\n",
       "      <td>NaN</td>\n",
       "      <td>NaN</td>\n",
       "      <td>NaN</td>\n",
       "      <td>NaN</td>\n",
       "      <td>NaN</td>\n",
       "      <td>55.0</td>\n",
       "    </tr>\n",
       "    <tr>\n",
       "      <th>6</th>\n",
       "      <td>6</td>\n",
       "      <td>3700000.0</td>\n",
       "      <td>37.30</td>\n",
       "      <td>2017-11-02T00:00:00</td>\n",
       "      <td>1</td>\n",
       "      <td>NaN</td>\n",
       "      <td>26.0</td>\n",
       "      <td>10.60</td>\n",
       "      <td>6</td>\n",
       "      <td>NaN</td>\n",
       "      <td>...</td>\n",
       "      <td>14.40</td>\n",
       "      <td>1.0</td>\n",
       "      <td>посёлок Парголово</td>\n",
       "      <td>52996.0</td>\n",
       "      <td>19143.0</td>\n",
       "      <td>0.0</td>\n",
       "      <td>NaN</td>\n",
       "      <td>0.0</td>\n",
       "      <td>NaN</td>\n",
       "      <td>155.0</td>\n",
       "    </tr>\n",
       "    <tr>\n",
       "      <th>7</th>\n",
       "      <td>5</td>\n",
       "      <td>7915000.0</td>\n",
       "      <td>71.60</td>\n",
       "      <td>2019-04-18T00:00:00</td>\n",
       "      <td>2</td>\n",
       "      <td>NaN</td>\n",
       "      <td>24.0</td>\n",
       "      <td>NaN</td>\n",
       "      <td>22</td>\n",
       "      <td>NaN</td>\n",
       "      <td>...</td>\n",
       "      <td>18.90</td>\n",
       "      <td>2.0</td>\n",
       "      <td>Санкт-Петербург</td>\n",
       "      <td>23982.0</td>\n",
       "      <td>11634.0</td>\n",
       "      <td>0.0</td>\n",
       "      <td>NaN</td>\n",
       "      <td>0.0</td>\n",
       "      <td>NaN</td>\n",
       "      <td>NaN</td>\n",
       "    </tr>\n",
       "    <tr>\n",
       "      <th>8</th>\n",
       "      <td>20</td>\n",
       "      <td>2900000.0</td>\n",
       "      <td>33.16</td>\n",
       "      <td>2018-05-23T00:00:00</td>\n",
       "      <td>1</td>\n",
       "      <td>NaN</td>\n",
       "      <td>27.0</td>\n",
       "      <td>15.43</td>\n",
       "      <td>26</td>\n",
       "      <td>NaN</td>\n",
       "      <td>...</td>\n",
       "      <td>8.81</td>\n",
       "      <td>NaN</td>\n",
       "      <td>посёлок Мурино</td>\n",
       "      <td>NaN</td>\n",
       "      <td>NaN</td>\n",
       "      <td>NaN</td>\n",
       "      <td>NaN</td>\n",
       "      <td>NaN</td>\n",
       "      <td>NaN</td>\n",
       "      <td>189.0</td>\n",
       "    </tr>\n",
       "    <tr>\n",
       "      <th>9</th>\n",
       "      <td>18</td>\n",
       "      <td>5400000.0</td>\n",
       "      <td>61.00</td>\n",
       "      <td>2017-02-26T00:00:00</td>\n",
       "      <td>3</td>\n",
       "      <td>2.50</td>\n",
       "      <td>9.0</td>\n",
       "      <td>43.60</td>\n",
       "      <td>7</td>\n",
       "      <td>NaN</td>\n",
       "      <td>...</td>\n",
       "      <td>6.50</td>\n",
       "      <td>2.0</td>\n",
       "      <td>Санкт-Петербург</td>\n",
       "      <td>50898.0</td>\n",
       "      <td>15008.0</td>\n",
       "      <td>0.0</td>\n",
       "      <td>NaN</td>\n",
       "      <td>0.0</td>\n",
       "      <td>NaN</td>\n",
       "      <td>289.0</td>\n",
       "    </tr>\n",
       "  </tbody>\n",
       "</table>\n",
       "<p>10 rows × 22 columns</p>\n",
       "</div>"
      ],
      "text/plain": [
       "   total_images  last_price  total_area first_day_exposition  rooms  \\\n",
       "0            20  13000000.0      108.00  2019-03-07T00:00:00      3   \n",
       "1             7   3350000.0       40.40  2018-12-04T00:00:00      1   \n",
       "2            10   5196000.0       56.00  2015-08-20T00:00:00      2   \n",
       "3             0  64900000.0      159.00  2015-07-24T00:00:00      3   \n",
       "4             2  10000000.0      100.00  2018-06-19T00:00:00      2   \n",
       "5            10   2890000.0       30.40  2018-09-10T00:00:00      1   \n",
       "6             6   3700000.0       37.30  2017-11-02T00:00:00      1   \n",
       "7             5   7915000.0       71.60  2019-04-18T00:00:00      2   \n",
       "8            20   2900000.0       33.16  2018-05-23T00:00:00      1   \n",
       "9            18   5400000.0       61.00  2017-02-26T00:00:00      3   \n",
       "\n",
       "   ceiling_height  floors_total  living_area  floor is_apartment  ...  \\\n",
       "0            2.70          16.0        51.00      8          NaN  ...   \n",
       "1             NaN          11.0        18.60      1          NaN  ...   \n",
       "2             NaN           5.0        34.30      4          NaN  ...   \n",
       "3             NaN          14.0          NaN      9          NaN  ...   \n",
       "4            3.03          14.0        32.00     13          NaN  ...   \n",
       "5             NaN          12.0        14.40      5          NaN  ...   \n",
       "6             NaN          26.0        10.60      6          NaN  ...   \n",
       "7             NaN          24.0          NaN     22          NaN  ...   \n",
       "8             NaN          27.0        15.43     26          NaN  ...   \n",
       "9            2.50           9.0        43.60      7          NaN  ...   \n",
       "\n",
       "   kitchen_area  balcony              locality_name  airports_nearest  \\\n",
       "0         25.00      NaN            Санкт-Петербург           18863.0   \n",
       "1         11.00      2.0             посёлок Шушары           12817.0   \n",
       "2          8.30      0.0            Санкт-Петербург           21741.0   \n",
       "3           NaN      0.0            Санкт-Петербург           28098.0   \n",
       "4         41.00      NaN            Санкт-Петербург           31856.0   \n",
       "5          9.10      NaN  городской посёлок Янино-1               NaN   \n",
       "6         14.40      1.0          посёлок Парголово           52996.0   \n",
       "7         18.90      2.0            Санкт-Петербург           23982.0   \n",
       "8          8.81      NaN             посёлок Мурино               NaN   \n",
       "9          6.50      2.0            Санкт-Петербург           50898.0   \n",
       "\n",
       "  cityCenters_nearest  parks_around3000  parks_nearest  ponds_around3000  \\\n",
       "0             16028.0               1.0          482.0               2.0   \n",
       "1             18603.0               0.0            NaN               0.0   \n",
       "2             13933.0               1.0           90.0               2.0   \n",
       "3              6800.0               2.0           84.0               3.0   \n",
       "4              8098.0               2.0          112.0               1.0   \n",
       "5                 NaN               NaN            NaN               NaN   \n",
       "6             19143.0               0.0            NaN               0.0   \n",
       "7             11634.0               0.0            NaN               0.0   \n",
       "8                 NaN               NaN            NaN               NaN   \n",
       "9             15008.0               0.0            NaN               0.0   \n",
       "\n",
       "   ponds_nearest  days_exposition  \n",
       "0          755.0              NaN  \n",
       "1            NaN             81.0  \n",
       "2          574.0            558.0  \n",
       "3          234.0            424.0  \n",
       "4           48.0            121.0  \n",
       "5            NaN             55.0  \n",
       "6            NaN            155.0  \n",
       "7            NaN              NaN  \n",
       "8            NaN            189.0  \n",
       "9            NaN            289.0  \n",
       "\n",
       "[10 rows x 22 columns]"
      ]
     },
     "metadata": {},
     "output_type": "display_data"
    }
   ],
   "source": [
    "#посмотрим на строки датасета \n",
    "display(data.head(10))"
   ]
  },
  {
   "cell_type": "code",
   "execution_count": 4,
   "metadata": {},
   "outputs": [
    {
     "name": "stdout",
     "output_type": "stream",
     "text": [
      "<class 'pandas.core.frame.DataFrame'>\n",
      "RangeIndex: 23699 entries, 0 to 23698\n",
      "Data columns (total 22 columns):\n",
      " #   Column                Non-Null Count  Dtype  \n",
      "---  ------                --------------  -----  \n",
      " 0   total_images          23699 non-null  int64  \n",
      " 1   last_price            23699 non-null  float64\n",
      " 2   total_area            23699 non-null  float64\n",
      " 3   first_day_exposition  23699 non-null  object \n",
      " 4   rooms                 23699 non-null  int64  \n",
      " 5   ceiling_height        14504 non-null  float64\n",
      " 6   floors_total          23613 non-null  float64\n",
      " 7   living_area           21796 non-null  float64\n",
      " 8   floor                 23699 non-null  int64  \n",
      " 9   is_apartment          2775 non-null   object \n",
      " 10  studio                23699 non-null  bool   \n",
      " 11  open_plan             23699 non-null  bool   \n",
      " 12  kitchen_area          21421 non-null  float64\n",
      " 13  balcony               12180 non-null  float64\n",
      " 14  locality_name         23650 non-null  object \n",
      " 15  airports_nearest      18157 non-null  float64\n",
      " 16  cityCenters_nearest   18180 non-null  float64\n",
      " 17  parks_around3000      18181 non-null  float64\n",
      " 18  parks_nearest         8079 non-null   float64\n",
      " 19  ponds_around3000      18181 non-null  float64\n",
      " 20  ponds_nearest         9110 non-null   float64\n",
      " 21  days_exposition       20518 non-null  float64\n",
      "dtypes: bool(2), float64(14), int64(3), object(3)\n",
      "memory usage: 8.1 MB\n"
     ]
    }
   ],
   "source": [
    "data.info(memory_usage = 'deep')"
   ]
  },
  {
   "cell_type": "code",
   "execution_count": 5,
   "metadata": {},
   "outputs": [
    {
     "data": {
      "text/plain": [
       "0"
      ]
     },
     "execution_count": 5,
     "metadata": {},
     "output_type": "execute_result"
    }
   ],
   "source": [
    "#проверим, есть ли полные дубликаты \n",
    "data.duplicated().sum()"
   ]
  },
  {
   "cell_type": "markdown",
   "metadata": {},
   "source": [
    "### Вывод"
   ]
  },
  {
   "cell_type": "markdown",
   "metadata": {},
   "source": [
    "Датасет включает в себя 22 столбца (2 переменные имеют логический тип, 17 - числовой тип, 3 - объекта) и 23699 строк. Количество значений в столбцах различается, что свидетельствует о наличии пропущенных значений. "
   ]
  },
  {
   "cell_type": "markdown",
   "metadata": {},
   "source": [
    "### Шаг 2. Предобработка данных\n",
    "<a name=\"paragraph2\"></a>"
   ]
  },
  {
   "cell_type": "markdown",
   "metadata": {},
   "source": [
    "#### 2.1 Заполнение пропусков\n",
    "<a name=\"subparagraph1\"></a>"
   ]
  },
  {
   "cell_type": "code",
   "execution_count": 6,
   "metadata": {},
   "outputs": [
    {
     "data": {
      "text/plain": [
       "total_images                0\n",
       "last_price                  0\n",
       "total_area                  0\n",
       "first_day_exposition        0\n",
       "rooms                       0\n",
       "ceiling_height           9195\n",
       "floors_total               86\n",
       "living_area              1903\n",
       "floor                       0\n",
       "is_apartment            20924\n",
       "studio                      0\n",
       "open_plan                   0\n",
       "kitchen_area             2278\n",
       "balcony                 11519\n",
       "locality_name              49\n",
       "airports_nearest         5542\n",
       "cityCenters_nearest      5519\n",
       "parks_around3000         5518\n",
       "parks_nearest           15620\n",
       "ponds_around3000         5518\n",
       "ponds_nearest           14589\n",
       "days_exposition          3181\n",
       "dtype: int64"
      ]
     },
     "execution_count": 6,
     "metadata": {},
     "output_type": "execute_result"
    }
   ],
   "source": [
    "#выявим столбцы с пропущенными значениями \n",
    "data.isna().sum()"
   ]
  },
  {
   "cell_type": "markdown",
   "metadata": {},
   "source": [
    "2.1 Обнаружены пропущенные значения в столбцах 'ceiling_height', 'floors_total', 'living_area', 'is_apartment', 'kitchen_area', 'balcony', 'locality_name', 'airports_nearest', 'cityCenters_nearest', 'parks_around3000', \n",
    "'parks_nearest', 'ponds_around3000', 'ponds_nearest', 'days_exposition'."
   ]
  },
  {
   "cell_type": "code",
   "execution_count": 7,
   "metadata": {},
   "outputs": [
    {
     "data": {
      "image/png": "[encoded data removed]",
      "text/plain": [
       "<Figure size 432x288 with 2 Axes>"
      ]
     },
     "metadata": {
      "needs_background": "light"
     },
     "output_type": "display_data"
    }
   ],
   "source": [
    "#посмотрим на тепловую карту корреляций, чтобы выявить потенциальное наличие корреляций с переменными, на основании значений которых, можно заполнять пропуски в столбцах\n",
    "sns.heatmap(data.corr());"
   ]
  },
  {
   "cell_type": "code",
   "execution_count": 8,
   "metadata": {},
   "outputs": [
    {
     "data": {
      "text/html": [
       "<div>\n",
       "<style scoped>\n",
       "    .dataframe tbody tr th:only-of-type {\n",
       "        vertical-align: middle;\n",
       "    }\n",
       "\n",
       "    .dataframe tbody tr th {\n",
       "        vertical-align: top;\n",
       "    }\n",
       "\n",
       "    .dataframe thead th {\n",
       "        text-align: right;\n",
       "    }\n",
       "</style>\n",
       "<table border=\"1\" class=\"dataframe\">\n",
       "  <thead>\n",
       "    <tr style=\"text-align: right;\">\n",
       "      <th></th>\n",
       "      <th>total_images</th>\n",
       "      <th>last_price</th>\n",
       "      <th>total_area</th>\n",
       "      <th>rooms</th>\n",
       "      <th>ceiling_height</th>\n",
       "      <th>floors_total</th>\n",
       "      <th>living_area</th>\n",
       "      <th>floor</th>\n",
       "      <th>studio</th>\n",
       "      <th>open_plan</th>\n",
       "      <th>kitchen_area</th>\n",
       "      <th>balcony</th>\n",
       "      <th>airports_nearest</th>\n",
       "      <th>cityCenters_nearest</th>\n",
       "      <th>parks_around3000</th>\n",
       "      <th>parks_nearest</th>\n",
       "      <th>ponds_around3000</th>\n",
       "      <th>ponds_nearest</th>\n",
       "      <th>days_exposition</th>\n",
       "    </tr>\n",
       "  </thead>\n",
       "  <tbody>\n",
       "    <tr>\n",
       "      <th>total_images</th>\n",
       "      <td>1.000000</td>\n",
       "      <td>0.104473</td>\n",
       "      <td>0.115352</td>\n",
       "      <td>0.099288</td>\n",
       "      <td>-0.001987</td>\n",
       "      <td>0.010427</td>\n",
       "      <td>0.104780</td>\n",
       "      <td>0.031340</td>\n",
       "      <td>-0.029303</td>\n",
       "      <td>-0.024407</td>\n",
       "      <td>0.104756</td>\n",
       "      <td>0.121693</td>\n",
       "      <td>-0.002298</td>\n",
       "      <td>-0.047666</td>\n",
       "      <td>0.021120</td>\n",
       "      <td>-0.008347</td>\n",
       "      <td>-0.011553</td>\n",
       "      <td>-0.003034</td>\n",
       "      <td>-0.026657</td>\n",
       "    </tr>\n",
       "    <tr>\n",
       "      <th>last_price</th>\n",
       "      <td>0.104473</td>\n",
       "      <td>1.000000</td>\n",
       "      <td>0.653675</td>\n",
       "      <td>0.363343</td>\n",
       "      <td>0.085430</td>\n",
       "      <td>-0.006984</td>\n",
       "      <td>0.566492</td>\n",
       "      <td>0.026576</td>\n",
       "      <td>-0.025362</td>\n",
       "      <td>-0.008802</td>\n",
       "      <td>0.519869</td>\n",
       "      <td>0.029646</td>\n",
       "      <td>-0.026239</td>\n",
       "      <td>-0.206747</td>\n",
       "      <td>0.151058</td>\n",
       "      <td>-0.016414</td>\n",
       "      <td>0.159996</td>\n",
       "      <td>-0.084809</td>\n",
       "      <td>0.081146</td>\n",
       "    </tr>\n",
       "    <tr>\n",
       "      <th>total_area</th>\n",
       "      <td>0.115352</td>\n",
       "      <td>0.653675</td>\n",
       "      <td>1.000000</td>\n",
       "      <td>0.758344</td>\n",
       "      <td>0.095490</td>\n",
       "      <td>-0.075774</td>\n",
       "      <td>0.939537</td>\n",
       "      <td>-0.024754</td>\n",
       "      <td>-0.072653</td>\n",
       "      <td>-0.034885</td>\n",
       "      <td>0.609121</td>\n",
       "      <td>0.047937</td>\n",
       "      <td>-0.030753</td>\n",
       "      <td>-0.231446</td>\n",
       "      <td>0.164689</td>\n",
       "      <td>-0.021497</td>\n",
       "      <td>0.162346</td>\n",
       "      <td>-0.097969</td>\n",
       "      <td>0.149675</td>\n",
       "    </tr>\n",
       "    <tr>\n",
       "      <th>rooms</th>\n",
       "      <td>0.099288</td>\n",
       "      <td>0.363343</td>\n",
       "      <td>0.758344</td>\n",
       "      <td>1.000000</td>\n",
       "      <td>0.054457</td>\n",
       "      <td>-0.228215</td>\n",
       "      <td>0.845977</td>\n",
       "      <td>-0.150862</td>\n",
       "      <td>-0.147286</td>\n",
       "      <td>-0.087500</td>\n",
       "      <td>0.269945</td>\n",
       "      <td>0.017991</td>\n",
       "      <td>-0.061199</td>\n",
       "      <td>-0.184864</td>\n",
       "      <td>0.137257</td>\n",
       "      <td>-0.054549</td>\n",
       "      <td>0.092693</td>\n",
       "      <td>-0.057689</td>\n",
       "      <td>0.126961</td>\n",
       "    </tr>\n",
       "    <tr>\n",
       "      <th>ceiling_height</th>\n",
       "      <td>-0.001987</td>\n",
       "      <td>0.085430</td>\n",
       "      <td>0.095490</td>\n",
       "      <td>0.054457</td>\n",
       "      <td>1.000000</td>\n",
       "      <td>-0.028732</td>\n",
       "      <td>0.090650</td>\n",
       "      <td>-0.011798</td>\n",
       "      <td>0.001674</td>\n",
       "      <td>0.042777</td>\n",
       "      <td>0.087641</td>\n",
       "      <td>0.040523</td>\n",
       "      <td>-0.023947</td>\n",
       "      <td>-0.091689</td>\n",
       "      <td>0.065915</td>\n",
       "      <td>-0.019167</td>\n",
       "      <td>0.078209</td>\n",
       "      <td>-0.059090</td>\n",
       "      <td>0.019091</td>\n",
       "    </tr>\n",
       "    <tr>\n",
       "      <th>floors_total</th>\n",
       "      <td>0.010427</td>\n",
       "      <td>-0.006984</td>\n",
       "      <td>-0.075774</td>\n",
       "      <td>-0.228215</td>\n",
       "      <td>-0.028732</td>\n",
       "      <td>1.000000</td>\n",
       "      <td>-0.169311</td>\n",
       "      <td>0.678059</td>\n",
       "      <td>0.070151</td>\n",
       "      <td>0.050791</td>\n",
       "      <td>0.163944</td>\n",
       "      <td>0.194065</td>\n",
       "      <td>0.108288</td>\n",
       "      <td>0.019774</td>\n",
       "      <td>-0.252833</td>\n",
       "      <td>0.097527</td>\n",
       "      <td>-0.122735</td>\n",
       "      <td>0.038864</td>\n",
       "      <td>-0.052234</td>\n",
       "    </tr>\n",
       "    <tr>\n",
       "      <th>living_area</th>\n",
       "      <td>0.104780</td>\n",
       "      <td>0.566492</td>\n",
       "      <td>0.939537</td>\n",
       "      <td>0.845977</td>\n",
       "      <td>0.090650</td>\n",
       "      <td>-0.169311</td>\n",
       "      <td>1.000000</td>\n",
       "      <td>-0.097210</td>\n",
       "      <td>-0.056231</td>\n",
       "      <td>-0.033711</td>\n",
       "      <td>0.428674</td>\n",
       "      <td>0.018849</td>\n",
       "      <td>-0.057912</td>\n",
       "      <td>-0.231368</td>\n",
       "      <td>0.184453</td>\n",
       "      <td>-0.050167</td>\n",
       "      <td>0.148933</td>\n",
       "      <td>-0.081674</td>\n",
       "      <td>0.142454</td>\n",
       "    </tr>\n",
       "    <tr>\n",
       "      <th>floor</th>\n",
       "      <td>0.031340</td>\n",
       "      <td>0.026576</td>\n",
       "      <td>-0.024754</td>\n",
       "      <td>-0.150862</td>\n",
       "      <td>-0.011798</td>\n",
       "      <td>0.678059</td>\n",
       "      <td>-0.097210</td>\n",
       "      <td>1.000000</td>\n",
       "      <td>0.036940</td>\n",
       "      <td>0.035824</td>\n",
       "      <td>0.135531</td>\n",
       "      <td>0.168773</td>\n",
       "      <td>0.071597</td>\n",
       "      <td>0.009084</td>\n",
       "      <td>-0.163784</td>\n",
       "      <td>0.073045</td>\n",
       "      <td>-0.076312</td>\n",
       "      <td>0.024850</td>\n",
       "      <td>-0.039463</td>\n",
       "    </tr>\n",
       "    <tr>\n",
       "      <th>studio</th>\n",
       "      <td>-0.029303</td>\n",
       "      <td>-0.025362</td>\n",
       "      <td>-0.072653</td>\n",
       "      <td>-0.147286</td>\n",
       "      <td>0.001674</td>\n",
       "      <td>0.070151</td>\n",
       "      <td>-0.056231</td>\n",
       "      <td>0.036940</td>\n",
       "      <td>1.000000</td>\n",
       "      <td>-0.004235</td>\n",
       "      <td>NaN</td>\n",
       "      <td>0.031455</td>\n",
       "      <td>-0.021876</td>\n",
       "      <td>-0.007029</td>\n",
       "      <td>-0.030202</td>\n",
       "      <td>0.009134</td>\n",
       "      <td>0.000939</td>\n",
       "      <td>0.002606</td>\n",
       "      <td>-0.022476</td>\n",
       "    </tr>\n",
       "    <tr>\n",
       "      <th>open_plan</th>\n",
       "      <td>-0.024407</td>\n",
       "      <td>-0.008802</td>\n",
       "      <td>-0.034885</td>\n",
       "      <td>-0.087500</td>\n",
       "      <td>0.042777</td>\n",
       "      <td>0.050791</td>\n",
       "      <td>-0.033711</td>\n",
       "      <td>0.035824</td>\n",
       "      <td>-0.004235</td>\n",
       "      <td>1.000000</td>\n",
       "      <td>NaN</td>\n",
       "      <td>0.019491</td>\n",
       "      <td>-0.013583</td>\n",
       "      <td>-0.004204</td>\n",
       "      <td>-0.010077</td>\n",
       "      <td>0.010612</td>\n",
       "      <td>0.008455</td>\n",
       "      <td>-0.003328</td>\n",
       "      <td>-0.024112</td>\n",
       "    </tr>\n",
       "    <tr>\n",
       "      <th>kitchen_area</th>\n",
       "      <td>0.104756</td>\n",
       "      <td>0.519869</td>\n",
       "      <td>0.609121</td>\n",
       "      <td>0.269945</td>\n",
       "      <td>0.087641</td>\n",
       "      <td>0.163944</td>\n",
       "      <td>0.428674</td>\n",
       "      <td>0.135531</td>\n",
       "      <td>NaN</td>\n",
       "      <td>NaN</td>\n",
       "      <td>1.000000</td>\n",
       "      <td>0.098634</td>\n",
       "      <td>0.008200</td>\n",
       "      <td>-0.190049</td>\n",
       "      <td>0.087503</td>\n",
       "      <td>0.029641</td>\n",
       "      <td>0.150148</td>\n",
       "      <td>-0.105223</td>\n",
       "      <td>0.100586</td>\n",
       "    </tr>\n",
       "    <tr>\n",
       "      <th>balcony</th>\n",
       "      <td>0.121693</td>\n",
       "      <td>0.029646</td>\n",
       "      <td>0.047937</td>\n",
       "      <td>0.017991</td>\n",
       "      <td>0.040523</td>\n",
       "      <td>0.194065</td>\n",
       "      <td>0.018849</td>\n",
       "      <td>0.168773</td>\n",
       "      <td>0.031455</td>\n",
       "      <td>0.019491</td>\n",
       "      <td>0.098634</td>\n",
       "      <td>1.000000</td>\n",
       "      <td>0.066834</td>\n",
       "      <td>0.051051</td>\n",
       "      <td>-0.082850</td>\n",
       "      <td>0.052328</td>\n",
       "      <td>-0.032709</td>\n",
       "      <td>0.010847</td>\n",
       "      <td>-0.032909</td>\n",
       "    </tr>\n",
       "    <tr>\n",
       "      <th>airports_nearest</th>\n",
       "      <td>-0.002298</td>\n",
       "      <td>-0.026239</td>\n",
       "      <td>-0.030753</td>\n",
       "      <td>-0.061199</td>\n",
       "      <td>-0.023947</td>\n",
       "      <td>0.108288</td>\n",
       "      <td>-0.057912</td>\n",
       "      <td>0.071597</td>\n",
       "      <td>-0.021876</td>\n",
       "      <td>-0.013583</td>\n",
       "      <td>0.008200</td>\n",
       "      <td>0.066834</td>\n",
       "      <td>1.000000</td>\n",
       "      <td>0.272184</td>\n",
       "      <td>0.000759</td>\n",
       "      <td>-0.070058</td>\n",
       "      <td>-0.049583</td>\n",
       "      <td>0.014049</td>\n",
       "      <td>-0.018271</td>\n",
       "    </tr>\n",
       "    <tr>\n",
       "      <th>cityCenters_nearest</th>\n",
       "      <td>-0.047666</td>\n",
       "      <td>-0.206747</td>\n",
       "      <td>-0.231446</td>\n",
       "      <td>-0.184864</td>\n",
       "      <td>-0.091689</td>\n",
       "      <td>0.019774</td>\n",
       "      <td>-0.231368</td>\n",
       "      <td>0.009084</td>\n",
       "      <td>-0.007029</td>\n",
       "      <td>-0.004204</td>\n",
       "      <td>-0.190049</td>\n",
       "      <td>0.051051</td>\n",
       "      <td>0.272184</td>\n",
       "      <td>1.000000</td>\n",
       "      <td>-0.161738</td>\n",
       "      <td>-0.040650</td>\n",
       "      <td>-0.074577</td>\n",
       "      <td>0.028903</td>\n",
       "      <td>-0.060714</td>\n",
       "    </tr>\n",
       "    <tr>\n",
       "      <th>parks_around3000</th>\n",
       "      <td>0.021120</td>\n",
       "      <td>0.151058</td>\n",
       "      <td>0.164689</td>\n",
       "      <td>0.137257</td>\n",
       "      <td>0.065915</td>\n",
       "      <td>-0.252833</td>\n",
       "      <td>0.184453</td>\n",
       "      <td>-0.163784</td>\n",
       "      <td>-0.030202</td>\n",
       "      <td>-0.010077</td>\n",
       "      <td>0.087503</td>\n",
       "      <td>-0.082850</td>\n",
       "      <td>0.000759</td>\n",
       "      <td>-0.161738</td>\n",
       "      <td>1.000000</td>\n",
       "      <td>-0.259514</td>\n",
       "      <td>0.304316</td>\n",
       "      <td>-0.167103</td>\n",
       "      <td>0.060491</td>\n",
       "    </tr>\n",
       "    <tr>\n",
       "      <th>parks_nearest</th>\n",
       "      <td>-0.008347</td>\n",
       "      <td>-0.016414</td>\n",
       "      <td>-0.021497</td>\n",
       "      <td>-0.054549</td>\n",
       "      <td>-0.019167</td>\n",
       "      <td>0.097527</td>\n",
       "      <td>-0.050167</td>\n",
       "      <td>0.073045</td>\n",
       "      <td>0.009134</td>\n",
       "      <td>0.010612</td>\n",
       "      <td>0.029641</td>\n",
       "      <td>0.052328</td>\n",
       "      <td>-0.070058</td>\n",
       "      <td>-0.040650</td>\n",
       "      <td>-0.259514</td>\n",
       "      <td>1.000000</td>\n",
       "      <td>0.077280</td>\n",
       "      <td>0.000692</td>\n",
       "      <td>0.023254</td>\n",
       "    </tr>\n",
       "    <tr>\n",
       "      <th>ponds_around3000</th>\n",
       "      <td>-0.011553</td>\n",
       "      <td>0.159996</td>\n",
       "      <td>0.162346</td>\n",
       "      <td>0.092693</td>\n",
       "      <td>0.078209</td>\n",
       "      <td>-0.122735</td>\n",
       "      <td>0.148933</td>\n",
       "      <td>-0.076312</td>\n",
       "      <td>0.000939</td>\n",
       "      <td>0.008455</td>\n",
       "      <td>0.150148</td>\n",
       "      <td>-0.032709</td>\n",
       "      <td>-0.049583</td>\n",
       "      <td>-0.074577</td>\n",
       "      <td>0.304316</td>\n",
       "      <td>0.077280</td>\n",
       "      <td>1.000000</td>\n",
       "      <td>-0.341840</td>\n",
       "      <td>0.073162</td>\n",
       "    </tr>\n",
       "    <tr>\n",
       "      <th>ponds_nearest</th>\n",
       "      <td>-0.003034</td>\n",
       "      <td>-0.084809</td>\n",
       "      <td>-0.097969</td>\n",
       "      <td>-0.057689</td>\n",
       "      <td>-0.059090</td>\n",
       "      <td>0.038864</td>\n",
       "      <td>-0.081674</td>\n",
       "      <td>0.024850</td>\n",
       "      <td>0.002606</td>\n",
       "      <td>-0.003328</td>\n",
       "      <td>-0.105223</td>\n",
       "      <td>0.010847</td>\n",
       "      <td>0.014049</td>\n",
       "      <td>0.028903</td>\n",
       "      <td>-0.167103</td>\n",
       "      <td>0.000692</td>\n",
       "      <td>-0.341840</td>\n",
       "      <td>1.000000</td>\n",
       "      <td>-0.077879</td>\n",
       "    </tr>\n",
       "    <tr>\n",
       "      <th>days_exposition</th>\n",
       "      <td>-0.026657</td>\n",
       "      <td>0.081146</td>\n",
       "      <td>0.149675</td>\n",
       "      <td>0.126961</td>\n",
       "      <td>0.019091</td>\n",
       "      <td>-0.052234</td>\n",
       "      <td>0.142454</td>\n",
       "      <td>-0.039463</td>\n",
       "      <td>-0.022476</td>\n",
       "      <td>-0.024112</td>\n",
       "      <td>0.100586</td>\n",
       "      <td>-0.032909</td>\n",
       "      <td>-0.018271</td>\n",
       "      <td>-0.060714</td>\n",
       "      <td>0.060491</td>\n",
       "      <td>0.023254</td>\n",
       "      <td>0.073162</td>\n",
       "      <td>-0.077879</td>\n",
       "      <td>1.000000</td>\n",
       "    </tr>\n",
       "  </tbody>\n",
       "</table>\n",
       "</div>"
      ],
      "text/plain": [
       "                     total_images  last_price  total_area     rooms  \\\n",
       "total_images             1.000000    0.104473    0.115352  0.099288   \n",
       "last_price               0.104473    1.000000    0.653675  0.363343   \n",
       "total_area               0.115352    0.653675    1.000000  0.758344   \n",
       "rooms                    0.099288    0.363343    0.758344  1.000000   \n",
       "ceiling_height          -0.001987    0.085430    0.095490  0.054457   \n",
       "floors_total             0.010427   -0.006984   -0.075774 -0.228215   \n",
       "living_area              0.104780    0.566492    0.939537  0.845977   \n",
       "floor                    0.031340    0.026576   -0.024754 -0.150862   \n",
       "studio                  -0.029303   -0.025362   -0.072653 -0.147286   \n",
       "open_plan               -0.024407   -0.008802   -0.034885 -0.087500   \n",
       "kitchen_area             0.104756    0.519869    0.609121  0.269945   \n",
       "balcony                  0.121693    0.029646    0.047937  0.017991   \n",
       "airports_nearest        -0.002298   -0.026239   -0.030753 -0.061199   \n",
       "cityCenters_nearest     -0.047666   -0.206747   -0.231446 -0.184864   \n",
       "parks_around3000         0.021120    0.151058    0.164689  0.137257   \n",
       "parks_nearest           -0.008347   -0.016414   -0.021497 -0.054549   \n",
       "ponds_around3000        -0.011553    0.159996    0.162346  0.092693   \n",
       "ponds_nearest           -0.003034   -0.084809   -0.097969 -0.057689   \n",
       "days_exposition         -0.026657    0.081146    0.149675  0.126961   \n",
       "\n",
       "                     ceiling_height  floors_total  living_area     floor  \\\n",
       "total_images              -0.001987      0.010427     0.104780  0.031340   \n",
       "last_price                 0.085430     -0.006984     0.566492  0.026576   \n",
       "total_area                 0.095490     -0.075774     0.939537 -0.024754   \n",
       "rooms                      0.054457     -0.228215     0.845977 -0.150862   \n",
       "ceiling_height             1.000000     -0.028732     0.090650 -0.011798   \n",
       "floors_total              -0.028732      1.000000    -0.169311  0.678059   \n",
       "living_area                0.090650     -0.169311     1.000000 -0.097210   \n",
       "floor                     -0.011798      0.678059    -0.097210  1.000000   \n",
       "studio                     0.001674      0.070151    -0.056231  0.036940   \n",
       "open_plan                  0.042777      0.050791    -0.033711  0.035824   \n",
       "kitchen_area               0.087641      0.163944     0.428674  0.135531   \n",
       "balcony                    0.040523      0.194065     0.018849  0.168773   \n",
       "airports_nearest          -0.023947      0.108288    -0.057912  0.071597   \n",
       "cityCenters_nearest       -0.091689      0.019774    -0.231368  0.009084   \n",
       "parks_around3000           0.065915     -0.252833     0.184453 -0.163784   \n",
       "parks_nearest             -0.019167      0.097527    -0.050167  0.073045   \n",
       "ponds_around3000           0.078209     -0.122735     0.148933 -0.076312   \n",
       "ponds_nearest             -0.059090      0.038864    -0.081674  0.024850   \n",
       "days_exposition            0.019091     -0.052234     0.142454 -0.039463   \n",
       "\n",
       "                       studio  open_plan  kitchen_area   balcony  \\\n",
       "total_images        -0.029303  -0.024407      0.104756  0.121693   \n",
       "last_price          -0.025362  -0.008802      0.519869  0.029646   \n",
       "total_area          -0.072653  -0.034885      0.609121  0.047937   \n",
       "rooms               -0.147286  -0.087500      0.269945  0.017991   \n",
       "ceiling_height       0.001674   0.042777      0.087641  0.040523   \n",
       "floors_total         0.070151   0.050791      0.163944  0.194065   \n",
       "living_area         -0.056231  -0.033711      0.428674  0.018849   \n",
       "floor                0.036940   0.035824      0.135531  0.168773   \n",
       "studio               1.000000  -0.004235           NaN  0.031455   \n",
       "open_plan           -0.004235   1.000000           NaN  0.019491   \n",
       "kitchen_area              NaN        NaN      1.000000  0.098634   \n",
       "balcony              0.031455   0.019491      0.098634  1.000000   \n",
       "airports_nearest    -0.021876  -0.013583      0.008200  0.066834   \n",
       "cityCenters_nearest -0.007029  -0.004204     -0.190049  0.051051   \n",
       "parks_around3000    -0.030202  -0.010077      0.087503 -0.082850   \n",
       "parks_nearest        0.009134   0.010612      0.029641  0.052328   \n",
       "ponds_around3000     0.000939   0.008455      0.150148 -0.032709   \n",
       "ponds_nearest        0.002606  -0.003328     -0.105223  0.010847   \n",
       "days_exposition     -0.022476  -0.024112      0.100586 -0.032909   \n",
       "\n",
       "                     airports_nearest  cityCenters_nearest  parks_around3000  \\\n",
       "total_images                -0.002298            -0.047666          0.021120   \n",
       "last_price                  -0.026239            -0.206747          0.151058   \n",
       "total_area                  -0.030753            -0.231446          0.164689   \n",
       "rooms                       -0.061199            -0.184864          0.137257   \n",
       "ceiling_height              -0.023947            -0.091689          0.065915   \n",
       "floors_total                 0.108288             0.019774         -0.252833   \n",
       "living_area                 -0.057912            -0.231368          0.184453   \n",
       "floor                        0.071597             0.009084         -0.163784   \n",
       "studio                      -0.021876            -0.007029         -0.030202   \n",
       "open_plan                   -0.013583            -0.004204         -0.010077   \n",
       "kitchen_area                 0.008200            -0.190049          0.087503   \n",
       "balcony                      0.066834             0.051051         -0.082850   \n",
       "airports_nearest             1.000000             0.272184          0.000759   \n",
       "cityCenters_nearest          0.272184             1.000000         -0.161738   \n",
       "parks_around3000             0.000759            -0.161738          1.000000   \n",
       "parks_nearest               -0.070058            -0.040650         -0.259514   \n",
       "ponds_around3000            -0.049583            -0.074577          0.304316   \n",
       "ponds_nearest                0.014049             0.028903         -0.167103   \n",
       "days_exposition             -0.018271            -0.060714          0.060491   \n",
       "\n",
       "                     parks_nearest  ponds_around3000  ponds_nearest  \\\n",
       "total_images             -0.008347         -0.011553      -0.003034   \n",
       "last_price               -0.016414          0.159996      -0.084809   \n",
       "total_area               -0.021497          0.162346      -0.097969   \n",
       "rooms                    -0.054549          0.092693      -0.057689   \n",
       "ceiling_height           -0.019167          0.078209      -0.059090   \n",
       "floors_total              0.097527         -0.122735       0.038864   \n",
       "living_area              -0.050167          0.148933      -0.081674   \n",
       "floor                     0.073045         -0.076312       0.024850   \n",
       "studio                    0.009134          0.000939       0.002606   \n",
       "open_plan                 0.010612          0.008455      -0.003328   \n",
       "kitchen_area              0.029641          0.150148      -0.105223   \n",
       "balcony                   0.052328         -0.032709       0.010847   \n",
       "airports_nearest         -0.070058         -0.049583       0.014049   \n",
       "cityCenters_nearest      -0.040650         -0.074577       0.028903   \n",
       "parks_around3000         -0.259514          0.304316      -0.167103   \n",
       "parks_nearest             1.000000          0.077280       0.000692   \n",
       "ponds_around3000          0.077280          1.000000      -0.341840   \n",
       "ponds_nearest             0.000692         -0.341840       1.000000   \n",
       "days_exposition           0.023254          0.073162      -0.077879   \n",
       "\n",
       "                     days_exposition  \n",
       "total_images               -0.026657  \n",
       "last_price                  0.081146  \n",
       "total_area                  0.149675  \n",
       "rooms                       0.126961  \n",
       "ceiling_height              0.019091  \n",
       "floors_total               -0.052234  \n",
       "living_area                 0.142454  \n",
       "floor                      -0.039463  \n",
       "studio                     -0.022476  \n",
       "open_plan                  -0.024112  \n",
       "kitchen_area                0.100586  \n",
       "balcony                    -0.032909  \n",
       "airports_nearest           -0.018271  \n",
       "cityCenters_nearest        -0.060714  \n",
       "parks_around3000            0.060491  \n",
       "parks_nearest               0.023254  \n",
       "ponds_around3000            0.073162  \n",
       "ponds_nearest              -0.077879  \n",
       "days_exposition             1.000000  "
      ]
     },
     "execution_count": 8,
     "metadata": {},
     "output_type": "execute_result"
    }
   ],
   "source": [
    "data.corr()"
   ]
  },
  {
   "cell_type": "markdown",
   "metadata": {},
   "source": [
    "Результаты анализа пропусков и корреляций:\n",
    "1. столбец 'ceiling_height' - 38,8% значений пропущено, не выявлена значительная корреляция ни с одной переменной;\n",
    "2. столбец 'floors_total' - 0,36% значений пропущено, выявлена корреляция с 'floor' (+0,678);\n",
    "3. столбец 'living_area' - 8,03% значений пропущено, выявлена корреляция с 'total_area' (+0,94) и 'rooms' (+0,85);\n",
    "4. столбец 'is_apartment' -  88,3% значений пропущено; \n",
    "5. столбец 'kitchen_area' - 9,6% значений пропущено, выявлена корреляция с 'living_area' (+0,429) и с 'total_rea' (+0,609);\n",
    "6. столбец 'balcony' - 48,6% значений пропущено, не вывлена значительная корреляция ни с одной переменной; \n",
    "7. столбец 'locality_name' - 0,21% значений пропущено, не выявлена значимая корреляция ни с одной переменной; \n",
    "8. столбец 'airports_nearest' - 23,4% значений пропущено, выявлена корреляция с cityCenters_nearest' (+0,272) => аэропорты по-видимому находятся чаще всего в отдалении от центра;\n",
    "9. столбец'cityCenters_nearest' - 23,4% значений пропущено, выявлена корреляция с 'living_area' (-0,231) => с приближением к центру площадь квартиры снижается;\n",
    "10. столбец 'parks_around3000' - 23,3% значений пропущено, выявлена корреляция с 'floors_total' (-0,253), c 'parks_nearest' (-0,259), с 'ponds_around3000' (+0,304): т.е. рядом с парками вероятнее всего находятся малоэтажные дома, если есть парки, то вероятнее всего рядом также будет водоем; \n",
    "11. столбец 'parks_nearest' - 65,9% значений пропущено, выявлена корреляция с \n",
    "'parks_around3000' (-0,260); \n",
    "13. столбец 'ponds_around3000' - 23,3% значений пропущено, выявлена корреляция 'parks_around3000' (+0,304) и с 'ponds_nearest' (-0,342);\n",
    "14. столбец 'ponds_nearest' - 61,6% значений пропущено, выявлена корреляция с 'ponds_around3000' (-0,342);\n",
    "15. столбец days_exposition - 13,4% значений пропущено, не выявлена значимая корреляция с чем-либо. "
   ]
  },
  {
   "cell_type": "code",
   "execution_count": 9,
   "metadata": {},
   "outputs": [],
   "source": [
    "#т.к. не выявлена корреляция высоты потолков ни с одной переменной в датасете, заподним пропуски медианными значениями\n",
    "data['ceiling_height'] = data['ceiling_height'].fillna(data['ceiling_height'].median())"
   ]
  },
  {
   "cell_type": "code",
   "execution_count": 10,
   "metadata": {
    "scrolled": true
   },
   "outputs": [
    {
     "data": {
      "text/plain": [
       "0"
      ]
     },
     "execution_count": 10,
     "metadata": {},
     "output_type": "execute_result"
    }
   ],
   "source": [
    "#с учетом, что коррелция между этажом квартиры ('floor') и этажностью дома ('floors_total') составляет 0,68, заполним пропуски в столбце 'floor'\n",
    "#найдем медианное значение общего числа этажей в зависимости от текущего этажа\n",
    "floors_dict = data.groupby('floor')['floors_total'].median()\n",
    "floors_dict = floors_dict.to_dict()\n",
    "#создадим функцию для заполнения пропусков в столбце 'floors_total'\n",
    "def floors_missing_values(row):\n",
    "    if pd.isna(row['floors_total']):\n",
    "        row['floors_total'] == floors_dict[row['floor']]\n",
    "        return floors_dict[row['floor']]\n",
    "    else:\n",
    "        return row['floors_total']\n",
    "#заполним пропуски в столбце 'floors_total'\n",
    "data['floors_total'] = data.apply(floors_missing_values, axis=1)\n",
    "#проверим заполнение пропусков\n",
    "data['floors_total'].isna().sum()"
   ]
  },
  {
   "cell_type": "code",
   "execution_count": 11,
   "metadata": {},
   "outputs": [
    {
     "data": {
      "text/plain": [
       "0"
      ]
     },
     "execution_count": 11,
     "metadata": {},
     "output_type": "execute_result"
    }
   ],
   "source": [
    "#заполним пропуски в столбце 'living_area' с учетом выявленной корреляции с общей площадью квартиры и количеством комнат\n",
    "data['living_area_index'] = data['living_area']/data['total_area']\n",
    "living_area_dict = data.groupby('rooms').median()['living_area_index']\n",
    "living_area_dict = living_area_dict.to_dict()\n",
    "#создадим функцию для заполнения пропусков в столбце 'living_area'\n",
    "def living_area_index_missing_values(row):\n",
    "    if pd.isna(row['living_area_index']):\n",
    "        row['living_area_index'] == living_area_dict[row['rooms']]\n",
    "        return living_area_dict[row['rooms']]\n",
    "    else:\n",
    "        return row['living_area_index']\n",
    "#заполним пропуски в столбце 'living_area_index'\n",
    "data['living_area_index'] = data.apply(living_area_index_missing_values, axis=1)\n",
    "data['living_area'] = data['living_area'].fillna(data['living_area_index']*data['total_area'])\n",
    "#проверим заполняемость пропусков\n",
    "data['living_area'].isna().sum()"
   ]
  },
  {
   "cell_type": "code",
   "execution_count": 12,
   "metadata": {},
   "outputs": [
    {
     "data": {
      "text/plain": [
       "0.7311095150292755"
      ]
     },
     "execution_count": 12,
     "metadata": {},
     "output_type": "execute_result"
    }
   ],
   "source": [
    "#создадим стоблец с нежилой площадью 'non_residential_area'\n",
    "data['non_residential_area'] = data['total_area'] - data['living_area']\n",
    "#вычислим корреляцию с плоащью кухни\n",
    "data['kitchen_area'].corr(data['non_residential_area'])"
   ]
  },
  {
   "cell_type": "code",
   "execution_count": 13,
   "metadata": {},
   "outputs": [
    {
     "data": {
      "text/plain": [
       "0"
      ]
     },
     "execution_count": 13,
     "metadata": {},
     "output_type": "execute_result"
    }
   ],
   "source": [
    "#с учетом выявленной корреляции заполним пропуски в столбце 'kitchen_area'\n",
    "#создадим стобец с индексами для соответствующих квартилей нежилой площади\n",
    "data['non_residential_area_index'] = pd.qcut(data['non_residential_area'], q=4, labels=['1', '2', '3', '4'])\n",
    "#найдем медианное значение 'kitchen_area' для соответствующих значений \n",
    "d = data.groupby('non_residential_area_index')['kitchen_area'].median()\n",
    "kitchen_area_dict = d.to_dict()\n",
    "#создадим функцию для заполнения пропусков в столбце 'kitchen_area'\n",
    "def kitchen_area_missing_values(row):\n",
    "    if pd.isna(row['kitchen_area']):\n",
    "        row['kitchen_area'] == kitchen_area_dict[row['non_residential_area_index']]\n",
    "        return kitchen_area_dict[row['non_residential_area_index']]\n",
    "    else:\n",
    "        return row['kitchen_area']\n",
    "#заполним пропуски в столбце 'kitchen_area' c помощью созданной функции\n",
    "data['kitchen_area'] = data.apply(kitchen_area_missing_values, axis=1)\n",
    "#проверим заполнение пропусков\n",
    "data['kitchen_area'].isna().sum()"
   ]
  },
  {
   "cell_type": "code",
   "execution_count": 14,
   "metadata": {},
   "outputs": [
    {
     "data": {
      "text/plain": [
       "0"
      ]
     },
     "execution_count": 14,
     "metadata": {},
     "output_type": "execute_result"
    }
   ],
   "source": [
    "#предположим, что количество дней размещения объявления зависит от дня месяца, в котором оно было размещено\n",
    "#приведем значение столбца 'first_day_exposition' к формату даты \n",
    "data['date'] = pd.to_datetime(data['first_day_exposition'], format = '%Y-%m-%dT%H:%M:%S')\n",
    "#извлечем день месяца из столбца\n",
    "data['day'] = pd.DatetimeIndex(data['date']).day\n",
    "#заполним пропуски в 'days_exposition' на основании значений в столбце 'day'\n",
    "#будет отталкиваться от медианного значения в заивисимости от дня месяца\n",
    "d_1 = data.groupby('day')['days_exposition'].median()\n",
    "days_expos_dict = d_1.to_dict()\n",
    "#создадим функцию для заполнения пропусков в столбце 'days_exposition'\n",
    "def days_exposition_missing_values(row):\n",
    "    if pd.isna(row['days_exposition']):\n",
    "        row['days_exposition'] == days_expos_dict[row['day']]\n",
    "        return days_expos_dict[row['day']]\n",
    "    else:\n",
    "        return  row['days_exposition']\n",
    "#заполним пропуски в столбце 'days_exposition'\n",
    "data['days_exposition'] = data.apply(days_exposition_missing_values, axis=1)\n",
    "#проверим заполняемость пропусков\n",
    "data['days_exposition'].isna().sum()"
   ]
  },
  {
   "cell_type": "code",
   "execution_count": 15,
   "metadata": {},
   "outputs": [],
   "source": [
    "#предположим, что если пропущено значение с принадлежностью к типу 'апартаменты', то квартира не является апартаментами\n",
    "data['is_apartment'].fillna(value=False, inplace = True)"
   ]
  },
  {
   "cell_type": "code",
   "execution_count": 16,
   "metadata": {},
   "outputs": [],
   "source": [
    "#предположим, что в случае наличия балконов, парков и водоемов рядом с квартирой, ее продавец обязательно бы указал данную информацию в объявлении\n",
    "#если данная информация отсутствует, значит балконов, парков и водомоев поблизости нет\n",
    "for i in ['balcony', 'parks_around3000', 'ponds_around3000']:\n",
    "    data[i].fillna(value=0, inplace = True)"
   ]
  },
  {
   "cell_type": "markdown",
   "metadata": {},
   "source": [
    "*Результат заполнения пропусков*\n",
    "- пропуски в столбце 'ceiling_height' заполнены медианными значениями;\n",
    "- пропуски в столбце 'floors_total' заполнены медианными значениями на основании столбца 'floor';\n",
    "- пропуски в столбце 'living_area' заполнены медианными значениями на основании соотношения жилой и общей площади квартиры, сгруппированного по количеству комнат;\n",
    "- пропуски в столбце 'kitchen_area' заполнены медианными значениями на основании вычисленного значения нежилой площади; \n",
    "- пропуски в столбце 'days_exposition' заполнены на основании даты публикации;\n",
    "- с учетом предположения, что если квартира является апартаментами, владелец точно указал бы это в объявлении, пропуски в столбце 'is_apartment' заполнены значениями 'False';\n",
    "- исходя из предпосылки, что у продавца квартиры есть существенные стимулы указывать в объявлении количество балконов, парков и водоемов, поскольку они повышают ее стоимость, пропуски являются индикатором их отсутствия (они заменены на нулевое значение).\n",
    "\n",
    "Пропуски в столбцах 'locality_name', 'cityCenters_nearest', 'parks_nearest', 'ponds_nearest' оставим, поскольку они являются не случайными и значительной корреляции с другими столбцами не было выявлено. \n",
    "\n"
   ]
  },
  {
   "cell_type": "markdown",
   "metadata": {},
   "source": [
    "#### 2.2. Преобразование типа данных\n",
    "<a name=\"subparagraph2\"></a>"
   ]
  },
  {
   "cell_type": "code",
   "execution_count": 17,
   "metadata": {},
   "outputs": [],
   "source": [
    "#приведем значения в столбцах 'total_area', 'floors_total', 'living_area', 'last_price'\n",
    "#а также в столбцах 'kitchen_area', 'balcony', 'airports_nearest', ' cityCenters_nearest'\n",
    "# 'parks_around3000', 'parks_nearest', 'ponds_around3000', 'ponds_nearest'\n",
    "# 'days_exposition' к целочисленному виду для экономии памяти и упрощения дальнейших вычислений.\n",
    "for i in ['total_area', 'last_price',  'floors_total', 'living_area', 'rooms', 'ceiling_height', 'kitchen_area', 'balcony', 'parks_around3000',  'ponds_around3000', 'days_exposition']:\n",
    "    data[i] = data[i].astype(int)"
   ]
  },
  {
   "cell_type": "markdown",
   "metadata": {},
   "source": [
    "Потенциальные причины возникновения пропусков в данных:\n",
    "    \n",
    "- пропуски в столбцах с высотой потолков и жилой площадью могут быть неслучайными - продавец мог не указать их преднамеренно, не желая применять дисконт к цене с учетом данных параметров (низкие потолки или низкое соотношение жилой и общей площади может снизить спрос покупателей);\n",
    "- пропуски в столбцах с количеством этажей в доме и площадью кухни могут быть случайными - продавец забыл указать данные параметры в объявлении; \n",
    "- пропуск в столбце 'is_apartment' тоже может быть случайным: по умолчанию продаваемая квартира не является апартаментами и продавец не стал обращат внимание на данное поле и отмечать опцию \"не является апартаментами\"; \n",
    "- пропуски в столбце с количеством дней, в течение которых было размещено объявление, могли возникнуть вследствие технической ошибки (например, система не зарегистрировала дату снятия публикации); \n",
    "- пропуски в столбцах 'locality_name', 'cityCenters_nearest', 'parks_nearest', 'ponds_nearest' могут быть связаны, например, с ошибками идентификции местоположения квартиры по адресу при автоматическом сборе картографических данных. "
   ]
  },
  {
   "cell_type": "markdown",
   "metadata": {},
   "source": [
    "### Шаг 3. Расчет и добавление в таблицу новых параметров и категорий\n",
    "<a name=\"paragraph3\"></a>"
   ]
  },
  {
   "cell_type": "code",
   "execution_count": 18,
   "metadata": {},
   "outputs": [],
   "source": [
    "#добавим в таблицу столбец с ценой квадратного метра\n",
    "data['price_per_square_meter'] = data['last_price']/data['total_area']"
   ]
  },
  {
   "cell_type": "code",
   "execution_count": 19,
   "metadata": {},
   "outputs": [],
   "source": [
    "#создадим столбец с днем недели публикации объявления\n",
    "data['day_week'] = pd.DatetimeIndex(data['date']).dayofweek\n",
    "week_day_dict = {0: 'понедельник', 1: 'вторник', 2: 'среда', 3: 'четверг', 4: 'пятница', 5: 'суббота', 6: 'воскресенье'}\n",
    "data['day_week'] = data['day_week'].apply(lambda x: week_day_dict[x])\n",
    "#создадим столбец с месяцем публикации\n",
    "data['month'] = pd.DatetimeIndex(data['date']).month\n",
    "#создадим столбец с годом публикации объявления\n",
    "data['year'] = pd.DatetimeIndex(data['date']).year"
   ]
  },
  {
   "cell_type": "code",
   "execution_count": 20,
   "metadata": {},
   "outputs": [],
   "source": [
    "#разделим этажи на три категории: первый, последний, другой\n",
    "def floor_category(row):\n",
    "    if row['floor'] == 1:\n",
    "        return 'первый'\n",
    "    if row['floor'] == row['floors_total']:\n",
    "        return 'последний'\n",
    "    else:\n",
    "        return 'другой'\n",
    "#создадим столбец с категорией этажа\n",
    "data['floor_index'] = data.apply(floor_category, axis=1)"
   ]
  },
  {
   "cell_type": "code",
   "execution_count": 21,
   "metadata": {},
   "outputs": [],
   "source": [
    "#добавим столбец с соотошением площади кухни и общей площади\n",
    "data['kitchen_area_index'] = data['kitchen_area']/data['total_area']"
   ]
  },
  {
   "cell_type": "markdown",
   "metadata": {},
   "source": [
    "### Шаг 4. Исследовательский анализ данных\n",
    "<a name=\"paragraph4\"></a>"
   ]
  },
  {
   "cell_type": "markdown",
   "metadata": {},
   "source": [
    "#### 4.1 Изучение распределение параметров площади, цены, числа комнат, высоты потолков\n",
    "<a name=\"subparagraph3\"></a>"
   ]
  },
  {
   "cell_type": "code",
   "execution_count": 22,
   "metadata": {
    "scrolled": false
   },
   "outputs": [
    {
     "data": {
      "image/png": "[encoded data removed]",
      "text/plain": [
       "<Figure size 432x288 with 1 Axes>"
      ]
     },
     "metadata": {
      "needs_background": "light"
     },
     "output_type": "display_data"
    },
    {
     "data": {
      "image/png": "[encoded data removed]",
      "text/plain": [
       "<Figure size 432x288 with 1 Axes>"
      ]
     },
     "metadata": {
      "needs_background": "light"
     },
     "output_type": "display_data"
    },
    {
     "data": {
      "image/png": "[encoded data removed]",
      "text/plain": [
       "<Figure size 432x288 with 1 Axes>"
      ]
     },
     "metadata": {
      "needs_background": "light"
     },
     "output_type": "display_data"
    },
    {
     "data": {
      "image/png": "[encoded data removed]",
      "text/plain": [
       "<Figure size 432x288 with 1 Axes>"
      ]
     },
     "metadata": {
      "needs_background": "light"
     },
     "output_type": "display_data"
    },
    {
     "data": {
      "image/png": "[encoded data removed]",
      "text/plain": [
       "<Figure size 432x288 with 1 Axes>"
      ]
     },
     "metadata": {
      "needs_background": "light"
     },
     "output_type": "display_data"
    }
   ],
   "source": [
    "list = {'total_area', 'last_price', 'rooms', 'ceiling_height', 'days_exposition'}\n",
    "for i in list:\n",
    "    plt.hist(x = data[i], bins=60)\n",
    "    plt.title(i)\n",
    "    plt.show()"
   ]
  },
  {
   "cell_type": "code",
   "execution_count": 23,
   "metadata": {},
   "outputs": [
    {
     "data": {
      "text/plain": [
       "count    23699.000000\n",
       "mean        60.120511\n",
       "std         35.665822\n",
       "min         12.000000\n",
       "25%         40.000000\n",
       "50%         52.000000\n",
       "75%         69.000000\n",
       "max        900.000000\n",
       "Name: total_area, dtype: float64"
      ]
     },
     "execution_count": 23,
     "metadata": {},
     "output_type": "execute_result"
    }
   ],
   "source": [
    "data['total_area'].describe()\n",
    "#средняя площадь квартиры составляет 60,1 метра\n",
    "#наблюдаем значительный разброс между максимальным и минимальным значением"
   ]
  },
  {
   "cell_type": "code",
   "execution_count": 24,
   "metadata": {},
   "outputs": [
    {
     "data": {
      "text/plain": [
       "count    2.369900e+04\n",
       "mean     6.541549e+06\n",
       "std      1.088701e+07\n",
       "min      1.219000e+04\n",
       "25%      3.400000e+06\n",
       "50%      4.650000e+06\n",
       "75%      6.800000e+06\n",
       "max      7.630000e+08\n",
       "Name: last_price, dtype: float64"
      ]
     },
     "execution_count": 24,
     "metadata": {},
     "output_type": "execute_result"
    }
   ],
   "source": [
    "data['last_price'].describe()\n",
    "# средняя стоимость квартиры 6,54 млн руб. - вполне адекватная стоимость\n",
    "#максимальная стоимость составляет 763 млн руб.\n",
    "#средняя цена квартиры составляет 6,54 млн\n",
    "#при этом значительный разброс в данных  - стандартное отклонение составляет 10,9 млн руб."
   ]
  },
  {
   "cell_type": "code",
   "execution_count": 25,
   "metadata": {},
   "outputs": [
    {
     "data": {
      "text/plain": [
       "count    23699.000000\n",
       "mean         2.070636\n",
       "std          1.078405\n",
       "min          0.000000\n",
       "25%          1.000000\n",
       "50%          2.000000\n",
       "75%          3.000000\n",
       "max         19.000000\n",
       "Name: rooms, dtype: float64"
      ]
     },
     "execution_count": 25,
     "metadata": {},
     "output_type": "execute_result"
    }
   ],
   "source": [
    "data['rooms'].describe()\n",
    "#среднее количество комнат в квартире - две \n",
    "#максимальное количество комнат - 19"
   ]
  },
  {
   "cell_type": "code",
   "execution_count": 26,
   "metadata": {},
   "outputs": [
    {
     "data": {
      "text/plain": [
       "count    23699.000000\n",
       "mean         2.142411\n",
       "std          1.033337\n",
       "min          1.000000\n",
       "25%          2.000000\n",
       "50%          2.000000\n",
       "75%          2.000000\n",
       "max        100.000000\n",
       "Name: ceiling_height, dtype: float64"
      ]
     },
     "execution_count": 26,
     "metadata": {},
     "output_type": "execute_result"
    }
   ],
   "source": [
    "data['ceiling_height'].describe()\n",
    "#средняя высота потолков составляет 2,72 метра "
   ]
  },
  {
   "cell_type": "code",
   "execution_count": 27,
   "metadata": {},
   "outputs": [
    {
     "data": {
      "text/plain": [
       "count    23699.000000\n",
       "mean       169.699312\n",
       "std        206.439026\n",
       "min          1.000000\n",
       "25%         45.000000\n",
       "50%         97.000000\n",
       "75%        199.000000\n",
       "max       1580.000000\n",
       "Name: days_exposition, dtype: float64"
      ]
     },
     "execution_count": 27,
     "metadata": {},
     "output_type": "execute_result"
    }
   ],
   "source": [
    "data['days_exposition'].describe()"
   ]
  },
  {
   "cell_type": "code",
   "execution_count": 28,
   "metadata": {},
   "outputs": [
    {
     "name": "stdout",
     "output_type": "stream",
     "text": [
      "Среднее значение ceiling_height составляет 2.1 и медиана 2.0\n",
      "Среднее значение rooms составляет 2.1 и медиана 2.0\n",
      "Среднее значение days_exposition составляет 169.7 и медиана 97.0\n",
      "Среднее значение last_price составляет 6541548.8 и медиана 4650000.0\n",
      "Среднее значение total_area составляет 60.1 и медиана 52.0\n"
     ]
    }
   ],
   "source": [
    "list = {'total_area', 'last_price', 'rooms', 'ceiling_height', 'days_exposition'}\n",
    "for i in list:\n",
    "    print('Среднее значение {} составляет {} и медиана {}'.format (i, round(data[i].mean(), 1), round(data[i].median(), 1)))"
   ]
  },
  {
   "cell_type": "markdown",
   "metadata": {},
   "source": [
    "В распределении каждого из рассмотренных параметров наблюдаются толстые хвосты. Особенно высокая вариабельность наблюдается в распределении цены (ст. отклонение составляет 10,9 млн руб. при среднем значении, равном 6,5 млн руб.) и времени продажи (ст. отклонение составляет 206 дней при среднем значении 170 дней)."
   ]
  },
  {
   "cell_type": "code",
   "execution_count": 29,
   "metadata": {},
   "outputs": [
    {
     "name": "stdout",
     "output_type": "stream",
     "text": [
      "5% процентиль в колонке ceiling_height соответствует значению 2.0 и 95% процентиль соответствует значению 3.0\n",
      "5% процентиль в колонке rooms соответствует значению 1.0 и 95% процентиль соответствует значению 4.0\n",
      "5% процентиль в колонке days_exposition соответствует значению 10.0 и 95% процентиль соответствует значению 603.0\n",
      "5% процентиль в колонке last_price соответствует значению 1870000.0 и 95% процентиль соответствует значению 15300000.0\n",
      "5% процентиль в колонке total_area соответствует значению 31.0 и 95% процентиль соответствует значению 116.0\n"
     ]
    }
   ],
   "source": [
    "#Предположим, что значения ниже 5% процентиля и выше 95% являются выбросами. Вычислим соответствующие пороги отсечения.\n",
    "for i in list:\n",
    "    quantile_low = data[i].quantile(q=0.05)\n",
    "    quantile_high = data[i].quantile(q=0.95)\n",
    "    print('5% процентиль в колонке ' + i + ' соответствует значению', quantile_low, 'и 95% процентиль соответствует значению', quantile_high)"
   ]
  },
  {
   "cell_type": "code",
   "execution_count": 30,
   "metadata": {},
   "outputs": [
    {
     "name": "stdout",
     "output_type": "stream",
     "text": [
      "Параметр скошенности распределения параметра ceiling_height составляет 48\n",
      "Параметр скошенности распределения параметра rooms составляет 2\n",
      "Параметр скошенности распределения параметра days_exposition составляет 3\n",
      "Параметр скошенности распределения параметра last_price составляет 26\n",
      "Параметр скошенности распределения параметра total_area составляет 5\n"
     ]
    }
   ],
   "source": [
    "#Посмотрим на параметр скошенности распределения значений\n",
    "for i in list: \n",
    "    skewness = data[i].skew()\n",
    "    print('Параметр скошенности распределения параметра {} составляет {}'.format(i, round(skewness)))"
   ]
  },
  {
   "cell_type": "markdown",
   "metadata": {},
   "source": [
    "Из полученных значений параметров асимметрии распределения следует их ненормальность (коэф. асимметрии > 0) - значительная скошенность в правую сторону, в особенности для параметров 'ceiling_height' и 'last_price'. Предположим, что значения, выходящие за границы 5% и 95% процентилей, являются выбросами. Создадим срез датасета с исключением крайних значений. Будем также рассматривать продажу, занимающую более 600 дней как слишком медленную, а составляющую менее 10 дней как очень быструю."
   ]
  },
  {
   "cell_type": "code",
   "execution_count": 31,
   "metadata": {},
   "outputs": [],
   "source": [
    "#создадим датасет - с отсечением границ на основании порогов в 5% и 95%\n",
    "good_data = data.query('(1 <= rooms <= 4) & (2.5 <= ceiling_height <= 3.13) & (1870000 <= last_price <= 15300000) & (31 <= total_area <= 116) & (10 < days_exposition < 600)')   "
   ]
  },
  {
   "cell_type": "code",
   "execution_count": 32,
   "metadata": {},
   "outputs": [
    {
     "name": "stdout",
     "output_type": "stream",
     "text": [
      "Параметр скошенности распределения параметра ceiling_height составляет 0\n",
      "Параметр скошенности распределения параметра rooms составляет 0\n",
      "Параметр скошенности распределения параметра days_exposition составляет 1\n",
      "Параметр скошенности распределения параметра last_price составляет 0\n",
      "Параметр скошенности распределения параметра total_area составляет 0\n"
     ]
    }
   ],
   "source": [
    "#посмотрим вновь на параметр скошенности распределения\n",
    "for i in list: \n",
    "    skewness = good_data[i].skew()\n",
    "    print('Параметр скошенности распределения параметра {} составляет {}'.format(i, round(skewness)))"
   ]
  },
  {
   "cell_type": "markdown",
   "metadata": {},
   "source": [
    "После отсечения аномальных значений удалось устранить скошенность распределения вправо для всех параметров, кроме 'days_exposition'."
   ]
  },
  {
   "cell_type": "markdown",
   "metadata": {},
   "source": [
    "#### 4.2 Изучение зависимости цены от площади, числа комнат, удаленности от центра и этажа, на котором находится квартира\n",
    "<a name=\"subparagraph4\"></a>"
   ]
  },
  {
   "cell_type": "code",
   "execution_count": 33,
   "metadata": {},
   "outputs": [],
   "source": [
    "#изучим зависимость цены квартиры от ее площади \n",
    "copy_good_data = good_data.copy()\n",
    "copy_good_data['total_area_categories'] = pd.qcut(copy_good_data['total_area'], q=10)\n",
    "price_area_pivot = copy_good_data.pivot_table(index = 'total_area_categories', values = 'last_price', aggfunc = ['median', 'mean'])\n",
    "price_area_pivot.columns = ['median_price', 'mean_price']"
   ]
  },
  {
   "cell_type": "code",
   "execution_count": 34,
   "metadata": {},
   "outputs": [
    {
     "data": {
      "image/png": "[encoded data removed]",
      "text/plain": [
       "<Figure size 720x360 with 1 Axes>"
      ]
     },
     "metadata": {
      "needs_background": "light"
     },
     "output_type": "display_data"
    }
   ],
   "source": [
    "price_area_pivot.sort_values(by = 'median_price', ascending = True).plot(y = 'median_price', kind = 'bar', figsize = (10,5));"
   ]
  },
  {
   "cell_type": "code",
   "execution_count": 35,
   "metadata": {},
   "outputs": [
    {
     "data": {
      "image/png": "[encoded data removed]",
      "text/plain": [
       "<Figure size 432x288 with 1 Axes>"
      ]
     },
     "metadata": {
      "needs_background": "light"
     },
     "output_type": "display_data"
    }
   ],
   "source": [
    "copy_good_data.plot (x = 'total_area', y = 'last_price', kind = 'scatter');"
   ]
  },
  {
   "cell_type": "markdown",
   "metadata": {},
   "source": [
    "На графике прослеживается положительная зависимость между площадью квартиры и ее стоимостью, но при этом облако точек довольно рассеянное."
   ]
  },
  {
   "cell_type": "code",
   "execution_count": 36,
   "metadata": {},
   "outputs": [
    {
     "data": {
      "image/png": "[encoded data removed]",
      "text/plain": [
       "<Figure size 720x360 with 1 Axes>"
      ]
     },
     "metadata": {
      "needs_background": "light"
     },
     "output_type": "display_data"
    }
   ],
   "source": [
    "#рассмотрим на зависимость цены от числа комнат в квартире\n",
    "price_rooms_pivot = good_data.pivot_table(index = 'rooms', values = 'last_price', aggfunc = ['median'])\n",
    "price_rooms_pivot.columns = ['median_price']\n",
    "price_rooms_pivot.sort_values(by = 'median_price', ascending = True).plot(y = 'median_price', kind = 'bar', figsize = (10,5));"
   ]
  },
  {
   "cell_type": "markdown",
   "metadata": {},
   "source": [
    "*С увеличением числа комнат наблюдается последовательный рост медианной цены.* "
   ]
  },
  {
   "cell_type": "code",
   "execution_count": 37,
   "metadata": {},
   "outputs": [
    {
     "data": {
      "image/png": "[encoded data removed]",
      "text/plain": [
       "<Figure size 432x288 with 1 Axes>"
      ]
     },
     "metadata": {
      "needs_background": "light"
     },
     "output_type": "display_data"
    }
   ],
   "source": [
    "#посмотрим на зависимость цены от расстояния до центра города\n",
    "copy_good_data.plot (x = 'cityCenters_nearest', y = 'last_price', kind = 'scatter');"
   ]
  },
  {
   "cell_type": "markdown",
   "metadata": {},
   "source": [
    "*Наблюдается снижение цены квартиры по мере роста удаленности от центра. Снижается концентрация точек вокруг высоких значений цены при отдалении от центра*"
   ]
  },
  {
   "cell_type": "code",
   "execution_count": 38,
   "metadata": {},
   "outputs": [
    {
     "data": {
      "text/html": [
       "<div>\n",
       "<style scoped>\n",
       "    .dataframe tbody tr th:only-of-type {\n",
       "        vertical-align: middle;\n",
       "    }\n",
       "\n",
       "    .dataframe tbody tr th {\n",
       "        vertical-align: top;\n",
       "    }\n",
       "\n",
       "    .dataframe thead tr th {\n",
       "        text-align: left;\n",
       "    }\n",
       "\n",
       "    .dataframe thead tr:last-of-type th {\n",
       "        text-align: right;\n",
       "    }\n",
       "</style>\n",
       "<table border=\"1\" class=\"dataframe\">\n",
       "  <thead>\n",
       "    <tr>\n",
       "      <th></th>\n",
       "      <th>median</th>\n",
       "    </tr>\n",
       "    <tr>\n",
       "      <th></th>\n",
       "      <th>last_price</th>\n",
       "    </tr>\n",
       "    <tr>\n",
       "      <th>floor_index</th>\n",
       "      <th></th>\n",
       "    </tr>\n",
       "  </thead>\n",
       "  <tbody>\n",
       "    <tr>\n",
       "      <th>другой</th>\n",
       "      <td>7800000</td>\n",
       "    </tr>\n",
       "    <tr>\n",
       "      <th>первый</th>\n",
       "      <td>5900000</td>\n",
       "    </tr>\n",
       "    <tr>\n",
       "      <th>последний</th>\n",
       "      <td>7250000</td>\n",
       "    </tr>\n",
       "  </tbody>\n",
       "</table>\n",
       "</div>"
      ],
      "text/plain": [
       "                median\n",
       "            last_price\n",
       "floor_index           \n",
       "другой         7800000\n",
       "первый         5900000\n",
       "последний      7250000"
      ]
     },
     "metadata": {},
     "output_type": "display_data"
    }
   ],
   "source": [
    "#посмотрим на зависимость цены от этажа, на котором находится квартира\n",
    "floors_pivot = good_data.pivot_table(index = 'floor_index', values = 'last_price', aggfunc = ['median'])\n",
    "display(floors_pivot)"
   ]
  },
  {
   "cell_type": "markdown",
   "metadata": {},
   "source": [
    "Постором ниже диаграмму размаха для категорий этажа"
   ]
  },
  {
   "cell_type": "code",
   "execution_count": 39,
   "metadata": {},
   "outputs": [
    {
     "data": {
      "image/png": "[encoded data removed]",
      "text/plain": [
       "<Figure size 360x360 with 1 Axes>"
      ]
     },
     "metadata": {
      "needs_background": "light"
     },
     "output_type": "display_data"
    }
   ],
   "source": [
    "sns.catplot(x=\"floor_index\", y=\"last_price\", kind=\"box\", data=copy_good_data);"
   ]
  },
  {
   "cell_type": "markdown",
   "metadata": {},
   "source": [
    "*Этаж квартиры влияет на ее стоимость. Медианная стоимость квартиры на первом и последнем этажах на 1,9 млн руб и 550 тыс. руб. ниже, чем на других этажах.*"
   ]
  },
  {
   "cell_type": "code",
   "execution_count": 40,
   "metadata": {},
   "outputs": [
    {
     "data": {
      "text/html": [
       "<div>\n",
       "<style scoped>\n",
       "    .dataframe tbody tr th:only-of-type {\n",
       "        vertical-align: middle;\n",
       "    }\n",
       "\n",
       "    .dataframe tbody tr th {\n",
       "        vertical-align: top;\n",
       "    }\n",
       "\n",
       "    .dataframe thead th {\n",
       "        text-align: right;\n",
       "    }\n",
       "</style>\n",
       "<table border=\"1\" class=\"dataframe\">\n",
       "  <thead>\n",
       "    <tr style=\"text-align: right;\">\n",
       "      <th></th>\n",
       "      <th>median_price</th>\n",
       "    </tr>\n",
       "    <tr>\n",
       "      <th>year</th>\n",
       "      <th></th>\n",
       "    </tr>\n",
       "  </thead>\n",
       "  <tbody>\n",
       "    <tr>\n",
       "      <th>2014</th>\n",
       "      <td>8585256</td>\n",
       "    </tr>\n",
       "    <tr>\n",
       "      <th>2019</th>\n",
       "      <td>7700000</td>\n",
       "    </tr>\n",
       "    <tr>\n",
       "      <th>2017</th>\n",
       "      <td>7400000</td>\n",
       "    </tr>\n",
       "    <tr>\n",
       "      <th>2018</th>\n",
       "      <td>7400000</td>\n",
       "    </tr>\n",
       "    <tr>\n",
       "      <th>2015</th>\n",
       "      <td>7300000</td>\n",
       "    </tr>\n",
       "    <tr>\n",
       "      <th>2016</th>\n",
       "      <td>7295000</td>\n",
       "    </tr>\n",
       "  </tbody>\n",
       "</table>\n",
       "</div>"
      ],
      "text/plain": [
       "      median_price\n",
       "year              \n",
       "2014       8585256\n",
       "2019       7700000\n",
       "2017       7400000\n",
       "2018       7400000\n",
       "2015       7300000\n",
       "2016       7295000"
      ]
     },
     "metadata": {},
     "output_type": "display_data"
    }
   ],
   "source": [
    "#посмотрим на зависимость цены от года размещения\n",
    "year_pivot = good_data.pivot_table(index = 'year', values = 'last_price', aggfunc = ['median'])\n",
    "year_pivot.columns = ['median_price']\n",
    "display(year_pivot.sort_values(by = 'median_price', ascending = False))"
   ]
  },
  {
   "cell_type": "code",
   "execution_count": 41,
   "metadata": {},
   "outputs": [
    {
     "data": {
      "image/png": "[encoded data removed]",
      "text/plain": [
       "<Figure size 432x288 with 1 Axes>"
      ]
     },
     "metadata": {
      "needs_background": "light"
     },
     "output_type": "display_data"
    }
   ],
   "source": [
    "year_pivot['year'] = year_pivot.index\n",
    "year_pivot.year = pd.to_datetime(year_pivot.year, format='%Y')\n",
    "year_pivot.plot.line (x = 'year', y = 'median_price');"
   ]
  },
  {
   "cell_type": "markdown",
   "metadata": {},
   "source": [
    "Год продажи влияет на медианную стоимость продажи, но взаимосвязь неочевидная. Высокая стоимость жилья в 2014 году может быть обусловлена, например, резкой девальвацией рубля и ростом популярности недвижимости как альтернативного инвестиционного актива. После падения в 2015 и 2016 г., с 2017 г. стоимость жилья начала постепенно возрастать."
   ]
  },
  {
   "cell_type": "code",
   "execution_count": 42,
   "metadata": {},
   "outputs": [
    {
     "data": {
      "text/html": [
       "<div>\n",
       "<style scoped>\n",
       "    .dataframe tbody tr th:only-of-type {\n",
       "        vertical-align: middle;\n",
       "    }\n",
       "\n",
       "    .dataframe tbody tr th {\n",
       "        vertical-align: top;\n",
       "    }\n",
       "\n",
       "    .dataframe thead th {\n",
       "        text-align: right;\n",
       "    }\n",
       "</style>\n",
       "<table border=\"1\" class=\"dataframe\">\n",
       "  <thead>\n",
       "    <tr style=\"text-align: right;\">\n",
       "      <th></th>\n",
       "      <th>median_price</th>\n",
       "    </tr>\n",
       "    <tr>\n",
       "      <th>month</th>\n",
       "      <th></th>\n",
       "    </tr>\n",
       "  </thead>\n",
       "  <tbody>\n",
       "    <tr>\n",
       "      <th>9</th>\n",
       "      <td>7700000</td>\n",
       "    </tr>\n",
       "    <tr>\n",
       "      <th>10</th>\n",
       "      <td>7650000</td>\n",
       "    </tr>\n",
       "    <tr>\n",
       "      <th>4</th>\n",
       "      <td>7625000</td>\n",
       "    </tr>\n",
       "    <tr>\n",
       "      <th>7</th>\n",
       "      <td>7600000</td>\n",
       "    </tr>\n",
       "    <tr>\n",
       "      <th>1</th>\n",
       "      <td>7500000</td>\n",
       "    </tr>\n",
       "    <tr>\n",
       "      <th>8</th>\n",
       "      <td>7499500</td>\n",
       "    </tr>\n",
       "    <tr>\n",
       "      <th>6</th>\n",
       "      <td>7475000</td>\n",
       "    </tr>\n",
       "    <tr>\n",
       "      <th>5</th>\n",
       "      <td>7305000</td>\n",
       "    </tr>\n",
       "    <tr>\n",
       "      <th>11</th>\n",
       "      <td>7250000</td>\n",
       "    </tr>\n",
       "    <tr>\n",
       "      <th>12</th>\n",
       "      <td>7200000</td>\n",
       "    </tr>\n",
       "    <tr>\n",
       "      <th>2</th>\n",
       "      <td>7050000</td>\n",
       "    </tr>\n",
       "    <tr>\n",
       "      <th>3</th>\n",
       "      <td>7050000</td>\n",
       "    </tr>\n",
       "  </tbody>\n",
       "</table>\n",
       "</div>"
      ],
      "text/plain": [
       "       median_price\n",
       "month              \n",
       "9           7700000\n",
       "10          7650000\n",
       "4           7625000\n",
       "7           7600000\n",
       "1           7500000\n",
       "8           7499500\n",
       "6           7475000\n",
       "5           7305000\n",
       "11          7250000\n",
       "12          7200000\n",
       "2           7050000\n",
       "3           7050000"
      ]
     },
     "metadata": {},
     "output_type": "display_data"
    }
   ],
   "source": [
    "#посмотрим на зависимость цены от месяца размещения \n",
    "month_pivot = good_data.pivot_table(index = 'month', values = 'last_price', aggfunc = ['median'])\n",
    "month_pivot.columns = ['median_price']\n",
    "display(month_pivot.sort_values(by = 'median_price', ascending = False))"
   ]
  },
  {
   "cell_type": "code",
   "execution_count": 43,
   "metadata": {},
   "outputs": [
    {
     "data": {
      "image/png": "[encoded data removed]",
      "text/plain": [
       "<Figure size 432x288 with 1 Axes>"
      ]
     },
     "metadata": {
      "needs_background": "light"
     },
     "output_type": "display_data"
    }
   ],
   "source": [
    "month_pivot.plot.line(y='median_price');"
   ]
  },
  {
   "cell_type": "markdown",
   "metadata": {},
   "source": [
    "*Направление связи между месяцем продажи и ценой неочевидное. Максимальная стоимость жилья устанавливается в сентябре. Самая низкая медианная стоимость наблюдается в феврале-марте*"
   ]
  },
  {
   "cell_type": "code",
   "execution_count": 44,
   "metadata": {},
   "outputs": [
    {
     "data": {
      "text/html": [
       "<div>\n",
       "<style scoped>\n",
       "    .dataframe tbody tr th:only-of-type {\n",
       "        vertical-align: middle;\n",
       "    }\n",
       "\n",
       "    .dataframe tbody tr th {\n",
       "        vertical-align: top;\n",
       "    }\n",
       "\n",
       "    .dataframe thead th {\n",
       "        text-align: right;\n",
       "    }\n",
       "</style>\n",
       "<table border=\"1\" class=\"dataframe\">\n",
       "  <thead>\n",
       "    <tr style=\"text-align: right;\">\n",
       "      <th></th>\n",
       "      <th>median_price</th>\n",
       "    </tr>\n",
       "    <tr>\n",
       "      <th>day_week</th>\n",
       "      <th></th>\n",
       "    </tr>\n",
       "  </thead>\n",
       "  <tbody>\n",
       "    <tr>\n",
       "      <th>среда</th>\n",
       "      <td>7600000</td>\n",
       "    </tr>\n",
       "    <tr>\n",
       "      <th>воскресенье</th>\n",
       "      <td>7525000</td>\n",
       "    </tr>\n",
       "    <tr>\n",
       "      <th>вторник</th>\n",
       "      <td>7500000</td>\n",
       "    </tr>\n",
       "    <tr>\n",
       "      <th>пятница</th>\n",
       "      <td>7500000</td>\n",
       "    </tr>\n",
       "    <tr>\n",
       "      <th>четверг</th>\n",
       "      <td>7470000</td>\n",
       "    </tr>\n",
       "    <tr>\n",
       "      <th>понедельник</th>\n",
       "      <td>7200000</td>\n",
       "    </tr>\n",
       "    <tr>\n",
       "      <th>суббота</th>\n",
       "      <td>7050000</td>\n",
       "    </tr>\n",
       "  </tbody>\n",
       "</table>\n",
       "</div>"
      ],
      "text/plain": [
       "             median_price\n",
       "day_week                 \n",
       "среда             7600000\n",
       "воскресенье       7525000\n",
       "вторник           7500000\n",
       "пятница           7500000\n",
       "четверг           7470000\n",
       "понедельник       7200000\n",
       "суббота           7050000"
      ]
     },
     "metadata": {},
     "output_type": "display_data"
    }
   ],
   "source": [
    "#посмотрим на зависимость цены от дня недели\n",
    "day_week_pivot = good_data.pivot_table(index = 'day_week', values = 'last_price', aggfunc = ['median'])\n",
    "day_week_pivot.columns = ['median_price']\n",
    "display(day_week_pivot.sort_values(by = 'median_price', ascending = False))"
   ]
  },
  {
   "cell_type": "code",
   "execution_count": 45,
   "metadata": {},
   "outputs": [
    {
     "data": {
      "image/png": "[encoded data removed]",
      "text/plain": [
       "<Figure size 432x288 with 1 Axes>"
      ]
     },
     "metadata": {
      "needs_background": "light"
     },
     "output_type": "display_data"
    }
   ],
   "source": [
    "day_week_pivot.plot.line(y='median_price', rot = 90);"
   ]
  },
  {
   "cell_type": "markdown",
   "metadata": {},
   "source": [
    "*В середине недели (в среду и вторник) продажная стоимость жилья выше, чем в конце недели.*"
   ]
  },
  {
   "cell_type": "markdown",
   "metadata": {},
   "source": [
    "#### 4.3 Срез по населенным пунктам\n",
    "<a name=\"subparagraph5\"></a>"
   ]
  },
  {
   "cell_type": "code",
   "execution_count": 46,
   "metadata": {},
   "outputs": [
    {
     "data": {
      "text/plain": [
       "array(['Санкт-Петербург', 'деревня Новое Девяткино', 'Павловск',\n",
       "       'Сестрорецк', 'Колпино', 'Волхов', 'Пушкин', 'Петергоф',\n",
       "       'Кронштадт', 'посёлок Металлострой', nan, 'поселок Бугры',\n",
       "       'посёлок городского типа имени Морозова', 'Красное Село', 'Выборг',\n",
       "       'Сертолово', 'посёлок Ропша', 'Кировск', 'Гатчина',\n",
       "       'поселок Углово', 'Отрадное', 'посёлок Новый Свет', 'Сосновый Бор',\n",
       "       'посёлок городского типа Ульяновка', 'Никольское', 'Кингисепп',\n",
       "       'Луга', 'посёлок Стрельна', 'городской посёлок Новоселье',\n",
       "       'посёлок Мурино', 'деревня Глинка',\n",
       "       'поселок городского типа Синявино', 'Пикалёво', 'Приозерск',\n",
       "       'Всеволожск', 'поселок городского типа Кузьмоловский',\n",
       "       'поселок Суходолье', 'поселок городского типа имени Свердлова',\n",
       "       'посёлок Понтонный', 'посёлок Шушары', 'деревня Заневка',\n",
       "       'Ломоносов', 'Коммунар', 'Тосно', 'деревня Каськово',\n",
       "       'посёлок городского типа Кузьмоловский', 'посёлок Пудость',\n",
       "       'Кудрово', 'деревня Ваганово', 'городской посёлок Мга',\n",
       "       'городской поселок Большая Ижора', 'Зеленогорск'], dtype=object)"
      ]
     },
     "execution_count": 46,
     "metadata": {},
     "output_type": "execute_result"
    }
   ],
   "source": [
    "#проверим на уникальность значения в столбце 'locality_name'\n",
    "copy_good_data.locality_name.unique()"
   ]
  },
  {
   "cell_type": "code",
   "execution_count": 47,
   "metadata": {},
   "outputs": [],
   "source": [
    "#переименуем неявные дубликаты населенных пунктов\n",
    "copy_good_data['locality_name'] = copy_good_data['locality_name'].str.replace('посёлок', 'поселок')\n",
    "copy_good_data['locality_name'] = copy_good_data['locality_name'].str.replace('коттеджный посёлок', 'поселок')\n",
    "copy_good_data['locality_name'] = copy_good_data['locality_name'].str.replace('поселок Мурино', 'Мурино')"
   ]
  },
  {
   "cell_type": "code",
   "execution_count": 48,
   "metadata": {},
   "outputs": [
    {
     "data": {
      "text/html": [
       "<div>\n",
       "<style scoped>\n",
       "    .dataframe tbody tr th:only-of-type {\n",
       "        vertical-align: middle;\n",
       "    }\n",
       "\n",
       "    .dataframe tbody tr th {\n",
       "        vertical-align: top;\n",
       "    }\n",
       "\n",
       "    .dataframe thead th {\n",
       "        text-align: right;\n",
       "    }\n",
       "</style>\n",
       "<table border=\"1\" class=\"dataframe\">\n",
       "  <thead>\n",
       "    <tr style=\"text-align: right;\">\n",
       "      <th></th>\n",
       "      <th>locality_name</th>\n",
       "      <th>last_price</th>\n",
       "    </tr>\n",
       "  </thead>\n",
       "  <tbody>\n",
       "    <tr>\n",
       "      <th>22</th>\n",
       "      <td>Санкт-Петербург</td>\n",
       "      <td>1293</td>\n",
       "    </tr>\n",
       "    <tr>\n",
       "      <th>21</th>\n",
       "      <td>Пушкин</td>\n",
       "      <td>25</td>\n",
       "    </tr>\n",
       "    <tr>\n",
       "      <th>2</th>\n",
       "      <td>Выборг</td>\n",
       "      <td>18</td>\n",
       "    </tr>\n",
       "    <tr>\n",
       "      <th>7</th>\n",
       "      <td>Колпино</td>\n",
       "      <td>16</td>\n",
       "    </tr>\n",
       "    <tr>\n",
       "      <th>3</th>\n",
       "      <td>Гатчина</td>\n",
       "      <td>15</td>\n",
       "    </tr>\n",
       "    <tr>\n",
       "      <th>34</th>\n",
       "      <td>деревня Новое Девяткино</td>\n",
       "      <td>15</td>\n",
       "    </tr>\n",
       "    <tr>\n",
       "      <th>24</th>\n",
       "      <td>Сестрорецк</td>\n",
       "      <td>13</td>\n",
       "    </tr>\n",
       "    <tr>\n",
       "      <th>10</th>\n",
       "      <td>Кронштадт</td>\n",
       "      <td>11</td>\n",
       "    </tr>\n",
       "    <tr>\n",
       "      <th>18</th>\n",
       "      <td>Петергоф</td>\n",
       "      <td>9</td>\n",
       "    </tr>\n",
       "    <tr>\n",
       "      <th>0</th>\n",
       "      <td>Волхов</td>\n",
       "      <td>7</td>\n",
       "    </tr>\n",
       "  </tbody>\n",
       "</table>\n",
       "</div>"
      ],
      "text/plain": [
       "              locality_name  last_price\n",
       "22          Санкт-Петербург        1293\n",
       "21                   Пушкин          25\n",
       "2                    Выборг          18\n",
       "7                   Колпино          16\n",
       "3                   Гатчина          15\n",
       "34  деревня Новое Девяткино          15\n",
       "24               Сестрорецк          13\n",
       "10                Кронштадт          11\n",
       "18                 Петергоф           9\n",
       "0                    Волхов           7"
      ]
     },
     "metadata": {},
     "output_type": "display_data"
    }
   ],
   "source": [
    "#выберем 10 населенных пунктов в наибольшим числом объявлений\n",
    "top_localities = copy_good_data.pivot_table(index = 'locality_name', values = 'last_price', aggfunc = ['count']).reset_index()\n",
    "top_localities.columns = ['locality_name', 'last_price']\n",
    "top_localities = top_localities.sort_values(by = 'last_price', ascending = False).iloc[0:10, :]\n",
    "display(top_localities)"
   ]
  },
  {
   "cell_type": "code",
   "execution_count": 49,
   "metadata": {},
   "outputs": [
    {
     "name": "stdout",
     "output_type": "stream",
     "text": [
      "Максимальная стоимость жилья в Санкт-Петербурге, минимальная стоимость в Волхове.\n"
     ]
    }
   ],
   "source": [
    "print('Максимальная стоимость жилья в {}е, минимальная стоимость в {}е.'.format(top_localities.iloc[0, 0], top_localities.iloc[9,0]))"
   ]
  },
  {
   "cell_type": "markdown",
   "metadata": {},
   "source": [
    "#### 4.4 Изучение квартир в Санкт-Петербурге\n",
    "<a name=\"subparagraph5\"></a>"
   ]
  },
  {
   "cell_type": "code",
   "execution_count": 50,
   "metadata": {},
   "outputs": [],
   "source": [
    "#сделаем срез для данных о Санкт-Петербурге\n",
    "copy_good_data['distance_to_center_km'] = round(copy_good_data['cityCenters_nearest']/1000)\n",
    "copy_good_data['price_per_km'] = copy_good_data['last_price']/copy_good_data['distance_to_center_km']\n",
    "data_for_spb = copy_good_data.query('locality_name == \"Санкт-Петербург\"')"
   ]
  },
  {
   "cell_type": "code",
   "execution_count": 51,
   "metadata": {},
   "outputs": [
    {
     "data": {
      "image/png": "[encoded data removed]",
      "text/plain": [
       "<Figure size 432x288 with 1 Axes>"
      ]
     },
     "metadata": {
      "needs_background": "light"
     },
     "output_type": "display_data"
    }
   ],
   "source": [
    "#посмотрим на линейный график\n",
    "copy_good_data.pivot_table(index = 'distance_to_center_km', values = 'last_price', aggfunc = 'median').plot(kind = 'line', legend = True);"
   ]
  },
  {
   "cell_type": "markdown",
   "metadata": {},
   "source": [
    "На графике на расстоянии около 10 км от центра можем наблюдать резкое замедление роста стоимости жилья. С учетом данной динамики предположим, что центральной зоной является диапазон до 10 км от центра. "
   ]
  },
  {
   "cell_type": "code",
   "execution_count": 52,
   "metadata": {},
   "outputs": [],
   "source": [
    "#Выделим сегмент квартир в центре\n",
    "data_spb_center = data_for_spb.query('distance_to_center_km < 10')"
   ]
  },
  {
   "cell_type": "code",
   "execution_count": 53,
   "metadata": {
    "scrolled": false
   },
   "outputs": [
    {
     "data": {
      "image/png": "[encoded data removed]",
      "text/plain": [
       "<Figure size 432x288 with 1 Axes>"
      ]
     },
     "metadata": {
      "needs_background": "light"
     },
     "output_type": "display_data"
    },
    {
     "data": {
      "image/png": "[encoded data removed]",
      "text/plain": [
       "<Figure size 432x288 with 1 Axes>"
      ]
     },
     "metadata": {
      "needs_background": "light"
     },
     "output_type": "display_data"
    },
    {
     "data": {
      "image/png": "[encoded data removed]",
      "text/plain": [
       "<Figure size 432x288 with 1 Axes>"
      ]
     },
     "metadata": {
      "needs_background": "light"
     },
     "output_type": "display_data"
    },
    {
     "data": {
      "image/png": "[encoded data removed]",
      "text/plain": [
       "<Figure size 432x288 with 1 Axes>"
      ]
     },
     "metadata": {
      "needs_background": "light"
     },
     "output_type": "display_data"
    }
   ],
   "source": [
    "#изучим площадь, цену, число комнат и высоту потолков\n",
    "list_2 = {'total_area', 'last_price', 'rooms', 'ceiling_height'}\n",
    "for i in list_2:\n",
    "    plt.hist(x = data_spb_center[i])\n",
    "    plt.title(i)\n",
    "    plt.show()"
   ]
  },
  {
   "cell_type": "code",
   "execution_count": 54,
   "metadata": {},
   "outputs": [
    {
     "name": "stdout",
     "output_type": "stream",
     "text": [
      "Медианное значение last_price в центральной зоне Санкт-Петербурга составляет 8000000.0, среднее значение составляет 8461357.5\n",
      "Медианное значение last_price в целом по Санкт-Петербургу составляет 7753921.0, среднее значение составляет 8205392.1\n",
      "Медианное значение ceiling_height в центральной зоне Санкт-Петербурга составляет 3.0, среднее значение составляет 3.0\n",
      "Медианное значение ceiling_height в целом по Санкт-Петербургу составляет 3.0, среднее значение составляет 3.0\n",
      "Медианное значение total_area в центральной зоне Санкт-Петербурга составляет 72.0, среднее значение составляет 71.9\n",
      "Медианное значение total_area в целом по Санкт-Петербургу составляет 70.0, среднее значение составляет 70.0\n",
      "Медианное значение rooms в центральной зоне Санкт-Петербурга составляет 3.0, среднее значение составляет 2.5\n",
      "Медианное значение rooms в целом по Санкт-Петербургу составляет 2.0, среднее значение составляет 2.4\n"
     ]
    }
   ],
   "source": [
    "for i in list_2:\n",
    "    print ('Медианное значение {} в центральной зоне Санкт-Петербурга составляет {}, среднее значение составляет {}'.format(i, round(data_spb_center[i].median(), 1), round(data_spb_center[i].mean(),1)))\n",
    "    print('Медианное значение {} в целом по Санкт-Петербургу составляет {}, среднее значение составляет {}'.format(i, round(data_for_spb[i].median(), 1), round(data_for_spb[i].mean(), 1)))"
   ]
  },
  {
   "cell_type": "code",
   "execution_count": 55,
   "metadata": {},
   "outputs": [
    {
     "data": {
      "text/html": [
       "<div>\n",
       "<style scoped>\n",
       "    .dataframe tbody tr th:only-of-type {\n",
       "        vertical-align: middle;\n",
       "    }\n",
       "\n",
       "    .dataframe tbody tr th {\n",
       "        vertical-align: top;\n",
       "    }\n",
       "\n",
       "    .dataframe thead th {\n",
       "        text-align: right;\n",
       "    }\n",
       "</style>\n",
       "<table border=\"1\" class=\"dataframe\">\n",
       "  <thead>\n",
       "    <tr style=\"text-align: right;\">\n",
       "      <th></th>\n",
       "      <th>median_price_Saint_Petersburg</th>\n",
       "      <th>median_price_Saint_Petersburg_center</th>\n",
       "    </tr>\n",
       "    <tr>\n",
       "      <th>total_area_categories</th>\n",
       "      <th></th>\n",
       "      <th></th>\n",
       "    </tr>\n",
       "  </thead>\n",
       "  <tbody>\n",
       "    <tr>\n",
       "      <th>1</th>\n",
       "      <td>5000000</td>\n",
       "      <td>5281202.5</td>\n",
       "    </tr>\n",
       "    <tr>\n",
       "      <th>2</th>\n",
       "      <td>5900000</td>\n",
       "      <td>6000000.0</td>\n",
       "    </tr>\n",
       "    <tr>\n",
       "      <th>3</th>\n",
       "      <td>6250000</td>\n",
       "      <td>6300000.0</td>\n",
       "    </tr>\n",
       "    <tr>\n",
       "      <th>4</th>\n",
       "      <td>7250000</td>\n",
       "      <td>7700000.0</td>\n",
       "    </tr>\n",
       "    <tr>\n",
       "      <th>5</th>\n",
       "      <td>8600000</td>\n",
       "      <td>8757500.0</td>\n",
       "    </tr>\n",
       "    <tr>\n",
       "      <th>6</th>\n",
       "      <td>8000000</td>\n",
       "      <td>8000000.0</td>\n",
       "    </tr>\n",
       "    <tr>\n",
       "      <th>7</th>\n",
       "      <td>8625000</td>\n",
       "      <td>8500000.0</td>\n",
       "    </tr>\n",
       "    <tr>\n",
       "      <th>8</th>\n",
       "      <td>8500000</td>\n",
       "      <td>8400000.0</td>\n",
       "    </tr>\n",
       "    <tr>\n",
       "      <th>9</th>\n",
       "      <td>9500000</td>\n",
       "      <td>9500000.0</td>\n",
       "    </tr>\n",
       "    <tr>\n",
       "      <th>10</th>\n",
       "      <td>10900000</td>\n",
       "      <td>10500000.0</td>\n",
       "    </tr>\n",
       "  </tbody>\n",
       "</table>\n",
       "</div>"
      ],
      "text/plain": [
       "                       median_price_Saint_Petersburg  \\\n",
       "total_area_categories                                  \n",
       "1                                            5000000   \n",
       "2                                            5900000   \n",
       "3                                            6250000   \n",
       "4                                            7250000   \n",
       "5                                            8600000   \n",
       "6                                            8000000   \n",
       "7                                            8625000   \n",
       "8                                            8500000   \n",
       "9                                            9500000   \n",
       "10                                          10900000   \n",
       "\n",
       "                       median_price_Saint_Petersburg_center  \n",
       "total_area_categories                                        \n",
       "1                                                 5281202.5  \n",
       "2                                                 6000000.0  \n",
       "3                                                 6300000.0  \n",
       "4                                                 7700000.0  \n",
       "5                                                 8757500.0  \n",
       "6                                                 8000000.0  \n",
       "7                                                 8500000.0  \n",
       "8                                                 8400000.0  \n",
       "9                                                 9500000.0  \n",
       "10                                               10500000.0  "
      ]
     },
     "metadata": {},
     "output_type": "display_data"
    },
    {
     "data": {
      "image/png": "[encoded data removed]",
      "text/plain": [
       "<Figure size 432x288 with 1 Axes>"
      ]
     },
     "metadata": {
      "needs_background": "light"
     },
     "output_type": "display_data"
    }
   ],
   "source": [
    "#Изучим зависимость стоимости квартир в целом по Сантк-Петербургу от площади, этажа, числа комнат, высоты потолков\n",
    "#изучим зависимость цены квартиры от ее площади\n",
    "copy_data_for_spb = data_for_spb.copy()\n",
    "copy_data_for_spb['total_area_categories'] = pd.qcut(copy_data_for_spb['total_area'], q=10, labels = ['1', '2', '3', '4', '5', '6', '7', '8', '9', '10'])\n",
    "price_area_pivot = copy_data_for_spb.pivot_table(index = 'total_area_categories', values = 'last_price', aggfunc = ['median'])\n",
    "price_area_pivot.columns = ['median_price']\n",
    "copy_data_spb_center = data_spb_center.copy()\n",
    "copy_data_spb_center['total_area_categories'] = pd.qcut(copy_data_for_spb['total_area'], q=10, labels = ['1', '2', '3', '4', '5', '6', '7', '8', '9', '10'])\n",
    "price_area_pivot_center = copy_data_spb_center.pivot_table(index = 'total_area_categories', values = 'last_price', aggfunc = ['median'])\n",
    "price_area_pivot_center.columns = ['median_price']\n",
    "price_area_full = price_area_pivot.merge(price_area_pivot_center, on = 'total_area_categories')\n",
    "price_area_full.columns = ['median_price_Saint_Petersburg', 'median_price_Saint_Petersburg_center']\n",
    "display(price_area_full)\n",
    "ax = price_area_full.plot.bar(rot=0)"
   ]
  },
  {
   "cell_type": "code",
   "execution_count": 56,
   "metadata": {},
   "outputs": [
    {
     "data": {
      "text/html": [
       "<div>\n",
       "<style scoped>\n",
       "    .dataframe tbody tr th:only-of-type {\n",
       "        vertical-align: middle;\n",
       "    }\n",
       "\n",
       "    .dataframe tbody tr th {\n",
       "        vertical-align: top;\n",
       "    }\n",
       "\n",
       "    .dataframe thead th {\n",
       "        text-align: right;\n",
       "    }\n",
       "</style>\n",
       "<table border=\"1\" class=\"dataframe\">\n",
       "  <thead>\n",
       "    <tr style=\"text-align: right;\">\n",
       "      <th></th>\n",
       "      <th>median_price_Saint_Petersburg</th>\n",
       "      <th>median_price_Saint_Petersburg_center</th>\n",
       "    </tr>\n",
       "    <tr>\n",
       "      <th>floor_index</th>\n",
       "      <th></th>\n",
       "      <th></th>\n",
       "    </tr>\n",
       "  </thead>\n",
       "  <tbody>\n",
       "    <tr>\n",
       "      <th>другой</th>\n",
       "      <td>8000000</td>\n",
       "      <td>8389000</td>\n",
       "    </tr>\n",
       "    <tr>\n",
       "      <th>первый</th>\n",
       "      <td>6200000</td>\n",
       "      <td>6600000</td>\n",
       "    </tr>\n",
       "    <tr>\n",
       "      <th>последний</th>\n",
       "      <td>7800000</td>\n",
       "      <td>8000000</td>\n",
       "    </tr>\n",
       "  </tbody>\n",
       "</table>\n",
       "</div>"
      ],
      "text/plain": [
       "             median_price_Saint_Petersburg  \\\n",
       "floor_index                                  \n",
       "другой                             8000000   \n",
       "первый                             6200000   \n",
       "последний                          7800000   \n",
       "\n",
       "             median_price_Saint_Petersburg_center  \n",
       "floor_index                                        \n",
       "другой                                    8389000  \n",
       "первый                                    6600000  \n",
       "последний                                 8000000  "
      ]
     },
     "metadata": {},
     "output_type": "display_data"
    },
    {
     "data": {
      "image/png": "[encoded data removed]",
      "text/plain": [
       "<Figure size 432x288 with 1 Axes>"
      ]
     },
     "metadata": {
      "needs_background": "light"
     },
     "output_type": "display_data"
    }
   ],
   "source": [
    "#посмотрим на зависимость цены от этажа, на котором находится квартира\n",
    "floors_pivot = copy_data_for_spb.pivot_table(index = 'floor_index', values = 'last_price', aggfunc = ['median'])\n",
    "floors_pivot_center = copy_data_spb_center.pivot_table(index = 'floor_index', values = 'last_price', aggfunc = ['median'])\n",
    "floors_full = floors_pivot.merge(floors_pivot_center, on = 'floor_index')\n",
    "floors_full.columns = ['median_price_Saint_Petersburg', 'median_price_Saint_Petersburg_center']\n",
    "display(floors_full)\n",
    "ax = floors_full.plot.bar(rot=0)"
   ]
  },
  {
   "cell_type": "code",
   "execution_count": 57,
   "metadata": {},
   "outputs": [
    {
     "data": {
      "text/html": [
       "<div>\n",
       "<style scoped>\n",
       "    .dataframe tbody tr th:only-of-type {\n",
       "        vertical-align: middle;\n",
       "    }\n",
       "\n",
       "    .dataframe tbody tr th {\n",
       "        vertical-align: top;\n",
       "    }\n",
       "\n",
       "    .dataframe thead th {\n",
       "        text-align: right;\n",
       "    }\n",
       "</style>\n",
       "<table border=\"1\" class=\"dataframe\">\n",
       "  <thead>\n",
       "    <tr style=\"text-align: right;\">\n",
       "      <th></th>\n",
       "      <th>median_price_Saint_Petersburg</th>\n",
       "      <th>median_price_Saint_Petersburg_center</th>\n",
       "    </tr>\n",
       "    <tr>\n",
       "      <th>rooms</th>\n",
       "      <th></th>\n",
       "      <th></th>\n",
       "    </tr>\n",
       "  </thead>\n",
       "  <tbody>\n",
       "    <tr>\n",
       "      <th>1</th>\n",
       "      <td>5800000</td>\n",
       "      <td>6390000</td>\n",
       "    </tr>\n",
       "    <tr>\n",
       "      <th>2</th>\n",
       "      <td>7300000</td>\n",
       "      <td>7500000</td>\n",
       "    </tr>\n",
       "    <tr>\n",
       "      <th>3</th>\n",
       "      <td>8500000</td>\n",
       "      <td>8500000</td>\n",
       "    </tr>\n",
       "    <tr>\n",
       "      <th>4</th>\n",
       "      <td>9200000</td>\n",
       "      <td>9200000</td>\n",
       "    </tr>\n",
       "  </tbody>\n",
       "</table>\n",
       "</div>"
      ],
      "text/plain": [
       "       median_price_Saint_Petersburg  median_price_Saint_Petersburg_center\n",
       "rooms                                                                     \n",
       "1                            5800000                               6390000\n",
       "2                            7300000                               7500000\n",
       "3                            8500000                               8500000\n",
       "4                            9200000                               9200000"
      ]
     },
     "metadata": {},
     "output_type": "display_data"
    },
    {
     "data": {
      "image/png": "[encoded data removed]",
      "text/plain": [
       "<Figure size 432x288 with 1 Axes>"
      ]
     },
     "metadata": {
      "needs_background": "light"
     },
     "output_type": "display_data"
    }
   ],
   "source": [
    "#посмотрим на зависимость цены от количества комнат в квартире\n",
    "price_rooms_pivot = copy_data_for_spb.pivot_table(index = 'rooms', values = 'last_price', aggfunc = ['median'])\n",
    "price_rooms_pivot_center = copy_data_spb_center.pivot_table(index = 'rooms', values = 'last_price', aggfunc = ['median'])\n",
    "price_rooms_full = price_rooms_pivot.merge(price_rooms_pivot_center, on = 'rooms')\n",
    "price_rooms_full.columns = ['median_price_Saint_Petersburg', 'median_price_Saint_Petersburg_center']\n",
    "display(price_rooms_full)\n",
    "ax = price_rooms_full.plot.bar(rot=0)"
   ]
  },
  {
   "cell_type": "code",
   "execution_count": 65,
   "metadata": {},
   "outputs": [
    {
     "data": {
      "image/png": "[encoded data removed]",
      "text/plain": [
       "<Figure size 432x288 with 1 Axes>"
      ]
     },
     "metadata": {
      "needs_background": "light"
     },
     "output_type": "display_data"
    }
   ],
   "source": [
    "#посмотрим на зависимость цены от расстояния до центра города\n",
    "copy_data_for_spb['cityCenters_nearest_categories'] = pd.qcut(copy_data_for_spb['cityCenters_nearest'], q=50, labels = [1, 2, 3, 4, 5, 6, 7, 8, 9, 10, 11, 12, 13, 14, 15, 16, 17, 18, 19, 20, 21, 22, 23, 24, 25, 26, 27, 28, 29, 30, 31, 32, 33, 34, 35, 36, 37, 38, 39, 40, 41, 42, 43, 44, 45, 46, 47, 48, 49, 50])\n",
    "cityCenters_nearest_pivot =  copy_data_for_spb.pivot_table(index = 'cityCenters_nearest_categories', values = 'last_price', aggfunc = ['median'])\n",
    "copy_data_spb_center['cityCenters_nearest_categories'] = pd.qcut(copy_data_spb_center['cityCenters_nearest'], q=50, labels = [1, 2, 3, 4, 5, 6, 7, 8, 9, 10, 11, 12, 13, 14, 15, 16, 17, 18, 19, 20, 21, 22, 23, 24, 25, 26, 27, 28, 29, 30, 31, 32, 33, 34, 35, 36, 37, 38, 39, 40, 41, 42, 43, 44, 45, 46, 47, 48, 49, 50])\n",
    "cityCenters_nearest_pivot_center =  copy_data_spb_center.pivot_table(index = 'cityCenters_nearest_categories', values = 'last_price', aggfunc = ['median'])\n",
    "cityCenters_nearest_pivot_full = cityCenters_nearest_pivot.merge(cityCenters_nearest_pivot_center, on = 'cityCenters_nearest_categories')\n",
    "cityCenters_nearest_pivot_full.columns = ['median_price_Saint_Petersburg', 'median_price_Saint_Petersburg_center']\n",
    "ax = cityCenters_nearest_pivot_full.plot.line(rot=0)"
   ]
  },
  {
   "cell_type": "code",
   "execution_count": 66,
   "metadata": {},
   "outputs": [
    {
     "data": {
      "text/html": [
       "<div>\n",
       "<style scoped>\n",
       "    .dataframe tbody tr th:only-of-type {\n",
       "        vertical-align: middle;\n",
       "    }\n",
       "\n",
       "    .dataframe tbody tr th {\n",
       "        vertical-align: top;\n",
       "    }\n",
       "\n",
       "    .dataframe thead th {\n",
       "        text-align: right;\n",
       "    }\n",
       "</style>\n",
       "<table border=\"1\" class=\"dataframe\">\n",
       "  <thead>\n",
       "    <tr style=\"text-align: right;\">\n",
       "      <th></th>\n",
       "      <th>median_price_Saint_Petersburg</th>\n",
       "      <th>median_price_Saint_Petersburg_center</th>\n",
       "    </tr>\n",
       "    <tr>\n",
       "      <th>year</th>\n",
       "      <th></th>\n",
       "      <th></th>\n",
       "    </tr>\n",
       "  </thead>\n",
       "  <tbody>\n",
       "    <tr>\n",
       "      <th>2014</th>\n",
       "      <td>8792628.0</td>\n",
       "      <td>9000000</td>\n",
       "    </tr>\n",
       "    <tr>\n",
       "      <th>2015</th>\n",
       "      <td>7300000.0</td>\n",
       "      <td>7375000</td>\n",
       "    </tr>\n",
       "    <tr>\n",
       "      <th>2016</th>\n",
       "      <td>7750000.0</td>\n",
       "      <td>8000000</td>\n",
       "    </tr>\n",
       "    <tr>\n",
       "      <th>2017</th>\n",
       "      <td>7750000.0</td>\n",
       "      <td>8000000</td>\n",
       "    </tr>\n",
       "    <tr>\n",
       "      <th>2018</th>\n",
       "      <td>7726960.5</td>\n",
       "      <td>8100000</td>\n",
       "    </tr>\n",
       "    <tr>\n",
       "      <th>2019</th>\n",
       "      <td>8000000.0</td>\n",
       "      <td>8200000</td>\n",
       "    </tr>\n",
       "  </tbody>\n",
       "</table>\n",
       "</div>"
      ],
      "text/plain": [
       "      median_price_Saint_Petersburg  median_price_Saint_Petersburg_center\n",
       "year                                                                     \n",
       "2014                      8792628.0                               9000000\n",
       "2015                      7300000.0                               7375000\n",
       "2016                      7750000.0                               8000000\n",
       "2017                      7750000.0                               8000000\n",
       "2018                      7726960.5                               8100000\n",
       "2019                      8000000.0                               8200000"
      ]
     },
     "metadata": {},
     "output_type": "display_data"
    },
    {
     "data": {
      "image/png": "[encoded data removed]",
      "text/plain": [
       "<Figure size 432x288 with 1 Axes>"
      ]
     },
     "metadata": {
      "needs_background": "light"
     },
     "output_type": "display_data"
    }
   ],
   "source": [
    "#посмотрим на зависимость цены от года размещения\n",
    "year_pivot = copy_data_for_spb.pivot_table(index = 'year', values = 'last_price', aggfunc = ['median'])\n",
    "year_pivot_center = copy_data_spb_center.pivot_table(index = 'year', values = 'last_price', aggfunc = ['median'])\n",
    "year_pivot_full = year_pivot.merge(year_pivot_center, on = 'year')\n",
    "year_pivot_full.columns = ['median_price_Saint_Petersburg', 'median_price_Saint_Petersburg_center']\n",
    "display(year_pivot_full)\n",
    "ax = year_pivot_full.plot.bar(rot=0)\n",
    "year_pivot_full_indices = year_pivot_full.reset_index()"
   ]
  },
  {
   "cell_type": "code",
   "execution_count": 67,
   "metadata": {},
   "outputs": [
    {
     "name": "stdout",
     "output_type": "stream",
     "text": [
      "Пик стоимости жилья в Санкт-Петербурге наблюдался в 0    2014\n",
      "Name: year, dtype: int64 году, минимальная стоимости - в 1    2015\n",
      "Name: year, dtype: int64\n",
      "Пик стоимости жилья в центральной зоне Санкт-Петербурга наблюдался в 0    2014\n",
      "Name: year, dtype: int64 году, минимальная стоимость - в 1    2015\n",
      "Name: year, dtype: int64\n"
     ]
    }
   ],
   "source": [
    "max_year_spb = year_pivot_full_indices[year_pivot_full_indices['median_price_Saint_Petersburg'] == year_pivot_full_indices['median_price_Saint_Petersburg'].max()]['year']\n",
    "min_year_spb = year_pivot_full_indices[year_pivot_full_indices['median_price_Saint_Petersburg'] == year_pivot_full_indices['median_price_Saint_Petersburg'].min()]['year']\n",
    "max_year_spb_center = year_pivot_full_indices[year_pivot_full_indices['median_price_Saint_Petersburg_center'] == year_pivot_full_indices['median_price_Saint_Petersburg_center'].max()]['year']\n",
    "min_year_spb_center = year_pivot_full_indices[year_pivot_full_indices['median_price_Saint_Petersburg_center'] == year_pivot_full_indices['median_price_Saint_Petersburg_center'].min()]['year']\n",
    "print('Пик стоимости жилья в Санкт-Петербурге наблюдался в {} году, минимальная стоимости - в {}'.format(max_year_spb, min_year_spb))\n",
    "print('Пик стоимости жилья в центральной зоне Санкт-Петербурга наблюдался в {} году, минимальная стоимость - в {}'.format(max_year_spb_center, min_year_spb_center))"
   ]
  },
  {
   "cell_type": "code",
   "execution_count": 68,
   "metadata": {},
   "outputs": [
    {
     "data": {
      "text/html": [
       "<div>\n",
       "<style scoped>\n",
       "    .dataframe tbody tr th:only-of-type {\n",
       "        vertical-align: middle;\n",
       "    }\n",
       "\n",
       "    .dataframe tbody tr th {\n",
       "        vertical-align: top;\n",
       "    }\n",
       "\n",
       "    .dataframe thead th {\n",
       "        text-align: right;\n",
       "    }\n",
       "</style>\n",
       "<table border=\"1\" class=\"dataframe\">\n",
       "  <thead>\n",
       "    <tr style=\"text-align: right;\">\n",
       "      <th></th>\n",
       "      <th>median_price_Saint_Petersburg</th>\n",
       "      <th>median_price_Saint_Petersburg_center</th>\n",
       "    </tr>\n",
       "    <tr>\n",
       "      <th>month</th>\n",
       "      <th></th>\n",
       "      <th></th>\n",
       "    </tr>\n",
       "  </thead>\n",
       "  <tbody>\n",
       "    <tr>\n",
       "      <th>1</th>\n",
       "      <td>7850000</td>\n",
       "      <td>8000000</td>\n",
       "    </tr>\n",
       "    <tr>\n",
       "      <th>2</th>\n",
       "      <td>7500000</td>\n",
       "      <td>7970000</td>\n",
       "    </tr>\n",
       "    <tr>\n",
       "      <th>3</th>\n",
       "      <td>7500000</td>\n",
       "      <td>8095000</td>\n",
       "    </tr>\n",
       "    <tr>\n",
       "      <th>4</th>\n",
       "      <td>7750000</td>\n",
       "      <td>7900000</td>\n",
       "    </tr>\n",
       "    <tr>\n",
       "      <th>5</th>\n",
       "      <td>7812500</td>\n",
       "      <td>8200000</td>\n",
       "    </tr>\n",
       "    <tr>\n",
       "      <th>6</th>\n",
       "      <td>7500000</td>\n",
       "      <td>8299000</td>\n",
       "    </tr>\n",
       "    <tr>\n",
       "      <th>7</th>\n",
       "      <td>7750000</td>\n",
       "      <td>8270000</td>\n",
       "    </tr>\n",
       "    <tr>\n",
       "      <th>8</th>\n",
       "      <td>7500000</td>\n",
       "      <td>7950000</td>\n",
       "    </tr>\n",
       "    <tr>\n",
       "      <th>9</th>\n",
       "      <td>8500000</td>\n",
       "      <td>8750000</td>\n",
       "    </tr>\n",
       "    <tr>\n",
       "      <th>10</th>\n",
       "      <td>8050000</td>\n",
       "      <td>8385000</td>\n",
       "    </tr>\n",
       "    <tr>\n",
       "      <th>11</th>\n",
       "      <td>7950000</td>\n",
       "      <td>8000000</td>\n",
       "    </tr>\n",
       "    <tr>\n",
       "      <th>12</th>\n",
       "      <td>7300000</td>\n",
       "      <td>7200000</td>\n",
       "    </tr>\n",
       "  </tbody>\n",
       "</table>\n",
       "</div>"
      ],
      "text/plain": [
       "       median_price_Saint_Petersburg  median_price_Saint_Petersburg_center\n",
       "month                                                                     \n",
       "1                            7850000                               8000000\n",
       "2                            7500000                               7970000\n",
       "3                            7500000                               8095000\n",
       "4                            7750000                               7900000\n",
       "5                            7812500                               8200000\n",
       "6                            7500000                               8299000\n",
       "7                            7750000                               8270000\n",
       "8                            7500000                               7950000\n",
       "9                            8500000                               8750000\n",
       "10                           8050000                               8385000\n",
       "11                           7950000                               8000000\n",
       "12                           7300000                               7200000"
      ]
     },
     "metadata": {},
     "output_type": "display_data"
    },
    {
     "name": "stdout",
     "output_type": "stream",
     "text": [
      "Пик стоимости жилья в Санкт-Петербурге наблюдается в 8    9\n",
      "Name: month, dtype: int64 месяце, минимальная стоимость - в 11    12\n",
      "Name: month, dtype: int64 месяце\n",
      "Пик стоимости жилья в центральной зоне Санкт-Петербурга наблюдается в 8    9\n",
      "Name: month, dtype: int64 месяце, минимальная стоимость - в 11    12\n",
      "Name: month, dtype: int64 месяце\n"
     ]
    },
    {
     "data": {
      "image/png": "[encoded data removed]",
      "text/plain": [
       "<Figure size 432x288 with 1 Axes>"
      ]
     },
     "metadata": {
      "needs_background": "light"
     },
     "output_type": "display_data"
    }
   ],
   "source": [
    "#посмотрим на зависимость цены от месяца размещения \n",
    "month_pivot = copy_data_for_spb.pivot_table(index = 'month', values = 'last_price', aggfunc = ['median'])\n",
    "month_pivot_center = copy_data_spb_center.pivot_table(index = 'month', values = 'last_price', aggfunc = ['median'])\n",
    "month_pivot_full = month_pivot.merge(month_pivot_center, on = 'month')\n",
    "month_pivot_full.columns = ['median_price_Saint_Petersburg', 'median_price_Saint_Petersburg_center']\n",
    "display(month_pivot_full)\n",
    "ax = month_pivot_full.plot.bar(rot=0)\n",
    "month_pivot_full_indices = month_pivot_full.reset_index()\n",
    "max_month_spb = month_pivot_full_indices[month_pivot_full_indices['median_price_Saint_Petersburg'] == month_pivot_full_indices['median_price_Saint_Petersburg'].max()]['month']\n",
    "min_month_spb = month_pivot_full_indices[month_pivot_full_indices['median_price_Saint_Petersburg'] == month_pivot_full_indices['median_price_Saint_Petersburg'].min()]['month']\n",
    "max_month_spb_center = month_pivot_full_indices[month_pivot_full_indices['median_price_Saint_Petersburg_center'] == month_pivot_full_indices['median_price_Saint_Petersburg_center'].max()]['month']\n",
    "min_month_spb_center = month_pivot_full_indices[month_pivot_full_indices['median_price_Saint_Petersburg_center'] == month_pivot_full_indices['median_price_Saint_Petersburg_center'].min()]['month']\n",
    "print('Пик стоимости жилья в Санкт-Петербурге наблюдается в {} месяце, минимальная стоимость - в {} месяце'.format(max_month_spb, min_month_spb))\n",
    "print('Пик стоимости жилья в центральной зоне Санкт-Петербурга наблюдается в {} месяце, минимальная стоимость - в {} месяце'.format(max_month_spb_center, min_month_spb_center))"
   ]
  },
  {
   "cell_type": "code",
   "execution_count": 69,
   "metadata": {},
   "outputs": [
    {
     "data": {
      "text/html": [
       "<div>\n",
       "<style scoped>\n",
       "    .dataframe tbody tr th:only-of-type {\n",
       "        vertical-align: middle;\n",
       "    }\n",
       "\n",
       "    .dataframe tbody tr th {\n",
       "        vertical-align: top;\n",
       "    }\n",
       "\n",
       "    .dataframe thead th {\n",
       "        text-align: right;\n",
       "    }\n",
       "</style>\n",
       "<table border=\"1\" class=\"dataframe\">\n",
       "  <thead>\n",
       "    <tr style=\"text-align: right;\">\n",
       "      <th></th>\n",
       "      <th>median_price_Saint_Petersburg</th>\n",
       "      <th>median_price_Saint_Petersburg_center</th>\n",
       "    </tr>\n",
       "    <tr>\n",
       "      <th>day_week</th>\n",
       "      <th></th>\n",
       "      <th></th>\n",
       "    </tr>\n",
       "  </thead>\n",
       "  <tbody>\n",
       "    <tr>\n",
       "      <th>воскресенье</th>\n",
       "      <td>7970000</td>\n",
       "      <td>8500000</td>\n",
       "    </tr>\n",
       "    <tr>\n",
       "      <th>вторник</th>\n",
       "      <td>7833808</td>\n",
       "      <td>7960000</td>\n",
       "    </tr>\n",
       "    <tr>\n",
       "      <th>понедельник</th>\n",
       "      <td>7500000</td>\n",
       "      <td>8000000</td>\n",
       "    </tr>\n",
       "    <tr>\n",
       "      <th>пятница</th>\n",
       "      <td>8000000</td>\n",
       "      <td>8200000</td>\n",
       "    </tr>\n",
       "    <tr>\n",
       "      <th>среда</th>\n",
       "      <td>7850000</td>\n",
       "      <td>8250000</td>\n",
       "    </tr>\n",
       "    <tr>\n",
       "      <th>суббота</th>\n",
       "      <td>7600000</td>\n",
       "      <td>7850000</td>\n",
       "    </tr>\n",
       "    <tr>\n",
       "      <th>четверг</th>\n",
       "      <td>7800000</td>\n",
       "      <td>7900000</td>\n",
       "    </tr>\n",
       "  </tbody>\n",
       "</table>\n",
       "</div>"
      ],
      "text/plain": [
       "             median_price_Saint_Petersburg  \\\n",
       "day_week                                     \n",
       "воскресенье                        7970000   \n",
       "вторник                            7833808   \n",
       "понедельник                        7500000   \n",
       "пятница                            8000000   \n",
       "среда                              7850000   \n",
       "суббота                            7600000   \n",
       "четверг                            7800000   \n",
       "\n",
       "             median_price_Saint_Petersburg_center  \n",
       "day_week                                           \n",
       "воскресенье                               8500000  \n",
       "вторник                                   7960000  \n",
       "понедельник                               8000000  \n",
       "пятница                                   8200000  \n",
       "среда                                     8250000  \n",
       "суббота                                   7850000  \n",
       "четверг                                   7900000  "
      ]
     },
     "metadata": {},
     "output_type": "display_data"
    },
    {
     "name": "stdout",
     "output_type": "stream",
     "text": [
      "Пик стоимости жилья в Санкт-Петербурге наблюдается в 3    пятница\n",
      "Name: day_week, dtype: object, минимальная стоимость - в 2    понедельник\n",
      "Name: day_week, dtype: object\n",
      "Пик стоимости жилья в центральной зоне Санкт-Петербурга наблюдается в 0    воскресенье\n",
      "Name: day_week, dtype: object, минимальная стоимость - в 5    суббота\n",
      "Name: day_week, dtype: object\n"
     ]
    }
   ],
   "source": [
    "#посмотрим на зависимость цены от дня недели\n",
    "day_week_pivot = data_for_spb.pivot_table(index = 'day_week', values = 'last_price', aggfunc = ['median'])\n",
    "day_week_pivot_center = data_spb_center.pivot_table(index = 'day_week', values = 'last_price', aggfunc = ['median'])\n",
    "day_week_pivot_full = day_week_pivot.merge(day_week_pivot_center, on = 'day_week')\n",
    "day_week_pivot_full.columns = ['median_price_Saint_Petersburg', 'median_price_Saint_Petersburg_center']\n",
    "display(day_week_pivot_full)\n",
    "day_week_pivot_full_indices = day_week_pivot_full.reset_index()\n",
    "max_day_spb = day_week_pivot_full_indices[day_week_pivot_full_indices['median_price_Saint_Petersburg'] == day_week_pivot_full_indices['median_price_Saint_Petersburg'].max()]['day_week']\n",
    "min_day_spb = day_week_pivot_full_indices[day_week_pivot_full_indices['median_price_Saint_Petersburg'] == day_week_pivot_full_indices['median_price_Saint_Petersburg'].min()]['day_week']\n",
    "max_day_spb_center = day_week_pivot_full_indices[day_week_pivot_full_indices['median_price_Saint_Petersburg_center'] == day_week_pivot_full_indices['median_price_Saint_Petersburg_center'].max()]['day_week']\n",
    "min_day_spb_center = day_week_pivot_full_indices[day_week_pivot_full_indices['median_price_Saint_Petersburg_center'] == day_week_pivot_full_indices['median_price_Saint_Petersburg_center'].min()]['day_week']\n",
    "print('Пик стоимости жилья в Санкт-Петербурге наблюдается в {}, минимальная стоимость - в {}'.format(max_day_spb, min_day_spb))\n",
    "print('Пик стоимости жилья в центральной зоне Санкт-Петербурга наблюдается в {}, минимальная стоимость - в {}'.format(max_day_spb_center, min_day_spb_center))"
   ]
  },
  {
   "cell_type": "markdown",
   "metadata": {},
   "source": [
    "**Вывод**\n",
    "- медианная стоимость жилья в центральной зоне Санкт-Петербурга на 246 тыс. руб. выше, чем в целом по городу;\n",
    "- факт нахождения квартиры на последнем этаже оказывает однонаправленное влияние на ее стоимость в центр. зоне и в СПб в целом: медианная стоимость квартир на последнем и первом этажах ниже, чем на других этажах; \n",
    "- с увеличением числа комнат как в СПб, так и в центральной зоне, стоимость квартиры возрастает; \n",
    "- в центральной зоне и в целом по СПБ наблюдается схожая зависимость цены от отдаленности от центра;\n",
    "- как в центр. зоне, так и в СПб максимальная медианная стоимость жилья зарегистрирована в 2014 году; \n",
    "- максимальная стоимость жилья как в СПб, так и в центр. зоне наблюдается в августе; \n",
    "- минимальная стоимость жилья как в СПб, так и в центр. зоне - в ноябре; \n",
    "- максимальная цена продажи в СПб - в пятницу, в центр. зоне - в воскресенье (может быть связано с пиком спроса в выходные дни);\n",
    "- минимальная цена продажи в СПб - в понедельник, в центр. зоне - в субботу. "
   ]
  },
  {
   "cell_type": "markdown",
   "metadata": {},
   "source": [
    "### Шаг 5. Общий вывод"
   ]
  },
  {
   "cell_type": "markdown",
   "metadata": {},
   "source": [
    "- В проекте был проанализирован архив объявлений о продаже квартир в Санкт-Петербурге в период с 2014 по 2019 год.\n",
    "- На этапе предобработки данных были заполнены пропуски в значениях высоты потолков, количества этажей, жилой площади, площади кухни, количества дней продажи, принадлежности квартиры к типу апартаменты, количества балконов, парков и водоемов. \n",
    "- Пропуски в столбцах 'locality_name', 'cityCenters_nearest', 'parks_nearest', 'ponds_nearest', которые возникли предположительно из-за технических ошибок при загрузке картографических данных, были оставлены в датасете. \n",
    "- На этапе исследовательского анализа данных были выявлены толстые правые хвосты в распределении параметров площади, количества комнат и дней продажи, высоты потолков и цены. \n",
    "- Для устранения выбросов и достижения симметричности распределения были отброшены значения < 5% - перцентиля и > 95% - перцентиля для каждого параметра. \n",
    "\n",
    "В результате анализа зависимости цены квартиры от данных параметров для всех локаций можно заключить, что: \n",
    "- на цену продажи квартиры оказывают положительное влияние ее площадь и количество комнат; \n",
    "- отрицательное влияние на цену продажи квартиры оказывают ее удаленность от центра и нахождение на первом и последнем этажах дома; \n",
    "- максимальная стоимость жилья наблюдается в сентябре, самая низкая - в феврале-марте;\n",
    "- во вторник и среду медианная цена продажи выше, чем в конце недели.\n",
    "\n",
    "Результаты анализа позволяют выдвинуть следующие гипотезы для дальнейшей проверки: \n",
    "- на цену продажи квартиры оказывают положительное влияние ее площадь и количество комнат (однако в случае когда число комнат > 5, зависимость нелинейная); \n",
    "- отрицательное влияние на цену продажи квартиры оказывают ее удаленность от центра и нахождение на первом и последнем этажах дома; \n",
    "- максимальная стоимость жилья наблюдается в апреле, самая низкая - в июне (может быть обусловлено, например, снижением спроса в летние месяцы из-за его сдвига в пользу частных домов); \n",
    "- во вторник и среду медианная цена продажи выше, чем в конце недели."
   ]
  }
 ],
 "metadata": {
  "kernelspec": {
   "display_name": "Python 3",
   "language": "python",
   "name": "python3"
  },
  "language_info": {
   "codemirror_mode": {
    "name": "ipython",
    "version": 3
   },
   "file_extension": ".py",
   "mimetype": "text/x-python",
   "name": "python",
   "nbconvert_exporter": "python",
   "pygments_lexer": "ipython3",
   "version": "3.8.8"
  },
  "toc": {
   "base_numbering": 1,
   "nav_menu": {},
   "number_sections": true,
   "sideBar": true,
   "skip_h1_title": true,
   "title_cell": "Table of Contents",
   "title_sidebar": "Contents",
   "toc_cell": false,
   "toc_position": {},
   "toc_section_display": true,
   "toc_window_display": false
  }
 },
 "nbformat": 4,
 "nbformat_minor": 2
}

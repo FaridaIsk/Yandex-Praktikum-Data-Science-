{
 "cells": [
  {
   "cell_type": "markdown",
   "metadata": {},
   "source": [
    "# Проект 1. Предобработка данных\n",
    "\n",
    "## Исследование надёжности заёмщиков\n",
    "\n",
    "Заказчик — кредитный отдел банка. Нужно разобраться, влияет ли семейное положение и количество детей клиента на факт погашения кредита в срок. Входные данные от банка — статистика о платёжеспособности клиентов.\n",
    "\n",
    "Результаты исследования будут учтены при построении модели **кредитного скоринга** — специальной системы, которая оценивает способность потенциального заёмщика вернуть кредит банку."
   ]
  },
  {
   "cell_type": "markdown",
   "metadata": {},
   "source": [
    "### План проекта\n",
    "1. Изучение общей информации\n",
    "2. Преобработка данных  \n",
    "   2.1 Обработка признаков    \n",
    "   2.2 Замена типа данных  \n",
    "   2.3 Обработка дубликатов  \n",
    "   2.4 Лемматизация  \n",
    "   2.5 Категоризация данных  \n",
    "3. Анализ факторов, влияющих на возврат кредита в срок  \n",
    "   3.1 Зависимость между наличием детей и возвратом кредита в срок  \n",
    "   3.2 Зависимость между семейным положением и возвратом кредита в срок  \n",
    "   3.3 Зависимость между уровнем дохода  и возвратом кредита в срок  \n",
    "   3.4 Влияние различных целей кредита на его возврат в срок   \n",
    "4. Общий вывод  "
   ]
  },
  {
   "cell_type": "markdown",
   "metadata": {},
   "source": [
    "### Описание данных\n",
    "- children — количество детей в семье\n",
    "- days_employed — общий трудовой стаж в днях\n",
    "- dob_years — возраст клиента в годах\n",
    "- education — уровень образования клиента\n",
    "- education_id — идентификатор уровня образования\n",
    "- family_status — семейное положение\n",
    "- family_status_id — идентификатор семейного положения\n",
    "- gender — пол клиента\n",
    "- income_type — тип занятости\n",
    "- debt — имел ли задолженность по возврату кредитов\n",
    "- total_income — ежемесячный доход\n",
    "- purpose — цель получения кредита"
   ]
  },
  {
   "cell_type": "markdown",
   "metadata": {},
   "source": [
    "### Шаг 1. Откройте файл с данными и изучите общую информацию. "
   ]
  },
  {
   "cell_type": "code",
   "execution_count": 1,
   "metadata": {},
   "outputs": [
    {
     "name": "stdout",
     "output_type": "stream",
     "text": [
      "<class 'pandas.core.frame.DataFrame'>\n",
      "RangeIndex: 21525 entries, 0 to 21524\n",
      "Data columns (total 12 columns):\n",
      "children            21525 non-null int64\n",
      "days_employed       19351 non-null float64\n",
      "dob_years           21525 non-null int64\n",
      "education           21525 non-null object\n",
      "education_id        21525 non-null int64\n",
      "family_status       21525 non-null object\n",
      "family_status_id    21525 non-null int64\n",
      "gender              21525 non-null object\n",
      "income_type         21525 non-null object\n",
      "debt                21525 non-null int64\n",
      "total_income        19351 non-null float64\n",
      "purpose             21525 non-null object\n",
      "dtypes: float64(2), int64(5), object(5)\n",
      "memory usage: 11.3 MB\n"
     ]
    }
   ],
   "source": [
    "import pandas as pd\n",
    "import numpy as np\n",
    "data = pd.read_csv('/datasets/data.csv')\n",
    "data.info(memory_usage = 'deep')"
   ]
  },
  {
   "cell_type": "markdown",
   "metadata": {},
   "source": [
    "### Вывод: \n",
    "В таблице 12 столбцов и 21525 строк. Количество значений в столбцах различается, что свидетельствует о наличии пропущенных значений, в частности в столбцах 'days_employed' и 'total_income'. В данных присутствует 7 столбцов с числовыми данными и 5 столбцов с объектами."
   ]
  },
  {
   "cell_type": "markdown",
   "metadata": {},
   "source": [
    "### Шаг 2. Предобработка данных"
   ]
  },
  {
   "cell_type": "markdown",
   "metadata": {},
   "source": [
    "### 2.1 Обработка пропусков"
   ]
  },
  {
   "cell_type": "code",
   "execution_count": 2,
   "metadata": {},
   "outputs": [
    {
     "name": "stdout",
     "output_type": "stream",
     "text": [
      "children            2174\n",
      "days_employed          0\n",
      "dob_years           2174\n",
      "education           2174\n",
      "education_id        2174\n",
      "family_status       2174\n",
      "family_status_id    2174\n",
      "gender              2174\n",
      "income_type         2174\n",
      "debt                2174\n",
      "total_income           0\n",
      "purpose             2174\n",
      "dtype: int64\n"
     ]
    }
   ],
   "source": [
    "# рассчитаем количество пропущенных значений в столбце 'days_employed'\n",
    "print(data[data['days_employed'].isnull()].count())"
   ]
  },
  {
   "cell_type": "code",
   "execution_count": 3,
   "metadata": {},
   "outputs": [
    {
     "name": "stdout",
     "output_type": "stream",
     "text": [
      "children            2174\n",
      "days_employed          0\n",
      "dob_years           2174\n",
      "education           2174\n",
      "education_id        2174\n",
      "family_status       2174\n",
      "family_status_id    2174\n",
      "gender              2174\n",
      "income_type         2174\n",
      "debt                2174\n",
      "total_income           0\n",
      "purpose             2174\n",
      "dtype: int64\n"
     ]
    }
   ],
   "source": [
    "#рассчитаем количество пропущенных значений в столбце с доходом 'total_income'\n",
    "print(data[data['total_income'].isnull()].count())"
   ]
  },
  {
   "cell_type": "code",
   "execution_count": 4,
   "metadata": {},
   "outputs": [
    {
     "data": {
      "text/plain": [
       "15906"
      ]
     },
     "execution_count": 4,
     "metadata": {},
     "output_type": "execute_result"
    }
   ],
   "source": [
    "#выявим артфефакты - кол-во отрицательных значений в столбцах таблицы\n",
    "data[data['days_employed'] < 0]['days_employed'].count()"
   ]
  },
  {
   "cell_type": "code",
   "execution_count": 5,
   "metadata": {},
   "outputs": [
    {
     "data": {
      "text/plain": [
       "0"
      ]
     },
     "execution_count": 5,
     "metadata": {},
     "output_type": "execute_result"
    }
   ],
   "source": [
    "data[data['total_income'] < 0]['total_income'].count()"
   ]
  },
  {
   "cell_type": "code",
   "execution_count": 6,
   "metadata": {},
   "outputs": [
    {
     "data": {
      "text/plain": [
       "47"
      ]
     },
     "execution_count": 6,
     "metadata": {},
     "output_type": "execute_result"
    }
   ],
   "source": [
    "data[data['children'] < 0]['children'].count()"
   ]
  },
  {
   "cell_type": "code",
   "execution_count": 7,
   "metadata": {},
   "outputs": [],
   "source": [
    "#преобразуема отрицательные значения трудового стажа и кол-во детей в положительные значения\n",
    "data[['days_employed', 'children']] = data[['days_employed', 'children']].abs()"
   ]
  },
  {
   "cell_type": "code",
   "execution_count": 8,
   "metadata": {},
   "outputs": [
    {
     "data": {
      "text/plain": [
       "3608"
      ]
     },
     "execution_count": 8,
     "metadata": {},
     "output_type": "execute_result"
    }
   ],
   "source": [
    "#проверим наличие аномальных значений в столбце с количеством дней занятости \n",
    "data[data['days_employed'] > (data['dob_years'] - 16)*365]['days_employed'].count()"
   ]
  },
  {
   "cell_type": "code",
   "execution_count": 9,
   "metadata": {},
   "outputs": [],
   "source": [
    "#предположим, что в выявленных строках, где дни занятости принимают аномально высокие значения, значения выражены не в днях, а в часах. \n",
    "#для получения искомого значения, преобразуем данные строки в дни\n",
    "selected_rows = data[data['days_employed'] > (data['dob_years'] - 16)*365]\n",
    "transformed_values_for_employment = selected_rows ['days_employed']/24"
   ]
  },
  {
   "cell_type": "code",
   "execution_count": 10,
   "metadata": {},
   "outputs": [
    {
     "data": {
      "text/plain": [
       "4        14177.753002\n",
       "18       16678.380705\n",
       "24       14106.331371\n",
       "25       15147.853723\n",
       "30       13982.569521\n",
       "             ...     \n",
       "21505    14121.036100\n",
       "21508    16104.071420\n",
       "21509    15090.043922\n",
       "21518    15583.154618\n",
       "21521    14330.725172\n",
       "Name: days_employed, Length: 3608, dtype: float64"
      ]
     },
     "execution_count": 10,
     "metadata": {},
     "output_type": "execute_result"
    }
   ],
   "source": [
    "transformed_values_for_employment"
   ]
  },
  {
   "cell_type": "code",
   "execution_count": 11,
   "metadata": {},
   "outputs": [],
   "source": [
    "#подставим скорректированные аномальные значения в искомый датасет\n",
    "data.loc[data['days_employed'] > (data['dob_years'] - 16)*365, 'days_employed'] = transformed_values_for_employment"
   ]
  },
  {
   "cell_type": "code",
   "execution_count": 12,
   "metadata": {},
   "outputs": [
    {
     "data": {
      "text/plain": [
       "0"
      ]
     },
     "execution_count": 12,
     "metadata": {},
     "output_type": "execute_result"
    }
   ],
   "source": [
    "#Предположим, что величина трудового стажа зависит от возраста заемщика. \n",
    "#Определим диапазон возраста заемщиков. \n",
    "data['dob_years'].min()"
   ]
  },
  {
   "cell_type": "code",
   "execution_count": 13,
   "metadata": {},
   "outputs": [
    {
     "data": {
      "text/plain": [
       "75"
      ]
     },
     "execution_count": 13,
     "metadata": {},
     "output_type": "execute_result"
    }
   ],
   "source": [
    "data['dob_years'].max()"
   ]
  },
  {
   "cell_type": "code",
   "execution_count": 14,
   "metadata": {},
   "outputs": [],
   "source": [
    "#учитвая, что диапазон возраста заемщиков от 0 до 75,классифицируем их на возрастные категории для дальнейшего расчета медианы для каждой из них\n",
    "def age_group(age):\n",
    "    if age < 30:\n",
    "        return 'молодые'\n",
    "    if 31 <= age <= 60:\n",
    "        return 'зрелые'\n",
    "    return 'пенсионеры'"
   ]
  },
  {
   "cell_type": "code",
   "execution_count": 15,
   "metadata": {},
   "outputs": [],
   "source": [
    "#создадаим стоблец с возрастными категориями в искомом датасете\n",
    "data['age_group'] = data['dob_years'].apply(age_group)"
   ]
  },
  {
   "cell_type": "code",
   "execution_count": 16,
   "metadata": {},
   "outputs": [
    {
     "data": {
      "text/plain": [
       "age_group\n",
       "зрелые         2312.623375\n",
       "молодые         963.613672\n",
       "пенсионеры    14359.556849\n",
       "Name: days_employed, dtype: float64"
      ]
     },
     "execution_count": 16,
     "metadata": {},
     "output_type": "execute_result"
    }
   ],
   "source": [
    "#рассчитаем медианные значения трудового стажа в зависимости от ворзастной категории, к которой принадлежит заемщик\n",
    "data.groupby('age_group')['days_employed'].median()"
   ]
  },
  {
   "cell_type": "code",
   "execution_count": 17,
   "metadata": {},
   "outputs": [],
   "source": [
    "#создадим словарь, состоящий из медианных значений стажа и соответствующим им возрастных категорий\n",
    "dict = {'зрелые':2312.623375, 'молодые': 963.613672, 'пенсионеры': 14359.556849}"
   ]
  },
  {
   "cell_type": "code",
   "execution_count": 18,
   "metadata": {},
   "outputs": [],
   "source": [
    "#создадим функцию для заполнения пропуском значениями из словаря dict\n",
    "def fill_missing_days(row):\n",
    "    if pd.isna(row['days_employed']):\n",
    "        row['days_employed'] == dict[row['age_group']]\n",
    "        return dict[row['age_group']]\n",
    "    else:\n",
    "        return row['days_employed']"
   ]
  },
  {
   "cell_type": "code",
   "execution_count": 19,
   "metadata": {},
   "outputs": [],
   "source": [
    "#заполним пропуски в столбце 'days_employed' с помощью созданной функции\n",
    "data['days_employed'] = data.apply(fill_missing_days, axis=1)"
   ]
  },
  {
   "cell_type": "code",
   "execution_count": 20,
   "metadata": {},
   "outputs": [
    {
     "name": "stdout",
     "output_type": "stream",
     "text": [
      "income_type\n",
      "безработный        131339.751676\n",
      "в декрете           53829.130729\n",
      "госслужащий        150447.935283\n",
      "компаньон          172357.950966\n",
      "пенсионер          118514.486412\n",
      "предприниматель    499163.144947\n",
      "сотрудник          142594.396847\n",
      "студент             98201.625314\n",
      "Name: total_income, dtype: float64\n"
     ]
    }
   ],
   "source": [
    "#предположим, что ежемесячный доход заемщика зависит от типа его занятости\n",
    "#сгруппируем датасет по типу занятости и рассчитает медианное значение дохода для каждой категории\n",
    "new_data = data.groupby('income_type')['total_income'].median()\n",
    "print(new_data)"
   ]
  },
  {
   "cell_type": "code",
   "execution_count": 21,
   "metadata": {},
   "outputs": [],
   "source": [
    "#создадим словарь из типа занятости и соответствуюшего ему дохода\n",
    "dict_2 = {'безработный':  131339.751676, 'в декрете': 53829.130729, 'госслужащий': 150447.935283, 'компаньон': 172357.950966, 'пенсионер': 118514.486412, 'предприниматель': 499163.144947, 'сотрудник' :  142594.396847, 'студент' : 98201.625314}"
   ]
  },
  {
   "cell_type": "code",
   "execution_count": 22,
   "metadata": {},
   "outputs": [],
   "source": [
    "#создадим функцию для заполнения пропуском значениями из словаря dict_2\n",
    "def fill_missing_values(row):\n",
    "    if pd.isna(row['total_income']):\n",
    "        row['total_income'] == dict_2[row['income_type']]\n",
    "        return dict_2[row['income_type']]\n",
    "    else:\n",
    "        return row['total_income']"
   ]
  },
  {
   "cell_type": "code",
   "execution_count": 23,
   "metadata": {},
   "outputs": [],
   "source": [
    "#заполним пропуски в столбце 'total_income' с помощью созданной функции\n",
    "data['total_income'] = data.apply(fill_missing_values, axis = 1)"
   ]
  },
  {
   "cell_type": "code",
   "execution_count": 24,
   "metadata": {},
   "outputs": [
    {
     "name": "stdout",
     "output_type": "stream",
     "text": [
      "children            0\n",
      "days_employed       0\n",
      "dob_years           0\n",
      "education           0\n",
      "education_id        0\n",
      "family_status       0\n",
      "family_status_id    0\n",
      "gender              0\n",
      "income_type         0\n",
      "debt                0\n",
      "total_income        0\n",
      "purpose             0\n",
      "age_group           0\n",
      "dtype: int64\n"
     ]
    }
   ],
   "source": [
    "#проверим заполнились ли пропуски в столбцах 'total_income' и 'days_employed'\n",
    "print(data[data['total_income'].isnull()].count())"
   ]
  },
  {
   "cell_type": "code",
   "execution_count": 25,
   "metadata": {},
   "outputs": [
    {
     "name": "stdout",
     "output_type": "stream",
     "text": [
      "children            0\n",
      "days_employed       0\n",
      "dob_years           0\n",
      "education           0\n",
      "education_id        0\n",
      "family_status       0\n",
      "family_status_id    0\n",
      "gender              0\n",
      "income_type         0\n",
      "debt                0\n",
      "total_income        0\n",
      "purpose             0\n",
      "age_group           0\n",
      "dtype: int64\n"
     ]
    }
   ],
   "source": [
    "print(data[data['days_employed'].isnull()].count())"
   ]
  },
  {
   "cell_type": "markdown",
   "metadata": {},
   "source": [
    "### ВЫВОД\n",
    "В результате предварительного анализа были выявлены пропуски в столбцах с трудовым стажем, выраженным в днях ('days_employed'), и ежемесячным доходом ('total_income'). В целях избежать смещения в выборке пропуски в трудовом стаже заполнялись медианными значениями в зависимости от возрастной группы, к которой принадлежит заемщик, а пропуски в величине дохода - медианными значениями в зависимости от типа занятости, характерного для заемщика. Пропуски в данных могли быть результатом технической ошибки, например, при переносе информации из письменной анкеты в электронную. Также в данных были выявлены артефакты: н-р, отрицательные значения в стаже, который могли быть результатом вычитания переменных в неверном порядке (дата начала работы - дата завершения работы)."
   ]
  },
  {
   "cell_type": "markdown",
   "metadata": {},
   "source": [
    "### 2.2 Замена типа данных"
   ]
  },
  {
   "cell_type": "code",
   "execution_count": 26,
   "metadata": {},
   "outputs": [
    {
     "data": {
      "text/plain": [
       "2312.623375     1584\n",
       "963.613672       309\n",
       "14359.556849     281\n",
       "5585.832554        1\n",
       "14583.152504       1\n",
       "                ... \n",
       "262.922745         1\n",
       "914.167360         1\n",
       "339.153770         1\n",
       "2849.351119        1\n",
       "582.538413         1\n",
       "Name: days_employed, Length: 19354, dtype: int64"
      ]
     },
     "execution_count": 26,
     "metadata": {},
     "output_type": "execute_result"
    }
   ],
   "source": [
    "data['days_employed'].value_counts()"
   ]
  },
  {
   "cell_type": "code",
   "execution_count": 27,
   "metadata": {},
   "outputs": [
    {
     "data": {
      "text/plain": [
       "0         8437\n",
       "1         4024\n",
       "2         5623\n",
       "3         4124\n",
       "4        14177\n",
       "         ...  \n",
       "21520     4529\n",
       "21521    14330\n",
       "21522     2113\n",
       "21523     3112\n",
       "21524     1984\n",
       "Name: days_employed, Length: 21525, dtype: int64"
      ]
     },
     "execution_count": 27,
     "metadata": {},
     "output_type": "execute_result"
    }
   ],
   "source": [
    "#Приведем значения в столбце с количеством дней занятости к целочисленному виду\n",
    "data['days_employed'].astype(int)"
   ]
  },
  {
   "cell_type": "code",
   "execution_count": 28,
   "metadata": {},
   "outputs": [
    {
     "data": {
      "text/plain": [
       "0        253875\n",
       "1        112080\n",
       "2        145885\n",
       "3        267628\n",
       "4        158616\n",
       "          ...  \n",
       "21520    224791\n",
       "21521    155999\n",
       "21522     89672\n",
       "21523    244093\n",
       "21524     82047\n",
       "Name: total_income, Length: 21525, dtype: int64"
      ]
     },
     "execution_count": 28,
     "metadata": {},
     "output_type": "execute_result"
    }
   ],
   "source": [
    "#Приведем значения в столбце в доходом к целочисленному виду\n",
    "data['total_income'].astype(int)"
   ]
  },
  {
   "cell_type": "code",
   "execution_count": 29,
   "metadata": {},
   "outputs": [
    {
     "data": {
      "text/html": [
       "<div>\n",
       "<style scoped>\n",
       "    .dataframe tbody tr th:only-of-type {\n",
       "        vertical-align: middle;\n",
       "    }\n",
       "\n",
       "    .dataframe tbody tr th {\n",
       "        vertical-align: top;\n",
       "    }\n",
       "\n",
       "    .dataframe thead th {\n",
       "        text-align: right;\n",
       "    }\n",
       "</style>\n",
       "<table border=\"1\" class=\"dataframe\">\n",
       "  <thead>\n",
       "    <tr style=\"text-align: right;\">\n",
       "      <th></th>\n",
       "      <th>children</th>\n",
       "      <th>days_employed</th>\n",
       "      <th>dob_years</th>\n",
       "      <th>education</th>\n",
       "      <th>education_id</th>\n",
       "      <th>family_status</th>\n",
       "      <th>family_status_id</th>\n",
       "      <th>gender</th>\n",
       "      <th>income_type</th>\n",
       "      <th>debt</th>\n",
       "      <th>total_income</th>\n",
       "      <th>purpose</th>\n",
       "      <th>age_group</th>\n",
       "    </tr>\n",
       "  </thead>\n",
       "  <tbody>\n",
       "    <tr>\n",
       "      <td>0</td>\n",
       "      <td>1.0</td>\n",
       "      <td>8437.673028</td>\n",
       "      <td>42</td>\n",
       "      <td>высшее</td>\n",
       "      <td>0</td>\n",
       "      <td>женат / замужем</td>\n",
       "      <td>0</td>\n",
       "      <td>F</td>\n",
       "      <td>сотрудник</td>\n",
       "      <td>0</td>\n",
       "      <td>253875.639453</td>\n",
       "      <td>покупка жилья</td>\n",
       "      <td>зрелые</td>\n",
       "    </tr>\n",
       "    <tr>\n",
       "      <td>1</td>\n",
       "      <td>1.0</td>\n",
       "      <td>4024.803754</td>\n",
       "      <td>36</td>\n",
       "      <td>среднее</td>\n",
       "      <td>1</td>\n",
       "      <td>женат / замужем</td>\n",
       "      <td>0</td>\n",
       "      <td>F</td>\n",
       "      <td>сотрудник</td>\n",
       "      <td>0</td>\n",
       "      <td>112080.014102</td>\n",
       "      <td>приобретение автомобиля</td>\n",
       "      <td>зрелые</td>\n",
       "    </tr>\n",
       "    <tr>\n",
       "      <td>2</td>\n",
       "      <td>0.0</td>\n",
       "      <td>5623.422610</td>\n",
       "      <td>33</td>\n",
       "      <td>Среднее</td>\n",
       "      <td>1</td>\n",
       "      <td>женат / замужем</td>\n",
       "      <td>0</td>\n",
       "      <td>M</td>\n",
       "      <td>сотрудник</td>\n",
       "      <td>0</td>\n",
       "      <td>145885.952297</td>\n",
       "      <td>покупка жилья</td>\n",
       "      <td>зрелые</td>\n",
       "    </tr>\n",
       "    <tr>\n",
       "      <td>3</td>\n",
       "      <td>3.0</td>\n",
       "      <td>4124.747207</td>\n",
       "      <td>32</td>\n",
       "      <td>среднее</td>\n",
       "      <td>1</td>\n",
       "      <td>женат / замужем</td>\n",
       "      <td>0</td>\n",
       "      <td>M</td>\n",
       "      <td>сотрудник</td>\n",
       "      <td>0</td>\n",
       "      <td>267628.550329</td>\n",
       "      <td>дополнительное образование</td>\n",
       "      <td>зрелые</td>\n",
       "    </tr>\n",
       "    <tr>\n",
       "      <td>4</td>\n",
       "      <td>0.0</td>\n",
       "      <td>14177.753002</td>\n",
       "      <td>53</td>\n",
       "      <td>среднее</td>\n",
       "      <td>1</td>\n",
       "      <td>гражданский брак</td>\n",
       "      <td>1</td>\n",
       "      <td>F</td>\n",
       "      <td>пенсионер</td>\n",
       "      <td>0</td>\n",
       "      <td>158616.077870</td>\n",
       "      <td>сыграть свадьбу</td>\n",
       "      <td>зрелые</td>\n",
       "    </tr>\n",
       "  </tbody>\n",
       "</table>\n",
       "</div>"
      ],
      "text/plain": [
       "   children  days_employed  dob_years education  education_id  \\\n",
       "0       1.0    8437.673028         42    высшее             0   \n",
       "1       1.0    4024.803754         36   среднее             1   \n",
       "2       0.0    5623.422610         33   Среднее             1   \n",
       "3       3.0    4124.747207         32   среднее             1   \n",
       "4       0.0   14177.753002         53   среднее             1   \n",
       "\n",
       "      family_status  family_status_id gender income_type  debt   total_income  \\\n",
       "0   женат / замужем                 0      F   сотрудник     0  253875.639453   \n",
       "1   женат / замужем                 0      F   сотрудник     0  112080.014102   \n",
       "2   женат / замужем                 0      M   сотрудник     0  145885.952297   \n",
       "3   женат / замужем                 0      M   сотрудник     0  267628.550329   \n",
       "4  гражданский брак                 1      F   пенсионер     0  158616.077870   \n",
       "\n",
       "                      purpose age_group  \n",
       "0               покупка жилья    зрелые  \n",
       "1     приобретение автомобиля    зрелые  \n",
       "2               покупка жилья    зрелые  \n",
       "3  дополнительное образование    зрелые  \n",
       "4             сыграть свадьбу    зрелые  "
      ]
     },
     "execution_count": 29,
     "metadata": {},
     "output_type": "execute_result"
    }
   ],
   "source": [
    "data.head()"
   ]
  },
  {
   "cell_type": "markdown",
   "metadata": {},
   "source": [
    "### Вывод\n",
    "Приобразовали значения дней занятости и дохода из вещественного типа к целочисленному с помощью функции astype(). Функция to_numeric() не подходит в данном случае, поскольку используется для преобразования значений типа 'string'.\n"
   ]
  },
  {
   "cell_type": "markdown",
   "metadata": {},
   "source": [
    "### 2.3 Обработка дубликатов"
   ]
  },
  {
   "cell_type": "code",
   "execution_count": 30,
   "metadata": {},
   "outputs": [
    {
     "data": {
      "text/plain": [
       "среднее                13750\n",
       "высшее                  4718\n",
       "СРЕДНЕЕ                  772\n",
       "Среднее                  711\n",
       "неоконченное высшее      668\n",
       "ВЫСШЕЕ                   274\n",
       "Высшее                   268\n",
       "начальное                250\n",
       "Неоконченное высшее       47\n",
       "НЕОКОНЧЕННОЕ ВЫСШЕЕ       29\n",
       "НАЧАЛЬНОЕ                 17\n",
       "Начальное                 15\n",
       "ученая степень             4\n",
       "Ученая степень             1\n",
       "УЧЕНАЯ СТЕПЕНЬ             1\n",
       "Name: education, dtype: int64"
      ]
     },
     "execution_count": 30,
     "metadata": {},
     "output_type": "execute_result"
    }
   ],
   "source": [
    "#Посмотрим на уникальные значения в разных столбцах таблицы\n",
    "data['gender'].value_counts()\n",
    "data['income_type'].value_counts()\n",
    "data['purpose'].value_counts()\n",
    "data['family_status'].value_counts()\n",
    "data['education'].value_counts()"
   ]
  },
  {
   "cell_type": "code",
   "execution_count": 31,
   "metadata": {},
   "outputs": [],
   "source": [
    "#т.к. значения в столбце 'education' отличаются регистром, приведем их к единому нижнему регистру\n",
    "data['education'] = data['education'].str.lower()"
   ]
  },
  {
   "cell_type": "code",
   "execution_count": 32,
   "metadata": {},
   "outputs": [
    {
     "data": {
      "text/plain": [
       "среднее                15233\n",
       "высшее                  5260\n",
       "неоконченное высшее      744\n",
       "начальное                282\n",
       "ученая степень             6\n",
       "Name: education, dtype: int64"
      ]
     },
     "execution_count": 32,
     "metadata": {},
     "output_type": "execute_result"
    }
   ],
   "source": [
    "data['education'].value_counts()"
   ]
  },
  {
   "cell_type": "code",
   "execution_count": 33,
   "metadata": {},
   "outputs": [
    {
     "name": "stdout",
     "output_type": "stream",
     "text": [
      "Дубликатов в таблице: 71\n"
     ]
    }
   ],
   "source": [
    "#рассчитаем число полных дубликатов\n",
    "print('Дубликатов в таблице:', data.duplicated().sum())"
   ]
  },
  {
   "cell_type": "code",
   "execution_count": 34,
   "metadata": {},
   "outputs": [
    {
     "data": {
      "text/html": [
       "<div>\n",
       "<style scoped>\n",
       "    .dataframe tbody tr th:only-of-type {\n",
       "        vertical-align: middle;\n",
       "    }\n",
       "\n",
       "    .dataframe tbody tr th {\n",
       "        vertical-align: top;\n",
       "    }\n",
       "\n",
       "    .dataframe thead th {\n",
       "        text-align: right;\n",
       "    }\n",
       "</style>\n",
       "<table border=\"1\" class=\"dataframe\">\n",
       "  <thead>\n",
       "    <tr style=\"text-align: right;\">\n",
       "      <th></th>\n",
       "      <th>children</th>\n",
       "      <th>days_employed</th>\n",
       "      <th>dob_years</th>\n",
       "      <th>education</th>\n",
       "      <th>education_id</th>\n",
       "      <th>family_status</th>\n",
       "      <th>family_status_id</th>\n",
       "      <th>gender</th>\n",
       "      <th>income_type</th>\n",
       "      <th>debt</th>\n",
       "      <th>total_income</th>\n",
       "      <th>purpose</th>\n",
       "      <th>age_group</th>\n",
       "    </tr>\n",
       "  </thead>\n",
       "  <tbody>\n",
       "    <tr>\n",
       "      <td>2849</td>\n",
       "      <td>0.0</td>\n",
       "      <td>2312.623375</td>\n",
       "      <td>41</td>\n",
       "      <td>среднее</td>\n",
       "      <td>1</td>\n",
       "      <td>женат / замужем</td>\n",
       "      <td>0</td>\n",
       "      <td>F</td>\n",
       "      <td>сотрудник</td>\n",
       "      <td>0</td>\n",
       "      <td>142594.396847</td>\n",
       "      <td>покупка жилья для семьи</td>\n",
       "      <td>зрелые</td>\n",
       "    </tr>\n",
       "    <tr>\n",
       "      <td>3290</td>\n",
       "      <td>0.0</td>\n",
       "      <td>2312.623375</td>\n",
       "      <td>58</td>\n",
       "      <td>среднее</td>\n",
       "      <td>1</td>\n",
       "      <td>гражданский брак</td>\n",
       "      <td>1</td>\n",
       "      <td>F</td>\n",
       "      <td>пенсионер</td>\n",
       "      <td>0</td>\n",
       "      <td>118514.486412</td>\n",
       "      <td>сыграть свадьбу</td>\n",
       "      <td>зрелые</td>\n",
       "    </tr>\n",
       "    <tr>\n",
       "      <td>4182</td>\n",
       "      <td>1.0</td>\n",
       "      <td>2312.623375</td>\n",
       "      <td>34</td>\n",
       "      <td>высшее</td>\n",
       "      <td>0</td>\n",
       "      <td>гражданский брак</td>\n",
       "      <td>1</td>\n",
       "      <td>F</td>\n",
       "      <td>сотрудник</td>\n",
       "      <td>0</td>\n",
       "      <td>142594.396847</td>\n",
       "      <td>свадьба</td>\n",
       "      <td>зрелые</td>\n",
       "    </tr>\n",
       "    <tr>\n",
       "      <td>4851</td>\n",
       "      <td>0.0</td>\n",
       "      <td>2312.623375</td>\n",
       "      <td>60</td>\n",
       "      <td>среднее</td>\n",
       "      <td>1</td>\n",
       "      <td>гражданский брак</td>\n",
       "      <td>1</td>\n",
       "      <td>F</td>\n",
       "      <td>пенсионер</td>\n",
       "      <td>0</td>\n",
       "      <td>118514.486412</td>\n",
       "      <td>свадьба</td>\n",
       "      <td>зрелые</td>\n",
       "    </tr>\n",
       "    <tr>\n",
       "      <td>5557</td>\n",
       "      <td>0.0</td>\n",
       "      <td>2312.623375</td>\n",
       "      <td>58</td>\n",
       "      <td>среднее</td>\n",
       "      <td>1</td>\n",
       "      <td>гражданский брак</td>\n",
       "      <td>1</td>\n",
       "      <td>F</td>\n",
       "      <td>пенсионер</td>\n",
       "      <td>0</td>\n",
       "      <td>118514.486412</td>\n",
       "      <td>сыграть свадьбу</td>\n",
       "      <td>зрелые</td>\n",
       "    </tr>\n",
       "    <tr>\n",
       "      <td>6312</td>\n",
       "      <td>0.0</td>\n",
       "      <td>14359.556849</td>\n",
       "      <td>30</td>\n",
       "      <td>среднее</td>\n",
       "      <td>1</td>\n",
       "      <td>женат / замужем</td>\n",
       "      <td>0</td>\n",
       "      <td>M</td>\n",
       "      <td>сотрудник</td>\n",
       "      <td>0</td>\n",
       "      <td>142594.396847</td>\n",
       "      <td>строительство жилой недвижимости</td>\n",
       "      <td>пенсионеры</td>\n",
       "    </tr>\n",
       "    <tr>\n",
       "      <td>7808</td>\n",
       "      <td>0.0</td>\n",
       "      <td>2312.623375</td>\n",
       "      <td>57</td>\n",
       "      <td>среднее</td>\n",
       "      <td>1</td>\n",
       "      <td>гражданский брак</td>\n",
       "      <td>1</td>\n",
       "      <td>F</td>\n",
       "      <td>пенсионер</td>\n",
       "      <td>0</td>\n",
       "      <td>118514.486412</td>\n",
       "      <td>на проведение свадьбы</td>\n",
       "      <td>зрелые</td>\n",
       "    </tr>\n",
       "    <tr>\n",
       "      <td>7921</td>\n",
       "      <td>0.0</td>\n",
       "      <td>14359.556849</td>\n",
       "      <td>64</td>\n",
       "      <td>высшее</td>\n",
       "      <td>0</td>\n",
       "      <td>гражданский брак</td>\n",
       "      <td>1</td>\n",
       "      <td>F</td>\n",
       "      <td>пенсионер</td>\n",
       "      <td>0</td>\n",
       "      <td>118514.486412</td>\n",
       "      <td>на проведение свадьбы</td>\n",
       "      <td>пенсионеры</td>\n",
       "    </tr>\n",
       "    <tr>\n",
       "      <td>7938</td>\n",
       "      <td>0.0</td>\n",
       "      <td>14359.556849</td>\n",
       "      <td>71</td>\n",
       "      <td>среднее</td>\n",
       "      <td>1</td>\n",
       "      <td>гражданский брак</td>\n",
       "      <td>1</td>\n",
       "      <td>F</td>\n",
       "      <td>пенсионер</td>\n",
       "      <td>0</td>\n",
       "      <td>118514.486412</td>\n",
       "      <td>на проведение свадьбы</td>\n",
       "      <td>пенсионеры</td>\n",
       "    </tr>\n",
       "    <tr>\n",
       "      <td>8583</td>\n",
       "      <td>0.0</td>\n",
       "      <td>2312.623375</td>\n",
       "      <td>58</td>\n",
       "      <td>высшее</td>\n",
       "      <td>0</td>\n",
       "      <td>Не женат / не замужем</td>\n",
       "      <td>4</td>\n",
       "      <td>F</td>\n",
       "      <td>пенсионер</td>\n",
       "      <td>0</td>\n",
       "      <td>118514.486412</td>\n",
       "      <td>дополнительное образование</td>\n",
       "      <td>зрелые</td>\n",
       "    </tr>\n",
       "    <tr>\n",
       "      <td>9238</td>\n",
       "      <td>2.0</td>\n",
       "      <td>2312.623375</td>\n",
       "      <td>34</td>\n",
       "      <td>среднее</td>\n",
       "      <td>1</td>\n",
       "      <td>женат / замужем</td>\n",
       "      <td>0</td>\n",
       "      <td>F</td>\n",
       "      <td>сотрудник</td>\n",
       "      <td>0</td>\n",
       "      <td>142594.396847</td>\n",
       "      <td>покупка жилья для сдачи</td>\n",
       "      <td>зрелые</td>\n",
       "    </tr>\n",
       "    <tr>\n",
       "      <td>9528</td>\n",
       "      <td>0.0</td>\n",
       "      <td>14359.556849</td>\n",
       "      <td>66</td>\n",
       "      <td>среднее</td>\n",
       "      <td>1</td>\n",
       "      <td>вдовец / вдова</td>\n",
       "      <td>2</td>\n",
       "      <td>F</td>\n",
       "      <td>пенсионер</td>\n",
       "      <td>0</td>\n",
       "      <td>118514.486412</td>\n",
       "      <td>операции со своей недвижимостью</td>\n",
       "      <td>пенсионеры</td>\n",
       "    </tr>\n",
       "    <tr>\n",
       "      <td>9604</td>\n",
       "      <td>0.0</td>\n",
       "      <td>14359.556849</td>\n",
       "      <td>71</td>\n",
       "      <td>среднее</td>\n",
       "      <td>1</td>\n",
       "      <td>гражданский брак</td>\n",
       "      <td>1</td>\n",
       "      <td>F</td>\n",
       "      <td>пенсионер</td>\n",
       "      <td>0</td>\n",
       "      <td>118514.486412</td>\n",
       "      <td>на проведение свадьбы</td>\n",
       "      <td>пенсионеры</td>\n",
       "    </tr>\n",
       "    <tr>\n",
       "      <td>9627</td>\n",
       "      <td>0.0</td>\n",
       "      <td>2312.623375</td>\n",
       "      <td>56</td>\n",
       "      <td>среднее</td>\n",
       "      <td>1</td>\n",
       "      <td>женат / замужем</td>\n",
       "      <td>0</td>\n",
       "      <td>F</td>\n",
       "      <td>пенсионер</td>\n",
       "      <td>0</td>\n",
       "      <td>118514.486412</td>\n",
       "      <td>операции со своей недвижимостью</td>\n",
       "      <td>зрелые</td>\n",
       "    </tr>\n",
       "    <tr>\n",
       "      <td>9855</td>\n",
       "      <td>0.0</td>\n",
       "      <td>14359.556849</td>\n",
       "      <td>62</td>\n",
       "      <td>среднее</td>\n",
       "      <td>1</td>\n",
       "      <td>женат / замужем</td>\n",
       "      <td>0</td>\n",
       "      <td>F</td>\n",
       "      <td>пенсионер</td>\n",
       "      <td>0</td>\n",
       "      <td>118514.486412</td>\n",
       "      <td>получение дополнительного образования</td>\n",
       "      <td>пенсионеры</td>\n",
       "    </tr>\n",
       "    <tr>\n",
       "      <td>10462</td>\n",
       "      <td>0.0</td>\n",
       "      <td>14359.556849</td>\n",
       "      <td>62</td>\n",
       "      <td>среднее</td>\n",
       "      <td>1</td>\n",
       "      <td>женат / замужем</td>\n",
       "      <td>0</td>\n",
       "      <td>F</td>\n",
       "      <td>пенсионер</td>\n",
       "      <td>0</td>\n",
       "      <td>118514.486412</td>\n",
       "      <td>покупка коммерческой недвижимости</td>\n",
       "      <td>пенсионеры</td>\n",
       "    </tr>\n",
       "    <tr>\n",
       "      <td>10697</td>\n",
       "      <td>0.0</td>\n",
       "      <td>2312.623375</td>\n",
       "      <td>40</td>\n",
       "      <td>среднее</td>\n",
       "      <td>1</td>\n",
       "      <td>гражданский брак</td>\n",
       "      <td>1</td>\n",
       "      <td>F</td>\n",
       "      <td>компаньон</td>\n",
       "      <td>0</td>\n",
       "      <td>172357.950966</td>\n",
       "      <td>сыграть свадьбу</td>\n",
       "      <td>зрелые</td>\n",
       "    </tr>\n",
       "    <tr>\n",
       "      <td>10864</td>\n",
       "      <td>0.0</td>\n",
       "      <td>14359.556849</td>\n",
       "      <td>62</td>\n",
       "      <td>среднее</td>\n",
       "      <td>1</td>\n",
       "      <td>женат / замужем</td>\n",
       "      <td>0</td>\n",
       "      <td>F</td>\n",
       "      <td>пенсионер</td>\n",
       "      <td>0</td>\n",
       "      <td>118514.486412</td>\n",
       "      <td>ремонт жилью</td>\n",
       "      <td>пенсионеры</td>\n",
       "    </tr>\n",
       "    <tr>\n",
       "      <td>10994</td>\n",
       "      <td>0.0</td>\n",
       "      <td>14359.556849</td>\n",
       "      <td>62</td>\n",
       "      <td>среднее</td>\n",
       "      <td>1</td>\n",
       "      <td>женат / замужем</td>\n",
       "      <td>0</td>\n",
       "      <td>F</td>\n",
       "      <td>пенсионер</td>\n",
       "      <td>0</td>\n",
       "      <td>118514.486412</td>\n",
       "      <td>ремонт жилью</td>\n",
       "      <td>пенсионеры</td>\n",
       "    </tr>\n",
       "    <tr>\n",
       "      <td>11791</td>\n",
       "      <td>0.0</td>\n",
       "      <td>2312.623375</td>\n",
       "      <td>47</td>\n",
       "      <td>среднее</td>\n",
       "      <td>1</td>\n",
       "      <td>женат / замужем</td>\n",
       "      <td>0</td>\n",
       "      <td>F</td>\n",
       "      <td>сотрудник</td>\n",
       "      <td>0</td>\n",
       "      <td>142594.396847</td>\n",
       "      <td>строительство недвижимости</td>\n",
       "      <td>зрелые</td>\n",
       "    </tr>\n",
       "  </tbody>\n",
       "</table>\n",
       "</div>"
      ],
      "text/plain": [
       "       children  days_employed  dob_years education  education_id  \\\n",
       "2849        0.0    2312.623375         41   среднее             1   \n",
       "3290        0.0    2312.623375         58   среднее             1   \n",
       "4182        1.0    2312.623375         34    высшее             0   \n",
       "4851        0.0    2312.623375         60   среднее             1   \n",
       "5557        0.0    2312.623375         58   среднее             1   \n",
       "6312        0.0   14359.556849         30   среднее             1   \n",
       "7808        0.0    2312.623375         57   среднее             1   \n",
       "7921        0.0   14359.556849         64    высшее             0   \n",
       "7938        0.0   14359.556849         71   среднее             1   \n",
       "8583        0.0    2312.623375         58    высшее             0   \n",
       "9238        2.0    2312.623375         34   среднее             1   \n",
       "9528        0.0   14359.556849         66   среднее             1   \n",
       "9604        0.0   14359.556849         71   среднее             1   \n",
       "9627        0.0    2312.623375         56   среднее             1   \n",
       "9855        0.0   14359.556849         62   среднее             1   \n",
       "10462       0.0   14359.556849         62   среднее             1   \n",
       "10697       0.0    2312.623375         40   среднее             1   \n",
       "10864       0.0   14359.556849         62   среднее             1   \n",
       "10994       0.0   14359.556849         62   среднее             1   \n",
       "11791       0.0    2312.623375         47   среднее             1   \n",
       "\n",
       "               family_status  family_status_id gender income_type  debt  \\\n",
       "2849         женат / замужем                 0      F   сотрудник     0   \n",
       "3290        гражданский брак                 1      F   пенсионер     0   \n",
       "4182        гражданский брак                 1      F   сотрудник     0   \n",
       "4851        гражданский брак                 1      F   пенсионер     0   \n",
       "5557        гражданский брак                 1      F   пенсионер     0   \n",
       "6312         женат / замужем                 0      M   сотрудник     0   \n",
       "7808        гражданский брак                 1      F   пенсионер     0   \n",
       "7921        гражданский брак                 1      F   пенсионер     0   \n",
       "7938        гражданский брак                 1      F   пенсионер     0   \n",
       "8583   Не женат / не замужем                 4      F   пенсионер     0   \n",
       "9238         женат / замужем                 0      F   сотрудник     0   \n",
       "9528          вдовец / вдова                 2      F   пенсионер     0   \n",
       "9604        гражданский брак                 1      F   пенсионер     0   \n",
       "9627         женат / замужем                 0      F   пенсионер     0   \n",
       "9855         женат / замужем                 0      F   пенсионер     0   \n",
       "10462        женат / замужем                 0      F   пенсионер     0   \n",
       "10697       гражданский брак                 1      F   компаньон     0   \n",
       "10864        женат / замужем                 0      F   пенсионер     0   \n",
       "10994        женат / замужем                 0      F   пенсионер     0   \n",
       "11791        женат / замужем                 0      F   сотрудник     0   \n",
       "\n",
       "        total_income                                purpose   age_group  \n",
       "2849   142594.396847                покупка жилья для семьи      зрелые  \n",
       "3290   118514.486412                        сыграть свадьбу      зрелые  \n",
       "4182   142594.396847                                свадьба      зрелые  \n",
       "4851   118514.486412                                свадьба      зрелые  \n",
       "5557   118514.486412                        сыграть свадьбу      зрелые  \n",
       "6312   142594.396847       строительство жилой недвижимости  пенсионеры  \n",
       "7808   118514.486412                  на проведение свадьбы      зрелые  \n",
       "7921   118514.486412                  на проведение свадьбы  пенсионеры  \n",
       "7938   118514.486412                  на проведение свадьбы  пенсионеры  \n",
       "8583   118514.486412             дополнительное образование      зрелые  \n",
       "9238   142594.396847                покупка жилья для сдачи      зрелые  \n",
       "9528   118514.486412        операции со своей недвижимостью  пенсионеры  \n",
       "9604   118514.486412                  на проведение свадьбы  пенсионеры  \n",
       "9627   118514.486412        операции со своей недвижимостью      зрелые  \n",
       "9855   118514.486412  получение дополнительного образования  пенсионеры  \n",
       "10462  118514.486412      покупка коммерческой недвижимости  пенсионеры  \n",
       "10697  172357.950966                        сыграть свадьбу      зрелые  \n",
       "10864  118514.486412                           ремонт жилью  пенсионеры  \n",
       "10994  118514.486412                           ремонт жилью  пенсионеры  \n",
       "11791  142594.396847             строительство недвижимости      зрелые  "
      ]
     },
     "execution_count": 34,
     "metadata": {},
     "output_type": "execute_result"
    }
   ],
   "source": [
    "#посмотрим на строки с дубликатами\n",
    "data[data[['children', 'days_employed', 'dob_years', 'education', 'education_id', 'family_status', 'family_status_id', 'gender', 'income_type', 'debt', 'total_income', 'purpose', 'age_group']].duplicated() == True].head(20)"
   ]
  },
  {
   "cell_type": "code",
   "execution_count": 35,
   "metadata": {},
   "outputs": [],
   "source": [
    "#удалим строки с полными дубликатами\n",
    "data = data.drop_duplicates()"
   ]
  },
  {
   "cell_type": "code",
   "execution_count": 36,
   "metadata": {},
   "outputs": [
    {
     "name": "stdout",
     "output_type": "stream",
     "text": [
      "Дубликатов в таблице: 0\n"
     ]
    }
   ],
   "source": [
    "#рассчитаем количество дубликатов в таблице\n",
    "print('Дубликатов в таблице:', data.duplicated().sum())"
   ]
  },
  {
   "cell_type": "markdown",
   "metadata": {},
   "source": [
    "### Вывод\n",
    "Для выявления строк-полных дубликатов в таблице предварительно значения в столбцах были приведены к единому регистру. В результате был выявлен и удален 71 дубликат. Дубликаты могли появиться в результате повторной ошибочной регистрации данных одних и тех же клиентов, но в разных регистрах. "
   ]
  },
  {
   "cell_type": "markdown",
   "metadata": {},
   "source": [
    "<div class=\"alert alert-success\">\n",
    "\n",
    "### Комментарий ревьюера\n",
    "\n",
    "Безупречная работа! Здорово, что перед удалением дублей проверила регистры\n",
    "\n",
    "</div>"
   ]
  },
  {
   "cell_type": "markdown",
   "metadata": {},
   "source": [
    "### 2.4 Лемматизация"
   ]
  },
  {
   "cell_type": "code",
   "execution_count": 37,
   "metadata": {},
   "outputs": [
    {
     "data": {
      "text/plain": [
       "свадьба                                   791\n",
       "на проведение свадьбы                     768\n",
       "сыграть свадьбу                           765\n",
       "операции с недвижимостью                  675\n",
       "покупка коммерческой недвижимости         661\n",
       "операции с жильем                         652\n",
       "покупка жилья для сдачи                   651\n",
       "операции с коммерческой недвижимостью     650\n",
       "жилье                                     646\n",
       "покупка жилья                             646\n",
       "покупка жилья для семьи                   638\n",
       "строительство собственной недвижимости    635\n",
       "недвижимость                              633\n",
       "операции со своей недвижимостью           627\n",
       "строительство жилой недвижимости          624\n",
       "покупка недвижимости                      621\n",
       "покупка своего жилья                      620\n",
       "строительство недвижимости                619\n",
       "ремонт жилью                              607\n",
       "покупка жилой недвижимости                606\n",
       "на покупку своего автомобиля              505\n",
       "заняться высшим образованием              496\n",
       "автомобиль                                494\n",
       "сделка с подержанным автомобилем          486\n",
       "автомобили                                478\n",
       "на покупку подержанного автомобиля        478\n",
       "свой автомобиль                           478\n",
       "на покупку автомобиля                     471\n",
       "приобретение автомобиля                   461\n",
       "дополнительное образование                460\n",
       "сделка с автомобилем                      455\n",
       "высшее образование                        452\n",
       "образование                               447\n",
       "получение дополнительного образования     446\n",
       "получение образования                     442\n",
       "профильное образование                    436\n",
       "получение высшего образования             426\n",
       "заняться образованием                     408\n",
       "Name: purpose, dtype: int64"
      ]
     },
     "execution_count": 37,
     "metadata": {},
     "output_type": "execute_result"
    }
   ],
   "source": [
    "#посмотрим на уникальные значения в столбце с целями кредита\n",
    "data['purpose'].value_counts()"
   ]
  },
  {
   "cell_type": "code",
   "execution_count": 38,
   "metadata": {},
   "outputs": [],
   "source": [
    "#установим пакет для выделения лемм в строках\n",
    "from pymystem3 import Mystem\n",
    "m = Mystem()\n",
    "data['lemmas'] = data['purpose'].apply(m.lemmatize)"
   ]
  },
  {
   "cell_type": "code",
   "execution_count": 39,
   "metadata": {},
   "outputs": [
    {
     "data": {
      "text/plain": [
       "0                             [покупка,  , жилье, \\n]\n",
       "1                   [приобретение,  , автомобиль, \\n]\n",
       "2                             [покупка,  , жилье, \\n]\n",
       "3                [дополнительный,  , образование, \\n]\n",
       "4                           [сыграть,  , свадьба, \\n]\n",
       "                             ...                     \n",
       "21520                  [операция,  , с,  , жилье, \\n]\n",
       "21521               [сделка,  , с,  , автомобиль, \\n]\n",
       "21522                              [недвижимость, \\n]\n",
       "21523    [на,  , покупка,  , свой,  , автомобиль, \\n]\n",
       "21524             [на,  , покупка,  , автомобиль, \\n]\n",
       "Name: lemmas, Length: 21454, dtype: object"
      ]
     },
     "execution_count": 39,
     "metadata": {},
     "output_type": "execute_result"
    }
   ],
   "source": [
    "data['lemmas']"
   ]
  },
  {
   "cell_type": "code",
   "execution_count": 40,
   "metadata": {},
   "outputs": [],
   "source": [
    "#объединим леммы в строки\n",
    "data['lemmas'] = data['lemmas'].str.join('')"
   ]
  },
  {
   "cell_type": "code",
   "execution_count": 41,
   "metadata": {},
   "outputs": [
    {
     "data": {
      "text/plain": [
       "0                     покупка жилье\\n\n",
       "1           приобретение автомобиль\\n\n",
       "2                     покупка жилье\\n\n",
       "3        дополнительный образование\\n\n",
       "4                   сыграть свадьба\\n\n",
       "                     ...             \n",
       "21520              операция с жилье\\n\n",
       "21521           сделка с автомобиль\\n\n",
       "21522                  недвижимость\\n\n",
       "21523    на покупка свой автомобиль\\n\n",
       "21524         на покупка автомобиль\\n\n",
       "Name: lemmas, Length: 21454, dtype: object"
      ]
     },
     "execution_count": 41,
     "metadata": {},
     "output_type": "execute_result"
    }
   ],
   "source": [
    "data['lemmas']"
   ]
  },
  {
   "cell_type": "code",
   "execution_count": 42,
   "metadata": {},
   "outputs": [],
   "source": [
    "#удалим из строк лемму '\\n'\n",
    "data['lemmas'] = data['lemmas'].str.rstrip('\\n')"
   ]
  },
  {
   "cell_type": "code",
   "execution_count": 43,
   "metadata": {},
   "outputs": [
    {
     "data": {
      "text/plain": [
       "array(['покупка жилье', 'приобретение автомобиль',\n",
       "       'дополнительный образование', 'сыграть свадьба',\n",
       "       'операция с жилье', 'образование', 'на проведение свадьба',\n",
       "       'покупка жилье для семья', 'покупка недвижимость',\n",
       "       'покупка коммерческий недвижимость', 'покупка жилой недвижимость',\n",
       "       'строительство собственный недвижимость', 'недвижимость',\n",
       "       'строительство недвижимость', 'на покупка подержать автомобиль',\n",
       "       'на покупка свой автомобиль',\n",
       "       'операция с коммерческий недвижимость',\n",
       "       'строительство жилой недвижимость', 'жилье',\n",
       "       'операция со свой недвижимость', 'автомобиль',\n",
       "       'заниматься образование', 'сделка с подержанный автомобиль',\n",
       "       'получение образование', 'свадьба',\n",
       "       'получение дополнительный образование', 'покупка свой жилье',\n",
       "       'операция с недвижимость', 'получение высокий образование',\n",
       "       'свой автомобиль', 'сделка с автомобиль', 'профильный образование',\n",
       "       'высокий образование', 'покупка жилье для сдача',\n",
       "       'на покупка автомобиль', 'ремонт жилье',\n",
       "       'заниматься высокий образование'], dtype=object)"
      ]
     },
     "execution_count": 43,
     "metadata": {},
     "output_type": "execute_result"
    }
   ],
   "source": [
    "data['lemmas'].unique()"
   ]
  },
  {
   "cell_type": "markdown",
   "metadata": {},
   "source": [
    "### Вывод\n",
    "В результате лемматизации мы получили леммы, на основании анализа которых можно выделить следующие четыре категории целей кредитования: недвижимость, автомобиль, образование, свадьба. С соответствии с полученными леммами можно произвести дальнейшую категоризацию целей кредитования. "
   ]
  },
  {
   "cell_type": "markdown",
   "metadata": {},
   "source": [
    "### 2.5 Категоризация данных"
   ]
  },
  {
   "cell_type": "code",
   "execution_count": 44,
   "metadata": {},
   "outputs": [],
   "source": [
    "#определим функцию, преобразующую лемматизированную строку с целью кредита в одну из установленных четырех категорий \n",
    "def purpose_categories(column):\n",
    "    if 'образование' in column:\n",
    "        return 'образование'\n",
    "    if 'автомобиль' in column:\n",
    "        return 'автомобиль'\n",
    "    if 'свадьба' in column: \n",
    "        return 'свадьба'\n",
    "    if 'недвижимость' or 'жилье' in column:\n",
    "        return 'недвижимость'\n",
    "    \n",
    "\n",
    "    return 'неизвестная категория'"
   ]
  },
  {
   "cell_type": "code",
   "execution_count": 45,
   "metadata": {},
   "outputs": [],
   "source": [
    "#применим функцию к столбцу с целью кредитования\n",
    "data['purpose_category'] = data['lemmas'].apply(purpose_categories)"
   ]
  },
  {
   "cell_type": "code",
   "execution_count": 46,
   "metadata": {},
   "outputs": [
    {
     "data": {
      "text/plain": [
       "недвижимость    10811\n",
       "автомобиль       4306\n",
       "образование      4013\n",
       "свадьба          2324\n",
       "Name: purpose_category, dtype: int64"
      ]
     },
     "execution_count": 46,
     "metadata": {},
     "output_type": "execute_result"
    }
   ],
   "source": [
    "#узнаем, сколько кредитов выдано на каждую цель\n",
    "data['purpose_category'].value_counts()"
   ]
  },
  {
   "cell_type": "code",
   "execution_count": 47,
   "metadata": {},
   "outputs": [
    {
     "data": {
      "text/plain": [
       "2265604.028722744"
      ]
     },
     "execution_count": 47,
     "metadata": {},
     "output_type": "execute_result"
    }
   ],
   "source": [
    "#категоризуем данные в зависимости от величины ежемесячного дохода\n",
    "#определим максимальное и минимальное значение дохода\n",
    "data['total_income'].max()"
   ]
  },
  {
   "cell_type": "code",
   "execution_count": 48,
   "metadata": {},
   "outputs": [
    {
     "data": {
      "text/plain": [
       "20667.26379327158"
      ]
     },
     "execution_count": 48,
     "metadata": {},
     "output_type": "execute_result"
    }
   ],
   "source": [
    "data['total_income'].min()"
   ]
  },
  {
   "cell_type": "code",
   "execution_count": 49,
   "metadata": {},
   "outputs": [],
   "source": [
    "#определим функцию, выделяющую категории дохода\n",
    "def income_group(value):\n",
    "    if value < 40000:\n",
    "        return 'низкий уровень'\n",
    "    if 40000 <= value <= 75000: \n",
    "        return 'ниже среднего уровня'\n",
    "    if 75000 < value <= 110000:\n",
    "        return 'средний уровень'\n",
    "    if 110000 < value <= 145000: \n",
    "        return 'выше среднего уровня'\n",
    "    if 145000 < value <= 180000: \n",
    "        return 'высокий уровень'\n",
    "    \n",
    "    return 'высокий уровень +'"
   ]
  },
  {
   "cell_type": "code",
   "execution_count": 50,
   "metadata": {},
   "outputs": [],
   "source": [
    "#применим функцию к столбцу с уровнем дохода\n",
    "data['income_category'] = data['total_income'].apply(income_group)"
   ]
  },
  {
   "cell_type": "code",
   "execution_count": 51,
   "metadata": {},
   "outputs": [
    {
     "data": {
      "text/plain": [
       "высокий уровень +       6423\n",
       "выше среднего уровня    5488\n",
       "высокий уровень         3901\n",
       "средний уровень         3777\n",
       "ниже среднего уровня    1740\n",
       "низкий уровень           125\n",
       "Name: income_category, dtype: int64"
      ]
     },
     "execution_count": 51,
     "metadata": {},
     "output_type": "execute_result"
    }
   ],
   "source": [
    "data['income_category'].value_counts()"
   ]
  },
  {
   "cell_type": "code",
   "execution_count": 52,
   "metadata": {},
   "outputs": [
    {
     "name": "stdout",
     "output_type": "stream",
     "text": [
      "зрелые        0.722942\n",
      "молодые       0.152932\n",
      "пенсионеры    0.124126\n",
      "Name: age_group, dtype: float64\n"
     ]
    }
   ],
   "source": [
    "#Посмотрим на структуру выборки с точки зрения доли каждой категории в общей выборке\n",
    "print((data['age_group'].value_counts())/(data['age_group'].value_counts().sum()))"
   ]
  },
  {
   "cell_type": "code",
   "execution_count": 53,
   "metadata": {},
   "outputs": [
    {
     "name": "stdout",
     "output_type": "stream",
     "text": [
      "высокий уровень +       0.299385\n",
      "выше среднего уровня    0.255803\n",
      "высокий уровень         0.181831\n",
      "средний уровень         0.176051\n",
      "ниже среднего уровня    0.081104\n",
      "низкий уровень          0.005826\n",
      "Name: income_category, dtype: float64\n"
     ]
    }
   ],
   "source": [
    "print((data['income_category'].value_counts())/(data['income_category'].value_counts().sum()))"
   ]
  },
  {
   "cell_type": "code",
   "execution_count": 54,
   "metadata": {},
   "outputs": [
    {
     "name": "stdout",
     "output_type": "stream",
     "text": [
      "недвижимость    0.503915\n",
      "автомобиль      0.200708\n",
      "образование     0.187051\n",
      "свадьба         0.108325\n",
      "Name: purpose_category, dtype: float64\n"
     ]
    }
   ],
   "source": [
    "print((data['purpose_category'].value_counts())/(data['purpose_category'].value_counts().sum()))"
   ]
  },
  {
   "cell_type": "code",
   "execution_count": 55,
   "metadata": {},
   "outputs": [
    {
     "name": "stdout",
     "output_type": "stream",
     "text": [
      "0.0     0.656801\n",
      "1.0     0.226298\n",
      "2.0     0.095646\n",
      "3.0     0.015382\n",
      "20.0    0.003542\n",
      "4.0     0.001911\n",
      "5.0     0.000420\n",
      "Name: children, dtype: float64\n"
     ]
    }
   ],
   "source": [
    "print((data['children'].value_counts())/(data['children'].value_counts().sum()))"
   ]
  },
  {
   "cell_type": "code",
   "execution_count": 56,
   "metadata": {},
   "outputs": [
    {
     "data": {
      "text/html": [
       "<div>\n",
       "<style scoped>\n",
       "    .dataframe tbody tr th:only-of-type {\n",
       "        vertical-align: middle;\n",
       "    }\n",
       "\n",
       "    .dataframe tbody tr th {\n",
       "        vertical-align: top;\n",
       "    }\n",
       "\n",
       "    .dataframe thead th {\n",
       "        text-align: right;\n",
       "    }\n",
       "</style>\n",
       "<table border=\"1\" class=\"dataframe\">\n",
       "  <thead>\n",
       "    <tr style=\"text-align: right;\">\n",
       "      <th></th>\n",
       "      <th>children</th>\n",
       "      <th>days_employed</th>\n",
       "      <th>dob_years</th>\n",
       "      <th>education_id</th>\n",
       "      <th>family_status_id</th>\n",
       "      <th>debt</th>\n",
       "      <th>total_income</th>\n",
       "    </tr>\n",
       "  </thead>\n",
       "  <tbody>\n",
       "    <tr>\n",
       "      <td>count</td>\n",
       "      <td>21454.000000</td>\n",
       "      <td>21454.000000</td>\n",
       "      <td>21454.000000</td>\n",
       "      <td>21454.000000</td>\n",
       "      <td>21454.000000</td>\n",
       "      <td>21454.000000</td>\n",
       "      <td>2.145400e+04</td>\n",
       "    </tr>\n",
       "    <tr>\n",
       "      <td>mean</td>\n",
       "      <td>0.544327</td>\n",
       "      <td>4498.877195</td>\n",
       "      <td>43.271231</td>\n",
       "      <td>0.817097</td>\n",
       "      <td>0.973898</td>\n",
       "      <td>0.081150</td>\n",
       "      <td>1.653201e+05</td>\n",
       "    </tr>\n",
       "    <tr>\n",
       "      <td>std</td>\n",
       "      <td>1.381726</td>\n",
       "      <td>5249.840002</td>\n",
       "      <td>12.570822</td>\n",
       "      <td>0.548674</td>\n",
       "      <td>1.421567</td>\n",
       "      <td>0.273072</td>\n",
       "      <td>9.818730e+04</td>\n",
       "    </tr>\n",
       "    <tr>\n",
       "      <td>min</td>\n",
       "      <td>0.000000</td>\n",
       "      <td>4.540293</td>\n",
       "      <td>0.000000</td>\n",
       "      <td>0.000000</td>\n",
       "      <td>0.000000</td>\n",
       "      <td>0.000000</td>\n",
       "      <td>2.066726e+04</td>\n",
       "    </tr>\n",
       "    <tr>\n",
       "      <td>25%</td>\n",
       "      <td>0.000000</td>\n",
       "      <td>963.613672</td>\n",
       "      <td>33.000000</td>\n",
       "      <td>1.000000</td>\n",
       "      <td>0.000000</td>\n",
       "      <td>0.000000</td>\n",
       "      <td>1.076239e+05</td>\n",
       "    </tr>\n",
       "    <tr>\n",
       "      <td>50%</td>\n",
       "      <td>0.000000</td>\n",
       "      <td>2312.623375</td>\n",
       "      <td>42.000000</td>\n",
       "      <td>1.000000</td>\n",
       "      <td>0.000000</td>\n",
       "      <td>0.000000</td>\n",
       "      <td>1.425944e+05</td>\n",
       "    </tr>\n",
       "    <tr>\n",
       "      <td>75%</td>\n",
       "      <td>1.000000</td>\n",
       "      <td>5039.006631</td>\n",
       "      <td>53.000000</td>\n",
       "      <td>1.000000</td>\n",
       "      <td>1.000000</td>\n",
       "      <td>0.000000</td>\n",
       "      <td>1.958209e+05</td>\n",
       "    </tr>\n",
       "    <tr>\n",
       "      <td>max</td>\n",
       "      <td>20.000000</td>\n",
       "      <td>16739.808353</td>\n",
       "      <td>75.000000</td>\n",
       "      <td>4.000000</td>\n",
       "      <td>4.000000</td>\n",
       "      <td>1.000000</td>\n",
       "      <td>2.265604e+06</td>\n",
       "    </tr>\n",
       "  </tbody>\n",
       "</table>\n",
       "</div>"
      ],
      "text/plain": [
       "           children  days_employed     dob_years  education_id  \\\n",
       "count  21454.000000   21454.000000  21454.000000  21454.000000   \n",
       "mean       0.544327    4498.877195     43.271231      0.817097   \n",
       "std        1.381726    5249.840002     12.570822      0.548674   \n",
       "min        0.000000       4.540293      0.000000      0.000000   \n",
       "25%        0.000000     963.613672     33.000000      1.000000   \n",
       "50%        0.000000    2312.623375     42.000000      1.000000   \n",
       "75%        1.000000    5039.006631     53.000000      1.000000   \n",
       "max       20.000000   16739.808353     75.000000      4.000000   \n",
       "\n",
       "       family_status_id          debt  total_income  \n",
       "count      21454.000000  21454.000000  2.145400e+04  \n",
       "mean           0.973898      0.081150  1.653201e+05  \n",
       "std            1.421567      0.273072  9.818730e+04  \n",
       "min            0.000000      0.000000  2.066726e+04  \n",
       "25%            0.000000      0.000000  1.076239e+05  \n",
       "50%            0.000000      0.000000  1.425944e+05  \n",
       "75%            1.000000      0.000000  1.958209e+05  \n",
       "max            4.000000      1.000000  2.265604e+06  "
      ]
     },
     "execution_count": 56,
     "metadata": {},
     "output_type": "execute_result"
    }
   ],
   "source": [
    "data.describe()"
   ]
  },
  {
   "cell_type": "markdown",
   "metadata": {},
   "source": [
    "### Вывод\n",
    "Были выделены четыре категории с целями кредитования и четыре категории доходов заемщиков для упрощения дальнейшего анализа зависимости между уровнем дохода, целями кредита и доли заемщиков, имеющих задолженность."
   ]
  },
  {
   "cell_type": "markdown",
   "metadata": {},
   "source": [
    "### Шаг 3. Анализ факторов, влияющих на возврат кредита в срок"
   ]
  },
  {
   "cell_type": "markdown",
   "metadata": {},
   "source": [
    "### 3.1 Зависимость между наличием детей и возвратом кредита в срок"
   ]
  },
  {
   "cell_type": "code",
   "execution_count": 57,
   "metadata": {},
   "outputs": [],
   "source": [
    "data_children_pivot = data.pivot_table(index=['debt'], columns = 'children', values = 'gender', aggfunc = 'count')"
   ]
  },
  {
   "cell_type": "code",
   "execution_count": 58,
   "metadata": {},
   "outputs": [],
   "source": [
    "#рассчитаем долю заемщиков с задолженностью для каждой категории родителей\n",
    "fraction_series = data.groupby('children')['debt'].mean()\n",
    "data_children_pivot = data_children_pivot.append(fraction_series, ignore_index = True)\n",
    "data_children_pivot = data_children_pivot.rename(index={0: 'количество заемщиков без задолженности', 1: 'количество должников', 2 : 'доля должников'})"
   ]
  },
  {
   "cell_type": "code",
   "execution_count": 59,
   "metadata": {},
   "outputs": [],
   "source": [
    "#рассчитаем % просрочки для всей таблицы\n",
    "data_children_pivot['все категории'] = data_children_pivot.loc['количество заемщиков без задолженности':'количество должников', 0:7].sum(axis=1)"
   ]
  },
  {
   "cell_type": "code",
   "execution_count": 60,
   "metadata": {},
   "outputs": [],
   "source": [
    "data_children_pivot['все категории'] = data_children_pivot['все категории'].fillna(data_children_pivot['все категории'][1]/(data_children_pivot['все категории'][0] + data_children_pivot['все категории'][1]))"
   ]
  },
  {
   "cell_type": "code",
   "execution_count": 61,
   "metadata": {},
   "outputs": [],
   "source": [
    "data_children_pivot.loc['доля должников'] = data_children_pivot.loc['доля должников'].apply('{:.2%}'.format)"
   ]
  },
  {
   "cell_type": "code",
   "execution_count": 62,
   "metadata": {},
   "outputs": [
    {
     "data": {
      "text/html": [
       "<div>\n",
       "<style scoped>\n",
       "    .dataframe tbody tr th:only-of-type {\n",
       "        vertical-align: middle;\n",
       "    }\n",
       "\n",
       "    .dataframe tbody tr th {\n",
       "        vertical-align: top;\n",
       "    }\n",
       "\n",
       "    .dataframe thead th {\n",
       "        text-align: right;\n",
       "    }\n",
       "</style>\n",
       "<table border=\"1\" class=\"dataframe\">\n",
       "  <thead>\n",
       "    <tr style=\"text-align: right;\">\n",
       "      <th>children</th>\n",
       "      <th>0.0</th>\n",
       "      <th>1.0</th>\n",
       "      <th>2.0</th>\n",
       "      <th>3.0</th>\n",
       "      <th>4.0</th>\n",
       "      <th>5.0</th>\n",
       "      <th>20.0</th>\n",
       "      <th>все категории</th>\n",
       "    </tr>\n",
       "  </thead>\n",
       "  <tbody>\n",
       "    <tr>\n",
       "      <td>количество заемщиков без задолженности</td>\n",
       "      <td>13028</td>\n",
       "      <td>4410</td>\n",
       "      <td>1858</td>\n",
       "      <td>303</td>\n",
       "      <td>37</td>\n",
       "      <td>9</td>\n",
       "      <td>68</td>\n",
       "      <td>19645</td>\n",
       "    </tr>\n",
       "    <tr>\n",
       "      <td>количество должников</td>\n",
       "      <td>1063</td>\n",
       "      <td>445</td>\n",
       "      <td>194</td>\n",
       "      <td>27</td>\n",
       "      <td>4</td>\n",
       "      <td>NaN</td>\n",
       "      <td>8</td>\n",
       "      <td>1733</td>\n",
       "    </tr>\n",
       "    <tr>\n",
       "      <td>доля должников</td>\n",
       "      <td>7.54%</td>\n",
       "      <td>9.17%</td>\n",
       "      <td>9.45%</td>\n",
       "      <td>8.18%</td>\n",
       "      <td>9.76%</td>\n",
       "      <td>0.00%</td>\n",
       "      <td>10.53%</td>\n",
       "      <td>8.11%</td>\n",
       "    </tr>\n",
       "  </tbody>\n",
       "</table>\n",
       "</div>"
      ],
      "text/plain": [
       "children                                  0.0    1.0    2.0    3.0    4.0  \\\n",
       "количество заемщиков без задолженности  13028   4410   1858    303     37   \n",
       "количество должников                     1063    445    194     27      4   \n",
       "доля должников                          7.54%  9.17%  9.45%  8.18%  9.76%   \n",
       "\n",
       "children                                  5.0    20.0 все категории  \n",
       "количество заемщиков без задолженности      9      68         19645  \n",
       "количество должников                      NaN       8          1733  \n",
       "доля должников                          0.00%  10.53%         8.11%  "
      ]
     },
     "metadata": {},
     "output_type": "display_data"
    }
   ],
   "source": [
    "display(data_children_pivot)"
   ]
  },
  {
   "cell_type": "markdown",
   "metadata": {},
   "source": [
    "### Вывод\n",
    "В данных прослеживается нелинейная тенденция: по мере увеличения количества детей с 0 до 2 и с 4 до 20 доля просроченной задолженности увеличивается, однако в семьях с 3 детьми она ниже, чем в семьях с одним ребенком и двумя детьми. При этом в семьях, где дети отсутствуют, доля просроченной задолженности на 57 б.п. ниже, чем в среднем для всех категорий семей. Полученная динамика просроченной задолженности может быть обусловлена тем, что с увеличением количества детей возрастают потребительские расходы семей относительно их доходов, что приводит к их более низкой платежеспособности, чем в семьях без детей. Более высокая платежеспособность детей с тремя детьми, чем с двумя детьми или одним ребенком, может быть обусловлена, например, более высокими государственными пособиями на третьего ребенка, что повышает совокупный доход семей.</font>"
   ]
  },
  {
   "cell_type": "markdown",
   "metadata": {},
   "source": [
    "### 3.2 Зависимость между семейным положением и возвратом кредита в срок"
   ]
  },
  {
   "cell_type": "code",
   "execution_count": 57,
   "metadata": {},
   "outputs": [
    {
     "data": {
      "text/plain": [
       "женат / замужем          12339\n",
       "гражданский брак          4151\n",
       "Не женат / не замужем     2810\n",
       "в разводе                 1195\n",
       "вдовец / вдова             959\n",
       "Name: family_status, dtype: int64"
      ]
     },
     "execution_count": 57,
     "metadata": {},
     "output_type": "execute_result"
    }
   ],
   "source": [
    "data['family_status'].value_counts()"
   ]
  },
  {
   "cell_type": "code",
   "execution_count": 58,
   "metadata": {},
   "outputs": [],
   "source": [
    "#для сбалансированности выборки объединим категории не замужем/не женат, в разводе, вдовец/вдова в одну категории 'не состоит в браке'\n",
    "def family_status_cat(value):\n",
    "    if value == 'Не женат / не замужем' or value == 'в разводе' or value == 'вдовец / вдова':\n",
    "        return 'не состоит в браке'\n",
    "    if value == 'женат / замужем':\n",
    "        return 'женат / замужем'\n",
    "    if value == 'гражданский брак':\n",
    "        return 'гражданский брак'"
   ]
  },
  {
   "cell_type": "code",
   "execution_count": 59,
   "metadata": {},
   "outputs": [],
   "source": [
    "data['new_family_status_id'] = data['family_status'].apply(family_status_cat)"
   ]
  },
  {
   "cell_type": "code",
   "execution_count": 60,
   "metadata": {},
   "outputs": [
    {
     "data": {
      "text/plain": [
       "женат / замужем       12339\n",
       "не состоит в браке     4964\n",
       "гражданский брак       4151\n",
       "Name: new_family_status_id, dtype: int64"
      ]
     },
     "execution_count": 60,
     "metadata": {},
     "output_type": "execute_result"
    }
   ],
   "source": [
    "data['new_family_status_id'].value_counts()"
   ]
  },
  {
   "cell_type": "code",
   "execution_count": 61,
   "metadata": {},
   "outputs": [
    {
     "name": "stdout",
     "output_type": "stream",
     "text": [
      "женат / замужем       0.575138\n",
      "не состоит в браке    0.231379\n",
      "гражданский брак      0.193484\n",
      "Name: new_family_status_id, dtype: float64\n"
     ]
    }
   ],
   "source": [
    "#посмотрим на структуру данных\n",
    "print((data['new_family_status_id'].value_counts())/(data['new_family_status_id'].value_counts().sum()))"
   ]
  },
  {
   "cell_type": "code",
   "execution_count": 62,
   "metadata": {},
   "outputs": [],
   "source": [
    "data_family_status_pivot = data.pivot_table(index=['debt'], columns = 'new_family_status_id', values = 'gender', aggfunc = 'count')"
   ]
  },
  {
   "cell_type": "code",
   "execution_count": 63,
   "metadata": {},
   "outputs": [],
   "source": [
    "#рассчитаем долю должников в каждой категории \n",
    "fraction_family_status = (data_family_status_pivot.loc[1, :]/(data_family_status_pivot.loc[0, :] + data_family_status_pivot.loc[1, :]))\n",
    "data_family_status_pivot = data_family_status_pivot.append(fraction_family_status, ignore_index = True)\n",
    "data_family_status_pivot = data_family_status_pivot.rename(index={0: 'количество заемщиков без задолженности', 1: 'количество должников', 2 : 'доля должников'})"
   ]
  },
  {
   "cell_type": "code",
   "execution_count": 64,
   "metadata": {},
   "outputs": [],
   "source": [
    "#рассчитаем % просрочки для всей таблицы и добавим соответствующий столбец\n",
    "data_family_status_pivot['все категории'] = data_family_status_pivot.loc['количество замещиков без задолженности':'количество должников', 'гражданский брак':'не состоит в браке'].sum(axis=1)"
   ]
  },
  {
   "cell_type": "code",
   "execution_count": 65,
   "metadata": {},
   "outputs": [],
   "source": [
    "data_family_status_pivot['все категории'] = data_family_status_pivot['все категории'].fillna(data_family_status_pivot['все категории'][1]/(data_family_status_pivot['все категории'][0] + data_family_status_pivot['все категории'][1]))"
   ]
  },
  {
   "cell_type": "code",
   "execution_count": 66,
   "metadata": {},
   "outputs": [],
   "source": [
    "data_family_status_pivot.loc['доля должников'] = data_family_status_pivot.loc['доля должников'].apply('{:.2%}'.format)"
   ]
  },
  {
   "cell_type": "code",
   "execution_count": 67,
   "metadata": {},
   "outputs": [
    {
     "data": {
      "text/html": [
       "<div>\n",
       "<style scoped>\n",
       "    .dataframe tbody tr th:only-of-type {\n",
       "        vertical-align: middle;\n",
       "    }\n",
       "\n",
       "    .dataframe tbody tr th {\n",
       "        vertical-align: top;\n",
       "    }\n",
       "\n",
       "    .dataframe thead th {\n",
       "        text-align: right;\n",
       "    }\n",
       "</style>\n",
       "<table border=\"1\" class=\"dataframe\">\n",
       "  <thead>\n",
       "    <tr style=\"text-align: right;\">\n",
       "      <th>new_family_status_id</th>\n",
       "      <th>гражданский брак</th>\n",
       "      <th>женат / замужем</th>\n",
       "      <th>не состоит в браке</th>\n",
       "      <th>все категории</th>\n",
       "    </tr>\n",
       "  </thead>\n",
       "  <tbody>\n",
       "    <tr>\n",
       "      <td>количество заемщиков без задолженности</td>\n",
       "      <td>3763</td>\n",
       "      <td>11408</td>\n",
       "      <td>4542</td>\n",
       "      <td>19713</td>\n",
       "    </tr>\n",
       "    <tr>\n",
       "      <td>количество должников</td>\n",
       "      <td>388</td>\n",
       "      <td>931</td>\n",
       "      <td>422</td>\n",
       "      <td>1741</td>\n",
       "    </tr>\n",
       "    <tr>\n",
       "      <td>доля должников</td>\n",
       "      <td>9.35%</td>\n",
       "      <td>7.55%</td>\n",
       "      <td>8.50%</td>\n",
       "      <td>8.12%</td>\n",
       "    </tr>\n",
       "  </tbody>\n",
       "</table>\n",
       "</div>"
      ],
      "text/plain": [
       "new_family_status_id                   гражданский брак женат / замужем  \\\n",
       "количество заемщиков без задолженности             3763           11408   \n",
       "количество должников                                388             931   \n",
       "доля должников                                    9.35%           7.55%   \n",
       "\n",
       "new_family_status_id                   не состоит в браке все категории  \n",
       "количество заемщиков без задолженности               4542         19713  \n",
       "количество должников                                  422          1741  \n",
       "доля должников                                      8.50%         8.12%  "
      ]
     },
     "metadata": {},
     "output_type": "display_data"
    }
   ],
   "source": [
    "display(data_family_status_pivot)"
   ]
  },
  {
   "cell_type": "markdown",
   "metadata": {},
   "source": [
    "### Вывод\n",
    "На основании полученной сводной таблицы можно выдвинуть гипотезу о том, что законный брак оказывает положительное влияние на добросовестность заемщиков. Среди лиц, состоящих в законодательно закрепленном браке, доля должников ниже на 57 б.п., чем в среднем для всех категорий лиц, и на 95 б.п. ниже, чем для лиц, не состоящих в браке. При этом для лиц, состоящих в гражданском браке ситуация обратная - доля лиц с просроченной задолженностью среди них на 123 б.п. выше, чем в среднем для всех категорий заемщиков, и на 85 б.п. выше, чем для лиц, не состоящих в браке. Наблюдаемый результат может быть связан с тем, что у пар в законодательно закрепленном браке формируется общий бюджет, в результате чего падение доходов одной из сторон союза может компенсироваться стабильным доходом другой стороны, что увеличивает платежеспособность заемщика. </font>"
   ]
  },
  {
   "cell_type": "markdown",
   "metadata": {},
   "source": [
    "### 3.3 Зависимость между уровнем дохода и возвратом кредита в срок"
   ]
  },
  {
   "cell_type": "code",
   "execution_count": 68,
   "metadata": {},
   "outputs": [],
   "source": [
    "income_category_pivot = data.pivot_table(index = ['debt'], columns = 'income_category', values = 'gender', aggfunc = 'count')\n",
    "income_category_pivot = income_category_pivot.append(income_category_pivot.loc[1, :]/(income_category_pivot.loc[0, :] + income_category_pivot.loc[1, :]), ignore_index = True)\n",
    "income_category_pivot = income_category_pivot.rename(index={0: 'количество заемщиков без задолженности', 1: 'количество должников', 2 : 'доля должников'})\n",
    "#рассчитаем % просрочки для всей таблицы и добавим соответствующий столбец\n",
    "income_category_pivot['все категории'] = income_category_pivot.loc['количество замещиков без задолженности':'количество должников', 'высокий уровень':'средний уровень'].sum(axis=1)\n",
    "income_category_pivot['все категории'] = income_category_pivot['все категории'].fillna(income_category_pivot['все категории'][1]/(income_category_pivot['все категории'][0] + income_category_pivot['все категории'][1]))\n",
    "income_category_pivot.loc['доля должников'] = income_category_pivot.loc['доля должников'].apply('{:.2%}'.format)"
   ]
  },
  {
   "cell_type": "code",
   "execution_count": 69,
   "metadata": {},
   "outputs": [
    {
     "data": {
      "text/html": [
       "<div>\n",
       "<style scoped>\n",
       "    .dataframe tbody tr th:only-of-type {\n",
       "        vertical-align: middle;\n",
       "    }\n",
       "\n",
       "    .dataframe tbody tr th {\n",
       "        vertical-align: top;\n",
       "    }\n",
       "\n",
       "    .dataframe thead th {\n",
       "        text-align: right;\n",
       "    }\n",
       "</style>\n",
       "<table border=\"1\" class=\"dataframe\">\n",
       "  <thead>\n",
       "    <tr style=\"text-align: right;\">\n",
       "      <th>income_category</th>\n",
       "      <th>высокий уровень</th>\n",
       "      <th>высокий уровень +</th>\n",
       "      <th>выше среднего уровня</th>\n",
       "      <th>ниже среднего уровня</th>\n",
       "      <th>низкий уровень</th>\n",
       "      <th>средний уровень</th>\n",
       "      <th>все категории</th>\n",
       "    </tr>\n",
       "  </thead>\n",
       "  <tbody>\n",
       "    <tr>\n",
       "      <td>количество заемщиков без задолженности</td>\n",
       "      <td>3575</td>\n",
       "      <td>5945</td>\n",
       "      <td>5006</td>\n",
       "      <td>1614</td>\n",
       "      <td>115</td>\n",
       "      <td>3458</td>\n",
       "      <td>19713</td>\n",
       "    </tr>\n",
       "    <tr>\n",
       "      <td>количество должников</td>\n",
       "      <td>326</td>\n",
       "      <td>478</td>\n",
       "      <td>482</td>\n",
       "      <td>126</td>\n",
       "      <td>10</td>\n",
       "      <td>319</td>\n",
       "      <td>1741</td>\n",
       "    </tr>\n",
       "    <tr>\n",
       "      <td>доля должников</td>\n",
       "      <td>8.36%</td>\n",
       "      <td>7.44%</td>\n",
       "      <td>8.78%</td>\n",
       "      <td>7.24%</td>\n",
       "      <td>8.00%</td>\n",
       "      <td>8.45%</td>\n",
       "      <td>8.12%</td>\n",
       "    </tr>\n",
       "  </tbody>\n",
       "</table>\n",
       "</div>"
      ],
      "text/plain": [
       "income_category                        высокий уровень высокий уровень +  \\\n",
       "количество заемщиков без задолженности            3575              5945   \n",
       "количество должников                               326               478   \n",
       "доля должников                                   8.36%             7.44%   \n",
       "\n",
       "income_category                        выше среднего уровня  \\\n",
       "количество заемщиков без задолженности                 5006   \n",
       "количество должников                                    482   \n",
       "доля должников                                        8.78%   \n",
       "\n",
       "income_category                        ниже среднего уровня низкий уровень  \\\n",
       "количество заемщиков без задолженности                 1614            115   \n",
       "количество должников                                    126             10   \n",
       "доля должников                                        7.24%          8.00%   \n",
       "\n",
       "income_category                        средний уровень все категории  \n",
       "количество заемщиков без задолженности            3458         19713  \n",
       "количество должников                               319          1741  \n",
       "доля должников                                   8.45%         8.12%  "
      ]
     },
     "metadata": {},
     "output_type": "display_data"
    }
   ],
   "source": [
    "display(income_category_pivot)"
   ]
  },
  {
   "cell_type": "markdown",
   "metadata": {},
   "source": [
    "### Вывод\n",
    "На основании сводной таблицы можно заключить, что взаимосвязь между уровнем дохода и долей просроченной задолженности нелинейная. Наиболее высокая доля просроченной задолженности наблюдается у заемщиков с доходами выше среднего уровня (т.е. с доходами в диапазоне от 110 тыс. до 145 тыс. руб.), за ней следуют заемщики с доходами на среднем уровне (% просрочки на 33 б.п. выше, чем в среднем для всех категорий заемщиков) и заемщики с высоким уровнем дохода (% просрочки на 24 б.п. выше, чем в среднем для всех категорий заемщиков).Наиболее низкий уровень задолженности наблюдается у заемщиков с доходами ниже среднего уровня (% просрочки на 88 б.п. ниже,  чем в среднем для всех категорий) и самой высокодоходной группы (ежемесячный доход > 180 тыс. руб - % просрочки на 68 б.п. ниже, чем в среднем для всех категорий). Таким образом, получен на первый взгляд контруинтуитивный результат - лица с низким уровнем дохода реже имеют задолженность по кредитам, чем заемщики с высоким уровнем дохода и доходом выше среднего. Полученный результат может быть обусловлен, в частности, меньшей величиной займа, выдаваемого клиентам с низким уровнем дохода или более значимой роли их кредитной истории при одобрении им кредитов.</font>"
   ]
  },
  {
   "cell_type": "markdown",
   "metadata": {},
   "source": [
    "### 3.4 Влияние различных целей кредита на его возврат в срок "
   ]
  },
  {
   "cell_type": "code",
   "execution_count": 70,
   "metadata": {},
   "outputs": [],
   "source": [
    "purpose_category_pivot = data.pivot_table(index = ['debt'], columns = 'purpose_category', values = 'gender', aggfunc = 'count')\n",
    "purpose_category_pivot = purpose_category_pivot.append(purpose_category_pivot.loc[1, :]/(purpose_category_pivot.loc[0, :] + purpose_category_pivot.loc[1, :]), ignore_index = True)\n",
    "purpose_category_pivot = purpose_category_pivot.rename(index={0: 'количество заемщиков без задолженности', 1: 'количество должников', 2 : 'доля должников'})\n",
    "#рассчитаем % просрочки для всей таблицы и добавим соответствующий столбец\n",
    "purpose_category_pivot['все категории'] = purpose_category_pivot.loc['количество замещиков без задолженности':'количество должников', 'автомобиль':'свадьба'].sum(axis=1)\n",
    "purpose_category_pivot['все категории'] = purpose_category_pivot['все категории'].fillna(purpose_category_pivot['все категории'][1]/(purpose_category_pivot['все категории'][0] + purpose_category_pivot['все категории'][1]))\n",
    "purpose_category_pivot.loc['доля должников'] = purpose_category_pivot.loc['доля должников'].apply('{:.2%}'.format)"
   ]
  },
  {
   "cell_type": "code",
   "execution_count": 71,
   "metadata": {},
   "outputs": [
    {
     "data": {
      "text/html": [
       "<div>\n",
       "<style scoped>\n",
       "    .dataframe tbody tr th:only-of-type {\n",
       "        vertical-align: middle;\n",
       "    }\n",
       "\n",
       "    .dataframe tbody tr th {\n",
       "        vertical-align: top;\n",
       "    }\n",
       "\n",
       "    .dataframe thead th {\n",
       "        text-align: right;\n",
       "    }\n",
       "</style>\n",
       "<table border=\"1\" class=\"dataframe\">\n",
       "  <thead>\n",
       "    <tr style=\"text-align: right;\">\n",
       "      <th>purpose_category</th>\n",
       "      <th>автомобиль</th>\n",
       "      <th>недвижимость</th>\n",
       "      <th>образование</th>\n",
       "      <th>свадьба</th>\n",
       "      <th>все категории</th>\n",
       "    </tr>\n",
       "  </thead>\n",
       "  <tbody>\n",
       "    <tr>\n",
       "      <td>количество заемщиков без задолженности</td>\n",
       "      <td>3903</td>\n",
       "      <td>10029</td>\n",
       "      <td>3643</td>\n",
       "      <td>2138</td>\n",
       "      <td>19713</td>\n",
       "    </tr>\n",
       "    <tr>\n",
       "      <td>количество должников</td>\n",
       "      <td>403</td>\n",
       "      <td>782</td>\n",
       "      <td>370</td>\n",
       "      <td>186</td>\n",
       "      <td>1741</td>\n",
       "    </tr>\n",
       "    <tr>\n",
       "      <td>доля должников</td>\n",
       "      <td>9.36%</td>\n",
       "      <td>7.23%</td>\n",
       "      <td>9.22%</td>\n",
       "      <td>8.00%</td>\n",
       "      <td>8.12%</td>\n",
       "    </tr>\n",
       "  </tbody>\n",
       "</table>\n",
       "</div>"
      ],
      "text/plain": [
       "purpose_category                       автомобиль недвижимость образование  \\\n",
       "количество заемщиков без задолженности       3903        10029        3643   \n",
       "количество должников                          403          782         370   \n",
       "доля должников                              9.36%        7.23%       9.22%   \n",
       "\n",
       "purpose_category                       свадьба все категории  \n",
       "количество заемщиков без задолженности    2138         19713  \n",
       "количество должников                       186          1741  \n",
       "доля должников                           8.00%         8.12%  "
      ]
     },
     "metadata": {},
     "output_type": "display_data"
    }
   ],
   "source": [
    "display(purpose_category_pivot)"
   ]
  },
  {
   "cell_type": "markdown",
   "metadata": {},
   "source": [
    "### Вывод\n",
    "Наибольший процент должников наблюдается в сегменте кредитования с целью покупки автомобиля и получения образования. Заемщики, выплачивающие кредит, одобренный в целях приобретения недвижимости, наиболее добросовестные - доля просроченной задолженности в данной группе самая низкая (на 89 б.п. ниже, чем в среднем для всех групп заемщиков). Возможная интерпретация: в случае приобретения жилья заемщики проходят более строгую проверку с точки зрения их текущей платежеспособности в силу более значительной суммы кредита и более длительного срока кредитования, чем в сиутации получения кредита на приобретение автомобиля или получение образования. Кроме того, решение о приобретении жилья предположительно более тщательно и заблаговременно планируется заемщиком с точки зрения имеющихся резервов и будущих денежных поступлений, чем решение о займах на иные цели."
   ]
  },
  {
   "cell_type": "markdown",
   "metadata": {},
   "source": [
    "### Шаг 4. Общий вывод\n",
    "Цель представленного проекта заключалась в выявлении влияния семейного положения и количества детей на факт погашения кредита в срок.  Для обнаружения данной зависимости в анализе использовались данные о платежеспособности клиентов банка, включающие информацию о количестве детей в семье, трудовом стаже, возрасте клиентов, уровне образования, семейном положении, ежемесячном доходе, целе получения кредита и факте наличия просроченной задолженности по кредиту.  \n",
    "\n",
    "На этапе предобработки данных были выявлены пропущенные значения в стобцах с трудовым стажем и ежемесячным доходом. Поскольку доля пропущенных значений существенная (10% всей выборки), удаление пропущенных значений привело бы к потере значительной информации. Для предотвращения смещения в выборке пропуски в значениях трудового стажа заполнялись медианными значениями в зависимости от возрастной группы, к которой принадлежит заемщик, а пропуски в величине дохода - медианными значениями на основании типа занятости, характерного для заемщика. \n",
    "Кроме того, в данных было выявлено и устранено два артефакта: отрицательные значения трудового стажа и аномально большие значения количества дней занятости. Первый артефакт может быть следствием ошибочного порядка вычитания переменных (дата начала работы - дата завершения работы), а второй - ошибочного измерения (расчета занятости в часах, а не днях).\n",
    "В результате проведения процедуры предобработки данных, включая удаление дубликатов и лемматизацию, можно привести следующие описательные характеристики. Средний возраст заемщика в выборке - 43 года (72% клиентов находятся в зрелом возрасте - от 30 до 60 лет). Большая часть заемщиков финансово состоятельная - клиентов с ежемесячным доходом выше 110 тыс. руб. - 73,8%, с доходом ниже 75 тыс. руб. - 8,7% (среднее значение дохода в выборке - 165320 руб.). В официальном браке состоят 57,5% заемщиков, в гражданском браке - 19,3%. При этом 66% заемщиков не имеют детей, 23% - являются родителями одного ребенка. Наиболее популярная цель кредитования - приобретение недвижимости (50,4% заемщиков), за ней следуют покупка автомобиля (20% заемщиков), получение образования (18,7%) и проведение свадьбы (10,8%). Средняя доля просроченной задолженности по всей выборке составляет 8,12%.\n",
    "\n",
    "На основании сводных таблиц была проанализирована взаимосвязь между возрастом заемщика, доходом, количеством детей, семейным положением и возвратом кредита в срок, и получены следующие выводы:\n",
    "1. По мере увеличения количества детей, доля просроченной задолженности возрастает:в частности, в семьях, где отсутствуют дети, она составляет 7,54% (на 57 б.п. ниже, чем в среднем по выборке), в семьях с 4 детьми - 9,76% (на 165 б.п. выше, чем в среднем по выборке). Полученная динамика может объясняться тем, что с увеличением количества детей в семье снижается  ее платежеспособность  из-за роста потребительских расходов относительно доходов. \n",
    "2. Официальный брак оказывает положительное влияние на добросовестность заемщиков. Доля должников среди данной категории клиентов на 57 б.п. ниже, чем в среднем по выборке, и на 95 б.п. ниже, чем для лиц, не состоящих в браке. Однако гражданский брак оказывает противоположный эффект на платежеспособность заемщиков - доля просроченной задолженности в данной категории на 123 б.п. выше, чем в среднем по всей выборке. Возможная интерпретация полученного результата: у лиц в официальном браке формируется общий бюджет, в результате чего падение доходов одной из сторон союза может компенсироваться стабильным доходом другой стороны, что обеспечивает неизменную платежеспособность клиента.\n",
    "3. Лица с низким уровнем дохода реже имеют задолженность по кредитам, чем заемщики с высоким уровнем дохода и доходом выше среднего. Полученный результат может быть обусловлен, в частности, меньшей величиной займа, выдаваемого клиентам с низким уровнем дохода или более значимой роли их кредитной истории при одобрении им кредитов.\n",
    "4. Наибольший процент должников наблюдается в сегменте кредитования с целью покупки автомобиля и получения образования. Заемщики, выплачивающие кредит, одобренный в целях приобретения недвижимости, наиболее добросовестные - доля просроченной задолженности в данной группе самая низкая (на 89 б.п. ниже, чем в среднем для всех групп заемщиков). Возможная интерпретация: в случае приобретения жилья заемщики проходят более строгую проверку с точки зрения их текущей платежеспособности в силу более значительной суммы кредита и более длительного срока кредитования, чем в ситуации получения кредита на приобретение автомобиля или получение образования.\n",
    "\n",
    "Таким образом, на основании предварительного анализа данных можно выдвинуть гипотезу об отрицательном влиянии количества детей и положительном влиянии официального брака на платежеспособность клиентов. Проверка данной гипотезы может осуществляться в дальнейшем в рамках логистической регрессии за счет включения соответствующих дамми-переменных в модель.\n"
   ]
  }
 ],
 "metadata": {
  "kernelspec": {
   "display_name": "Python 3",
   "language": "python",
   "name": "python3"
  },
  "language_info": {
   "codemirror_mode": {
    "name": "ipython",
    "version": 3
   },
   "file_extension": ".py",
   "mimetype": "text/x-python",
   "name": "python",
   "nbconvert_exporter": "python",
   "pygments_lexer": "ipython3",
   "version": "3.8.8"
  },
  "toc": {
   "base_numbering": 1,
   "nav_menu": {},
   "number_sections": true,
   "sideBar": true,
   "skip_h1_title": true,
   "title_cell": "Table of Contents",
   "title_sidebar": "Contents",
   "toc_cell": false,
   "toc_position": {},
   "toc_section_display": true,
   "toc_window_display": false
  }
 },
 "nbformat": 4,
 "nbformat_minor": 2
}

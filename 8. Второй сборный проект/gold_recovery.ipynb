{
 "cells": [
  {
   "cell_type": "markdown",
   "metadata": {},
   "source": [
    "# Сборный проект 2"
   ]
  },
  {
   "cell_type": "markdown",
   "metadata": {},
   "source": [
    "# Восстановление золота из руды"
   ]
  },
  {
   "cell_type": "markdown",
   "metadata": {},
   "source": [
    "На основании данных о добыче и очистке руды необходимо подготовить модель машинного обучения, предсказывающую коэффициент восстановления золота из золотосодержащей руды."
   ]
  },
  {
   "cell_type": "markdown",
   "metadata": {
    "toc": true
   },
   "source": [
    "## Содержание\n"
   ]
  },
  {
   "cell_type": "markdown",
   "metadata": {},
   "source": [
    "1. [Подготовка данных](#introduction) <br>\n",
    "   1.1 [Описание данных](#subparagraph1) <br>\n",
    "   1.2 [Импорт библиотек](#subparagraph2) <br>\n",
    "   1.3 [Изучение данных](#subparagraph3) <br>\n",
    "   1.4 [Проверка правильности расчета эффективности обогащения](#subparagraph4) <br> \n",
    "   1.5 [Анализ признаков, недоступных в тестовой выборке](#subparagraph5) <br> \n",
    "   1.6 [Предобработка данных](#subparagraph6) <br>\n",
    "2. [Анализ данных](#paragraph2) <br>\n",
    "   2.1 [Изменение концентрации металлов (Au, Ag, Pb) на различных этапах очистки](#subparagraph7) <br>\n",
    "   2.2 [Сравнение распределения размеров гранул сырья на обучающей и тестовой выборках](#subparagraph8) <br>\n",
    "   2.3 [Исследование суммарной концентрации веществ на разных стадиях](#subparagraph9) <br>\n",
    "3. [Модель](#paragraph3) <br>\n",
    "   3.1 [Написание функции для расчета  sMAPE](#subparagraph10) <br>\n",
    "   3.2 [Обучение и оценка качества моделей](#subparagraph11) <br>\n",
    "   3.3 [Проверка модели на тестовой выборке](#subparagraph12) <br>\n",
    "   3.4 [Проверка модели на адекватность](#subparagraph13) <br>\n",
    "4. [Общий вывод](#paragraph3) <br>"
   ]
  },
  {
   "cell_type": "markdown",
   "metadata": {},
   "source": [
    "### 1.1 Описание данных\n",
    "<a name=\"subparagraph1\"></a>"
   ]
  },
  {
   "cell_type": "markdown",
   "metadata": {},
   "source": [
    "**Технологический процесс** <br>\n",
    "\n",
    "•\tRougher feed — исходное сырье <br>\n",
    "•\tRougher additions (или reagent additions) — флотационные реагенты: Xanthate, Sulphate, Depressant <br>\n",
    "o\tXanthate **— ксантогенат (промотер, или активатор флотации); <br>\n",
    "o\tSulphate — сульфат (на данном производстве сульфид натрия); <br> \n",
    "o\tDepressant — депрессант (силикат натрия). <br> \n",
    "•\tRougher process (англ. «грубый процесс») — флотация <br> \n",
    "•\tRougher tails — отвальные хвосты <br> \n",
    "•\tFloat banks — флотационная установка <br>\n",
    "•\tCleaner process — очистка <br>\n",
    "•\tRougher Au — черновой концентрат золота <br>\n",
    "•\tFinal Au — финальный концентрат золота <br>\n",
    "\n",
    "**Параметры этапов** <br>\n",
    "\n",
    "•\tair amount — объём воздуха <br>\n",
    "•\tfluid levels — уровень жидкости <br>\n",
    "•\tfeed size — размер гранул сырья <br>\n",
    "•\tfeed rate — скорость подачи <br>\n",
    "\n",
    "**Наименование признаков** <br>\n",
    "Наименование признаков должно быть такое: <br>\n",
    "[этап].[тип_параметра].[название_параметра] <br>\n",
    "Пример: rougher.input.feed_ag <br>\n",
    "\n",
    "*Возможные значения для блока [этап]:* <br>\n",
    "•\trougher — флотация <br>\n",
    "•\tprimary_cleaner — первичная очистка <br>\n",
    "•\tsecondary_cleaner — вторичная очистка <br>\n",
    "•\tfinal — финальные характеристики <br>\n",
    "\n",
    "*Возможные значения для блока [тип_параметра]:* <br>\n",
    "•\tinput — параметры сырья <br>\n",
    "•\toutput — параметры продукта <br>\n",
    "•\tstate — параметры, характеризующие текущее состояние этапа <br>\n",
    "•\tcalculation — расчётные характеристики <br>"
   ]
  },
  {
   "cell_type": "markdown",
   "metadata": {},
   "source": [
    "### 1.2 Импорт библиотек\n",
    "<a name=\"subparagraph2\"></a>"
   ]
  },
  {
   "cell_type": "code",
   "execution_count": 1,
   "metadata": {},
   "outputs": [],
   "source": [
    "import numpy as np\n",
    "import pandas as pd\n",
    "import matplotlib.pyplot as plt\n",
    "import seaborn as sns\n",
    "from sklearn.dummy import DummyRegressor\n",
    "from sklearn.ensemble import RandomForestRegressor\n",
    "from sklearn.linear_model import LinearRegression\n",
    "from sklearn.metrics import mean_absolute_error\n",
    "from sklearn.metrics.scorer import make_scorer\n",
    "from sklearn.model_selection import cross_val_score, KFold, StratifiedKFold\n",
    "from sklearn.preprocessing import StandardScaler\n",
    "from sklearn.tree import DecisionTreeRegressor\n",
    "from sklearn.preprocessing import StandardScaler, MinMaxScaler\n",
    "from sklearn.utils import shuffle\n",
    "from sklearn.model_selection import TimeSeriesSplit, cross_val_score, StratifiedKFold, GridSearchCV, cross_validate, KFold\n",
    "from sklearn.metrics import roc_auc_score, roc_curve, precision_recall_curve, mean_absolute_error, make_scorer, make_scorer"
   ]
  },
  {
   "cell_type": "markdown",
   "metadata": {},
   "source": [
    "### 1.3 Изучение данных\n",
    "<a name=\"subparagraph3\"></a>"
   ]
  },
  {
   "cell_type": "markdown",
   "metadata": {},
   "source": [
    "Откроем данные"
   ]
  },
  {
   "cell_type": "code",
   "execution_count": 2,
   "metadata": {},
   "outputs": [],
   "source": [
    "train = pd.read_csv('/datasets/gold_recovery_train.csv')\n",
    "test = pd.read_csv('/datasets/gold_recovery_test.csv')\n",
    "full = pd.read_csv('/datasets/gold_recovery_full.csv')"
   ]
  },
  {
   "cell_type": "markdown",
   "metadata": {},
   "source": [
    "Посмотрим на размеры выборок"
   ]
  },
  {
   "cell_type": "code",
   "execution_count": 3,
   "metadata": {},
   "outputs": [
    {
     "name": "stdout",
     "output_type": "stream",
     "text": [
      "исходные данные: (22716, 87)\n",
      "обучающая выборка: (16860, 87)\n",
      "тестовая выборка: (5856, 53)\n"
     ]
    }
   ],
   "source": [
    "data = {'исходные данные' : full, 'обучающая выборка' : train, 'тестовая выборка' : test}\n",
    "\n",
    "for key, value in data.items():\n",
    "    print(key + ':', value.shape)"
   ]
  },
  {
   "cell_type": "markdown",
   "metadata": {},
   "source": [
    "Отметим, что размерность столбцов тестовой выборки отличается от размерности столбцов исходных данных и обучающей выборки. Количество столбцов в тестовой выборке на 26 меньше, чем в обучающей. "
   ]
  },
  {
   "cell_type": "markdown",
   "metadata": {},
   "source": [
    "Выведем первые пять строк датасетов "
   ]
  },
  {
   "cell_type": "code",
   "execution_count": 4,
   "metadata": {},
   "outputs": [
    {
     "data": {
      "text/html": [
       "<div>\n",
       "<style scoped>\n",
       "    .dataframe tbody tr th:only-of-type {\n",
       "        vertical-align: middle;\n",
       "    }\n",
       "\n",
       "    .dataframe tbody tr th {\n",
       "        vertical-align: top;\n",
       "    }\n",
       "\n",
       "    .dataframe thead th {\n",
       "        text-align: right;\n",
       "    }\n",
       "</style>\n",
       "<table border=\"1\" class=\"dataframe\">\n",
       "  <thead>\n",
       "    <tr style=\"text-align: right;\">\n",
       "      <th></th>\n",
       "      <th>date</th>\n",
       "      <th>final.output.concentrate_ag</th>\n",
       "      <th>final.output.concentrate_pb</th>\n",
       "      <th>final.output.concentrate_sol</th>\n",
       "      <th>final.output.concentrate_au</th>\n",
       "      <th>final.output.recovery</th>\n",
       "      <th>final.output.tail_ag</th>\n",
       "      <th>final.output.tail_pb</th>\n",
       "      <th>final.output.tail_sol</th>\n",
       "      <th>final.output.tail_au</th>\n",
       "      <th>...</th>\n",
       "      <th>secondary_cleaner.state.floatbank4_a_air</th>\n",
       "      <th>secondary_cleaner.state.floatbank4_a_level</th>\n",
       "      <th>secondary_cleaner.state.floatbank4_b_air</th>\n",
       "      <th>secondary_cleaner.state.floatbank4_b_level</th>\n",
       "      <th>secondary_cleaner.state.floatbank5_a_air</th>\n",
       "      <th>secondary_cleaner.state.floatbank5_a_level</th>\n",
       "      <th>secondary_cleaner.state.floatbank5_b_air</th>\n",
       "      <th>secondary_cleaner.state.floatbank5_b_level</th>\n",
       "      <th>secondary_cleaner.state.floatbank6_a_air</th>\n",
       "      <th>secondary_cleaner.state.floatbank6_a_level</th>\n",
       "    </tr>\n",
       "  </thead>\n",
       "  <tbody>\n",
       "    <tr>\n",
       "      <td>0</td>\n",
       "      <td>2016-01-15 00:00:00</td>\n",
       "      <td>6.055403</td>\n",
       "      <td>9.889648</td>\n",
       "      <td>5.507324</td>\n",
       "      <td>42.192020</td>\n",
       "      <td>70.541216</td>\n",
       "      <td>10.411962</td>\n",
       "      <td>0.895447</td>\n",
       "      <td>16.904297</td>\n",
       "      <td>2.143149</td>\n",
       "      <td>...</td>\n",
       "      <td>14.016835</td>\n",
       "      <td>-502.488007</td>\n",
       "      <td>12.099931</td>\n",
       "      <td>-504.715942</td>\n",
       "      <td>9.925633</td>\n",
       "      <td>-498.310211</td>\n",
       "      <td>8.079666</td>\n",
       "      <td>-500.470978</td>\n",
       "      <td>14.151341</td>\n",
       "      <td>-605.841980</td>\n",
       "    </tr>\n",
       "    <tr>\n",
       "      <td>1</td>\n",
       "      <td>2016-01-15 01:00:00</td>\n",
       "      <td>6.029369</td>\n",
       "      <td>9.968944</td>\n",
       "      <td>5.257781</td>\n",
       "      <td>42.701629</td>\n",
       "      <td>69.266198</td>\n",
       "      <td>10.462676</td>\n",
       "      <td>0.927452</td>\n",
       "      <td>16.634514</td>\n",
       "      <td>2.224930</td>\n",
       "      <td>...</td>\n",
       "      <td>13.992281</td>\n",
       "      <td>-505.503262</td>\n",
       "      <td>11.950531</td>\n",
       "      <td>-501.331529</td>\n",
       "      <td>10.039245</td>\n",
       "      <td>-500.169983</td>\n",
       "      <td>7.984757</td>\n",
       "      <td>-500.582168</td>\n",
       "      <td>13.998353</td>\n",
       "      <td>-599.787184</td>\n",
       "    </tr>\n",
       "    <tr>\n",
       "      <td>2</td>\n",
       "      <td>2016-01-15 02:00:00</td>\n",
       "      <td>6.055926</td>\n",
       "      <td>10.213995</td>\n",
       "      <td>5.383759</td>\n",
       "      <td>42.657501</td>\n",
       "      <td>68.116445</td>\n",
       "      <td>10.507046</td>\n",
       "      <td>0.953716</td>\n",
       "      <td>16.208849</td>\n",
       "      <td>2.257889</td>\n",
       "      <td>...</td>\n",
       "      <td>14.015015</td>\n",
       "      <td>-502.520901</td>\n",
       "      <td>11.912783</td>\n",
       "      <td>-501.133383</td>\n",
       "      <td>10.070913</td>\n",
       "      <td>-500.129135</td>\n",
       "      <td>8.013877</td>\n",
       "      <td>-500.517572</td>\n",
       "      <td>14.028663</td>\n",
       "      <td>-601.427363</td>\n",
       "    </tr>\n",
       "    <tr>\n",
       "      <td>3</td>\n",
       "      <td>2016-01-15 03:00:00</td>\n",
       "      <td>6.047977</td>\n",
       "      <td>9.977019</td>\n",
       "      <td>4.858634</td>\n",
       "      <td>42.689819</td>\n",
       "      <td>68.347543</td>\n",
       "      <td>10.422762</td>\n",
       "      <td>0.883763</td>\n",
       "      <td>16.532835</td>\n",
       "      <td>2.146849</td>\n",
       "      <td>...</td>\n",
       "      <td>14.036510</td>\n",
       "      <td>-500.857308</td>\n",
       "      <td>11.999550</td>\n",
       "      <td>-501.193686</td>\n",
       "      <td>9.970366</td>\n",
       "      <td>-499.201640</td>\n",
       "      <td>7.977324</td>\n",
       "      <td>-500.255908</td>\n",
       "      <td>14.005551</td>\n",
       "      <td>-599.996129</td>\n",
       "    </tr>\n",
       "    <tr>\n",
       "      <td>4</td>\n",
       "      <td>2016-01-15 04:00:00</td>\n",
       "      <td>6.148599</td>\n",
       "      <td>10.142511</td>\n",
       "      <td>4.939416</td>\n",
       "      <td>42.774141</td>\n",
       "      <td>66.927016</td>\n",
       "      <td>10.360302</td>\n",
       "      <td>0.792826</td>\n",
       "      <td>16.525686</td>\n",
       "      <td>2.055292</td>\n",
       "      <td>...</td>\n",
       "      <td>14.027298</td>\n",
       "      <td>-499.838632</td>\n",
       "      <td>11.953070</td>\n",
       "      <td>-501.053894</td>\n",
       "      <td>9.925709</td>\n",
       "      <td>-501.686727</td>\n",
       "      <td>7.894242</td>\n",
       "      <td>-500.356035</td>\n",
       "      <td>13.996647</td>\n",
       "      <td>-601.496691</td>\n",
       "    </tr>\n",
       "  </tbody>\n",
       "</table>\n",
       "<p>5 rows × 87 columns</p>\n",
       "</div>"
      ],
      "text/plain": [
       "                  date  final.output.concentrate_ag  \\\n",
       "0  2016-01-15 00:00:00                     6.055403   \n",
       "1  2016-01-15 01:00:00                     6.029369   \n",
       "2  2016-01-15 02:00:00                     6.055926   \n",
       "3  2016-01-15 03:00:00                     6.047977   \n",
       "4  2016-01-15 04:00:00                     6.148599   \n",
       "\n",
       "   final.output.concentrate_pb  final.output.concentrate_sol  \\\n",
       "0                     9.889648                      5.507324   \n",
       "1                     9.968944                      5.257781   \n",
       "2                    10.213995                      5.383759   \n",
       "3                     9.977019                      4.858634   \n",
       "4                    10.142511                      4.939416   \n",
       "\n",
       "   final.output.concentrate_au  final.output.recovery  final.output.tail_ag  \\\n",
       "0                    42.192020              70.541216             10.411962   \n",
       "1                    42.701629              69.266198             10.462676   \n",
       "2                    42.657501              68.116445             10.507046   \n",
       "3                    42.689819              68.347543             10.422762   \n",
       "4                    42.774141              66.927016             10.360302   \n",
       "\n",
       "   final.output.tail_pb  final.output.tail_sol  final.output.tail_au  ...  \\\n",
       "0              0.895447              16.904297              2.143149  ...   \n",
       "1              0.927452              16.634514              2.224930  ...   \n",
       "2              0.953716              16.208849              2.257889  ...   \n",
       "3              0.883763              16.532835              2.146849  ...   \n",
       "4              0.792826              16.525686              2.055292  ...   \n",
       "\n",
       "   secondary_cleaner.state.floatbank4_a_air  \\\n",
       "0                                 14.016835   \n",
       "1                                 13.992281   \n",
       "2                                 14.015015   \n",
       "3                                 14.036510   \n",
       "4                                 14.027298   \n",
       "\n",
       "   secondary_cleaner.state.floatbank4_a_level  \\\n",
       "0                                 -502.488007   \n",
       "1                                 -505.503262   \n",
       "2                                 -502.520901   \n",
       "3                                 -500.857308   \n",
       "4                                 -499.838632   \n",
       "\n",
       "   secondary_cleaner.state.floatbank4_b_air  \\\n",
       "0                                 12.099931   \n",
       "1                                 11.950531   \n",
       "2                                 11.912783   \n",
       "3                                 11.999550   \n",
       "4                                 11.953070   \n",
       "\n",
       "   secondary_cleaner.state.floatbank4_b_level  \\\n",
       "0                                 -504.715942   \n",
       "1                                 -501.331529   \n",
       "2                                 -501.133383   \n",
       "3                                 -501.193686   \n",
       "4                                 -501.053894   \n",
       "\n",
       "   secondary_cleaner.state.floatbank5_a_air  \\\n",
       "0                                  9.925633   \n",
       "1                                 10.039245   \n",
       "2                                 10.070913   \n",
       "3                                  9.970366   \n",
       "4                                  9.925709   \n",
       "\n",
       "   secondary_cleaner.state.floatbank5_a_level  \\\n",
       "0                                 -498.310211   \n",
       "1                                 -500.169983   \n",
       "2                                 -500.129135   \n",
       "3                                 -499.201640   \n",
       "4                                 -501.686727   \n",
       "\n",
       "   secondary_cleaner.state.floatbank5_b_air  \\\n",
       "0                                  8.079666   \n",
       "1                                  7.984757   \n",
       "2                                  8.013877   \n",
       "3                                  7.977324   \n",
       "4                                  7.894242   \n",
       "\n",
       "   secondary_cleaner.state.floatbank5_b_level  \\\n",
       "0                                 -500.470978   \n",
       "1                                 -500.582168   \n",
       "2                                 -500.517572   \n",
       "3                                 -500.255908   \n",
       "4                                 -500.356035   \n",
       "\n",
       "   secondary_cleaner.state.floatbank6_a_air  \\\n",
       "0                                 14.151341   \n",
       "1                                 13.998353   \n",
       "2                                 14.028663   \n",
       "3                                 14.005551   \n",
       "4                                 13.996647   \n",
       "\n",
       "   secondary_cleaner.state.floatbank6_a_level  \n",
       "0                                 -605.841980  \n",
       "1                                 -599.787184  \n",
       "2                                 -601.427363  \n",
       "3                                 -599.996129  \n",
       "4                                 -601.496691  \n",
       "\n",
       "[5 rows x 87 columns]"
      ]
     },
     "execution_count": 4,
     "metadata": {},
     "output_type": "execute_result"
    }
   ],
   "source": [
    "train.head()"
   ]
  },
  {
   "cell_type": "code",
   "execution_count": 5,
   "metadata": {},
   "outputs": [
    {
     "data": {
      "text/html": [
       "<div>\n",
       "<style scoped>\n",
       "    .dataframe tbody tr th:only-of-type {\n",
       "        vertical-align: middle;\n",
       "    }\n",
       "\n",
       "    .dataframe tbody tr th {\n",
       "        vertical-align: top;\n",
       "    }\n",
       "\n",
       "    .dataframe thead th {\n",
       "        text-align: right;\n",
       "    }\n",
       "</style>\n",
       "<table border=\"1\" class=\"dataframe\">\n",
       "  <thead>\n",
       "    <tr style=\"text-align: right;\">\n",
       "      <th></th>\n",
       "      <th>date</th>\n",
       "      <th>primary_cleaner.input.sulfate</th>\n",
       "      <th>primary_cleaner.input.depressant</th>\n",
       "      <th>primary_cleaner.input.feed_size</th>\n",
       "      <th>primary_cleaner.input.xanthate</th>\n",
       "      <th>primary_cleaner.state.floatbank8_a_air</th>\n",
       "      <th>primary_cleaner.state.floatbank8_a_level</th>\n",
       "      <th>primary_cleaner.state.floatbank8_b_air</th>\n",
       "      <th>primary_cleaner.state.floatbank8_b_level</th>\n",
       "      <th>primary_cleaner.state.floatbank8_c_air</th>\n",
       "      <th>...</th>\n",
       "      <th>secondary_cleaner.state.floatbank4_a_air</th>\n",
       "      <th>secondary_cleaner.state.floatbank4_a_level</th>\n",
       "      <th>secondary_cleaner.state.floatbank4_b_air</th>\n",
       "      <th>secondary_cleaner.state.floatbank4_b_level</th>\n",
       "      <th>secondary_cleaner.state.floatbank5_a_air</th>\n",
       "      <th>secondary_cleaner.state.floatbank5_a_level</th>\n",
       "      <th>secondary_cleaner.state.floatbank5_b_air</th>\n",
       "      <th>secondary_cleaner.state.floatbank5_b_level</th>\n",
       "      <th>secondary_cleaner.state.floatbank6_a_air</th>\n",
       "      <th>secondary_cleaner.state.floatbank6_a_level</th>\n",
       "    </tr>\n",
       "  </thead>\n",
       "  <tbody>\n",
       "    <tr>\n",
       "      <td>0</td>\n",
       "      <td>2016-09-01 00:59:59</td>\n",
       "      <td>210.800909</td>\n",
       "      <td>14.993118</td>\n",
       "      <td>8.080000</td>\n",
       "      <td>1.005021</td>\n",
       "      <td>1398.981301</td>\n",
       "      <td>-500.225577</td>\n",
       "      <td>1399.144926</td>\n",
       "      <td>-499.919735</td>\n",
       "      <td>1400.102998</td>\n",
       "      <td>...</td>\n",
       "      <td>12.023554</td>\n",
       "      <td>-497.795834</td>\n",
       "      <td>8.016656</td>\n",
       "      <td>-501.289139</td>\n",
       "      <td>7.946562</td>\n",
       "      <td>-432.317850</td>\n",
       "      <td>4.872511</td>\n",
       "      <td>-500.037437</td>\n",
       "      <td>26.705889</td>\n",
       "      <td>-499.709414</td>\n",
       "    </tr>\n",
       "    <tr>\n",
       "      <td>1</td>\n",
       "      <td>2016-09-01 01:59:59</td>\n",
       "      <td>215.392455</td>\n",
       "      <td>14.987471</td>\n",
       "      <td>8.080000</td>\n",
       "      <td>0.990469</td>\n",
       "      <td>1398.777912</td>\n",
       "      <td>-500.057435</td>\n",
       "      <td>1398.055362</td>\n",
       "      <td>-499.778182</td>\n",
       "      <td>1396.151033</td>\n",
       "      <td>...</td>\n",
       "      <td>12.058140</td>\n",
       "      <td>-498.695773</td>\n",
       "      <td>8.130979</td>\n",
       "      <td>-499.634209</td>\n",
       "      <td>7.958270</td>\n",
       "      <td>-525.839648</td>\n",
       "      <td>4.878850</td>\n",
       "      <td>-500.162375</td>\n",
       "      <td>25.019940</td>\n",
       "      <td>-499.819438</td>\n",
       "    </tr>\n",
       "    <tr>\n",
       "      <td>2</td>\n",
       "      <td>2016-09-01 02:59:59</td>\n",
       "      <td>215.259946</td>\n",
       "      <td>12.884934</td>\n",
       "      <td>7.786667</td>\n",
       "      <td>0.996043</td>\n",
       "      <td>1398.493666</td>\n",
       "      <td>-500.868360</td>\n",
       "      <td>1398.860436</td>\n",
       "      <td>-499.764529</td>\n",
       "      <td>1398.075709</td>\n",
       "      <td>...</td>\n",
       "      <td>11.962366</td>\n",
       "      <td>-498.767484</td>\n",
       "      <td>8.096893</td>\n",
       "      <td>-500.827423</td>\n",
       "      <td>8.071056</td>\n",
       "      <td>-500.801673</td>\n",
       "      <td>4.905125</td>\n",
       "      <td>-499.828510</td>\n",
       "      <td>24.994862</td>\n",
       "      <td>-500.622559</td>\n",
       "    </tr>\n",
       "    <tr>\n",
       "      <td>3</td>\n",
       "      <td>2016-09-01 03:59:59</td>\n",
       "      <td>215.336236</td>\n",
       "      <td>12.006805</td>\n",
       "      <td>7.640000</td>\n",
       "      <td>0.863514</td>\n",
       "      <td>1399.618111</td>\n",
       "      <td>-498.863574</td>\n",
       "      <td>1397.440120</td>\n",
       "      <td>-499.211024</td>\n",
       "      <td>1400.129303</td>\n",
       "      <td>...</td>\n",
       "      <td>12.033091</td>\n",
       "      <td>-498.350935</td>\n",
       "      <td>8.074946</td>\n",
       "      <td>-499.474407</td>\n",
       "      <td>7.897085</td>\n",
       "      <td>-500.868509</td>\n",
       "      <td>4.931400</td>\n",
       "      <td>-499.963623</td>\n",
       "      <td>24.948919</td>\n",
       "      <td>-498.709987</td>\n",
       "    </tr>\n",
       "    <tr>\n",
       "      <td>4</td>\n",
       "      <td>2016-09-01 04:59:59</td>\n",
       "      <td>199.099327</td>\n",
       "      <td>10.682530</td>\n",
       "      <td>7.530000</td>\n",
       "      <td>0.805575</td>\n",
       "      <td>1401.268123</td>\n",
       "      <td>-500.808305</td>\n",
       "      <td>1398.128818</td>\n",
       "      <td>-499.504543</td>\n",
       "      <td>1402.172226</td>\n",
       "      <td>...</td>\n",
       "      <td>12.025367</td>\n",
       "      <td>-500.786497</td>\n",
       "      <td>8.054678</td>\n",
       "      <td>-500.397500</td>\n",
       "      <td>8.107890</td>\n",
       "      <td>-509.526725</td>\n",
       "      <td>4.957674</td>\n",
       "      <td>-500.360026</td>\n",
       "      <td>25.003331</td>\n",
       "      <td>-500.856333</td>\n",
       "    </tr>\n",
       "  </tbody>\n",
       "</table>\n",
       "<p>5 rows × 53 columns</p>\n",
       "</div>"
      ],
      "text/plain": [
       "                  date  primary_cleaner.input.sulfate  \\\n",
       "0  2016-09-01 00:59:59                     210.800909   \n",
       "1  2016-09-01 01:59:59                     215.392455   \n",
       "2  2016-09-01 02:59:59                     215.259946   \n",
       "3  2016-09-01 03:59:59                     215.336236   \n",
       "4  2016-09-01 04:59:59                     199.099327   \n",
       "\n",
       "   primary_cleaner.input.depressant  primary_cleaner.input.feed_size  \\\n",
       "0                         14.993118                         8.080000   \n",
       "1                         14.987471                         8.080000   \n",
       "2                         12.884934                         7.786667   \n",
       "3                         12.006805                         7.640000   \n",
       "4                         10.682530                         7.530000   \n",
       "\n",
       "   primary_cleaner.input.xanthate  primary_cleaner.state.floatbank8_a_air  \\\n",
       "0                        1.005021                             1398.981301   \n",
       "1                        0.990469                             1398.777912   \n",
       "2                        0.996043                             1398.493666   \n",
       "3                        0.863514                             1399.618111   \n",
       "4                        0.805575                             1401.268123   \n",
       "\n",
       "   primary_cleaner.state.floatbank8_a_level  \\\n",
       "0                               -500.225577   \n",
       "1                               -500.057435   \n",
       "2                               -500.868360   \n",
       "3                               -498.863574   \n",
       "4                               -500.808305   \n",
       "\n",
       "   primary_cleaner.state.floatbank8_b_air  \\\n",
       "0                             1399.144926   \n",
       "1                             1398.055362   \n",
       "2                             1398.860436   \n",
       "3                             1397.440120   \n",
       "4                             1398.128818   \n",
       "\n",
       "   primary_cleaner.state.floatbank8_b_level  \\\n",
       "0                               -499.919735   \n",
       "1                               -499.778182   \n",
       "2                               -499.764529   \n",
       "3                               -499.211024   \n",
       "4                               -499.504543   \n",
       "\n",
       "   primary_cleaner.state.floatbank8_c_air  ...  \\\n",
       "0                             1400.102998  ...   \n",
       "1                             1396.151033  ...   \n",
       "2                             1398.075709  ...   \n",
       "3                             1400.129303  ...   \n",
       "4                             1402.172226  ...   \n",
       "\n",
       "   secondary_cleaner.state.floatbank4_a_air  \\\n",
       "0                                 12.023554   \n",
       "1                                 12.058140   \n",
       "2                                 11.962366   \n",
       "3                                 12.033091   \n",
       "4                                 12.025367   \n",
       "\n",
       "   secondary_cleaner.state.floatbank4_a_level  \\\n",
       "0                                 -497.795834   \n",
       "1                                 -498.695773   \n",
       "2                                 -498.767484   \n",
       "3                                 -498.350935   \n",
       "4                                 -500.786497   \n",
       "\n",
       "   secondary_cleaner.state.floatbank4_b_air  \\\n",
       "0                                  8.016656   \n",
       "1                                  8.130979   \n",
       "2                                  8.096893   \n",
       "3                                  8.074946   \n",
       "4                                  8.054678   \n",
       "\n",
       "   secondary_cleaner.state.floatbank4_b_level  \\\n",
       "0                                 -501.289139   \n",
       "1                                 -499.634209   \n",
       "2                                 -500.827423   \n",
       "3                                 -499.474407   \n",
       "4                                 -500.397500   \n",
       "\n",
       "   secondary_cleaner.state.floatbank5_a_air  \\\n",
       "0                                  7.946562   \n",
       "1                                  7.958270   \n",
       "2                                  8.071056   \n",
       "3                                  7.897085   \n",
       "4                                  8.107890   \n",
       "\n",
       "   secondary_cleaner.state.floatbank5_a_level  \\\n",
       "0                                 -432.317850   \n",
       "1                                 -525.839648   \n",
       "2                                 -500.801673   \n",
       "3                                 -500.868509   \n",
       "4                                 -509.526725   \n",
       "\n",
       "   secondary_cleaner.state.floatbank5_b_air  \\\n",
       "0                                  4.872511   \n",
       "1                                  4.878850   \n",
       "2                                  4.905125   \n",
       "3                                  4.931400   \n",
       "4                                  4.957674   \n",
       "\n",
       "   secondary_cleaner.state.floatbank5_b_level  \\\n",
       "0                                 -500.037437   \n",
       "1                                 -500.162375   \n",
       "2                                 -499.828510   \n",
       "3                                 -499.963623   \n",
       "4                                 -500.360026   \n",
       "\n",
       "   secondary_cleaner.state.floatbank6_a_air  \\\n",
       "0                                 26.705889   \n",
       "1                                 25.019940   \n",
       "2                                 24.994862   \n",
       "3                                 24.948919   \n",
       "4                                 25.003331   \n",
       "\n",
       "   secondary_cleaner.state.floatbank6_a_level  \n",
       "0                                 -499.709414  \n",
       "1                                 -499.819438  \n",
       "2                                 -500.622559  \n",
       "3                                 -498.709987  \n",
       "4                                 -500.856333  \n",
       "\n",
       "[5 rows x 53 columns]"
      ]
     },
     "execution_count": 5,
     "metadata": {},
     "output_type": "execute_result"
    }
   ],
   "source": [
    "test.head()"
   ]
  },
  {
   "cell_type": "code",
   "execution_count": 6,
   "metadata": {},
   "outputs": [
    {
     "data": {
      "text/html": [
       "<div>\n",
       "<style scoped>\n",
       "    .dataframe tbody tr th:only-of-type {\n",
       "        vertical-align: middle;\n",
       "    }\n",
       "\n",
       "    .dataframe tbody tr th {\n",
       "        vertical-align: top;\n",
       "    }\n",
       "\n",
       "    .dataframe thead th {\n",
       "        text-align: right;\n",
       "    }\n",
       "</style>\n",
       "<table border=\"1\" class=\"dataframe\">\n",
       "  <thead>\n",
       "    <tr style=\"text-align: right;\">\n",
       "      <th></th>\n",
       "      <th>date</th>\n",
       "      <th>final.output.concentrate_ag</th>\n",
       "      <th>final.output.concentrate_pb</th>\n",
       "      <th>final.output.concentrate_sol</th>\n",
       "      <th>final.output.concentrate_au</th>\n",
       "      <th>final.output.recovery</th>\n",
       "      <th>final.output.tail_ag</th>\n",
       "      <th>final.output.tail_pb</th>\n",
       "      <th>final.output.tail_sol</th>\n",
       "      <th>final.output.tail_au</th>\n",
       "      <th>...</th>\n",
       "      <th>secondary_cleaner.state.floatbank4_a_air</th>\n",
       "      <th>secondary_cleaner.state.floatbank4_a_level</th>\n",
       "      <th>secondary_cleaner.state.floatbank4_b_air</th>\n",
       "      <th>secondary_cleaner.state.floatbank4_b_level</th>\n",
       "      <th>secondary_cleaner.state.floatbank5_a_air</th>\n",
       "      <th>secondary_cleaner.state.floatbank5_a_level</th>\n",
       "      <th>secondary_cleaner.state.floatbank5_b_air</th>\n",
       "      <th>secondary_cleaner.state.floatbank5_b_level</th>\n",
       "      <th>secondary_cleaner.state.floatbank6_a_air</th>\n",
       "      <th>secondary_cleaner.state.floatbank6_a_level</th>\n",
       "    </tr>\n",
       "  </thead>\n",
       "  <tbody>\n",
       "    <tr>\n",
       "      <td>0</td>\n",
       "      <td>2016-01-15 00:00:00</td>\n",
       "      <td>6.055403</td>\n",
       "      <td>9.889648</td>\n",
       "      <td>5.507324</td>\n",
       "      <td>42.192020</td>\n",
       "      <td>70.541216</td>\n",
       "      <td>10.411962</td>\n",
       "      <td>0.895447</td>\n",
       "      <td>16.904297</td>\n",
       "      <td>2.143149</td>\n",
       "      <td>...</td>\n",
       "      <td>14.016835</td>\n",
       "      <td>-502.488007</td>\n",
       "      <td>12.099931</td>\n",
       "      <td>-504.715942</td>\n",
       "      <td>9.925633</td>\n",
       "      <td>-498.310211</td>\n",
       "      <td>8.079666</td>\n",
       "      <td>-500.470978</td>\n",
       "      <td>14.151341</td>\n",
       "      <td>-605.841980</td>\n",
       "    </tr>\n",
       "    <tr>\n",
       "      <td>1</td>\n",
       "      <td>2016-01-15 01:00:00</td>\n",
       "      <td>6.029369</td>\n",
       "      <td>9.968944</td>\n",
       "      <td>5.257781</td>\n",
       "      <td>42.701629</td>\n",
       "      <td>69.266198</td>\n",
       "      <td>10.462676</td>\n",
       "      <td>0.927452</td>\n",
       "      <td>16.634514</td>\n",
       "      <td>2.224930</td>\n",
       "      <td>...</td>\n",
       "      <td>13.992281</td>\n",
       "      <td>-505.503262</td>\n",
       "      <td>11.950531</td>\n",
       "      <td>-501.331529</td>\n",
       "      <td>10.039245</td>\n",
       "      <td>-500.169983</td>\n",
       "      <td>7.984757</td>\n",
       "      <td>-500.582168</td>\n",
       "      <td>13.998353</td>\n",
       "      <td>-599.787184</td>\n",
       "    </tr>\n",
       "    <tr>\n",
       "      <td>2</td>\n",
       "      <td>2016-01-15 02:00:00</td>\n",
       "      <td>6.055926</td>\n",
       "      <td>10.213995</td>\n",
       "      <td>5.383759</td>\n",
       "      <td>42.657501</td>\n",
       "      <td>68.116445</td>\n",
       "      <td>10.507046</td>\n",
       "      <td>0.953716</td>\n",
       "      <td>16.208849</td>\n",
       "      <td>2.257889</td>\n",
       "      <td>...</td>\n",
       "      <td>14.015015</td>\n",
       "      <td>-502.520901</td>\n",
       "      <td>11.912783</td>\n",
       "      <td>-501.133383</td>\n",
       "      <td>10.070913</td>\n",
       "      <td>-500.129135</td>\n",
       "      <td>8.013877</td>\n",
       "      <td>-500.517572</td>\n",
       "      <td>14.028663</td>\n",
       "      <td>-601.427363</td>\n",
       "    </tr>\n",
       "    <tr>\n",
       "      <td>3</td>\n",
       "      <td>2016-01-15 03:00:00</td>\n",
       "      <td>6.047977</td>\n",
       "      <td>9.977019</td>\n",
       "      <td>4.858634</td>\n",
       "      <td>42.689819</td>\n",
       "      <td>68.347543</td>\n",
       "      <td>10.422762</td>\n",
       "      <td>0.883763</td>\n",
       "      <td>16.532835</td>\n",
       "      <td>2.146849</td>\n",
       "      <td>...</td>\n",
       "      <td>14.036510</td>\n",
       "      <td>-500.857308</td>\n",
       "      <td>11.999550</td>\n",
       "      <td>-501.193686</td>\n",
       "      <td>9.970366</td>\n",
       "      <td>-499.201640</td>\n",
       "      <td>7.977324</td>\n",
       "      <td>-500.255908</td>\n",
       "      <td>14.005551</td>\n",
       "      <td>-599.996129</td>\n",
       "    </tr>\n",
       "    <tr>\n",
       "      <td>4</td>\n",
       "      <td>2016-01-15 04:00:00</td>\n",
       "      <td>6.148599</td>\n",
       "      <td>10.142511</td>\n",
       "      <td>4.939416</td>\n",
       "      <td>42.774141</td>\n",
       "      <td>66.927016</td>\n",
       "      <td>10.360302</td>\n",
       "      <td>0.792826</td>\n",
       "      <td>16.525686</td>\n",
       "      <td>2.055292</td>\n",
       "      <td>...</td>\n",
       "      <td>14.027298</td>\n",
       "      <td>-499.838632</td>\n",
       "      <td>11.953070</td>\n",
       "      <td>-501.053894</td>\n",
       "      <td>9.925709</td>\n",
       "      <td>-501.686727</td>\n",
       "      <td>7.894242</td>\n",
       "      <td>-500.356035</td>\n",
       "      <td>13.996647</td>\n",
       "      <td>-601.496691</td>\n",
       "    </tr>\n",
       "  </tbody>\n",
       "</table>\n",
       "<p>5 rows × 87 columns</p>\n",
       "</div>"
      ],
      "text/plain": [
       "                  date  final.output.concentrate_ag  \\\n",
       "0  2016-01-15 00:00:00                     6.055403   \n",
       "1  2016-01-15 01:00:00                     6.029369   \n",
       "2  2016-01-15 02:00:00                     6.055926   \n",
       "3  2016-01-15 03:00:00                     6.047977   \n",
       "4  2016-01-15 04:00:00                     6.148599   \n",
       "\n",
       "   final.output.concentrate_pb  final.output.concentrate_sol  \\\n",
       "0                     9.889648                      5.507324   \n",
       "1                     9.968944                      5.257781   \n",
       "2                    10.213995                      5.383759   \n",
       "3                     9.977019                      4.858634   \n",
       "4                    10.142511                      4.939416   \n",
       "\n",
       "   final.output.concentrate_au  final.output.recovery  final.output.tail_ag  \\\n",
       "0                    42.192020              70.541216             10.411962   \n",
       "1                    42.701629              69.266198             10.462676   \n",
       "2                    42.657501              68.116445             10.507046   \n",
       "3                    42.689819              68.347543             10.422762   \n",
       "4                    42.774141              66.927016             10.360302   \n",
       "\n",
       "   final.output.tail_pb  final.output.tail_sol  final.output.tail_au  ...  \\\n",
       "0              0.895447              16.904297              2.143149  ...   \n",
       "1              0.927452              16.634514              2.224930  ...   \n",
       "2              0.953716              16.208849              2.257889  ...   \n",
       "3              0.883763              16.532835              2.146849  ...   \n",
       "4              0.792826              16.525686              2.055292  ...   \n",
       "\n",
       "   secondary_cleaner.state.floatbank4_a_air  \\\n",
       "0                                 14.016835   \n",
       "1                                 13.992281   \n",
       "2                                 14.015015   \n",
       "3                                 14.036510   \n",
       "4                                 14.027298   \n",
       "\n",
       "   secondary_cleaner.state.floatbank4_a_level  \\\n",
       "0                                 -502.488007   \n",
       "1                                 -505.503262   \n",
       "2                                 -502.520901   \n",
       "3                                 -500.857308   \n",
       "4                                 -499.838632   \n",
       "\n",
       "   secondary_cleaner.state.floatbank4_b_air  \\\n",
       "0                                 12.099931   \n",
       "1                                 11.950531   \n",
       "2                                 11.912783   \n",
       "3                                 11.999550   \n",
       "4                                 11.953070   \n",
       "\n",
       "   secondary_cleaner.state.floatbank4_b_level  \\\n",
       "0                                 -504.715942   \n",
       "1                                 -501.331529   \n",
       "2                                 -501.133383   \n",
       "3                                 -501.193686   \n",
       "4                                 -501.053894   \n",
       "\n",
       "   secondary_cleaner.state.floatbank5_a_air  \\\n",
       "0                                  9.925633   \n",
       "1                                 10.039245   \n",
       "2                                 10.070913   \n",
       "3                                  9.970366   \n",
       "4                                  9.925709   \n",
       "\n",
       "   secondary_cleaner.state.floatbank5_a_level  \\\n",
       "0                                 -498.310211   \n",
       "1                                 -500.169983   \n",
       "2                                 -500.129135   \n",
       "3                                 -499.201640   \n",
       "4                                 -501.686727   \n",
       "\n",
       "   secondary_cleaner.state.floatbank5_b_air  \\\n",
       "0                                  8.079666   \n",
       "1                                  7.984757   \n",
       "2                                  8.013877   \n",
       "3                                  7.977324   \n",
       "4                                  7.894242   \n",
       "\n",
       "   secondary_cleaner.state.floatbank5_b_level  \\\n",
       "0                                 -500.470978   \n",
       "1                                 -500.582168   \n",
       "2                                 -500.517572   \n",
       "3                                 -500.255908   \n",
       "4                                 -500.356035   \n",
       "\n",
       "   secondary_cleaner.state.floatbank6_a_air  \\\n",
       "0                                 14.151341   \n",
       "1                                 13.998353   \n",
       "2                                 14.028663   \n",
       "3                                 14.005551   \n",
       "4                                 13.996647   \n",
       "\n",
       "   secondary_cleaner.state.floatbank6_a_level  \n",
       "0                                 -605.841980  \n",
       "1                                 -599.787184  \n",
       "2                                 -601.427363  \n",
       "3                                 -599.996129  \n",
       "4                                 -601.496691  \n",
       "\n",
       "[5 rows x 87 columns]"
      ]
     },
     "execution_count": 6,
     "metadata": {},
     "output_type": "execute_result"
    }
   ],
   "source": [
    "full.head()"
   ]
  },
  {
   "cell_type": "markdown",
   "metadata": {},
   "source": [
    "Посмотрим на общую информацию по каждому датасету."
   ]
  },
  {
   "cell_type": "markdown",
   "metadata": {},
   "source": [
    "Выведем информацию об обучающем датасете"
   ]
  },
  {
   "cell_type": "code",
   "execution_count": 7,
   "metadata": {},
   "outputs": [
    {
     "name": "stdout",
     "output_type": "stream",
     "text": [
      "<class 'pandas.core.frame.DataFrame'>\n",
      "RangeIndex: 16860 entries, 0 to 16859\n",
      "Data columns (total 87 columns):\n",
      "date                                                  16860 non-null object\n",
      "final.output.concentrate_ag                           16788 non-null float64\n",
      "final.output.concentrate_pb                           16788 non-null float64\n",
      "final.output.concentrate_sol                          16490 non-null float64\n",
      "final.output.concentrate_au                           16789 non-null float64\n",
      "final.output.recovery                                 15339 non-null float64\n",
      "final.output.tail_ag                                  16794 non-null float64\n",
      "final.output.tail_pb                                  16677 non-null float64\n",
      "final.output.tail_sol                                 16715 non-null float64\n",
      "final.output.tail_au                                  16794 non-null float64\n",
      "primary_cleaner.input.sulfate                         15553 non-null float64\n",
      "primary_cleaner.input.depressant                      15598 non-null float64\n",
      "primary_cleaner.input.feed_size                       16860 non-null float64\n",
      "primary_cleaner.input.xanthate                        15875 non-null float64\n",
      "primary_cleaner.output.concentrate_ag                 16778 non-null float64\n",
      "primary_cleaner.output.concentrate_pb                 16502 non-null float64\n",
      "primary_cleaner.output.concentrate_sol                16224 non-null float64\n",
      "primary_cleaner.output.concentrate_au                 16778 non-null float64\n",
      "primary_cleaner.output.tail_ag                        16777 non-null float64\n",
      "primary_cleaner.output.tail_pb                        16761 non-null float64\n",
      "primary_cleaner.output.tail_sol                       16579 non-null float64\n",
      "primary_cleaner.output.tail_au                        16777 non-null float64\n",
      "primary_cleaner.state.floatbank8_a_air                16820 non-null float64\n",
      "primary_cleaner.state.floatbank8_a_level              16827 non-null float64\n",
      "primary_cleaner.state.floatbank8_b_air                16820 non-null float64\n",
      "primary_cleaner.state.floatbank8_b_level              16833 non-null float64\n",
      "primary_cleaner.state.floatbank8_c_air                16822 non-null float64\n",
      "primary_cleaner.state.floatbank8_c_level              16833 non-null float64\n",
      "primary_cleaner.state.floatbank8_d_air                16821 non-null float64\n",
      "primary_cleaner.state.floatbank8_d_level              16833 non-null float64\n",
      "rougher.calculation.sulfate_to_au_concentrate         16833 non-null float64\n",
      "rougher.calculation.floatbank10_sulfate_to_au_feed    16833 non-null float64\n",
      "rougher.calculation.floatbank11_sulfate_to_au_feed    16833 non-null float64\n",
      "rougher.calculation.au_pb_ratio                       15618 non-null float64\n",
      "rougher.input.feed_ag                                 16778 non-null float64\n",
      "rougher.input.feed_pb                                 16632 non-null float64\n",
      "rougher.input.feed_rate                               16347 non-null float64\n",
      "rougher.input.feed_size                               16443 non-null float64\n",
      "rougher.input.feed_sol                                16568 non-null float64\n",
      "rougher.input.feed_au                                 16777 non-null float64\n",
      "rougher.input.floatbank10_sulfate                     15816 non-null float64\n",
      "rougher.input.floatbank10_xanthate                    16514 non-null float64\n",
      "rougher.input.floatbank11_sulfate                     16237 non-null float64\n",
      "rougher.input.floatbank11_xanthate                    14956 non-null float64\n",
      "rougher.output.concentrate_ag                         16778 non-null float64\n",
      "rougher.output.concentrate_pb                         16778 non-null float64\n",
      "rougher.output.concentrate_sol                        16698 non-null float64\n",
      "rougher.output.concentrate_au                         16778 non-null float64\n",
      "rougher.output.recovery                               14287 non-null float64\n",
      "rougher.output.tail_ag                                14610 non-null float64\n",
      "rougher.output.tail_pb                                16778 non-null float64\n",
      "rougher.output.tail_sol                               14611 non-null float64\n",
      "rougher.output.tail_au                                14611 non-null float64\n",
      "rougher.state.floatbank10_a_air                       16807 non-null float64\n",
      "rougher.state.floatbank10_a_level                     16807 non-null float64\n",
      "rougher.state.floatbank10_b_air                       16807 non-null float64\n",
      "rougher.state.floatbank10_b_level                     16807 non-null float64\n",
      "rougher.state.floatbank10_c_air                       16807 non-null float64\n",
      "rougher.state.floatbank10_c_level                     16814 non-null float64\n",
      "rougher.state.floatbank10_d_air                       16802 non-null float64\n",
      "rougher.state.floatbank10_d_level                     16809 non-null float64\n",
      "rougher.state.floatbank10_e_air                       16257 non-null float64\n",
      "rougher.state.floatbank10_e_level                     16809 non-null float64\n",
      "rougher.state.floatbank10_f_air                       16802 non-null float64\n",
      "rougher.state.floatbank10_f_level                     16802 non-null float64\n",
      "secondary_cleaner.output.tail_ag                      16776 non-null float64\n",
      "secondary_cleaner.output.tail_pb                      16764 non-null float64\n",
      "secondary_cleaner.output.tail_sol                     14874 non-null float64\n",
      "secondary_cleaner.output.tail_au                      16778 non-null float64\n",
      "secondary_cleaner.state.floatbank2_a_air              16497 non-null float64\n",
      "secondary_cleaner.state.floatbank2_a_level            16751 non-null float64\n",
      "secondary_cleaner.state.floatbank2_b_air              16705 non-null float64\n",
      "secondary_cleaner.state.floatbank2_b_level            16748 non-null float64\n",
      "secondary_cleaner.state.floatbank3_a_air              16763 non-null float64\n",
      "secondary_cleaner.state.floatbank3_a_level            16747 non-null float64\n",
      "secondary_cleaner.state.floatbank3_b_air              16752 non-null float64\n",
      "secondary_cleaner.state.floatbank3_b_level            16750 non-null float64\n",
      "secondary_cleaner.state.floatbank4_a_air              16731 non-null float64\n",
      "secondary_cleaner.state.floatbank4_a_level            16747 non-null float64\n",
      "secondary_cleaner.state.floatbank4_b_air              16768 non-null float64\n",
      "secondary_cleaner.state.floatbank4_b_level            16767 non-null float64\n",
      "secondary_cleaner.state.floatbank5_a_air              16775 non-null float64\n",
      "secondary_cleaner.state.floatbank5_a_level            16775 non-null float64\n",
      "secondary_cleaner.state.floatbank5_b_air              16775 non-null float64\n",
      "secondary_cleaner.state.floatbank5_b_level            16776 non-null float64\n",
      "secondary_cleaner.state.floatbank6_a_air              16757 non-null float64\n",
      "secondary_cleaner.state.floatbank6_a_level            16775 non-null float64\n",
      "dtypes: float64(86), object(1)\n",
      "memory usage: 11.2+ MB\n"
     ]
    },
    {
     "data": {
      "text/plain": [
       "(16860, 87)"
      ]
     },
     "metadata": {},
     "output_type": "display_data"
    },
    {
     "name": "stdout",
     "output_type": "stream",
     "text": [
      "Количество полных дубликатов: 0\n"
     ]
    }
   ],
   "source": [
    "train.info()\n",
    "display(train.shape)\n",
    "print('Количество полных дубликатов:', sum(train.duplicated()))"
   ]
  },
  {
   "cell_type": "markdown",
   "metadata": {},
   "source": [
    "Обучающая выборка включает в себя 16860 объектов и 87 признаков. <br>\n",
    "Выведем информацию о тестовой выборке."
   ]
  },
  {
   "cell_type": "code",
   "execution_count": 8,
   "metadata": {},
   "outputs": [
    {
     "name": "stdout",
     "output_type": "stream",
     "text": [
      "<class 'pandas.core.frame.DataFrame'>\n",
      "RangeIndex: 5856 entries, 0 to 5855\n",
      "Data columns (total 53 columns):\n",
      "date                                          5856 non-null object\n",
      "primary_cleaner.input.sulfate                 5554 non-null float64\n",
      "primary_cleaner.input.depressant              5572 non-null float64\n",
      "primary_cleaner.input.feed_size               5856 non-null float64\n",
      "primary_cleaner.input.xanthate                5690 non-null float64\n",
      "primary_cleaner.state.floatbank8_a_air        5840 non-null float64\n",
      "primary_cleaner.state.floatbank8_a_level      5840 non-null float64\n",
      "primary_cleaner.state.floatbank8_b_air        5840 non-null float64\n",
      "primary_cleaner.state.floatbank8_b_level      5840 non-null float64\n",
      "primary_cleaner.state.floatbank8_c_air        5840 non-null float64\n",
      "primary_cleaner.state.floatbank8_c_level      5840 non-null float64\n",
      "primary_cleaner.state.floatbank8_d_air        5840 non-null float64\n",
      "primary_cleaner.state.floatbank8_d_level      5840 non-null float64\n",
      "rougher.input.feed_ag                         5840 non-null float64\n",
      "rougher.input.feed_pb                         5840 non-null float64\n",
      "rougher.input.feed_rate                       5816 non-null float64\n",
      "rougher.input.feed_size                       5834 non-null float64\n",
      "rougher.input.feed_sol                        5789 non-null float64\n",
      "rougher.input.feed_au                         5840 non-null float64\n",
      "rougher.input.floatbank10_sulfate             5599 non-null float64\n",
      "rougher.input.floatbank10_xanthate            5733 non-null float64\n",
      "rougher.input.floatbank11_sulfate             5801 non-null float64\n",
      "rougher.input.floatbank11_xanthate            5503 non-null float64\n",
      "rougher.state.floatbank10_a_air               5839 non-null float64\n",
      "rougher.state.floatbank10_a_level             5840 non-null float64\n",
      "rougher.state.floatbank10_b_air               5839 non-null float64\n",
      "rougher.state.floatbank10_b_level             5840 non-null float64\n",
      "rougher.state.floatbank10_c_air               5839 non-null float64\n",
      "rougher.state.floatbank10_c_level             5840 non-null float64\n",
      "rougher.state.floatbank10_d_air               5839 non-null float64\n",
      "rougher.state.floatbank10_d_level             5840 non-null float64\n",
      "rougher.state.floatbank10_e_air               5839 non-null float64\n",
      "rougher.state.floatbank10_e_level             5840 non-null float64\n",
      "rougher.state.floatbank10_f_air               5839 non-null float64\n",
      "rougher.state.floatbank10_f_level             5840 non-null float64\n",
      "secondary_cleaner.state.floatbank2_a_air      5836 non-null float64\n",
      "secondary_cleaner.state.floatbank2_a_level    5840 non-null float64\n",
      "secondary_cleaner.state.floatbank2_b_air      5833 non-null float64\n",
      "secondary_cleaner.state.floatbank2_b_level    5840 non-null float64\n",
      "secondary_cleaner.state.floatbank3_a_air      5822 non-null float64\n",
      "secondary_cleaner.state.floatbank3_a_level    5840 non-null float64\n",
      "secondary_cleaner.state.floatbank3_b_air      5840 non-null float64\n",
      "secondary_cleaner.state.floatbank3_b_level    5840 non-null float64\n",
      "secondary_cleaner.state.floatbank4_a_air      5840 non-null float64\n",
      "secondary_cleaner.state.floatbank4_a_level    5840 non-null float64\n",
      "secondary_cleaner.state.floatbank4_b_air      5840 non-null float64\n",
      "secondary_cleaner.state.floatbank4_b_level    5840 non-null float64\n",
      "secondary_cleaner.state.floatbank5_a_air      5840 non-null float64\n",
      "secondary_cleaner.state.floatbank5_a_level    5840 non-null float64\n",
      "secondary_cleaner.state.floatbank5_b_air      5840 non-null float64\n",
      "secondary_cleaner.state.floatbank5_b_level    5840 non-null float64\n",
      "secondary_cleaner.state.floatbank6_a_air      5840 non-null float64\n",
      "secondary_cleaner.state.floatbank6_a_level    5840 non-null float64\n",
      "dtypes: float64(52), object(1)\n",
      "memory usage: 2.4+ MB\n",
      "None\n",
      "Количество полных дубликатов: 0\n"
     ]
    }
   ],
   "source": [
    "print(test.info())\n",
    "test.shape\n",
    "print('Количество полных дубликатов:', sum(test.duplicated()))"
   ]
  },
  {
   "cell_type": "markdown",
   "metadata": {},
   "source": [
    "Тестовая выборка включает в себя 5856 объектов и 52 признака.<br>\n",
    "Выведем информацию об исходных данных"
   ]
  },
  {
   "cell_type": "code",
   "execution_count": 9,
   "metadata": {},
   "outputs": [
    {
     "name": "stdout",
     "output_type": "stream",
     "text": [
      "<class 'pandas.core.frame.DataFrame'>\n",
      "RangeIndex: 22716 entries, 0 to 22715\n",
      "Data columns (total 87 columns):\n",
      "date                                                  22716 non-null object\n",
      "final.output.concentrate_ag                           22627 non-null float64\n",
      "final.output.concentrate_pb                           22629 non-null float64\n",
      "final.output.concentrate_sol                          22331 non-null float64\n",
      "final.output.concentrate_au                           22630 non-null float64\n",
      "final.output.recovery                                 20753 non-null float64\n",
      "final.output.tail_ag                                  22633 non-null float64\n",
      "final.output.tail_pb                                  22516 non-null float64\n",
      "final.output.tail_sol                                 22445 non-null float64\n",
      "final.output.tail_au                                  22635 non-null float64\n",
      "primary_cleaner.input.sulfate                         21107 non-null float64\n",
      "primary_cleaner.input.depressant                      21170 non-null float64\n",
      "primary_cleaner.input.feed_size                       22716 non-null float64\n",
      "primary_cleaner.input.xanthate                        21565 non-null float64\n",
      "primary_cleaner.output.concentrate_ag                 22618 non-null float64\n",
      "primary_cleaner.output.concentrate_pb                 22268 non-null float64\n",
      "primary_cleaner.output.concentrate_sol                21918 non-null float64\n",
      "primary_cleaner.output.concentrate_au                 22618 non-null float64\n",
      "primary_cleaner.output.tail_ag                        22614 non-null float64\n",
      "primary_cleaner.output.tail_pb                        22594 non-null float64\n",
      "primary_cleaner.output.tail_sol                       22365 non-null float64\n",
      "primary_cleaner.output.tail_au                        22617 non-null float64\n",
      "primary_cleaner.state.floatbank8_a_air                22660 non-null float64\n",
      "primary_cleaner.state.floatbank8_a_level              22667 non-null float64\n",
      "primary_cleaner.state.floatbank8_b_air                22660 non-null float64\n",
      "primary_cleaner.state.floatbank8_b_level              22673 non-null float64\n",
      "primary_cleaner.state.floatbank8_c_air                22662 non-null float64\n",
      "primary_cleaner.state.floatbank8_c_level              22673 non-null float64\n",
      "primary_cleaner.state.floatbank8_d_air                22661 non-null float64\n",
      "primary_cleaner.state.floatbank8_d_level              22673 non-null float64\n",
      "rougher.calculation.sulfate_to_au_concentrate         22672 non-null float64\n",
      "rougher.calculation.floatbank10_sulfate_to_au_feed    22672 non-null float64\n",
      "rougher.calculation.floatbank11_sulfate_to_au_feed    22672 non-null float64\n",
      "rougher.calculation.au_pb_ratio                       21089 non-null float64\n",
      "rougher.input.feed_ag                                 22618 non-null float64\n",
      "rougher.input.feed_pb                                 22472 non-null float64\n",
      "rougher.input.feed_rate                               22163 non-null float64\n",
      "rougher.input.feed_size                               22277 non-null float64\n",
      "rougher.input.feed_sol                                22357 non-null float64\n",
      "rougher.input.feed_au                                 22617 non-null float64\n",
      "rougher.input.floatbank10_sulfate                     21415 non-null float64\n",
      "rougher.input.floatbank10_xanthate                    22247 non-null float64\n",
      "rougher.input.floatbank11_sulfate                     22038 non-null float64\n",
      "rougher.input.floatbank11_xanthate                    20459 non-null float64\n",
      "rougher.output.concentrate_ag                         22618 non-null float64\n",
      "rougher.output.concentrate_pb                         22618 non-null float64\n",
      "rougher.output.concentrate_sol                        22526 non-null float64\n",
      "rougher.output.concentrate_au                         22618 non-null float64\n",
      "rougher.output.recovery                               19597 non-null float64\n",
      "rougher.output.tail_ag                                19979 non-null float64\n",
      "rougher.output.tail_pb                                22618 non-null float64\n",
      "rougher.output.tail_sol                               19980 non-null float64\n",
      "rougher.output.tail_au                                19980 non-null float64\n",
      "rougher.state.floatbank10_a_air                       22646 non-null float64\n",
      "rougher.state.floatbank10_a_level                     22647 non-null float64\n",
      "rougher.state.floatbank10_b_air                       22646 non-null float64\n",
      "rougher.state.floatbank10_b_level                     22647 non-null float64\n",
      "rougher.state.floatbank10_c_air                       22646 non-null float64\n",
      "rougher.state.floatbank10_c_level                     22654 non-null float64\n",
      "rougher.state.floatbank10_d_air                       22641 non-null float64\n",
      "rougher.state.floatbank10_d_level                     22649 non-null float64\n",
      "rougher.state.floatbank10_e_air                       22096 non-null float64\n",
      "rougher.state.floatbank10_e_level                     22649 non-null float64\n",
      "rougher.state.floatbank10_f_air                       22641 non-null float64\n",
      "rougher.state.floatbank10_f_level                     22642 non-null float64\n",
      "secondary_cleaner.output.tail_ag                      22616 non-null float64\n",
      "secondary_cleaner.output.tail_pb                      22600 non-null float64\n",
      "secondary_cleaner.output.tail_sol                     20501 non-null float64\n",
      "secondary_cleaner.output.tail_au                      22618 non-null float64\n",
      "secondary_cleaner.state.floatbank2_a_air              22333 non-null float64\n",
      "secondary_cleaner.state.floatbank2_a_level            22591 non-null float64\n",
      "secondary_cleaner.state.floatbank2_b_air              22538 non-null float64\n",
      "secondary_cleaner.state.floatbank2_b_level            22588 non-null float64\n",
      "secondary_cleaner.state.floatbank3_a_air              22585 non-null float64\n",
      "secondary_cleaner.state.floatbank3_a_level            22587 non-null float64\n",
      "secondary_cleaner.state.floatbank3_b_air              22592 non-null float64\n",
      "secondary_cleaner.state.floatbank3_b_level            22590 non-null float64\n",
      "secondary_cleaner.state.floatbank4_a_air              22571 non-null float64\n",
      "secondary_cleaner.state.floatbank4_a_level            22587 non-null float64\n",
      "secondary_cleaner.state.floatbank4_b_air              22608 non-null float64\n",
      "secondary_cleaner.state.floatbank4_b_level            22607 non-null float64\n",
      "secondary_cleaner.state.floatbank5_a_air              22615 non-null float64\n",
      "secondary_cleaner.state.floatbank5_a_level            22615 non-null float64\n",
      "secondary_cleaner.state.floatbank5_b_air              22615 non-null float64\n",
      "secondary_cleaner.state.floatbank5_b_level            22616 non-null float64\n",
      "secondary_cleaner.state.floatbank6_a_air              22597 non-null float64\n",
      "secondary_cleaner.state.floatbank6_a_level            22615 non-null float64\n",
      "dtypes: float64(86), object(1)\n",
      "memory usage: 15.1+ MB\n",
      "None\n",
      "Количество полных дубликатов: 0\n"
     ]
    }
   ],
   "source": [
    "print(full.info())\n",
    "full.shape\n",
    "print('Количество полных дубликатов:', sum(full.duplicated()))"
   ]
  },
  {
   "cell_type": "markdown",
   "metadata": {},
   "source": [
    "Исходная выборка включает в себя 22176 объектов и 86 признаков."
   ]
  },
  {
   "cell_type": "markdown",
   "metadata": {},
   "source": [
    "Результаты первичного анализа выборок: <br>\n",
    "- во всех выборках все признаки количественные, категориальные признаки отсутствуют; <br>\n",
    "- полные дубликаты отсутствуют в данных; <br>\n",
    "- в каждом датасете в ряде столбцов наблюдается значительное количество пропусков - нужно будет детальнее изучить процент пропусков по каждому признаку и понять, каким образом их заполнять или удалять; <br>\n",
    "- в процессах флотации и очистки участвует несколько флотационных установок; <br> \n",
    "- в дальнейшем необходимо изменить формат даты с 'object' на 'datetime'."
   ]
  },
  {
   "cell_type": "code",
   "execution_count": 10,
   "metadata": {},
   "outputs": [],
   "source": [
    "#перенесем значения даты в индекс и создадим дополнительй столбец с измененным форматом даты\n",
    "train['date_time'] = train['date']\n",
    "test['date_time'] = test['date']\n",
    "full['date_time'] = full['date']\n",
    "#приведем значения в новых столбцах к формату 'datetime'\n",
    "train['date_time'] = pd.to_datetime(train['date_time'], format = '%Y-%m-%dT%H:%M:%S')\n",
    "test['date_time'] = pd.to_datetime(test['date_time'], format = '%Y-%m-%dT%H:%M:%S')\n",
    "full['date_time'] = pd.to_datetime(full['date_time'], format = '%Y-%m-%dT%H:%M:%S')\n",
    "#переведем столбец 'date' в индекс\n",
    "train = train.set_index('date')\n",
    "test = test.set_index('date')\n",
    "full = full.set_index('date')"
   ]
  },
  {
   "cell_type": "markdown",
   "metadata": {},
   "source": [
    "### 1.4 Проверка правильности расчета эффективности обогащения \n",
    "**Рассчитаем эффективность обогащения на обучающей выборке для признака rougher.output.recovery. Найдем MAE между расчетами и зачением признака.**\n",
    "<a name=\"subparagraph4\"></a>"
   ]
  },
  {
   "cell_type": "markdown",
   "metadata": {},
   "source": [
    "Формула расчета эффективности обогащения: \n",
    "\n",
    "$$ Recovery = \\frac{C × (F-T)}{F × (C-T)} × 100%$$\n",
    "\n",
    "где: \n",
    "\n",
    "- C — доля золота в концентрате после флотации/очистки\n",
    "- F — доля золота в сырье/концентрате до флотации/очистки\n",
    "- T — доля золота в отвальных хвостах после флотации/очистки."
   ]
  },
  {
   "cell_type": "markdown",
   "metadata": {},
   "source": [
    "Поскольку мы рассчитываем эффективность обогащения на этапах до и после флотации, посмотрим на список признаков, в названии которых присутствует \"recovery\"."
   ]
  },
  {
   "cell_type": "code",
   "execution_count": 11,
   "metadata": {},
   "outputs": [
    {
     "name": "stdout",
     "output_type": "stream",
     "text": [
      "rougher.calculation.sulfate_to_au_concentrate\n",
      "rougher.calculation.floatbank10_sulfate_to_au_feed\n",
      "rougher.calculation.floatbank11_sulfate_to_au_feed\n",
      "rougher.calculation.au_pb_ratio\n",
      "rougher.input.feed_ag\n",
      "rougher.input.feed_pb\n",
      "rougher.input.feed_rate\n",
      "rougher.input.feed_size\n",
      "rougher.input.feed_sol\n",
      "rougher.input.feed_au\n",
      "rougher.input.floatbank10_sulfate\n",
      "rougher.input.floatbank10_xanthate\n",
      "rougher.input.floatbank11_sulfate\n",
      "rougher.input.floatbank11_xanthate\n",
      "rougher.output.concentrate_ag\n",
      "rougher.output.concentrate_pb\n",
      "rougher.output.concentrate_sol\n",
      "rougher.output.concentrate_au\n",
      "rougher.output.recovery\n",
      "rougher.output.tail_ag\n",
      "rougher.output.tail_pb\n",
      "rougher.output.tail_sol\n",
      "rougher.output.tail_au\n",
      "rougher.state.floatbank10_a_air\n",
      "rougher.state.floatbank10_a_level\n",
      "rougher.state.floatbank10_b_air\n",
      "rougher.state.floatbank10_b_level\n",
      "rougher.state.floatbank10_c_air\n",
      "rougher.state.floatbank10_c_level\n",
      "rougher.state.floatbank10_d_air\n",
      "rougher.state.floatbank10_d_level\n",
      "rougher.state.floatbank10_e_air\n",
      "rougher.state.floatbank10_e_level\n",
      "rougher.state.floatbank10_f_air\n",
      "rougher.state.floatbank10_f_level\n"
     ]
    }
   ],
   "source": [
    "train_copy = train.copy(deep=True)\n",
    "for col in train_copy.columns:\n",
    "    if 'rougher' in col:\n",
    "        print(col)"
   ]
  },
  {
   "cell_type": "markdown",
   "metadata": {},
   "source": [
    "В целях расчета эффективности обогащения будем использовать следующие признаки: \n",
    "- rougher.output.concentrate_au — доля золота в концентрате после флотации/очистки (C); <br>\n",
    "- rougher.input.feed_au — доля золота в сырье/концентрате до флотации/очистки (F); <br>\n",
    "- rougher.output.tail_au — доля золота в отвальных хвостах после флотации/очистки (T). <br>"
   ]
  },
  {
   "cell_type": "markdown",
   "metadata": {},
   "source": [
    "Создадим столбец с рассчитанным коэффициентом восстановления"
   ]
  },
  {
   "cell_type": "code",
   "execution_count": 12,
   "metadata": {},
   "outputs": [
    {
     "data": {
      "text/plain": [
       "date\n",
       "2016-01-15 00:00:00    87.107763\n",
       "2016-01-15 01:00:00    86.843261\n",
       "2016-01-15 02:00:00    86.842308\n",
       "Name: rougher.output.recovery.calculated, dtype: float64"
      ]
     },
     "execution_count": 12,
     "metadata": {},
     "output_type": "execute_result"
    }
   ],
   "source": [
    "train_copy['rougher.output.recovery.calculated'] = (train_copy['rougher.output.concentrate_au'] * (train_copy['rougher.input.feed_au'] - train_copy['rougher.output.tail_au']))/(train_copy['rougher.input.feed_au']*(train_copy['rougher.output.concentrate_au'] - train_copy['rougher.output.tail_au']))*100\n",
    "train_copy['rougher.output.recovery.calculated'].head(3)"
   ]
  },
  {
   "cell_type": "markdown",
   "metadata": {},
   "source": [
    "Рассчитаем MAE между рассчитанными значениями 'rougher.output.recovery.calculated' и значениями признака 'rougher.output.recovery'."
   ]
  },
  {
   "cell_type": "markdown",
   "metadata": {},
   "source": [
    "Удалим пропуски в данных"
   ]
  },
  {
   "cell_type": "code",
   "execution_count": 13,
   "metadata": {},
   "outputs": [
    {
     "name": "stdout",
     "output_type": "stream",
     "text": [
      "MAE между рассчитанным и заданным признаком составляет: 9.555596961987514e-15\n"
     ]
    }
   ],
   "source": [
    "train_copy.dropna(inplace = True)\n",
    "print('MAE между рассчитанным и заданным признаком составляет:', mean_absolute_error(train_copy['rougher.output.recovery'], train_copy['rougher.output.recovery.calculated']))\n"
   ]
  },
  {
   "cell_type": "markdown",
   "metadata": {},
   "source": [
    "Получено крайне малое значение MAE, что свидетельствует о том, что эффективность обогащения рассчитана верно."
   ]
  },
  {
   "cell_type": "markdown",
   "metadata": {},
   "source": [
    "### 1.5 Анализ признаков, недоступных в тестовой выборке\n",
    "<a name=\"subparagraph5\"></a>"
   ]
  },
  {
   "cell_type": "markdown",
   "metadata": {},
   "source": [
    "Проверим, какие из признаков, доступных в обучающей выборке, отсутствуют в тестовой выборке"
   ]
  },
  {
   "cell_type": "code",
   "execution_count": 14,
   "metadata": {},
   "outputs": [
    {
     "name": "stdout",
     "output_type": "stream",
     "text": [
      "Количество признаков отсутствующих в тестовой выборке: 34\n"
     ]
    }
   ],
   "source": [
    "print('Количество признаков отсутствующих в тестовой выборке:', len(set(train) - set(test)))"
   ]
  },
  {
   "cell_type": "markdown",
   "metadata": {},
   "source": [
    "Посмотрим на список отсутствующих признаков"
   ]
  },
  {
   "cell_type": "code",
   "execution_count": 15,
   "metadata": {},
   "outputs": [
    {
     "data": {
      "text/plain": [
       "{'final.output.concentrate_ag',\n",
       " 'final.output.concentrate_au',\n",
       " 'final.output.concentrate_pb',\n",
       " 'final.output.concentrate_sol',\n",
       " 'final.output.recovery',\n",
       " 'final.output.tail_ag',\n",
       " 'final.output.tail_au',\n",
       " 'final.output.tail_pb',\n",
       " 'final.output.tail_sol',\n",
       " 'primary_cleaner.output.concentrate_ag',\n",
       " 'primary_cleaner.output.concentrate_au',\n",
       " 'primary_cleaner.output.concentrate_pb',\n",
       " 'primary_cleaner.output.concentrate_sol',\n",
       " 'primary_cleaner.output.tail_ag',\n",
       " 'primary_cleaner.output.tail_au',\n",
       " 'primary_cleaner.output.tail_pb',\n",
       " 'primary_cleaner.output.tail_sol',\n",
       " 'rougher.calculation.au_pb_ratio',\n",
       " 'rougher.calculation.floatbank10_sulfate_to_au_feed',\n",
       " 'rougher.calculation.floatbank11_sulfate_to_au_feed',\n",
       " 'rougher.calculation.sulfate_to_au_concentrate',\n",
       " 'rougher.output.concentrate_ag',\n",
       " 'rougher.output.concentrate_au',\n",
       " 'rougher.output.concentrate_pb',\n",
       " 'rougher.output.concentrate_sol',\n",
       " 'rougher.output.recovery',\n",
       " 'rougher.output.tail_ag',\n",
       " 'rougher.output.tail_au',\n",
       " 'rougher.output.tail_pb',\n",
       " 'rougher.output.tail_sol',\n",
       " 'secondary_cleaner.output.tail_ag',\n",
       " 'secondary_cleaner.output.tail_au',\n",
       " 'secondary_cleaner.output.tail_pb',\n",
       " 'secondary_cleaner.output.tail_sol'}"
      ]
     },
     "execution_count": 15,
     "metadata": {},
     "output_type": "execute_result"
    }
   ],
   "source": [
    "set(train) - set(test)"
   ]
  },
  {
   "cell_type": "markdown",
   "metadata": {},
   "source": [
    "В тестовой выборке отсутствуют признаки, характеризующие параметры продукта ('output') и расчетные характеристики ('calculation'). Кроме того, в тестовой выборке отсутствуют целевые признаки, поскольку, согласно условию, они замеряются гораздо позже: \n",
    "- final.output.recovery - эффективность обогащения финального концентрата;\n",
    "- rougher.output.recovery - эффективность обогащения чернового концентрата. "
   ]
  },
  {
   "cell_type": "markdown",
   "metadata": {},
   "source": [
    "Поскольку выходные данные о продукте и его расчетные характеристики становятся доступными только после измерения целевых признаков, их нецелесообразно включать в выборку для обучения модели. Следовательно, их можно не подтягивать из исходного датасета. <br>\n",
    "Отсутствующие целевые признаки восстановим из исходного датасета. <br>"
   ]
  },
  {
   "cell_type": "markdown",
   "metadata": {},
   "source": [
    "### 1.6 Предобработка данных ###\n",
    "<a name=\"subparagraph6\"></a>"
   ]
  },
  {
   "cell_type": "markdown",
   "metadata": {},
   "source": [
    "Создадим копии выборок"
   ]
  },
  {
   "cell_type": "code",
   "execution_count": 16,
   "metadata": {},
   "outputs": [],
   "source": [
    "full_rep = full.copy(deep=True)\n",
    "train_rep = train.copy(deep=True)\n",
    "test_rep = test.copy(deep=True)"
   ]
  },
  {
   "cell_type": "markdown",
   "metadata": {},
   "source": [
    "Проанализируем пропущенные значения в каждом датасете"
   ]
  },
  {
   "cell_type": "code",
   "execution_count": 17,
   "metadata": {},
   "outputs": [
    {
     "data": {
      "text/plain": [
       "rougher.output.recovery                     3119\n",
       "rougher.output.tail_ag                      2737\n",
       "rougher.output.tail_au                      2736\n",
       "rougher.output.tail_sol                     2736\n",
       "rougher.input.floatbank11_xanthate          2257\n",
       "                                            ... \n",
       "primary_cleaner.state.floatbank8_c_level      43\n",
       "primary_cleaner.state.floatbank8_d_level      43\n",
       "primary_cleaner.state.floatbank8_b_level      43\n",
       "primary_cleaner.input.feed_size                0\n",
       "date_time                                      0\n",
       "Length: 87, dtype: int64"
      ]
     },
     "execution_count": 17,
     "metadata": {},
     "output_type": "execute_result"
    }
   ],
   "source": [
    "full_rep.isna().sum().sort_values(ascending=False)"
   ]
  },
  {
   "cell_type": "code",
   "execution_count": 18,
   "metadata": {},
   "outputs": [
    {
     "data": {
      "text/plain": [
       "rougher.output.recovery                          2573\n",
       "rougher.output.tail_ag                           2250\n",
       "rougher.output.tail_au                           2249\n",
       "rougher.output.tail_sol                          2249\n",
       "secondary_cleaner.output.tail_sol                1986\n",
       "                                                 ... \n",
       "rougher.calculation.sulfate_to_au_concentrate      27\n",
       "primary_cleaner.state.floatbank8_d_level           27\n",
       "primary_cleaner.state.floatbank8_b_level           27\n",
       "primary_cleaner.input.feed_size                     0\n",
       "date_time                                           0\n",
       "Length: 87, dtype: int64"
      ]
     },
     "execution_count": 18,
     "metadata": {},
     "output_type": "execute_result"
    }
   ],
   "source": [
    "train_rep.isna().sum().sort_values(ascending=False)"
   ]
  },
  {
   "cell_type": "code",
   "execution_count": 19,
   "metadata": {},
   "outputs": [
    {
     "data": {
      "text/plain": [
       "rougher.input.floatbank11_xanthate            353\n",
       "primary_cleaner.input.sulfate                 302\n",
       "primary_cleaner.input.depressant              284\n",
       "rougher.input.floatbank10_sulfate             257\n",
       "primary_cleaner.input.xanthate                166\n",
       "rougher.input.floatbank10_xanthate            123\n",
       "rougher.input.feed_sol                         67\n",
       "rougher.input.floatbank11_sulfate              55\n",
       "rougher.input.feed_rate                        40\n",
       "secondary_cleaner.state.floatbank3_a_air       34\n",
       "secondary_cleaner.state.floatbank2_b_air       23\n",
       "rougher.input.feed_size                        22\n",
       "secondary_cleaner.state.floatbank2_a_air       20\n",
       "rougher.state.floatbank10_a_air                17\n",
       "rougher.state.floatbank10_b_air                17\n",
       "rougher.state.floatbank10_d_air                17\n",
       "rougher.state.floatbank10_e_air                17\n",
       "rougher.state.floatbank10_f_air                17\n",
       "rougher.state.floatbank10_c_air                17\n",
       "rougher.state.floatbank10_f_level              16\n",
       "secondary_cleaner.state.floatbank2_a_level     16\n",
       "secondary_cleaner.state.floatbank6_a_air       16\n",
       "secondary_cleaner.state.floatbank5_b_level     16\n",
       "primary_cleaner.state.floatbank8_a_air         16\n",
       "primary_cleaner.state.floatbank8_a_level       16\n",
       "primary_cleaner.state.floatbank8_b_air         16\n",
       "primary_cleaner.state.floatbank8_b_level       16\n",
       "primary_cleaner.state.floatbank8_c_air         16\n",
       "primary_cleaner.state.floatbank8_c_level       16\n",
       "primary_cleaner.state.floatbank8_d_air         16\n",
       "primary_cleaner.state.floatbank8_d_level       16\n",
       "rougher.input.feed_ag                          16\n",
       "rougher.input.feed_pb                          16\n",
       "secondary_cleaner.state.floatbank5_b_air       16\n",
       "secondary_cleaner.state.floatbank5_a_level     16\n",
       "secondary_cleaner.state.floatbank5_a_air       16\n",
       "rougher.input.feed_au                          16\n",
       "secondary_cleaner.state.floatbank4_b_level     16\n",
       "rougher.state.floatbank10_e_level              16\n",
       "secondary_cleaner.state.floatbank2_b_level     16\n",
       "rougher.state.floatbank10_d_level              16\n",
       "secondary_cleaner.state.floatbank3_a_level     16\n",
       "rougher.state.floatbank10_c_level              16\n",
       "secondary_cleaner.state.floatbank6_a_level     16\n",
       "rougher.state.floatbank10_b_level              16\n",
       "secondary_cleaner.state.floatbank3_b_air       16\n",
       "rougher.state.floatbank10_a_level              16\n",
       "secondary_cleaner.state.floatbank3_b_level     16\n",
       "secondary_cleaner.state.floatbank4_a_air       16\n",
       "secondary_cleaner.state.floatbank4_a_level     16\n",
       "secondary_cleaner.state.floatbank4_b_air       16\n",
       "primary_cleaner.input.feed_size                 0\n",
       "date_time                                       0\n",
       "dtype: int64"
      ]
     },
     "execution_count": 19,
     "metadata": {},
     "output_type": "execute_result"
    }
   ],
   "source": [
    "test_rep.isna().sum().sort_values(ascending=False)"
   ]
  },
  {
   "cell_type": "markdown",
   "metadata": {},
   "source": [
    "Наибольшее количество пропущенных значений в целевом признаке - 'rougher.output.recovery'"
   ]
  },
  {
   "cell_type": "markdown",
   "metadata": {},
   "source": [
    "Удалим строки с пропусками в целевых признаках."
   ]
  },
  {
   "cell_type": "code",
   "execution_count": 20,
   "metadata": {},
   "outputs": [],
   "source": [
    "full_rep.dropna(subset= ['rougher.output.recovery', 'final.output.recovery'], inplace=True)\n",
    "train_rep.dropna(subset= ['rougher.output.recovery', 'final.output.recovery'], inplace=True)"
   ]
  },
  {
   "cell_type": "markdown",
   "metadata": {},
   "source": [
    "Т.к. согласно условию проекта, соседние по времени параметры часто похожи, пропуски в остальных признаках заполним ближайшими значениями. "
   ]
  },
  {
   "cell_type": "code",
   "execution_count": 21,
   "metadata": {},
   "outputs": [],
   "source": [
    "full_rep = full_rep.fillna(method = 'ffill')\n",
    "train_rep = train_rep.fillna(method = 'ffill')\n",
    "test_rep = test_rep.fillna(method = 'ffill')"
   ]
  },
  {
   "cell_type": "markdown",
   "metadata": {},
   "source": [
    "Проверим остались ли пропуски в данных"
   ]
  },
  {
   "cell_type": "code",
   "execution_count": 22,
   "metadata": {},
   "outputs": [
    {
     "data": {
      "text/plain": [
       "array([0])"
      ]
     },
     "execution_count": 22,
     "metadata": {},
     "output_type": "execute_result"
    }
   ],
   "source": [
    "full_rep.isna().sum().unique()"
   ]
  },
  {
   "cell_type": "code",
   "execution_count": 23,
   "metadata": {},
   "outputs": [
    {
     "data": {
      "text/plain": [
       "array([0])"
      ]
     },
     "execution_count": 23,
     "metadata": {},
     "output_type": "execute_result"
    }
   ],
   "source": [
    "train_rep.isna().sum().unique()"
   ]
  },
  {
   "cell_type": "code",
   "execution_count": 24,
   "metadata": {},
   "outputs": [
    {
     "data": {
      "text/plain": [
       "array([0])"
      ]
     },
     "execution_count": 24,
     "metadata": {},
     "output_type": "execute_result"
    }
   ],
   "source": [
    "\n",
    "test_rep.isna().sum().unique()"
   ]
  },
  {
   "cell_type": "markdown",
   "metadata": {},
   "source": [
    "Подтянем столбцы с целевыми признаками из исходного датасета в тестовый датасет. Соответствие установим на основании индекса."
   ]
  },
  {
   "cell_type": "code",
   "execution_count": 25,
   "metadata": {},
   "outputs": [],
   "source": [
    "test_rep = test_rep.join(full_rep['rougher.output.recovery'])"
   ]
  },
  {
   "cell_type": "code",
   "execution_count": 26,
   "metadata": {},
   "outputs": [],
   "source": [
    "test_rep = test_rep.join(full_rep['final.output.recovery'])"
   ]
  },
  {
   "cell_type": "code",
   "execution_count": 27,
   "metadata": {},
   "outputs": [
    {
     "data": {
      "text/html": [
       "<div>\n",
       "<style scoped>\n",
       "    .dataframe tbody tr th:only-of-type {\n",
       "        vertical-align: middle;\n",
       "    }\n",
       "\n",
       "    .dataframe tbody tr th {\n",
       "        vertical-align: top;\n",
       "    }\n",
       "\n",
       "    .dataframe thead th {\n",
       "        text-align: right;\n",
       "    }\n",
       "</style>\n",
       "<table border=\"1\" class=\"dataframe\">\n",
       "  <thead>\n",
       "    <tr style=\"text-align: right;\">\n",
       "      <th></th>\n",
       "      <th>primary_cleaner.input.sulfate</th>\n",
       "      <th>primary_cleaner.input.depressant</th>\n",
       "      <th>primary_cleaner.input.feed_size</th>\n",
       "      <th>primary_cleaner.input.xanthate</th>\n",
       "      <th>primary_cleaner.state.floatbank8_a_air</th>\n",
       "      <th>primary_cleaner.state.floatbank8_a_level</th>\n",
       "      <th>primary_cleaner.state.floatbank8_b_air</th>\n",
       "      <th>primary_cleaner.state.floatbank8_b_level</th>\n",
       "      <th>primary_cleaner.state.floatbank8_c_air</th>\n",
       "      <th>primary_cleaner.state.floatbank8_c_level</th>\n",
       "      <th>...</th>\n",
       "      <th>secondary_cleaner.state.floatbank4_b_level</th>\n",
       "      <th>secondary_cleaner.state.floatbank5_a_air</th>\n",
       "      <th>secondary_cleaner.state.floatbank5_a_level</th>\n",
       "      <th>secondary_cleaner.state.floatbank5_b_air</th>\n",
       "      <th>secondary_cleaner.state.floatbank5_b_level</th>\n",
       "      <th>secondary_cleaner.state.floatbank6_a_air</th>\n",
       "      <th>secondary_cleaner.state.floatbank6_a_level</th>\n",
       "      <th>date_time</th>\n",
       "      <th>rougher.output.recovery</th>\n",
       "      <th>final.output.recovery</th>\n",
       "    </tr>\n",
       "    <tr>\n",
       "      <th>date</th>\n",
       "      <th></th>\n",
       "      <th></th>\n",
       "      <th></th>\n",
       "      <th></th>\n",
       "      <th></th>\n",
       "      <th></th>\n",
       "      <th></th>\n",
       "      <th></th>\n",
       "      <th></th>\n",
       "      <th></th>\n",
       "      <th></th>\n",
       "      <th></th>\n",
       "      <th></th>\n",
       "      <th></th>\n",
       "      <th></th>\n",
       "      <th></th>\n",
       "      <th></th>\n",
       "      <th></th>\n",
       "      <th></th>\n",
       "      <th></th>\n",
       "      <th></th>\n",
       "    </tr>\n",
       "  </thead>\n",
       "  <tbody>\n",
       "    <tr>\n",
       "      <td>2016-09-01 00:59:59</td>\n",
       "      <td>210.800909</td>\n",
       "      <td>14.993118</td>\n",
       "      <td>8.080000</td>\n",
       "      <td>1.005021</td>\n",
       "      <td>1398.981301</td>\n",
       "      <td>-500.225577</td>\n",
       "      <td>1399.144926</td>\n",
       "      <td>-499.919735</td>\n",
       "      <td>1400.102998</td>\n",
       "      <td>-500.704369</td>\n",
       "      <td>...</td>\n",
       "      <td>-501.289139</td>\n",
       "      <td>7.946562</td>\n",
       "      <td>-432.317850</td>\n",
       "      <td>4.872511</td>\n",
       "      <td>-500.037437</td>\n",
       "      <td>26.705889</td>\n",
       "      <td>-499.709414</td>\n",
       "      <td>2016-09-01 00:59:59</td>\n",
       "      <td>89.993421</td>\n",
       "      <td>70.273583</td>\n",
       "    </tr>\n",
       "    <tr>\n",
       "      <td>2016-09-01 01:59:59</td>\n",
       "      <td>215.392455</td>\n",
       "      <td>14.987471</td>\n",
       "      <td>8.080000</td>\n",
       "      <td>0.990469</td>\n",
       "      <td>1398.777912</td>\n",
       "      <td>-500.057435</td>\n",
       "      <td>1398.055362</td>\n",
       "      <td>-499.778182</td>\n",
       "      <td>1396.151033</td>\n",
       "      <td>-499.240168</td>\n",
       "      <td>...</td>\n",
       "      <td>-499.634209</td>\n",
       "      <td>7.958270</td>\n",
       "      <td>-525.839648</td>\n",
       "      <td>4.878850</td>\n",
       "      <td>-500.162375</td>\n",
       "      <td>25.019940</td>\n",
       "      <td>-499.819438</td>\n",
       "      <td>2016-09-01 01:59:59</td>\n",
       "      <td>88.089657</td>\n",
       "      <td>68.910432</td>\n",
       "    </tr>\n",
       "    <tr>\n",
       "      <td>2016-09-01 02:59:59</td>\n",
       "      <td>215.259946</td>\n",
       "      <td>12.884934</td>\n",
       "      <td>7.786667</td>\n",
       "      <td>0.996043</td>\n",
       "      <td>1398.493666</td>\n",
       "      <td>-500.868360</td>\n",
       "      <td>1398.860436</td>\n",
       "      <td>-499.764529</td>\n",
       "      <td>1398.075709</td>\n",
       "      <td>-502.151509</td>\n",
       "      <td>...</td>\n",
       "      <td>-500.827423</td>\n",
       "      <td>8.071056</td>\n",
       "      <td>-500.801673</td>\n",
       "      <td>4.905125</td>\n",
       "      <td>-499.828510</td>\n",
       "      <td>24.994862</td>\n",
       "      <td>-500.622559</td>\n",
       "      <td>2016-09-01 02:59:59</td>\n",
       "      <td>88.412756</td>\n",
       "      <td>68.143213</td>\n",
       "    </tr>\n",
       "    <tr>\n",
       "      <td>2016-09-01 03:59:59</td>\n",
       "      <td>215.336236</td>\n",
       "      <td>12.006805</td>\n",
       "      <td>7.640000</td>\n",
       "      <td>0.863514</td>\n",
       "      <td>1399.618111</td>\n",
       "      <td>-498.863574</td>\n",
       "      <td>1397.440120</td>\n",
       "      <td>-499.211024</td>\n",
       "      <td>1400.129303</td>\n",
       "      <td>-498.355873</td>\n",
       "      <td>...</td>\n",
       "      <td>-499.474407</td>\n",
       "      <td>7.897085</td>\n",
       "      <td>-500.868509</td>\n",
       "      <td>4.931400</td>\n",
       "      <td>-499.963623</td>\n",
       "      <td>24.948919</td>\n",
       "      <td>-498.709987</td>\n",
       "      <td>2016-09-01 03:59:59</td>\n",
       "      <td>87.360133</td>\n",
       "      <td>67.776393</td>\n",
       "    </tr>\n",
       "    <tr>\n",
       "      <td>2016-09-01 04:59:59</td>\n",
       "      <td>199.099327</td>\n",
       "      <td>10.682530</td>\n",
       "      <td>7.530000</td>\n",
       "      <td>0.805575</td>\n",
       "      <td>1401.268123</td>\n",
       "      <td>-500.808305</td>\n",
       "      <td>1398.128818</td>\n",
       "      <td>-499.504543</td>\n",
       "      <td>1402.172226</td>\n",
       "      <td>-500.810606</td>\n",
       "      <td>...</td>\n",
       "      <td>-500.397500</td>\n",
       "      <td>8.107890</td>\n",
       "      <td>-509.526725</td>\n",
       "      <td>4.957674</td>\n",
       "      <td>-500.360026</td>\n",
       "      <td>25.003331</td>\n",
       "      <td>-500.856333</td>\n",
       "      <td>2016-09-01 04:59:59</td>\n",
       "      <td>83.236367</td>\n",
       "      <td>61.467078</td>\n",
       "    </tr>\n",
       "  </tbody>\n",
       "</table>\n",
       "<p>5 rows × 55 columns</p>\n",
       "</div>"
      ],
      "text/plain": [
       "                     primary_cleaner.input.sulfate  \\\n",
       "date                                                 \n",
       "2016-09-01 00:59:59                     210.800909   \n",
       "2016-09-01 01:59:59                     215.392455   \n",
       "2016-09-01 02:59:59                     215.259946   \n",
       "2016-09-01 03:59:59                     215.336236   \n",
       "2016-09-01 04:59:59                     199.099327   \n",
       "\n",
       "                     primary_cleaner.input.depressant  \\\n",
       "date                                                    \n",
       "2016-09-01 00:59:59                         14.993118   \n",
       "2016-09-01 01:59:59                         14.987471   \n",
       "2016-09-01 02:59:59                         12.884934   \n",
       "2016-09-01 03:59:59                         12.006805   \n",
       "2016-09-01 04:59:59                         10.682530   \n",
       "\n",
       "                     primary_cleaner.input.feed_size  \\\n",
       "date                                                   \n",
       "2016-09-01 00:59:59                         8.080000   \n",
       "2016-09-01 01:59:59                         8.080000   \n",
       "2016-09-01 02:59:59                         7.786667   \n",
       "2016-09-01 03:59:59                         7.640000   \n",
       "2016-09-01 04:59:59                         7.530000   \n",
       "\n",
       "                     primary_cleaner.input.xanthate  \\\n",
       "date                                                  \n",
       "2016-09-01 00:59:59                        1.005021   \n",
       "2016-09-01 01:59:59                        0.990469   \n",
       "2016-09-01 02:59:59                        0.996043   \n",
       "2016-09-01 03:59:59                        0.863514   \n",
       "2016-09-01 04:59:59                        0.805575   \n",
       "\n",
       "                     primary_cleaner.state.floatbank8_a_air  \\\n",
       "date                                                          \n",
       "2016-09-01 00:59:59                             1398.981301   \n",
       "2016-09-01 01:59:59                             1398.777912   \n",
       "2016-09-01 02:59:59                             1398.493666   \n",
       "2016-09-01 03:59:59                             1399.618111   \n",
       "2016-09-01 04:59:59                             1401.268123   \n",
       "\n",
       "                     primary_cleaner.state.floatbank8_a_level  \\\n",
       "date                                                            \n",
       "2016-09-01 00:59:59                               -500.225577   \n",
       "2016-09-01 01:59:59                               -500.057435   \n",
       "2016-09-01 02:59:59                               -500.868360   \n",
       "2016-09-01 03:59:59                               -498.863574   \n",
       "2016-09-01 04:59:59                               -500.808305   \n",
       "\n",
       "                     primary_cleaner.state.floatbank8_b_air  \\\n",
       "date                                                          \n",
       "2016-09-01 00:59:59                             1399.144926   \n",
       "2016-09-01 01:59:59                             1398.055362   \n",
       "2016-09-01 02:59:59                             1398.860436   \n",
       "2016-09-01 03:59:59                             1397.440120   \n",
       "2016-09-01 04:59:59                             1398.128818   \n",
       "\n",
       "                     primary_cleaner.state.floatbank8_b_level  \\\n",
       "date                                                            \n",
       "2016-09-01 00:59:59                               -499.919735   \n",
       "2016-09-01 01:59:59                               -499.778182   \n",
       "2016-09-01 02:59:59                               -499.764529   \n",
       "2016-09-01 03:59:59                               -499.211024   \n",
       "2016-09-01 04:59:59                               -499.504543   \n",
       "\n",
       "                     primary_cleaner.state.floatbank8_c_air  \\\n",
       "date                                                          \n",
       "2016-09-01 00:59:59                             1400.102998   \n",
       "2016-09-01 01:59:59                             1396.151033   \n",
       "2016-09-01 02:59:59                             1398.075709   \n",
       "2016-09-01 03:59:59                             1400.129303   \n",
       "2016-09-01 04:59:59                             1402.172226   \n",
       "\n",
       "                     primary_cleaner.state.floatbank8_c_level  ...  \\\n",
       "date                                                           ...   \n",
       "2016-09-01 00:59:59                               -500.704369  ...   \n",
       "2016-09-01 01:59:59                               -499.240168  ...   \n",
       "2016-09-01 02:59:59                               -502.151509  ...   \n",
       "2016-09-01 03:59:59                               -498.355873  ...   \n",
       "2016-09-01 04:59:59                               -500.810606  ...   \n",
       "\n",
       "                     secondary_cleaner.state.floatbank4_b_level  \\\n",
       "date                                                              \n",
       "2016-09-01 00:59:59                                 -501.289139   \n",
       "2016-09-01 01:59:59                                 -499.634209   \n",
       "2016-09-01 02:59:59                                 -500.827423   \n",
       "2016-09-01 03:59:59                                 -499.474407   \n",
       "2016-09-01 04:59:59                                 -500.397500   \n",
       "\n",
       "                     secondary_cleaner.state.floatbank5_a_air  \\\n",
       "date                                                            \n",
       "2016-09-01 00:59:59                                  7.946562   \n",
       "2016-09-01 01:59:59                                  7.958270   \n",
       "2016-09-01 02:59:59                                  8.071056   \n",
       "2016-09-01 03:59:59                                  7.897085   \n",
       "2016-09-01 04:59:59                                  8.107890   \n",
       "\n",
       "                     secondary_cleaner.state.floatbank5_a_level  \\\n",
       "date                                                              \n",
       "2016-09-01 00:59:59                                 -432.317850   \n",
       "2016-09-01 01:59:59                                 -525.839648   \n",
       "2016-09-01 02:59:59                                 -500.801673   \n",
       "2016-09-01 03:59:59                                 -500.868509   \n",
       "2016-09-01 04:59:59                                 -509.526725   \n",
       "\n",
       "                     secondary_cleaner.state.floatbank5_b_air  \\\n",
       "date                                                            \n",
       "2016-09-01 00:59:59                                  4.872511   \n",
       "2016-09-01 01:59:59                                  4.878850   \n",
       "2016-09-01 02:59:59                                  4.905125   \n",
       "2016-09-01 03:59:59                                  4.931400   \n",
       "2016-09-01 04:59:59                                  4.957674   \n",
       "\n",
       "                     secondary_cleaner.state.floatbank5_b_level  \\\n",
       "date                                                              \n",
       "2016-09-01 00:59:59                                 -500.037437   \n",
       "2016-09-01 01:59:59                                 -500.162375   \n",
       "2016-09-01 02:59:59                                 -499.828510   \n",
       "2016-09-01 03:59:59                                 -499.963623   \n",
       "2016-09-01 04:59:59                                 -500.360026   \n",
       "\n",
       "                     secondary_cleaner.state.floatbank6_a_air  \\\n",
       "date                                                            \n",
       "2016-09-01 00:59:59                                 26.705889   \n",
       "2016-09-01 01:59:59                                 25.019940   \n",
       "2016-09-01 02:59:59                                 24.994862   \n",
       "2016-09-01 03:59:59                                 24.948919   \n",
       "2016-09-01 04:59:59                                 25.003331   \n",
       "\n",
       "                     secondary_cleaner.state.floatbank6_a_level  \\\n",
       "date                                                              \n",
       "2016-09-01 00:59:59                                 -499.709414   \n",
       "2016-09-01 01:59:59                                 -499.819438   \n",
       "2016-09-01 02:59:59                                 -500.622559   \n",
       "2016-09-01 03:59:59                                 -498.709987   \n",
       "2016-09-01 04:59:59                                 -500.856333   \n",
       "\n",
       "                              date_time  rougher.output.recovery  \\\n",
       "date                                                               \n",
       "2016-09-01 00:59:59 2016-09-01 00:59:59                89.993421   \n",
       "2016-09-01 01:59:59 2016-09-01 01:59:59                88.089657   \n",
       "2016-09-01 02:59:59 2016-09-01 02:59:59                88.412756   \n",
       "2016-09-01 03:59:59 2016-09-01 03:59:59                87.360133   \n",
       "2016-09-01 04:59:59 2016-09-01 04:59:59                83.236367   \n",
       "\n",
       "                     final.output.recovery  \n",
       "date                                        \n",
       "2016-09-01 00:59:59              70.273583  \n",
       "2016-09-01 01:59:59              68.910432  \n",
       "2016-09-01 02:59:59              68.143213  \n",
       "2016-09-01 03:59:59              67.776393  \n",
       "2016-09-01 04:59:59              61.467078  \n",
       "\n",
       "[5 rows x 55 columns]"
      ]
     },
     "execution_count": 27,
     "metadata": {},
     "output_type": "execute_result"
    }
   ],
   "source": [
    "test_rep.head(5)"
   ]
  },
  {
   "cell_type": "markdown",
   "metadata": {},
   "source": [
    "Проверим, образовались ли пропуски в целевых переменных при их присоединении в тестовую выборку"
   ]
  },
  {
   "cell_type": "code",
   "execution_count": 28,
   "metadata": {},
   "outputs": [
    {
     "data": {
      "text/plain": [
       "final.output.recovery                         566\n",
       "rougher.output.recovery                       566\n",
       "primary_cleaner.input.depressant                0\n",
       "primary_cleaner.input.feed_size                 0\n",
       "rougher.state.floatbank10_b_level               0\n",
       "rougher.state.floatbank10_b_air                 0\n",
       "rougher.state.floatbank10_a_level               0\n",
       "rougher.state.floatbank10_a_air                 0\n",
       "rougher.input.floatbank11_xanthate              0\n",
       "rougher.input.floatbank11_sulfate               0\n",
       "rougher.input.floatbank10_xanthate              0\n",
       "rougher.input.floatbank10_sulfate               0\n",
       "rougher.input.feed_au                           0\n",
       "rougher.input.feed_sol                          0\n",
       "rougher.input.feed_size                         0\n",
       "rougher.input.feed_rate                         0\n",
       "rougher.state.floatbank10_c_air                 0\n",
       "rougher.input.feed_ag                           0\n",
       "primary_cleaner.state.floatbank8_d_level        0\n",
       "primary_cleaner.state.floatbank8_d_air          0\n",
       "primary_cleaner.state.floatbank8_c_level        0\n",
       "primary_cleaner.state.floatbank8_c_air          0\n",
       "primary_cleaner.state.floatbank8_b_level        0\n",
       "primary_cleaner.state.floatbank8_b_air          0\n",
       "primary_cleaner.state.floatbank8_a_level        0\n",
       "primary_cleaner.state.floatbank8_a_air          0\n",
       "primary_cleaner.input.xanthate                  0\n",
       "rougher.input.feed_pb                           0\n",
       "rougher.state.floatbank10_c_level               0\n",
       "rougher.state.floatbank10_d_air                 0\n",
       "rougher.state.floatbank10_d_level               0\n",
       "date_time                                       0\n",
       "secondary_cleaner.state.floatbank6_a_level      0\n",
       "secondary_cleaner.state.floatbank6_a_air        0\n",
       "secondary_cleaner.state.floatbank5_b_level      0\n",
       "secondary_cleaner.state.floatbank5_b_air        0\n",
       "secondary_cleaner.state.floatbank5_a_level      0\n",
       "secondary_cleaner.state.floatbank5_a_air        0\n",
       "secondary_cleaner.state.floatbank4_b_level      0\n",
       "secondary_cleaner.state.floatbank4_b_air        0\n",
       "secondary_cleaner.state.floatbank4_a_level      0\n",
       "secondary_cleaner.state.floatbank4_a_air        0\n",
       "secondary_cleaner.state.floatbank3_b_level      0\n",
       "secondary_cleaner.state.floatbank3_b_air        0\n",
       "secondary_cleaner.state.floatbank3_a_level      0\n",
       "secondary_cleaner.state.floatbank3_a_air        0\n",
       "secondary_cleaner.state.floatbank2_b_level      0\n",
       "secondary_cleaner.state.floatbank2_b_air        0\n",
       "secondary_cleaner.state.floatbank2_a_level      0\n",
       "secondary_cleaner.state.floatbank2_a_air        0\n",
       "rougher.state.floatbank10_f_level               0\n",
       "rougher.state.floatbank10_f_air                 0\n",
       "rougher.state.floatbank10_e_level               0\n",
       "rougher.state.floatbank10_e_air                 0\n",
       "primary_cleaner.input.sulfate                   0\n",
       "dtype: int64"
      ]
     },
     "execution_count": 28,
     "metadata": {},
     "output_type": "execute_result"
    }
   ],
   "source": [
    "test_rep.isna().sum().sort_values(ascending = False)"
   ]
  },
  {
   "cell_type": "markdown",
   "metadata": {},
   "source": [
    "Удалим обнаруженные пропуски в целевых переменных"
   ]
  },
  {
   "cell_type": "code",
   "execution_count": 29,
   "metadata": {},
   "outputs": [],
   "source": [
    "test_rep.dropna(subset= ['rougher.output.recovery', 'final.output.recovery'], inplace=True)"
   ]
  },
  {
   "cell_type": "markdown",
   "metadata": {},
   "source": [
    "Посмотрим на размерность обучающей и тестовой выборки"
   ]
  },
  {
   "cell_type": "code",
   "execution_count": 30,
   "metadata": {},
   "outputs": [
    {
     "data": {
      "text/plain": [
       "(14149, 87)"
      ]
     },
     "execution_count": 30,
     "metadata": {},
     "output_type": "execute_result"
    }
   ],
   "source": [
    "train_rep.shape"
   ]
  },
  {
   "cell_type": "code",
   "execution_count": 31,
   "metadata": {},
   "outputs": [
    {
     "data": {
      "text/plain": [
       "(5290, 55)"
      ]
     },
     "execution_count": 31,
     "metadata": {},
     "output_type": "execute_result"
    }
   ],
   "source": [
    "test_rep.shape"
   ]
  },
  {
   "cell_type": "markdown",
   "metadata": {},
   "source": [
    "Как ранее было обнаружено, с учетом добавления целевых признаков, в тестовой выборке на 32 признака меньше, чем в обучающей выборке. \n",
    "\n",
    "Для соответствия количества признаков при обучении моделей оставим в обучающей выборке только те признаки, которые присутствуют в тестовой выборке. Как ранее отмечалось, в тестовой выборке, кроме целевых признаков, отсутствуют признаки, которые рассчитываются уже после измерения целевых признаков - следовательно, не имеет смысла на них обучать модель, т.е. их также следует исключить из обучающей выборки."
   ]
  },
  {
   "cell_type": "code",
   "execution_count": 32,
   "metadata": {},
   "outputs": [],
   "source": [
    "test_columns = list(test_rep.columns)\n",
    "train_rep = train_rep[test_columns]"
   ]
  },
  {
   "cell_type": "markdown",
   "metadata": {},
   "source": [
    "Вновь проверим размерность тестовой и обучающей выборок."
   ]
  },
  {
   "cell_type": "code",
   "execution_count": 33,
   "metadata": {},
   "outputs": [
    {
     "data": {
      "text/plain": [
       "(14149, 55)"
      ]
     },
     "execution_count": 33,
     "metadata": {},
     "output_type": "execute_result"
    }
   ],
   "source": [
    "train_rep.shape"
   ]
  },
  {
   "cell_type": "code",
   "execution_count": 34,
   "metadata": {},
   "outputs": [
    {
     "data": {
      "text/plain": [
       "(5290, 55)"
      ]
     },
     "execution_count": 34,
     "metadata": {},
     "output_type": "execute_result"
    }
   ],
   "source": [
    "test_rep.shape"
   ]
  },
  {
   "cell_type": "markdown",
   "metadata": {},
   "source": [
    "Произведем финальную проверку на соответствие перечня признаков в обучающей и тестовой выборках. "
   ]
  },
  {
   "cell_type": "code",
   "execution_count": 35,
   "metadata": {},
   "outputs": [
    {
     "data": {
      "text/plain": [
       "[]"
      ]
     },
     "execution_count": 35,
     "metadata": {},
     "output_type": "execute_result"
    }
   ],
   "source": [
    "list(set(train_rep.columns.tolist()) - set(test_rep.columns.tolist()))"
   ]
  },
  {
   "cell_type": "code",
   "execution_count": 36,
   "metadata": {},
   "outputs": [
    {
     "data": {
      "text/plain": [
       "[]"
      ]
     },
     "execution_count": 36,
     "metadata": {},
     "output_type": "execute_result"
    }
   ],
   "source": [
    "list(set(test_rep.columns.tolist()) - set(train_rep.columns.tolist()))"
   ]
  },
  {
   "cell_type": "markdown",
   "metadata": {},
   "source": [
    "Предобработка данных завершена."
   ]
  },
  {
   "cell_type": "markdown",
   "metadata": {},
   "source": [
    "Результаты предобработки данных: <br>\n",
    "1. Данные об эффективности обогащения, сохраненные в переменной 'rougher.output.recovery' в обучающей выборке, рассчитаны верно, поскольку при ее сравнении с коэффициентом обогащения, рассчитанным на основании данных, метрика средней абсолютной ошибки демонстрирует низкое значение. <br>\n",
    "2. Пропуски в целевых переменных во всех датасетах была удалены, в остальных признаках - заполнены соседними значениями с помощью функции ffill. <br>\n",
    "3. В тестовую выборку были добавлены отсутствующие целевые признаки из исходной выборки с соответствующим индексом. <br>\n",
    "3. В обучающей выборке были оставлены только те признаки, которые присутствуют в тестовой выборке. В результате в тестовой выборке было удалено 32 признака. Таким образом, датасет с тестовой и обучающей выборками готовы для построения моделей.   <br> \n"
   ]
  },
  {
   "cell_type": "markdown",
   "metadata": {},
   "source": [
    "## 2. Анализ данных\n",
    "<a name=\"paragraph2\"></a>"
   ]
  },
  {
   "cell_type": "markdown",
   "metadata": {},
   "source": [
    "### 2.1 Изменение концентрации металлов (Au, Ag, Pb) на различных этапах очистки\n",
    "<a name=\"subparagraph7\"></a>"
   ]
  },
  {
   "cell_type": "markdown",
   "metadata": {},
   "source": [
    "Анализ данных будет производиться на исходном датасете. Необходимо посмотреть на изменение концентрации металлов на следующих этапах обработки руды: <br>\n",
    "- сырье до обработки <br>\n",
    "- сырье после флотации <br>\n",
    "- сырье после первого этапа очистки <br>\n",
    "- сырье после второго этапа очистки <br>"
   ]
  },
  {
   "cell_type": "markdown",
   "metadata": {},
   "source": [
    "Выведем список колонок, содержащих в названии 'concentrate' и 'rougher.input.feed_'"
   ]
  },
  {
   "cell_type": "code",
   "execution_count": 37,
   "metadata": {},
   "outputs": [],
   "source": [
    "all_full = full_rep.columns.tolist()\n",
    "conc = [col for col in all_full if 'concentrate' in col]\n",
    "feed  = [col for col in all_full if 'rougher.input.feed' in col]\n",
    "conc_feed = conc + feed\n",
    "final_col = [col for col in conc_feed if 'au' in col or 'ag' in col or 'pb' in col]"
   ]
  },
  {
   "cell_type": "markdown",
   "metadata": {},
   "source": [
    "Вывели все необходимые признаки за исключением отношения сульфата к золоту - удалим его из перечня признаков"
   ]
  },
  {
   "cell_type": "code",
   "execution_count": 38,
   "metadata": {},
   "outputs": [],
   "source": [
    "final_col.remove('rougher.calculation.sulfate_to_au_concentrate')"
   ]
  },
  {
   "cell_type": "markdown",
   "metadata": {},
   "source": [
    "Расположим перечень признаков в обратном порядке в соответствии с этапами обработки."
   ]
  },
  {
   "cell_type": "code",
   "execution_count": 39,
   "metadata": {},
   "outputs": [
    {
     "data": {
      "text/plain": [
       "['rougher.input.feed_au',\n",
       " 'rougher.input.feed_pb',\n",
       " 'rougher.input.feed_ag',\n",
       " 'rougher.output.concentrate_au',\n",
       " 'rougher.output.concentrate_pb',\n",
       " 'rougher.output.concentrate_ag',\n",
       " 'primary_cleaner.output.concentrate_au',\n",
       " 'primary_cleaner.output.concentrate_pb',\n",
       " 'primary_cleaner.output.concentrate_ag',\n",
       " 'final.output.concentrate_au',\n",
       " 'final.output.concentrate_pb',\n",
       " 'final.output.concentrate_ag']"
      ]
     },
     "execution_count": 39,
     "metadata": {},
     "output_type": "execute_result"
    }
   ],
   "source": [
    "final_col.reverse()\n",
    "final_col"
   ]
  },
  {
   "cell_type": "markdown",
   "metadata": {},
   "source": [
    "Создадим датафреймы для каждого метала, включающие в себя все этапы обработки."
   ]
  },
  {
   "cell_type": "code",
   "execution_count": 40,
   "metadata": {},
   "outputs": [],
   "source": [
    "ag_columns = [col for col in final_col if 'ag' in col]\n",
    "au_columns = [col for col in final_col if 'au' in col]\n",
    "pb_columns = [col for col in final_col if 'pb' in col]"
   ]
  },
  {
   "cell_type": "code",
   "execution_count": 41,
   "metadata": {},
   "outputs": [],
   "source": [
    "ag = full_rep[ag_columns]\n",
    "au = full_rep[au_columns]\n",
    "pb = full_rep[pb_columns]"
   ]
  },
  {
   "cell_type": "code",
   "execution_count": 42,
   "metadata": {},
   "outputs": [],
   "source": [
    "def concentration_stages(metal, name):\n",
    "    \n",
    "    sns.set(style ='whitegrid')\n",
    "    \n",
    "    fig, ax = plt.subplots(4,1, sharex=True, sharey=True, figsize=(14,9))\n",
    "    columns = metal.columns\n",
    "    colors = ['blue', 'yellow', 'red', 'green']\n",
    "    \n",
    "    for i in range(len(columns)):\n",
    "        \n",
    "        sns.distplot(a=metal.iloc[:,i], ax=ax[i], color=colors[i], kde=True)\n",
    "        ax[i].set_xlabel(columns[i])\n",
    "        ax[i].set_ylabel('')\n",
    "        \n",
    "    fig.suptitle('Распределение концентрации {} на различных этапах технологического процесса'.format(name), size=16, y=(0.94))\n",
    "    fig.show()"
   ]
  },
  {
   "cell_type": "markdown",
   "metadata": {},
   "source": [
    "Посмотрим на концентрацию серебра на каждом этапе технологического процесса"
   ]
  },
  {
   "cell_type": "code",
   "execution_count": 43,
   "metadata": {},
   "outputs": [
    {
     "data": {
      "image/png": "[encoded data removed]",
      "text/plain": [
       "<Figure size 1008x648 with 4 Axes>"
      ]
     },
     "metadata": {},
     "output_type": "display_data"
    }
   ],
   "source": [
    "concentration_stages(ag, 'серебра')"
   ]
  },
  {
   "cell_type": "markdown",
   "metadata": {},
   "source": [
    "Посмотрим на концентрацию золота на каждом этапе технологического процесса"
   ]
  },
  {
   "cell_type": "code",
   "execution_count": 44,
   "metadata": {},
   "outputs": [
    {
     "data": {
      "image/png": "[encoded data removed]",
      "text/plain": [
       "<Figure size 1008x648 with 4 Axes>"
      ]
     },
     "metadata": {},
     "output_type": "display_data"
    }
   ],
   "source": [
    "concentration_stages(au, 'золота')"
   ]
  },
  {
   "cell_type": "code",
   "execution_count": 45,
   "metadata": {},
   "outputs": [
    {
     "data": {
      "image/png": "[encoded data removed]",
      "text/plain": [
       "<Figure size 1008x648 with 4 Axes>"
      ]
     },
     "metadata": {},
     "output_type": "display_data"
    }
   ],
   "source": [
    "#посмотрим на концентрацию свинца на каждом этапе технологического процесса\n",
    "concentration_stages(pb, 'свинца')"
   ]
  },
  {
   "cell_type": "markdown",
   "metadata": {},
   "source": [
    "**Выводы** <br>\n",
    "    \n",
    "Коцентрация в зависимости от вида металла меняется на каждом этапе технологического процесса. <br>\n",
    "\n",
    "1) Концентрация серебра (Ag): <br>\n",
    "- снижается с каждым последующим этапом очистки; <br>\n",
    "- достигает максимального значения на втором этапе; <br>\n",
    "    \n",
    "2) Концентрация золота (Au): <br>\n",
    "- увеличивается с каждым последующим этапом технологического процесса; <br>\n",
    "- достигает максимального значения на последнем этапе; <br>\n",
    "    \n",
    "3) Концентрация свинца (Pb): <br>\n",
    "- в течение первых трех этапов увеличивается; <br>\n",
    "- на последней стадии снижается разброс значений концентрации. <br>\n",
    "\n",
    "Распределение концентрации всех видов металлов характеризуется толстыми хвостами, что указывает на наличие выбросов. \n",
    "</div>"
   ]
  },
  {
   "cell_type": "markdown",
   "metadata": {},
   "source": [
    "### 2.2 Сравнение распределения размеров гранул сырья на обучающей и тестовой выборках\n",
    "<a name=\"subparagraph8\"></a>"
   ]
  },
  {
   "cell_type": "markdown",
   "metadata": {},
   "source": [
    "Для сравнения распределения размеров гранул сырья на обучающей и тестовой выборках посмотрим на признаки, в названии которых присутствует параметр 'feed_size'.\n"
   ]
  },
  {
   "cell_type": "code",
   "execution_count": 46,
   "metadata": {},
   "outputs": [
    {
     "data": {
      "text/plain": [
       "['primary_cleaner.input.feed_size', 'rougher.input.feed_size']"
      ]
     },
     "execution_count": 46,
     "metadata": {},
     "output_type": "execute_result"
    }
   ],
   "source": [
    "train_rep_cols = train_rep.columns.tolist()\n",
    "feed_size = [col for col in train_rep_cols if 'feed_size' in col]\n",
    "feed_size"
   ]
  },
  {
   "cell_type": "markdown",
   "metadata": {},
   "source": [
    "Мы можем наблюдать размеры сырья перед этапом использования флотационной установки и перед первичной очисткой сырья."
   ]
  },
  {
   "cell_type": "code",
   "execution_count": 47,
   "metadata": {},
   "outputs": [],
   "source": [
    "feed_size_train = train_rep[feed_size]\n",
    "feed_size_test = test_rep[feed_size]"
   ]
  },
  {
   "cell_type": "markdown",
   "metadata": {},
   "source": [
    "Посмотрим на распределение размера гранул сырья перед попаданием во флотационную установку."
   ]
  },
  {
   "cell_type": "code",
   "execution_count": 48,
   "metadata": {},
   "outputs": [
    {
     "data": {
      "image/png": "[encoded data removed]",
      "text/plain": [
       "<Figure size 720x576 with 2 Axes>"
      ]
     },
     "metadata": {},
     "output_type": "display_data"
    }
   ],
   "source": [
    "fig, ax = plt.subplots(1,2, sharey=True, figsize=(10,8))\n",
    "sns.boxplot(y='rougher.input.feed_size', linewidth=3, data=feed_size_train, ax=ax[0])\n",
    "ax[0].set_xlabel('train')\n",
    "ax[0].set_ylabel('')\n",
    "sns.boxplot(y='rougher.input.feed_size', linewidth=3, data=feed_size_test, ax=ax[1])\n",
    "ax[1].set_xlabel('test')\n",
    "ax[1].set_ylabel('')\n",
    "plt.suptitle('Распределение размеров гранул перед этапом флотации', y=0.95);"
   ]
  },
  {
   "cell_type": "markdown",
   "metadata": {},
   "source": [
    "Наблюдаем значительное количество выбросов. Удалим выбросы для более четкого отображения диаграмм размаха. "
   ]
  },
  {
   "cell_type": "code",
   "execution_count": 49,
   "metadata": {},
   "outputs": [
    {
     "data": {
      "image/png": "[encoded data removed]",
      "text/plain": [
       "<Figure size 720x576 with 2 Axes>"
      ]
     },
     "metadata": {},
     "output_type": "display_data"
    }
   ],
   "source": [
    "fig, ax = plt.subplots(1,2, sharey=True, figsize=(10,8))\n",
    "sns.boxplot(y='rougher.input.feed_size', linewidth=3, data=feed_size_train, ax=ax[0], showfliers=False)\n",
    "ax[0].set_xlabel('train')\n",
    "ax[0].set_ylabel('')\n",
    "sns.boxplot(y='rougher.input.feed_size', linewidth=3, data=feed_size_test, ax=ax[1], showfliers=False)\n",
    "ax[1].set_xlabel('test')\n",
    "ax[1].set_ylabel('')\n",
    "plt.suptitle('Распределение размеров гранул перед этапом флотации', y=0.95);"
   ]
  },
  {
   "cell_type": "markdown",
   "metadata": {},
   "source": [
    "Средние значения на тренировочной и тестовой выборках находятся между первым и третим квартилями, что указывает на приблизительно равное распределение гранул на тестовой и обучающей выборках. "
   ]
  },
  {
   "cell_type": "markdown",
   "metadata": {},
   "source": [
    "Посмотрим на распределение размера гранул сырья перед первым этапом очистки сырья. "
   ]
  },
  {
   "cell_type": "code",
   "execution_count": 50,
   "metadata": {},
   "outputs": [
    {
     "data": {
      "image/png": "[encoded data removed]",
      "text/plain": [
       "<Figure size 720x576 with 2 Axes>"
      ]
     },
     "metadata": {},
     "output_type": "display_data"
    }
   ],
   "source": [
    "fig, ax = plt.subplots(1,2, sharey=True, figsize=(10,8))\n",
    "sns.boxplot(y='primary_cleaner.input.feed_size', linewidth=3, data=feed_size_train, ax=ax[0], showfliers=False)\n",
    "ax[0].set_xlabel('train')\n",
    "ax[0].set_ylabel('')\n",
    "sns.boxplot(y='primary_cleaner.input.feed_size', linewidth=3, data=feed_size_test, ax=ax[1], showfliers=False)\n",
    "ax[1].set_xlabel('test')\n",
    "ax[1].set_ylabel('')\n",
    "plt.suptitle('Распределение размеров гранул перед первой очисткой', y=0.95);"
   ]
  },
  {
   "cell_type": "markdown",
   "metadata": {},
   "source": [
    "Диаграммы размаха указывают на то, что размеры гранул сырья на тестовой и обучающей выборках имеют близкое друг к другу распределение. "
   ]
  },
  {
   "cell_type": "markdown",
   "metadata": {},
   "source": [
    "**Выводы** <br>\n",
    "    \n",
    "В данном блоке в результате визуализации распределения размеров гранул сырья на тестовой и обучающей выборках было выявлено сходство распределений для двух датасетов как на этапе перед флотацией, так и перед первой очисткой. "
   ]
  },
  {
   "cell_type": "markdown",
   "metadata": {},
   "source": [
    "### 2.3 Исследование суммарной концентрации веществ на разных стадиях\n",
    "\n",
    "**Проанализируем суммарную концентрацию всех веществ в сырье, в черновом и финальном концентратах. Заметили аномальные значения в суммарном распределении или нет? Если они есть, стоит ли их удалять из обеих выборок? Опишите выводы и удалите аномалии.**\n",
    "<a name=\"subparagraph9\"></a>"
   ]
  },
  {
   "cell_type": "markdown",
   "metadata": {},
   "source": [
    "Выведем на экран признаки, характеризующие концентрацию веществ на каждом этапе технологического процесса"
   ]
  },
  {
   "cell_type": "code",
   "execution_count": 51,
   "metadata": {},
   "outputs": [
    {
     "data": {
      "text/plain": [
       "['rougher.input.feed_au',\n",
       " 'rougher.input.feed_pb',\n",
       " 'rougher.input.feed_ag',\n",
       " 'rougher.output.concentrate_au',\n",
       " 'rougher.output.concentrate_pb',\n",
       " 'rougher.output.concentrate_ag',\n",
       " 'primary_cleaner.output.concentrate_au',\n",
       " 'primary_cleaner.output.concentrate_pb',\n",
       " 'primary_cleaner.output.concentrate_ag',\n",
       " 'final.output.concentrate_au',\n",
       " 'final.output.concentrate_pb',\n",
       " 'final.output.concentrate_ag']"
      ]
     },
     "execution_count": 51,
     "metadata": {},
     "output_type": "execute_result"
    }
   ],
   "source": [
    "final_col"
   ]
  },
  {
   "cell_type": "markdown",
   "metadata": {},
   "source": [
    "Создадим в исходном датасете столбцы, характеризующие суммарную концентрацию веществ (Au, Ag, Pb) на каждом этапе технологического процесса. "
   ]
  },
  {
   "cell_type": "code",
   "execution_count": 52,
   "metadata": {},
   "outputs": [],
   "source": [
    "full_rep['rougher_input'] = full_rep[['rougher.input.feed_au', 'rougher.input.feed_ag', 'rougher.input.feed_pb']].sum(axis=1)\n",
    "full_rep['rougher_output'] = full_rep[['rougher.output.concentrate_au', 'rougher.output.concentrate_ag', 'rougher.output.concentrate_pb']].sum(axis=1)\n",
    "full_rep['primary_cleaner'] = full_rep[['primary_cleaner.output.concentrate_au', 'primary_cleaner.output.concentrate_ag', 'primary_cleaner.output.concentrate_pb']].sum(axis=1)\n",
    "full_rep['final'] = full_rep[['final.output.concentrate_au','final.output.concentrate_ag', 'final.output.concentrate_pb']].sum(axis=1)"
   ]
  },
  {
   "cell_type": "code",
   "execution_count": 53,
   "metadata": {},
   "outputs": [
    {
     "data": {
      "text/html": [
       "<div>\n",
       "<style scoped>\n",
       "    .dataframe tbody tr th:only-of-type {\n",
       "        vertical-align: middle;\n",
       "    }\n",
       "\n",
       "    .dataframe tbody tr th {\n",
       "        vertical-align: top;\n",
       "    }\n",
       "\n",
       "    .dataframe thead th {\n",
       "        text-align: right;\n",
       "    }\n",
       "</style>\n",
       "<table border=\"1\" class=\"dataframe\">\n",
       "  <thead>\n",
       "    <tr style=\"text-align: right;\">\n",
       "      <th></th>\n",
       "      <th>final.output.concentrate_ag</th>\n",
       "      <th>final.output.concentrate_pb</th>\n",
       "      <th>final.output.concentrate_sol</th>\n",
       "      <th>final.output.concentrate_au</th>\n",
       "      <th>final.output.recovery</th>\n",
       "      <th>final.output.tail_ag</th>\n",
       "      <th>final.output.tail_pb</th>\n",
       "      <th>final.output.tail_sol</th>\n",
       "      <th>final.output.tail_au</th>\n",
       "      <th>primary_cleaner.input.sulfate</th>\n",
       "      <th>...</th>\n",
       "      <th>secondary_cleaner.state.floatbank5_a_level</th>\n",
       "      <th>secondary_cleaner.state.floatbank5_b_air</th>\n",
       "      <th>secondary_cleaner.state.floatbank5_b_level</th>\n",
       "      <th>secondary_cleaner.state.floatbank6_a_air</th>\n",
       "      <th>secondary_cleaner.state.floatbank6_a_level</th>\n",
       "      <th>date_time</th>\n",
       "      <th>rougher_input</th>\n",
       "      <th>rougher_output</th>\n",
       "      <th>primary_cleaner</th>\n",
       "      <th>final</th>\n",
       "    </tr>\n",
       "    <tr>\n",
       "      <th>date</th>\n",
       "      <th></th>\n",
       "      <th></th>\n",
       "      <th></th>\n",
       "      <th></th>\n",
       "      <th></th>\n",
       "      <th></th>\n",
       "      <th></th>\n",
       "      <th></th>\n",
       "      <th></th>\n",
       "      <th></th>\n",
       "      <th></th>\n",
       "      <th></th>\n",
       "      <th></th>\n",
       "      <th></th>\n",
       "      <th></th>\n",
       "      <th></th>\n",
       "      <th></th>\n",
       "      <th></th>\n",
       "      <th></th>\n",
       "      <th></th>\n",
       "      <th></th>\n",
       "    </tr>\n",
       "  </thead>\n",
       "  <tbody>\n",
       "    <tr>\n",
       "      <td>2016-01-15 00:00:00</td>\n",
       "      <td>6.055403</td>\n",
       "      <td>9.889648</td>\n",
       "      <td>5.507324</td>\n",
       "      <td>42.192020</td>\n",
       "      <td>70.541216</td>\n",
       "      <td>10.411962</td>\n",
       "      <td>0.895447</td>\n",
       "      <td>16.904297</td>\n",
       "      <td>2.143149</td>\n",
       "      <td>127.092003</td>\n",
       "      <td>...</td>\n",
       "      <td>-498.310211</td>\n",
       "      <td>8.079666</td>\n",
       "      <td>-500.470978</td>\n",
       "      <td>14.151341</td>\n",
       "      <td>-605.841980</td>\n",
       "      <td>2016-01-15 00:00:00</td>\n",
       "      <td>14.871440</td>\n",
       "      <td>38.395653</td>\n",
       "      <td>53.111627</td>\n",
       "      <td>58.137072</td>\n",
       "    </tr>\n",
       "    <tr>\n",
       "      <td>2016-01-15 01:00:00</td>\n",
       "      <td>6.029369</td>\n",
       "      <td>9.968944</td>\n",
       "      <td>5.257781</td>\n",
       "      <td>42.701629</td>\n",
       "      <td>69.266198</td>\n",
       "      <td>10.462676</td>\n",
       "      <td>0.927452</td>\n",
       "      <td>16.634514</td>\n",
       "      <td>2.224930</td>\n",
       "      <td>125.629232</td>\n",
       "      <td>...</td>\n",
       "      <td>-500.169983</td>\n",
       "      <td>7.984757</td>\n",
       "      <td>-500.582168</td>\n",
       "      <td>13.998353</td>\n",
       "      <td>-599.787184</td>\n",
       "      <td>2016-01-15 01:00:00</td>\n",
       "      <td>14.905729</td>\n",
       "      <td>38.945647</td>\n",
       "      <td>53.174338</td>\n",
       "      <td>58.699942</td>\n",
       "    </tr>\n",
       "    <tr>\n",
       "      <td>2016-01-15 02:00:00</td>\n",
       "      <td>6.055926</td>\n",
       "      <td>10.213995</td>\n",
       "      <td>5.383759</td>\n",
       "      <td>42.657501</td>\n",
       "      <td>68.116445</td>\n",
       "      <td>10.507046</td>\n",
       "      <td>0.953716</td>\n",
       "      <td>16.208849</td>\n",
       "      <td>2.257889</td>\n",
       "      <td>123.819808</td>\n",
       "      <td>...</td>\n",
       "      <td>-500.129135</td>\n",
       "      <td>8.013877</td>\n",
       "      <td>-500.517572</td>\n",
       "      <td>14.028663</td>\n",
       "      <td>-601.427363</td>\n",
       "      <td>2016-01-15 02:00:00</td>\n",
       "      <td>14.638299</td>\n",
       "      <td>38.649756</td>\n",
       "      <td>52.927464</td>\n",
       "      <td>58.927421</td>\n",
       "    </tr>\n",
       "    <tr>\n",
       "      <td>2016-01-15 03:00:00</td>\n",
       "      <td>6.047977</td>\n",
       "      <td>9.977019</td>\n",
       "      <td>4.858634</td>\n",
       "      <td>42.689819</td>\n",
       "      <td>68.347543</td>\n",
       "      <td>10.422762</td>\n",
       "      <td>0.883763</td>\n",
       "      <td>16.532835</td>\n",
       "      <td>2.146849</td>\n",
       "      <td>122.270188</td>\n",
       "      <td>...</td>\n",
       "      <td>-499.201640</td>\n",
       "      <td>7.977324</td>\n",
       "      <td>-500.255908</td>\n",
       "      <td>14.005551</td>\n",
       "      <td>-599.996129</td>\n",
       "      <td>2016-01-15 03:00:00</td>\n",
       "      <td>14.199305</td>\n",
       "      <td>38.411473</td>\n",
       "      <td>43.979185</td>\n",
       "      <td>58.714815</td>\n",
       "    </tr>\n",
       "    <tr>\n",
       "      <td>2016-01-15 04:00:00</td>\n",
       "      <td>6.148599</td>\n",
       "      <td>10.142511</td>\n",
       "      <td>4.939416</td>\n",
       "      <td>42.774141</td>\n",
       "      <td>66.927016</td>\n",
       "      <td>10.360302</td>\n",
       "      <td>0.792826</td>\n",
       "      <td>16.525686</td>\n",
       "      <td>2.055292</td>\n",
       "      <td>117.988169</td>\n",
       "      <td>...</td>\n",
       "      <td>-501.686727</td>\n",
       "      <td>7.894242</td>\n",
       "      <td>-500.356035</td>\n",
       "      <td>13.996647</td>\n",
       "      <td>-601.496691</td>\n",
       "      <td>2016-01-15 04:00:00</td>\n",
       "      <td>13.511497</td>\n",
       "      <td>38.867359</td>\n",
       "      <td>52.121146</td>\n",
       "      <td>59.065251</td>\n",
       "    </tr>\n",
       "  </tbody>\n",
       "</table>\n",
       "<p>5 rows × 91 columns</p>\n",
       "</div>"
      ],
      "text/plain": [
       "                     final.output.concentrate_ag  final.output.concentrate_pb  \\\n",
       "date                                                                            \n",
       "2016-01-15 00:00:00                     6.055403                     9.889648   \n",
       "2016-01-15 01:00:00                     6.029369                     9.968944   \n",
       "2016-01-15 02:00:00                     6.055926                    10.213995   \n",
       "2016-01-15 03:00:00                     6.047977                     9.977019   \n",
       "2016-01-15 04:00:00                     6.148599                    10.142511   \n",
       "\n",
       "                     final.output.concentrate_sol  \\\n",
       "date                                                \n",
       "2016-01-15 00:00:00                      5.507324   \n",
       "2016-01-15 01:00:00                      5.257781   \n",
       "2016-01-15 02:00:00                      5.383759   \n",
       "2016-01-15 03:00:00                      4.858634   \n",
       "2016-01-15 04:00:00                      4.939416   \n",
       "\n",
       "                     final.output.concentrate_au  final.output.recovery  \\\n",
       "date                                                                      \n",
       "2016-01-15 00:00:00                    42.192020              70.541216   \n",
       "2016-01-15 01:00:00                    42.701629              69.266198   \n",
       "2016-01-15 02:00:00                    42.657501              68.116445   \n",
       "2016-01-15 03:00:00                    42.689819              68.347543   \n",
       "2016-01-15 04:00:00                    42.774141              66.927016   \n",
       "\n",
       "                     final.output.tail_ag  final.output.tail_pb  \\\n",
       "date                                                              \n",
       "2016-01-15 00:00:00             10.411962              0.895447   \n",
       "2016-01-15 01:00:00             10.462676              0.927452   \n",
       "2016-01-15 02:00:00             10.507046              0.953716   \n",
       "2016-01-15 03:00:00             10.422762              0.883763   \n",
       "2016-01-15 04:00:00             10.360302              0.792826   \n",
       "\n",
       "                     final.output.tail_sol  final.output.tail_au  \\\n",
       "date                                                               \n",
       "2016-01-15 00:00:00              16.904297              2.143149   \n",
       "2016-01-15 01:00:00              16.634514              2.224930   \n",
       "2016-01-15 02:00:00              16.208849              2.257889   \n",
       "2016-01-15 03:00:00              16.532835              2.146849   \n",
       "2016-01-15 04:00:00              16.525686              2.055292   \n",
       "\n",
       "                     primary_cleaner.input.sulfate  ...  \\\n",
       "date                                                ...   \n",
       "2016-01-15 00:00:00                     127.092003  ...   \n",
       "2016-01-15 01:00:00                     125.629232  ...   \n",
       "2016-01-15 02:00:00                     123.819808  ...   \n",
       "2016-01-15 03:00:00                     122.270188  ...   \n",
       "2016-01-15 04:00:00                     117.988169  ...   \n",
       "\n",
       "                     secondary_cleaner.state.floatbank5_a_level  \\\n",
       "date                                                              \n",
       "2016-01-15 00:00:00                                 -498.310211   \n",
       "2016-01-15 01:00:00                                 -500.169983   \n",
       "2016-01-15 02:00:00                                 -500.129135   \n",
       "2016-01-15 03:00:00                                 -499.201640   \n",
       "2016-01-15 04:00:00                                 -501.686727   \n",
       "\n",
       "                     secondary_cleaner.state.floatbank5_b_air  \\\n",
       "date                                                            \n",
       "2016-01-15 00:00:00                                  8.079666   \n",
       "2016-01-15 01:00:00                                  7.984757   \n",
       "2016-01-15 02:00:00                                  8.013877   \n",
       "2016-01-15 03:00:00                                  7.977324   \n",
       "2016-01-15 04:00:00                                  7.894242   \n",
       "\n",
       "                     secondary_cleaner.state.floatbank5_b_level  \\\n",
       "date                                                              \n",
       "2016-01-15 00:00:00                                 -500.470978   \n",
       "2016-01-15 01:00:00                                 -500.582168   \n",
       "2016-01-15 02:00:00                                 -500.517572   \n",
       "2016-01-15 03:00:00                                 -500.255908   \n",
       "2016-01-15 04:00:00                                 -500.356035   \n",
       "\n",
       "                     secondary_cleaner.state.floatbank6_a_air  \\\n",
       "date                                                            \n",
       "2016-01-15 00:00:00                                 14.151341   \n",
       "2016-01-15 01:00:00                                 13.998353   \n",
       "2016-01-15 02:00:00                                 14.028663   \n",
       "2016-01-15 03:00:00                                 14.005551   \n",
       "2016-01-15 04:00:00                                 13.996647   \n",
       "\n",
       "                     secondary_cleaner.state.floatbank6_a_level  \\\n",
       "date                                                              \n",
       "2016-01-15 00:00:00                                 -605.841980   \n",
       "2016-01-15 01:00:00                                 -599.787184   \n",
       "2016-01-15 02:00:00                                 -601.427363   \n",
       "2016-01-15 03:00:00                                 -599.996129   \n",
       "2016-01-15 04:00:00                                 -601.496691   \n",
       "\n",
       "                              date_time  rougher_input  rougher_output  \\\n",
       "date                                                                     \n",
       "2016-01-15 00:00:00 2016-01-15 00:00:00      14.871440       38.395653   \n",
       "2016-01-15 01:00:00 2016-01-15 01:00:00      14.905729       38.945647   \n",
       "2016-01-15 02:00:00 2016-01-15 02:00:00      14.638299       38.649756   \n",
       "2016-01-15 03:00:00 2016-01-15 03:00:00      14.199305       38.411473   \n",
       "2016-01-15 04:00:00 2016-01-15 04:00:00      13.511497       38.867359   \n",
       "\n",
       "                     primary_cleaner      final  \n",
       "date                                             \n",
       "2016-01-15 00:00:00        53.111627  58.137072  \n",
       "2016-01-15 01:00:00        53.174338  58.699942  \n",
       "2016-01-15 02:00:00        52.927464  58.927421  \n",
       "2016-01-15 03:00:00        43.979185  58.714815  \n",
       "2016-01-15 04:00:00        52.121146  59.065251  \n",
       "\n",
       "[5 rows x 91 columns]"
      ]
     },
     "execution_count": 53,
     "metadata": {},
     "output_type": "execute_result"
    }
   ],
   "source": [
    "full_rep.head()"
   ]
  },
  {
   "cell_type": "markdown",
   "metadata": {},
   "source": [
    "Построим диаграмму размаха для четырех этапов обогащения"
   ]
  },
  {
   "cell_type": "code",
   "execution_count": 54,
   "metadata": {},
   "outputs": [
    {
     "data": {
      "image/png": "[encoded data removed]",
      "text/plain": [
       "<Figure size 720x1080 with 4 Axes>"
      ]
     },
     "metadata": {},
     "output_type": "display_data"
    }
   ],
   "source": [
    "fig, ax = plt.subplots(1, 4, sharey=True, figsize=(10,15))\n",
    "sns.boxplot(y='rougher_input', data = full_rep, ax=ax[0])\n",
    "ax[0].set_xlabel('Cырье', size=10)\n",
    "ax[0].set_ylabel('')\n",
    "\n",
    "sns.boxplot(y='rougher_output', data=full_rep, ax=ax[1])\n",
    "ax[1].set_xlabel('Черновой концентрат', size =10)\n",
    "ax[1].set_ylabel('')\n",
    "\n",
    "sns.boxplot(y='primary_cleaner', data=full_rep, ax=ax[2])\n",
    "ax[2].set_xlabel('Концентрат после очистки', size=10)\n",
    "ax[2].set_ylabel('')\n",
    "\n",
    "sns.boxplot(y='final', data=full_rep, ax=ax[3])\n",
    "ax[3].set_xlabel('Финальный раствор', size=10)\n",
    "ax[3].set_ylabel('')\n",
    "\n",
    "plt.suptitle('Распределение суммарной концентрации веществ', y=0.95 )\n",
    "plt.show()"
   ]
  },
  {
   "cell_type": "markdown",
   "metadata": {},
   "source": [
    "На основании анализа данных можно заключить, что на всех этапах обработки наблюдаются выбросы.  "
   ]
  },
  {
   "cell_type": "markdown",
   "metadata": {},
   "source": [
    "Напишем функцию для определения интервала, значения выходящие за пределы которого являются выбросами"
   ]
  },
  {
   "cell_type": "code",
   "execution_count": 55,
   "metadata": {},
   "outputs": [],
   "source": [
    "def outliers(column):\n",
    "    q1 = full_rep[column].quantile(0.25)\n",
    "    q3 = full_rep[column].quantile(0.75)\n",
    "    diff = q3 - q1\n",
    "    left_int = np.where((q1 - 1.5*diff) > 0, q1 - 1.5*diff, 0)\n",
    "    right_int = np.where((q3 + 1.5*diff) > 0, q3 + 1.5*diff, 0)\n",
    "    return (left_int, right_int)"
   ]
  },
  {
   "cell_type": "markdown",
   "metadata": {},
   "source": [
    "Определим границы интервала для сырья"
   ]
  },
  {
   "cell_type": "code",
   "execution_count": 56,
   "metadata": {},
   "outputs": [
    {
     "name": "stdout",
     "output_type": "stream",
     "text": [
      "(array(7.43612741), array(33.61413283))\n"
     ]
    }
   ],
   "source": [
    "rougher_input_range = outliers('rougher_input')\n",
    "print(rougher_input_range)"
   ]
  },
  {
   "cell_type": "markdown",
   "metadata": {},
   "source": [
    "Определим границы интервала для чернового концентрата"
   ]
  },
  {
   "cell_type": "code",
   "execution_count": 57,
   "metadata": {},
   "outputs": [
    {
     "name": "stdout",
     "output_type": "stream",
     "text": [
      "(array(32.43894475), array(48.3207957))\n"
     ]
    }
   ],
   "source": [
    "rougher_output = outliers('rougher_output')\n",
    "print(rougher_output)"
   ]
  },
  {
   "cell_type": "markdown",
   "metadata": {},
   "source": [
    "Определим границы интервала для концентрации после очистки"
   ]
  },
  {
   "cell_type": "code",
   "execution_count": 58,
   "metadata": {},
   "outputs": [
    {
     "name": "stdout",
     "output_type": "stream",
     "text": [
      "(array(45.05440055), array(58.38639653))\n"
     ]
    }
   ],
   "source": [
    "primary_cleaner = outliers('primary_cleaner')\n",
    "print(primary_cleaner)"
   ]
  },
  {
   "cell_type": "markdown",
   "metadata": {},
   "source": [
    "Определим границы интервала для финального раствора"
   ]
  },
  {
   "cell_type": "code",
   "execution_count": 59,
   "metadata": {},
   "outputs": [
    {
     "name": "stdout",
     "output_type": "stream",
     "text": [
      "(array(56.60080638), array(63.79418275))\n"
     ]
    }
   ],
   "source": [
    "final = outliers('final')\n",
    "print(final)"
   ]
  },
  {
   "cell_type": "markdown",
   "metadata": {},
   "source": [
    "Поскольку наибольшое скопление выбросов во всех датасетах наблюдается у нижнего уса, отсечем значения, выходящие за его пределы. "
   ]
  },
  {
   "cell_type": "code",
   "execution_count": 60,
   "metadata": {},
   "outputs": [
    {
     "data": {
      "text/plain": [
       "(17011, 91)"
      ]
     },
     "execution_count": 60,
     "metadata": {},
     "output_type": "execute_result"
    }
   ],
   "source": [
    "full_rep_update = full_rep[(full_rep['rougher_input'] >= 7) & (full_rep['rougher_output'] > 32) & (full_rep['primary_cleaner'] > 45) & (full_rep['final'] > 56)]\n",
    "full_rep_update.shape"
   ]
  },
  {
   "cell_type": "markdown",
   "metadata": {},
   "source": [
    "Посмотрим на долю потерянных данных"
   ]
  },
  {
   "cell_type": "code",
   "execution_count": 61,
   "metadata": {},
   "outputs": [
    {
     "name": "stdout",
     "output_type": "stream",
     "text": [
      "Потери в данных составляют 12.490354%\n"
     ]
    }
   ],
   "source": [
    "miss_out_full = (len(full_rep) - len(full_rep_update))/len(full_rep)\n",
    "print('Потери в данных составляют {:%}'.format(miss_out_full))"
   ]
  },
  {
   "cell_type": "markdown",
   "metadata": {},
   "source": [
    "Произведем чистку выбросов в тестовой и обучающей выборках"
   ]
  },
  {
   "cell_type": "code",
   "execution_count": 62,
   "metadata": {},
   "outputs": [],
   "source": [
    "train_rep_update = train_rep.query('index in @full_rep_update.index')\n",
    "test_rep_update = test_rep.query('index in @full_rep_update.index')"
   ]
  },
  {
   "cell_type": "markdown",
   "metadata": {},
   "source": [
    "Потери обучающей выборки"
   ]
  },
  {
   "cell_type": "code",
   "execution_count": 63,
   "metadata": {},
   "outputs": [
    {
     "name": "stdout",
     "output_type": "stream",
     "text": [
      "Потери в данных составляют 12.806559%\n"
     ]
    }
   ],
   "source": [
    "miss_out_train = (len(train_rep) - len(train_rep_update))/len(train_rep)\n",
    "print('Потери в данных составляют {:%}'.format(miss_out_train))"
   ]
  },
  {
   "cell_type": "markdown",
   "metadata": {},
   "source": [
    "Потери тестовой выборки"
   ]
  },
  {
   "cell_type": "code",
   "execution_count": 64,
   "metadata": {},
   "outputs": [
    {
     "name": "stdout",
     "output_type": "stream",
     "text": [
      "Потери в данных составляют 11.644612%\n"
     ]
    }
   ],
   "source": [
    "miss_out_test = (len(test_rep) - len(test_rep_update))/len(test_rep)\n",
    "print('Потери в данных составляют {:%}'.format(miss_out_test))"
   ]
  },
  {
   "cell_type": "code",
   "execution_count": 65,
   "metadata": {},
   "outputs": [
    {
     "data": {
      "text/plain": [
       "(12337, 55)"
      ]
     },
     "execution_count": 65,
     "metadata": {},
     "output_type": "execute_result"
    }
   ],
   "source": [
    "train_rep_update.shape"
   ]
  },
  {
   "cell_type": "markdown",
   "metadata": {},
   "source": [
    "Выводы по результатам анализа данных: \n",
    "\n",
    "- Концентрация металлов (Au, Ag, Pb) меняется на различных этапах.\n",
    "- Концентрация серебра (Ag) на каждом этапе очистки снижается, при этом она достигает максимальной концентрации на втором этапе технологического процесса. На последнем этапе концентрация ниже, чем на первом этапе.\n",
    "- Концентрация золота (Au) с каждым последующим этапом технологического процесса увеличивается. Самая высокая концентрация наблюдается на последнем этапе. У распределения концентрации золота тяжелые хвосты, что указывает на большое количество выбросов. \n",
    "- Концентрация свинца (Pb) с каждым последующим этапом увеличивается. На финальной стадии технологического процесса сокращается разрбос значений свинца. \n",
    "- Распределение размера гранул на обучающей и тестовой выборках не отличается значительно друг от друга, что позволяет нам использовать выборки для оценки моделей. \n",
    "- В данных суммарной концентрации металлов на четырех этапах технологического процесса были обнаружены и удалены аномально низкие значения. "
   ]
  },
  {
   "cell_type": "markdown",
   "metadata": {},
   "source": [
    "## 3. Модель\n",
    "<a name=\"paragraph3\"></a>"
   ]
  },
  {
   "cell_type": "markdown",
   "metadata": {},
   "source": [
    "### 3.1 Написание функции для расчета sMAPE\n",
    "<a name=\"subparagraph10\"></a>"
   ]
  },
  {
   "cell_type": "markdown",
   "metadata": {},
   "source": [
    "$$ sMAPE = \\frac{1}{N} \\sum_{i=1}^{N} \\frac{|y_i - \\hat{y_i}|}{(|y_i| + |\\hat{y_i}|) / 2} × 100% $$"
   ]
  },
  {
   "cell_type": "code",
   "execution_count": 66,
   "metadata": {},
   "outputs": [],
   "source": [
    "def smape(target, predictions):\n",
    "    numenator = np.abs(target - predictions)\n",
    "    denominator = (np.abs(target) + np.abs(predictions))/2\n",
    "    smape = 1/len(target) * ((numenator / denominator).sum())*100\n",
    "    return smape"
   ]
  },
  {
   "cell_type": "markdown",
   "metadata": {},
   "source": [
    "$$ sMAPE final = 0.25 × sMAPE(rougher) + 0.75 × sMAPE(final)$$"
   ]
  },
  {
   "cell_type": "code",
   "execution_count": 67,
   "metadata": {},
   "outputs": [],
   "source": [
    "def smape_final(rougher_smape, smape_final):\n",
    "    smape_final = 0.25*rougher_smape + 0.75*smape_final\n",
    "    return smape_final"
   ]
  },
  {
   "cell_type": "markdown",
   "metadata": {},
   "source": [
    "### 3.2 Обучение и оценка качества моделей\n",
    "<a name=\"subparagraph11\"></a>"
   ]
  },
  {
   "cell_type": "markdown",
   "metadata": {},
   "source": [
    "Обучим разные модели и оценим качество кросс-валидацией. Выберем лучшую модель и проверим ее на тестовой выборке. "
   ]
  },
  {
   "cell_type": "markdown",
   "metadata": {},
   "source": [
    "Выборка на обучающих данных"
   ]
  },
  {
   "cell_type": "code",
   "execution_count": 68,
   "metadata": {},
   "outputs": [],
   "source": [
    "rougher_target_train =train_rep_update['rougher.output.recovery']\n",
    "output_target_train = train_rep_update['final.output.recovery']\n",
    "features_train = train_rep_update.drop(['date_time', 'rougher.output.recovery', 'final.output.recovery'], axis=1)"
   ]
  },
  {
   "cell_type": "markdown",
   "metadata": {},
   "source": [
    "Выборка на тестовых данных"
   ]
  },
  {
   "cell_type": "code",
   "execution_count": 69,
   "metadata": {},
   "outputs": [],
   "source": [
    "rougher_target_test = test_rep_update['rougher.output.recovery']\n",
    "output_target_test = test_rep_update['final.output.recovery']\n",
    "features_test = test_rep_update.drop(['date_time', 'rougher.output.recovery', 'final.output.recovery'], axis=1)"
   ]
  },
  {
   "cell_type": "markdown",
   "metadata": {},
   "source": [
    "Произведем масштабирование признаков на обучающей и тестовой выборках с использованием метода StandardScaler"
   ]
  },
  {
   "cell_type": "code",
   "execution_count": 70,
   "metadata": {},
   "outputs": [],
   "source": [
    "feat = features_train.columns\n",
    "scaler = StandardScaler()\n",
    "scaler.fit(features_train[feat])\n",
    "\n",
    "features_train[feat] = scaler.transform(features_train[feat])\n",
    "features_test[feat] = scaler.transform(features_test[feat])"
   ]
  },
  {
   "cell_type": "markdown",
   "metadata": {},
   "source": [
    "Для дальнейшего тестирования моделей методом кросс-валидацией создадим собственный scorer, который рассчитывает smape с помощью метода SMAPE."
   ]
  },
  {
   "cell_type": "code",
   "execution_count": 71,
   "metadata": {},
   "outputs": [],
   "source": [
    "smape_score = make_scorer(smape)"
   ]
  },
  {
   "cell_type": "markdown",
   "metadata": {},
   "source": [
    "Будем оценивать модели решающего дерева, случайного леса и линейной регрессии. "
   ]
  },
  {
   "cell_type": "code",
   "execution_count": 72,
   "metadata": {},
   "outputs": [],
   "source": [
    "random_state = 12345\n",
    "cv = 5\n",
    "models = [DecisionTreeRegressor(random_state = random_state), \n",
    "          RandomForestRegressor(random_state = random_state), \n",
    "          LinearRegression()]"
   ]
  },
  {
   "cell_type": "code",
   "execution_count": 73,
   "metadata": {},
   "outputs": [
    {
     "data": {
      "text/html": [
       "<div>\n",
       "<style scoped>\n",
       "    .dataframe tbody tr th:only-of-type {\n",
       "        vertical-align: middle;\n",
       "    }\n",
       "\n",
       "    .dataframe tbody tr th {\n",
       "        vertical-align: top;\n",
       "    }\n",
       "\n",
       "    .dataframe thead th {\n",
       "        text-align: right;\n",
       "    }\n",
       "</style>\n",
       "<table border=\"1\" class=\"dataframe\">\n",
       "  <thead>\n",
       "    <tr style=\"text-align: right;\">\n",
       "      <th></th>\n",
       "      <th>model</th>\n",
       "      <th>cross_val_score_rougher</th>\n",
       "      <th>cross_val_score_final</th>\n",
       "    </tr>\n",
       "  </thead>\n",
       "  <tbody>\n",
       "    <tr>\n",
       "      <td>0</td>\n",
       "      <td>DecisionTreeRegressor</td>\n",
       "      <td>9.112011</td>\n",
       "      <td>13.980868</td>\n",
       "    </tr>\n",
       "    <tr>\n",
       "      <td>1</td>\n",
       "      <td>RandomForestRegressor</td>\n",
       "      <td>6.632453</td>\n",
       "      <td>9.425841</td>\n",
       "    </tr>\n",
       "    <tr>\n",
       "      <td>2</td>\n",
       "      <td>LinearRegression</td>\n",
       "      <td>7.086505</td>\n",
       "      <td>10.668091</td>\n",
       "    </tr>\n",
       "  </tbody>\n",
       "</table>\n",
       "</div>"
      ],
      "text/plain": [
       "                   model  cross_val_score_rougher  cross_val_score_final\n",
       "0  DecisionTreeRegressor                 9.112011              13.980868\n",
       "1  RandomForestRegressor                 6.632453               9.425841\n",
       "2       LinearRegression                 7.086505              10.668091"
      ]
     },
     "execution_count": 73,
     "metadata": {},
     "output_type": "execute_result"
    }
   ],
   "source": [
    "import warnings\n",
    "warnings.simplefilter('ignore')\n",
    "results = []\n",
    "\n",
    "for model in models: \n",
    "    \n",
    "    scorer = smape_score \n",
    "    \n",
    "    cross_val_score_rougher = cross_val_score(model, \n",
    "                                              features_train, \n",
    "                                              rougher_target_train, \n",
    "                                              cv=cv, scoring=scorer).mean()\n",
    "    cross_val_score_output = cross_val_score(model, \n",
    "                                            features_train, \n",
    "                                            output_target_train, \n",
    "                                            cv=cv, scoring=scorer).mean()\n",
    "\n",
    "    results.append({'model': model.__class__.__name__, \n",
    "                              'cross_val_score_rougher': cross_val_score_rougher, \n",
    "                              'cross_val_score_final': cross_val_score_output}) \n",
    "              \n",
    "pd.DataFrame(results)"
   ]
  },
  {
   "cell_type": "markdown",
   "metadata": {},
   "source": [
    "Лучший результат демонстрирует модель случайного леса. Подберем гиперпараметры, демонстрирующие наилучшие результаты для данной модели."
   ]
  },
  {
   "cell_type": "code",
   "execution_count": null,
   "metadata": {},
   "outputs": [],
   "source": [
    "%%time\n",
    "results_1 = []\n",
    "\n",
    "for depth in range (1, 5):\n",
    "    for est in range (5, 20, 5):\n",
    "        model = RandomForestRegressor(random_state = random_state, n_estimators = est, max_depth = depth)\n",
    "        scorer = make_scorer(smape)\n",
    "        \n",
    "        cross_val_score_rougher = cross_val_score(model, features_train, rougher_target_train, cv=cv, scoring=scorer).mean()\n",
    "        cross_val_score_output = cross_val_score(model, features_train, output_target_train, cv=cv, scoring=scorer).mean()\n",
    "        \n",
    "        smape_final_result = smape_final(cross_val_score_rougher, cross_val_score_output)\n",
    "        results_1.append({'model': model.__class__.__name__, \n",
    "                        'Hyperparameters': {'random_state': random_state, \n",
    "                                            'n_estimators': est, \n",
    "                                            'max_depth':depth}, \n",
    "                        'smape_final_result': smape_final_result})\n",
    "pd.DataFrame(results_1)"
   ]
  },
  {
   "cell_type": "markdown",
   "metadata": {},
   "source": [
    "Наилучшая модель случайного леса характеризуется следующими гиперпараметрами: количество деревьев - 15, глубина - 4. "
   ]
  },
  {
   "cell_type": "markdown",
   "metadata": {},
   "source": [
    "### 3.3 Проверка модели на тестовой выборке\n",
    "<a name=\"subparagraph12\"></a>"
   ]
  },
  {
   "cell_type": "markdown",
   "metadata": {},
   "source": [
    "Обучим модель случайного леса с параметрами n_estimators = 15, max_depth = 4"
   ]
  },
  {
   "cell_type": "code",
   "execution_count": null,
   "metadata": {},
   "outputs": [],
   "source": [
    "best_model = RandomForestRegressor(random_state=random_state, n_estimators = 15, max_depth = 4)\n",
    "\n",
    "best_model.fit(features_train, rougher_target_train)\n",
    "predictions_rougher = best_model.predict(features_test)\n",
    "\n",
    "best_model.fit(features_train, output_target_train)\n",
    "predictions_output = best_model.predict(features_test)\n",
    "\n",
    "smape_tougher = smape(rougher_target_test, predictions_rougher)\n",
    "smape_output = smape(output_target_test, predictions_output)\n",
    "\n",
    "print('Final SMAPE:', smape_final(smape_tougher, smape_output))"
   ]
  },
  {
   "cell_type": "markdown",
   "metadata": {},
   "source": [
    "### 3.4 Проверка модели на адекватность\n",
    "<a name=\"subparagraph13\"></a>"
   ]
  },
  {
   "cell_type": "markdown",
   "metadata": {},
   "source": [
    "Для проверки модели на адекватность будем использовать DummyRegressor"
   ]
  },
  {
   "cell_type": "code",
   "execution_count": null,
   "metadata": {},
   "outputs": [],
   "source": [
    "dummy_regr = DummyRegressor(strategy=\"mean\")\n",
    "dummy_regr.fit(features_train, rougher_target_train)\n",
    "predictions_rougher_dummy = dummy_regr.predict(features_test)\n",
    "dummy_regr.fit(features_train, output_target_train)\n",
    "predictions_output_dummy = dummy_regr.predict(features_test)"
   ]
  },
  {
   "cell_type": "code",
   "execution_count": null,
   "metadata": {},
   "outputs": [],
   "source": [
    "smape_rougher_constant = smape(rougher_target_test, predictions_rougher_dummy)\n",
    "smape_output_dummy = smape(output_target_test, predictions_output_dummy)\n",
    "print('Final SMAPE', smape_final(smape_rougher_constant, smape_output_dummy))"
   ]
  },
  {
   "cell_type": "markdown",
   "metadata": {},
   "source": [
    "Таким образом, показатель SMAPE обученной модели на тестовой выборке лучше, чем SMAPE константной модели. В пером случае он составляет 6,6%, во втором случае - 7,1%. "
   ]
  },
  {
   "cell_type": "markdown",
   "metadata": {},
   "source": [
    "**Вывод** <br>\n",
    "На этапе построения моделей: <br>\n",
    "- написаны функции для расчета SMAPE и финального SMAPE;\n",
    "- произведено сравнение кросс-валидацией трех моделей (DecisionTreeRegressor(), RandomForestRegressor, LinearRegression);\n",
    "- протестировали модель случайного леса с наилучшим показателем SMAPE (с глубиной 4  и количеством деревьев, равным 15. \n",
    "- обученная модель случайного леса на тестовой выборке продемонстрировала результат лучше, чем константная модель (ошибка модели случайного леса 6,6%, константной модели - 7,1%) "
   ]
  },
  {
   "cell_type": "markdown",
   "metadata": {},
   "source": [
    "## 4. Общий вывод\n",
    "<a name=\"paragraph4\"></a>"
   ]
  },
  {
   "cell_type": "markdown",
   "metadata": {},
   "source": [
    "В рамках данного проекта были произведены следующие шаги: <br>\n",
    "\n",
    "1) На первом шаге: <br>\n",
    "- произведена предобработка данных - заменены типы данных, проверены дубликаты; <br>\n",
    "- проведен анализ признаков и подготовлена выборка для дальнейшей работы; <br>\n",
    "- произведена проверка корректиности расчета показателя эффективности обогащения (убедилисть, что показатель рассчитан верно); <br>\n",
    "\n",
    "2) На втором шаге: <br>\n",
    "- проанализировано изменение концентрации металлов (Au, Ag, Pb) на различных этапах очистки. Концентрация металлов ведет себя по разному. Концетрация серебра с каждый последующим этапом падаем, а концентрация золота - напротив, увеличивается, концентрация свинца возрастает на первых трех этапах. <br>\n",
    "- произведено сравнение распределения размер гранул на обучающей и тестовой выборках (сделан вывод о сходстве распределений, что позволяет использовать выборки для построения и оценки моделей) <br> \n",
    "- проанализирована суммарная концентрация всех металлов на различных стадиях технологического процесса, обнаружены и удалены аномально низкие значение концентрации во всех выборках <br> \n",
    "\n",
    "3) На третьем шаге (обучение модели): <br>\n",
    "- написаны функции для расчета SMAPE и финального SMAPE; <br>\n",
    "- произведено сравнение работы трех моделей: модели решающего дерева, модели случайного леса, линейной регрессии); <br>\n",
    "- в качестве наилучшей модели отобрана модель случайного леса с 15 деревьями и глубиной, равной 4; <br>\n",
    "- обученная модель продемострировала более низкую ошибку, чем константная модель: 6,6% против 7,1%. <br> "
   ]
  }
 ],
 "metadata": {
  "kernelspec": {
   "display_name": "Python 3",
   "language": "python",
   "name": "python3"
  },
  "language_info": {
   "codemirror_mode": {
    "name": "ipython",
    "version": 3
   },
   "file_extension": ".py",
   "mimetype": "text/x-python",
   "name": "python",
   "nbconvert_exporter": "python",
   "pygments_lexer": "ipython3",
   "version": "3.8.8"
  },
  "toc": {
   "base_numbering": 1,
   "nav_menu": {},
   "number_sections": true,
   "sideBar": true,
   "skip_h1_title": true,
   "title_cell": "Содержание",
   "title_sidebar": "Contents",
   "toc_cell": true,
   "toc_position": {
    "height": "calc(100% - 180px)",
    "left": "10px",
    "top": "150px",
    "width": "167.025px"
   },
   "toc_section_display": true,
   "toc_window_display": false
  }
 },
 "nbformat": 4,
 "nbformat_minor": 2
}

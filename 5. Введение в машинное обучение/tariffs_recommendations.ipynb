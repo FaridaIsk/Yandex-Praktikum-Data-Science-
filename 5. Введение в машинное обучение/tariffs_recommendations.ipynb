{
 "cells": [
  {
   "cell_type": "markdown",
   "metadata": {},
   "source": [
    "# Проект введение в машинное обучение"
   ]
  },
  {
   "cell_type": "markdown",
   "metadata": {},
   "source": [
    "##  Рекомендация тарифов"
   ]
  },
  {
   "cell_type": "markdown",
   "metadata": {},
   "source": [
    "В нашем распоряжении данные о поведении клиентов оператора мобильной связи. Необходимо построить модель для задачи классификации, которая выберет подходящий тариф. Параметр качества модели accuracy (долю правильных ответов) необходимо довести до 0.75."
   ]
  },
  {
   "cell_type": "markdown",
   "metadata": {},
   "source": [
    "### План проекта"
   ]
  },
  {
   "cell_type": "markdown",
   "metadata": {},
   "source": [
    "1. [Изучение общей информации](#introduction) <br>\n",
    "2. [Разбиение данных на выборки](#paragraph2) <br>\n",
    "3. [Исследование моделей](#paragraph3) <br>\n",
    "   3.1 [Исследование модели решающего дерева](#subparagraph1) <br>\n",
    "   3.2 [Исследование модели случайного леса](#subparagraph2) <br>\n",
    "   3.3 [Исследование модели логистической регрессии](#subparagraph3) <br>\n",
    "4. [Проверка модели на тестовой выборке](#paragraph4) <br>"
   ]
  },
  {
   "cell_type": "markdown",
   "metadata": {},
   "source": [
    "### 1. Изучение общей информации о данных\n",
    "<a name=\"introduction\"></a>"
   ]
  },
  {
   "cell_type": "code",
   "execution_count": 1,
   "metadata": {},
   "outputs": [
    {
     "name": "stdout",
     "output_type": "stream",
     "text": [
      "<class 'pandas.core.frame.DataFrame'>\n",
      "RangeIndex: 3214 entries, 0 to 3213\n",
      "Data columns (total 5 columns):\n",
      "calls       3214 non-null float64\n",
      "minutes     3214 non-null float64\n",
      "messages    3214 non-null float64\n",
      "mb_used     3214 non-null float64\n",
      "is_ultra    3214 non-null int64\n",
      "dtypes: float64(4), int64(1)\n",
      "memory usage: 125.7 KB\n"
     ]
    }
   ],
   "source": [
    "import pandas as pd\n",
    "import numpy as np\n",
    "data = pd.read_csv('/datasets/users_behavior.csv')\n",
    "data.info(memory_usage = 'deep')"
   ]
  },
  {
   "cell_type": "markdown",
   "metadata": {},
   "source": [
    "Данные включают в себя 5 колонок. <br>\n",
    "Одну колонку с целевым признаком - принадлежность к тарифу \"Ультра\" (признак \"is_ultra\"), и четыре столбца с признаками-характеристиками: <br>\n",
    "\"calls\" - количество звонков; <br>\n",
    "\"minutes\" - суммарная длительность звонков; <br>\n",
    "\"messages\" - количество sms-сообщений; <br>\n",
    "\"mb_used\" - израсходованный интернет-трафик, Мб. <br>"
   ]
  },
  {
   "cell_type": "code",
   "execution_count": 2,
   "metadata": {},
   "outputs": [
    {
     "name": "stdout",
     "output_type": "stream",
     "text": [
      "Процент пользователей тарифа \"Ультра\": 30.6%\n"
     ]
    }
   ],
   "source": [
    "#посмотрим на количество пользователей тарифа \"ультра\"\n",
    "data['is_ultra'].value_counts()\n",
    "is_ultra_percentage = (data[data['is_ultra'] == 1]['is_ultra'].count())/data['is_ultra'].count()\n",
    "print('Процент пользователей тарифа \"Ультра\": {:.1%}'.format(is_ultra_percentage))"
   ]
  },
  {
   "cell_type": "code",
   "execution_count": 3,
   "metadata": {},
   "outputs": [],
   "source": [
    "#изменим формат столбца 'is_ultra' на булевый тип\n",
    "data['is_ultra'] = data['is_ultra'].astype('bool')"
   ]
  },
  {
   "cell_type": "markdown",
   "metadata": {},
   "source": [
    "### 2. Разбиение данных на выборки\n",
    "<a name=\"paragraph2\"></a>"
   ]
  },
  {
   "cell_type": "markdown",
   "metadata": {},
   "source": [
    "Поскольку в данных отсутствует спрятанная тестовая выборка, разобьем их на три части: обучающую, валидационную и тестовую - в соотношении 3:1:1. <br>\n",
    "На первом шаге отведем 60% данных - на обучающую выборку, 40% - на валидационную выборку. <br>\n",
    "На втором шаге разобьем валидационную выборку на две подвыборки - на валидационную и тестовую в соотношении 1:1. <br>"
   ]
  },
  {
   "cell_type": "code",
   "execution_count": 4,
   "metadata": {},
   "outputs": [],
   "source": [
    "#Шаг 1. Разделим исходный датасет на обучающую и валидационную выборки\n",
    "from sklearn.model_selection import train_test_split\n",
    "df_train, df_valid = train_test_split(data, test_size = 0.4, random_state = 1234)"
   ]
  },
  {
   "cell_type": "code",
   "execution_count": 5,
   "metadata": {},
   "outputs": [],
   "source": [
    "#Шаг 2. Разделим валидационную выборку пополам - на валидационную и на тестовую\n",
    "df_valid, df_test = train_test_split(df_valid, test_size = 0.5, random_state = 1234)"
   ]
  },
  {
   "cell_type": "code",
   "execution_count": 6,
   "metadata": {},
   "outputs": [
    {
     "name": "stdout",
     "output_type": "stream",
     "text": [
      "Объем обучающей выборки: 60.0% данных\n",
      "Объем валидационной выборки: 20.0% данных\n",
      "Объем тестовой выборки: 20.0% данных\n"
     ]
    }
   ],
   "source": [
    "#Проверим распределение данных на выборке\n",
    "print('Объем обучающей выборки: {:.1%} данных'.format(len(df_train)/len(data)))\n",
    "print('Объем валидационной выборки: {:.1%} данных'.format(len(df_valid)/len(data)))\n",
    "print('Объем тестовой выборки: {:.1%} данных'.format(len(df_test)/len(data)))"
   ]
  },
  {
   "cell_type": "code",
   "execution_count": 7,
   "metadata": {},
   "outputs": [
    {
     "data": {
      "text/plain": [
       "<matplotlib.axes._subplots.AxesSubplot at 0x7f94250c0e10>"
      ]
     },
     "execution_count": 7,
     "metadata": {},
     "output_type": "execute_result"
    },
    {
     "data": {
      "image/png": "[encoded data removed]",
      "text/plain": [
       "<Figure size 432x288 with 2 Axes>"
      ]
     },
     "metadata": {
      "needs_background": "light"
     },
     "output_type": "display_data"
    }
   ],
   "source": [
    "#посмотрим на матрицу корреляций признаков, для выявления потенциальной проблемы мультиколлинеарности\n",
    "import seaborn as sns \n",
    "sns.heatmap(data.corr(), annot=True)"
   ]
  },
  {
   "cell_type": "markdown",
   "metadata": {},
   "source": [
    "Наблюдается высокая положительная корреляция между минутами  разговора ('minutes') и звонками ('calls'), равная 0.98. Исключим из датасета признак 'minutes' для избежания проблемы мультиколлинеарности при построении логистической регрессии."
   ]
  },
  {
   "cell_type": "code",
   "execution_count": 8,
   "metadata": {},
   "outputs": [],
   "source": [
    "data = data.drop('minutes', axis=1)"
   ]
  },
  {
   "cell_type": "markdown",
   "metadata": {},
   "source": [
    "Выделим целевой признак и описательные признаки в каждом датасете."
   ]
  },
  {
   "cell_type": "code",
   "execution_count": 9,
   "metadata": {},
   "outputs": [],
   "source": [
    "features_train = df_train.drop(['is_ultra'], axis=1)\n",
    "target_train = df_train['is_ultra']\n",
    "features_valid = df_valid.drop(['is_ultra'], axis=1)\n",
    "target_valid = df_valid['is_ultra'] \n",
    "features_test = df_test.drop(['is_ultra'], axis=1)\n",
    "target_test = df_test['is_ultra']"
   ]
  },
  {
   "cell_type": "markdown",
   "metadata": {},
   "source": [
    "### 3. Исследование моделей\n",
    "<a name=\"paragraph3\"></a>"
   ]
  },
  {
   "cell_type": "markdown",
   "metadata": {},
   "source": [
    "Поскольку перед нами стоит задача классификации - задача выбора подходящего тарифа, будем строить следующие модели:<br>\n",
    "1. Решающее дерево <br>\n",
    "2. Случайный лес <br>\n",
    "3. Логистическая регрессия <br>"
   ]
  },
  {
   "cell_type": "markdown",
   "metadata": {},
   "source": [
    "### 3.1 Исследование модели решающего дерева\n",
    "<a name=\"subparagraph1\"></a>"
   ]
  },
  {
   "cell_type": "code",
   "execution_count": 10,
   "metadata": {},
   "outputs": [],
   "source": [
    "from sklearn.tree import DecisionTreeClassifier\n",
    "from sklearn.metrics import accuracy_score"
   ]
  },
  {
   "cell_type": "code",
   "execution_count": 11,
   "metadata": {
    "scrolled": true
   },
   "outputs": [
    {
     "name": "stdout",
     "output_type": "stream",
     "text": [
      "Accuracy наилучшей модели на валидационной выборке: 0.8320373250388803 Глубина дерева: 7\n"
     ]
    }
   ],
   "source": [
    "best_model_dt = None\n",
    "best_result_dt = 0\n",
    "best_depth_dt = 0\n",
    "for depth in range(1, 10):\n",
    "    model = DecisionTreeClassifier(random_state=1234, max_depth=depth)\n",
    "    #обучение модели на обучающей выборке\n",
    "    model.fit(features_train, target_train)\n",
    "    #посчитаем качество модели на валидационной выборке \n",
    "    result = model.score(features_valid, target_valid)\n",
    "    if result > best_result_dt:\n",
    "        #сохраним наилучшую модель\n",
    "        best_model_dt = model\n",
    "        #сохраним наилучшее значение метрики accuracy на валидационных данных\n",
    "        best_result_dt = result \n",
    "        best_depth_dt = depth\n",
    "        \n",
    "\n",
    "print(\"Accuracy наилучшей модели на валидационной выборке:\", best_result_dt, \"Глубина дерева:\", best_depth_dt)"
   ]
  },
  {
   "cell_type": "markdown",
   "metadata": {},
   "source": [
    "### 3.2 Исследование модели случайного леса\n",
    "<a name=\"subparagraph2\"></a>"
   ]
  },
  {
   "cell_type": "code",
   "execution_count": 12,
   "metadata": {},
   "outputs": [
    {
     "name": "stdout",
     "output_type": "stream",
     "text": [
      "Accuracy наилучшей модели на валидационной выборке: 0.8351477449455676 Глубина дерева: 9 Количество деревьев: 99\n"
     ]
    }
   ],
   "source": [
    "#переберем в цикле модели случайного леса с числом деревьем от 1 до 100 и глубиной от 1 до 10\n",
    "from sklearn.ensemble import RandomForestClassifier\n",
    "best_model = None\n",
    "best_result = 0\n",
    "best_depth = 0\n",
    "for depth in range(1, 10):\n",
    "    for est in range(1, 100):\n",
    "        model = RandomForestClassifier(random_state=1234, n_estimators = est, max_depth=depth)\n",
    "        #обучение модели на обучающей выборке\n",
    "        model.fit(features_train, target_train)\n",
    "        #посчитаем качество модели на валидационной выборке \n",
    "        result = model.score(features_valid, target_valid)\n",
    "        if result > best_result:\n",
    "            #сохраним наилучшую модель\n",
    "            best_model = model\n",
    "            #сохраним наилучшее значение метрики accuracy на валидационных данных\n",
    "            best_result_rf = result \n",
    "            best_depth_rf = depth\n",
    "            best_est_rf = est\n",
    "        \n",
    "print(\"Accuracy наилучшей модели на валидационной выборке:\", best_result_rf, \"Глубина дерева:\", best_depth_rf, \"Количество деревьев:\", est)"
   ]
  },
  {
   "cell_type": "markdown",
   "metadata": {},
   "source": [
    "### 3.3 Исследование модели логистической регрессии\n",
    "<a name=\"subparagraph3\"></a>"
   ]
  },
  {
   "cell_type": "code",
   "execution_count": 15,
   "metadata": {},
   "outputs": [
    {
     "name": "stdout",
     "output_type": "stream",
     "text": [
      "0.7216174183514774\n"
     ]
    },
    {
     "name": "stderr",
     "output_type": "stream",
     "text": [
      "/opt/conda/lib/python3.7/site-packages/sklearn/linear_model/logistic.py:432: FutureWarning: Default solver will be changed to 'lbfgs' in 0.22. Specify a solver to silence this warning.\n",
      "  FutureWarning)\n"
     ]
    }
   ],
   "source": [
    "from sklearn.linear_model import LogisticRegression\n",
    "log_reg = LogisticRegression(random_state=123)\n",
    "#обучение модели на обучающей выборке\n",
    "log_reg.fit(features_train, target_train)\n",
    "#расчет качества модели на валидационной выборке\n",
    "lr_result = log_reg.score(features_valid, target_valid)\n",
    "print(lr_result)"
   ]
  },
  {
   "cell_type": "code",
   "execution_count": 16,
   "metadata": {},
   "outputs": [
    {
     "data": {
      "text/html": [
       "<div>\n",
       "<style scoped>\n",
       "    .dataframe tbody tr th:only-of-type {\n",
       "        vertical-align: middle;\n",
       "    }\n",
       "\n",
       "    .dataframe tbody tr th {\n",
       "        vertical-align: top;\n",
       "    }\n",
       "\n",
       "    .dataframe thead th {\n",
       "        text-align: right;\n",
       "    }\n",
       "</style>\n",
       "<table border=\"1\" class=\"dataframe\">\n",
       "  <thead>\n",
       "    <tr style=\"text-align: right;\">\n",
       "      <th></th>\n",
       "      <th>Название модели</th>\n",
       "      <th>Гиперпараметры модели</th>\n",
       "      <th>Доля правильных ответов</th>\n",
       "    </tr>\n",
       "  </thead>\n",
       "  <tbody>\n",
       "    <tr>\n",
       "      <td>0</td>\n",
       "      <td>DecisionTree</td>\n",
       "      <td>{'max_depth': 7}</td>\n",
       "      <td>0.832037</td>\n",
       "    </tr>\n",
       "    <tr>\n",
       "      <td>1</td>\n",
       "      <td>RandomForest</td>\n",
       "      <td>{'max_depth': 9, 'n_estimators': 99}</td>\n",
       "      <td>0.835148</td>\n",
       "    </tr>\n",
       "    <tr>\n",
       "      <td>2</td>\n",
       "      <td>LogisticRegression</td>\n",
       "      <td>{}</td>\n",
       "      <td>0.721617</td>\n",
       "    </tr>\n",
       "  </tbody>\n",
       "</table>\n",
       "</div>"
      ],
      "text/plain": [
       "      Название модели                 Гиперпараметры модели  \\\n",
       "0        DecisionTree                      {'max_depth': 7}   \n",
       "1        RandomForest  {'max_depth': 9, 'n_estimators': 99}   \n",
       "2  LogisticRegression                                    {}   \n",
       "\n",
       "   Доля правильных ответов  \n",
       "0                 0.832037  \n",
       "1                 0.835148  \n",
       "2                 0.721617  "
      ]
     },
     "metadata": {},
     "output_type": "display_data"
    }
   ],
   "source": [
    "#выведем сводную информацию о моделях\n",
    "all_models = pd.DataFrame({'Название модели' : ['DecisionTree', 'RandomForest', 'LogisticRegression'], 'Гиперпараметры модели' : [{'max_depth':best_depth_dt}, {'max_depth':best_depth_rf, 'n_estimators':est}, {}], 'Доля правильных ответов' : [best_result_dt, best_result_rf, lr_result]})\n",
    "display(all_models)"
   ]
  },
  {
   "cell_type": "markdown",
   "metadata": {},
   "source": [
    "В результате проведенных экспериментов на валидационной выборке можно заключить, что самую высокую долю правильных ответов демонстрирует случайный лес с количеством деревьев, равным 99, и глубиной дерева, соответствующей 9. "
   ]
  },
  {
   "cell_type": "markdown",
   "metadata": {},
   "source": [
    "## 4. Проверка модели на тестовой выборке\n",
    "<a name=\"paragraph4\"></a>"
   ]
  },
  {
   "cell_type": "code",
   "execution_count": 18,
   "metadata": {},
   "outputs": [
    {
     "data": {
      "text/plain": [
       "0.9206842923794712"
      ]
     },
     "execution_count": 18,
     "metadata": {},
     "output_type": "execute_result"
    }
   ],
   "source": [
    "#проверим, как ведет себя модель с наилучшей долей правильных ответов на тестовой выборке\n",
    "from sklearn.metrics import accuracy_score\n",
    "model = RandomForestClassifier(n_estimators=99, max_depth = 9, random_state=123)\n",
    "model.fit(features_test, target_test)\n",
    "predictions_test = model.predict(features_test)\n",
    "accuracy_score(target_test, predictions_test)"
   ]
  },
  {
   "cell_type": "markdown",
   "metadata": {},
   "source": [
    "На тестовой выборке модель случайного леса продемонстрировала значение accuracy выше, чем на валидационной выборке: 0,921 против 0,835. Следовательно, на тестовой выборке модель случайного леса также демонстрирует высокую долю правильных ответов."
   ]
  },
  {
   "cell_type": "markdown",
   "metadata": {},
   "source": [
    "**Вывод**<br>\n",
    "Можно заключить, что наилуший результат для решения представленной задачи бинарной классификации демонстрирует модель случайного леса."
   ]
  }
 ],
 "metadata": {
  "kernelspec": {
   "display_name": "Python 3",
   "language": "python",
   "name": "python3"
  },
  "language_info": {
   "codemirror_mode": {
    "name": "ipython",
    "version": 3
   },
   "file_extension": ".py",
   "mimetype": "text/x-python",
   "name": "python",
   "nbconvert_exporter": "python",
   "pygments_lexer": "ipython3",
   "version": "3.8.8"
  },
  "toc": {
   "base_numbering": 1,
   "nav_menu": {},
   "number_sections": true,
   "sideBar": true,
   "skip_h1_title": true,
   "title_cell": "Table of Contents",
   "title_sidebar": "Contents",
   "toc_cell": false,
   "toc_position": {},
   "toc_section_display": true,
   "toc_window_display": false
  }
 },
 "nbformat": 4,
 "nbformat_minor": 2
}
